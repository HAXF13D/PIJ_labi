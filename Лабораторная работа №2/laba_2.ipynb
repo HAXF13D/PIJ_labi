{
 "cells": [
  {
   "cell_type": "markdown",
   "id": "d205c095",
   "metadata": {},
   "source": [
    "## Решение задач на Python, Предел, непрерывность, ряды\n"
   ]
  },
  {
   "cell_type": "markdown",
   "id": "4679d054",
   "metadata": {},
   "source": [
    "### Предел, непрерывность"
   ]
  },
  {
   "cell_type": "markdown",
   "id": "b8598fc1",
   "metadata": {},
   "source": [
    "Для вычисления пределов используется функция limit() библиотеки sympy. Синтаксис: sympy.limit (функция, предел которой вычисляется, переменная, предельное значение переменной, правосторонний, левосторонний или обычный предел). $sympy.limit (е, z, zO, dir='+')$ Параметры: вычисляется предел функции е от переменной z при стремлении к числу zo, zo может быть принимать бесконечные значения, оо и -оо; если dir=\"+-\" или эта позиция отсутствует, вычисляется обычный двусторонний предел, если dir=\"+\" - правосторонний, если dir=\"—\" - левосторонний пределы. Отметим, что символ бесконечности в языке Python - это две буквы о (оо)."
   ]
  },
  {
   "cell_type": "markdown",
   "id": "78730528",
   "metadata": {},
   "source": [
    "### Пример 1:\n",
    "Найти предел $\\lim_{x\\to\\infty} \\frac{6x^2+3x}{3x^2}$"
   ]
  },
  {
   "cell_type": "code",
   "execution_count": 1,
   "id": "7ab2b050",
   "metadata": {},
   "outputs": [
    {
     "data": {
      "text/latex": [
       "$\\displaystyle 2$"
      ],
      "text/plain": [
       "2"
      ]
     },
     "execution_count": 1,
     "metadata": {},
     "output_type": "execute_result"
    }
   ],
   "source": [
    "from sympy import *\n",
    "x = Symbol(\"x\")\n",
    "limit((6*x**2+3*x)/(3*x**2),x,oo)"
   ]
  },
  {
   "cell_type": "markdown",
   "id": "62d60a2f",
   "metadata": {},
   "source": [
    "### Пример 2:\n",
    "Пример 2. Вычислить пределы: <p>\n",
    "$\\lim_{x\\to0} \\frac{sin(x)}{x} = \\lim_{x\\to0} \\frac{x}{sin(x)} = 1$ <p>\n",
    "$\\lim_{x\\to0} (1 + x)^{(\\frac{1}{x})} = e$ <p>\n",
    "$\\lim_{x\\to\\infty} (1 + \\frac{1}{x})^x = e$ <p>"
   ]
  },
  {
   "cell_type": "code",
   "execution_count": 2,
   "id": "41ec2bbf",
   "metadata": {
    "scrolled": true
   },
   "outputs": [
    {
     "data": {
      "text/latex": [
       "$\\displaystyle 1$"
      ],
      "text/plain": [
       "1"
      ]
     },
     "execution_count": 2,
     "metadata": {},
     "output_type": "execute_result"
    }
   ],
   "source": [
    "limit(sin(x)/x,x,0)"
   ]
  },
  {
   "cell_type": "code",
   "execution_count": 3,
   "id": "b2d64d12",
   "metadata": {},
   "outputs": [
    {
     "data": {
      "text/latex": [
       "$\\displaystyle e$"
      ],
      "text/plain": [
       "E"
      ]
     },
     "execution_count": 3,
     "metadata": {},
     "output_type": "execute_result"
    }
   ],
   "source": [
    "limit((1+x)**(1/x),x,0)"
   ]
  },
  {
   "cell_type": "code",
   "execution_count": 4,
   "id": "69145be6",
   "metadata": {},
   "outputs": [
    {
     "data": {
      "text/latex": [
       "$\\displaystyle e$"
      ],
      "text/plain": [
       "E"
      ]
     },
     "execution_count": 4,
     "metadata": {},
     "output_type": "execute_result"
    }
   ],
   "source": [
    "limit((1+1/x)**x,x,oo)"
   ]
  },
  {
   "cell_type": "markdown",
   "id": "7e6d6130",
   "metadata": {},
   "source": [
    "### Односторонние пределы"
   ]
  },
  {
   "cell_type": "markdown",
   "id": "f9ddae64",
   "metadata": {},
   "source": [
    "Найдем левосторонний предел функции $f(x) = \\frac{1}{x}$ <p>\n",
    "Заметим, что вместо $dir='—'$ можно поставить просто $'—'$"
   ]
  },
  {
   "cell_type": "code",
   "execution_count": 5,
   "id": "5816abc5",
   "metadata": {},
   "outputs": [
    {
     "data": {
      "text/latex": [
       "$\\displaystyle -\\infty$"
      ],
      "text/plain": [
       "-oo"
      ]
     },
     "execution_count": 5,
     "metadata": {},
     "output_type": "execute_result"
    }
   ],
   "source": [
    "limit(1/x,x,0,'-')"
   ]
  },
  {
   "cell_type": "markdown",
   "id": "a00d0a44",
   "metadata": {},
   "source": [
    "### Пример 3:\n",
    "Найти левосторонний и правосторонний пределы функции $\\frac{2^x-1}{x^2-3x}$, при $x\\to3$. <br/>\n"
   ]
  },
  {
   "cell_type": "code",
   "execution_count": 6,
   "id": "1d8d779a",
   "metadata": {
    "scrolled": true
   },
   "outputs": [
    {
     "data": {
      "text/latex": [
       "$\\displaystyle \\infty$"
      ],
      "text/plain": [
       "oo"
      ]
     },
     "execution_count": 6,
     "metadata": {},
     "output_type": "execute_result"
    }
   ],
   "source": [
    "limit((2**x-1)/(x**2-3*x),x,3,'+')"
   ]
  },
  {
   "cell_type": "code",
   "execution_count": 7,
   "id": "821fbc00",
   "metadata": {},
   "outputs": [
    {
     "data": {
      "text/latex": [
       "$\\displaystyle -\\infty$"
      ],
      "text/plain": [
       "-oo"
      ]
     },
     "execution_count": 7,
     "metadata": {},
     "output_type": "execute_result"
    }
   ],
   "source": [
    "limit((2**x-1)/(x**2-3*x),x,3,'-')\n"
   ]
  },
  {
   "cell_type": "markdown",
   "id": "9ca9ca22",
   "metadata": {},
   "source": [
    "### Пример 4:"
   ]
  },
  {
   "cell_type": "code",
   "execution_count": 8,
   "id": "2b29b557",
   "metadata": {},
   "outputs": [
    {
     "data": {
      "text/latex": [
       "$\\displaystyle \\frac{5}{3}$"
      ],
      "text/plain": [
       "5/3"
      ]
     },
     "execution_count": 8,
     "metadata": {},
     "output_type": "execute_result"
    }
   ],
   "source": [
    "х=Symbol(\"х\")\n",
    "limit((5**x-5*7**x)/(4*5**x-3*7**x),x,oo)"
   ]
  },
  {
   "cell_type": "code",
   "execution_count": 9,
   "id": "2bcef2e0",
   "metadata": {},
   "outputs": [
    {
     "data": {
      "text/latex": [
       "$\\displaystyle \\frac{7}{6}$"
      ],
      "text/plain": [
       "7/6"
      ]
     },
     "execution_count": 9,
     "metadata": {},
     "output_type": "execute_result"
    }
   ],
   "source": [
    "x=Symbol(\"x\")\n",
    "limit((7*8**x+2*9**x)/(6*8**x-6*9**x),x,-oo)"
   ]
  },
  {
   "cell_type": "code",
   "execution_count": 10,
   "id": "6810ffb2",
   "metadata": {},
   "outputs": [
    {
     "data": {
      "text/latex": [
       "$\\displaystyle - \\frac{3}{2}$"
      ],
      "text/plain": [
       "-3/2"
      ]
     },
     "execution_count": 10,
     "metadata": {},
     "output_type": "execute_result"
    }
   ],
   "source": [
    "limit(sqrt(x*(x+3))-sqrt(x**2+9), x, -oo)"
   ]
  },
  {
   "cell_type": "markdown",
   "id": "138d19f9",
   "metadata": {},
   "source": [
    "### Пример 5:\n",
    "Найти точки разрыва функции и определить их типы \n",
    "$f(x) = \\frac{|x-2|(x-7)}{x^3-9x^2+14x}$.\n"
   ]
  },
  {
   "cell_type": "code",
   "execution_count": 11,
   "id": "df0b3a2f",
   "metadata": {},
   "outputs": [
    {
     "name": "stdout",
     "output_type": "stream",
     "text": [
      "[0, 2, 7]\n"
     ]
    }
   ],
   "source": [
    "x=Symbol(\"x\")\n",
    "print(solve(x**3-9*x**2+14*x))"
   ]
  },
  {
   "cell_type": "code",
   "execution_count": 12,
   "id": "0572ca94",
   "metadata": {},
   "outputs": [
    {
     "data": {
      "text/latex": [
       "$\\displaystyle \\infty$"
      ],
      "text/plain": [
       "oo"
      ]
     },
     "execution_count": 12,
     "metadata": {},
     "output_type": "execute_result"
    }
   ],
   "source": [
    "limit(abs(x-2)*(x-7)/(x**3-9*x**2+14*x),x, 0,'-')"
   ]
  },
  {
   "cell_type": "code",
   "execution_count": 13,
   "id": "2cf8131e",
   "metadata": {},
   "outputs": [
    {
     "data": {
      "text/latex": [
       "$\\displaystyle -\\infty$"
      ],
      "text/plain": [
       "-oo"
      ]
     },
     "execution_count": 13,
     "metadata": {},
     "output_type": "execute_result"
    }
   ],
   "source": [
    "limit(abs(x-2)*(x-7)/(x**3-9*x**2+14*x),x, 0,'+')"
   ]
  },
  {
   "cell_type": "code",
   "execution_count": 14,
   "id": "905ded10",
   "metadata": {},
   "outputs": [
    {
     "data": {
      "text/latex": [
       "$\\displaystyle - \\frac{1}{2}$"
      ],
      "text/plain": [
       "-1/2"
      ]
     },
     "execution_count": 14,
     "metadata": {},
     "output_type": "execute_result"
    }
   ],
   "source": [
    "limit(abs(x-2)*(x-7)/(x**3-9*x**2+14*x),x, 2,'-')"
   ]
  },
  {
   "cell_type": "code",
   "execution_count": 15,
   "id": "32985fab",
   "metadata": {},
   "outputs": [
    {
     "data": {
      "text/latex": [
       "$\\displaystyle \\frac{1}{2}$"
      ],
      "text/plain": [
       "1/2"
      ]
     },
     "execution_count": 15,
     "metadata": {},
     "output_type": "execute_result"
    }
   ],
   "source": [
    "limit(abs(x-2)*(x-7)/(x**3-9*x**2+14*x),x, 2,'+')"
   ]
  },
  {
   "cell_type": "code",
   "execution_count": 16,
   "id": "04bda2a6",
   "metadata": {},
   "outputs": [
    {
     "data": {
      "text/latex": [
       "$\\displaystyle \\frac{1}{7}$"
      ],
      "text/plain": [
       "1/7"
      ]
     },
     "execution_count": 16,
     "metadata": {},
     "output_type": "execute_result"
    }
   ],
   "source": [
    "limit(abs(x-2)*(x-7)/(x**3-9*x**2+14*x),x, 7,'-')"
   ]
  },
  {
   "cell_type": "code",
   "execution_count": 17,
   "id": "476a0e84",
   "metadata": {},
   "outputs": [
    {
     "data": {
      "text/latex": [
       "$\\displaystyle \\frac{1}{7}$"
      ],
      "text/plain": [
       "1/7"
      ]
     },
     "execution_count": 17,
     "metadata": {},
     "output_type": "execute_result"
    }
   ],
   "source": [
    "limit(abs(x-2)*(x-7)/(x**3-9*x**2+14*x),x, 7,'+')"
   ]
  },
  {
   "cell_type": "markdown",
   "id": "86dbcff1",
   "metadata": {},
   "source": [
    "0 — точка разрыва $II$ рода, 7 — $I$ рода, устранимый разрыв, 2 — $I$ рода, неустранимый разрыв."
   ]
  },
  {
   "cell_type": "markdown",
   "id": "a1374c29",
   "metadata": {},
   "source": [
    "### Пример 6:\n",
    "Найти асимптоты графика функции $y = \\frac{1 + 5x}{3 + x}$ .\n"
   ]
  },
  {
   "cell_type": "markdown",
   "id": "8a2db383",
   "metadata": {},
   "source": [
    "Сначала найдем наклонные асимптоты $у = kx + b$."
   ]
  },
  {
   "cell_type": "code",
   "execution_count": 18,
   "id": "8480ce33",
   "metadata": {},
   "outputs": [
    {
     "name": "stdout",
     "output_type": "stream",
     "text": [
      "0\n"
     ]
    }
   ],
   "source": [
    "k=limit((1 + 5*x)/(3+x)/x,x,oo)\n",
    "print(k)"
   ]
  },
  {
   "cell_type": "code",
   "execution_count": 19,
   "id": "2e75b354",
   "metadata": {},
   "outputs": [
    {
     "name": "stdout",
     "output_type": "stream",
     "text": [
      "5\n"
     ]
    }
   ],
   "source": [
    "b=limit((1+5*x)/(3+x)-k*x,x,oo)\n",
    "print(b)"
   ]
  },
  {
   "cell_type": "markdown",
   "id": "7485de4a",
   "metadata": {},
   "source": [
    "Затем вертикальные."
   ]
  },
  {
   "cell_type": "code",
   "execution_count": 20,
   "id": "5a265cc8",
   "metadata": {},
   "outputs": [
    {
     "data": {
      "text/plain": [
       "[-3]"
      ]
     },
     "execution_count": 20,
     "metadata": {},
     "output_type": "execute_result"
    }
   ],
   "source": [
    "solve(3+x)"
   ]
  },
  {
   "cell_type": "code",
   "execution_count": 21,
   "id": "dd6956dd",
   "metadata": {},
   "outputs": [
    {
     "data": {
      "text/latex": [
       "$\\displaystyle \\infty$"
      ],
      "text/plain": [
       "oo"
      ]
     },
     "execution_count": 21,
     "metadata": {},
     "output_type": "execute_result"
    }
   ],
   "source": [
    "limit((1+5*х)/(3+х),х,-3, '-')"
   ]
  },
  {
   "cell_type": "code",
   "execution_count": 22,
   "id": "b1f6d0c7",
   "metadata": {},
   "outputs": [
    {
     "data": {
      "text/latex": [
       "$\\displaystyle -\\infty$"
      ],
      "text/plain": [
       "-oo"
      ]
     },
     "execution_count": 22,
     "metadata": {},
     "output_type": "execute_result"
    }
   ],
   "source": [
    "limit((1+5*х)/(3+х),х,-3, '+')"
   ]
  },
  {
   "cell_type": "markdown",
   "id": "ad2d1460",
   "metadata": {},
   "source": [
    "$у = 5$ — горизонтальная асимптота, $х = -3$ — вертикальная асимптота."
   ]
  },
  {
   "cell_type": "markdown",
   "id": "bf18498f",
   "metadata": {},
   "source": [
    "### Ряды"
   ]
  },
  {
   "cell_type": "markdown",
   "id": "a21546fc",
   "metadata": {},
   "source": [
    "### Пример 7:\n",
    "Найдем радиус и интервал сходимости степенного ряда <p> \n",
    "$\\sum_{n=1}^{\\infty} \\frac{x^n}{n!}$"
   ]
  },
  {
   "cell_type": "code",
   "execution_count": 23,
   "id": "4cdb6c1f",
   "metadata": {},
   "outputs": [
    {
     "data": {
      "text/latex": [
       "$\\displaystyle \\infty$"
      ],
      "text/plain": [
       "oo"
      ]
     },
     "execution_count": 23,
     "metadata": {},
     "output_type": "execute_result"
    }
   ],
   "source": [
    "import math as m\n",
    "x=symbols('x')\n",
    "limit(1/factorial(x)/(1/factorial(x+1)),x,oo)"
   ]
  },
  {
   "cell_type": "markdown",
   "id": "15602674",
   "metadata": {},
   "source": [
    "### Пример 8:\n",
    "Найдем радиус сходимости степенного ряда <p>\n",
    "$\\sum_{n=1}^{\\infty} \\frac{n^n}{n!}x^n$"
   ]
  },
  {
   "cell_type": "code",
   "execution_count": 24,
   "id": "800c82b4",
   "metadata": {},
   "outputs": [
    {
     "data": {
      "text/latex": [
       "$\\displaystyle e^{-1}$"
      ],
      "text/plain": [
       "exp(-1)"
      ]
     },
     "execution_count": 24,
     "metadata": {},
     "output_type": "execute_result"
    }
   ],
   "source": [
    "x=Symbol('x')\n",
    "limit(x**x/factorial(x)/((x+1)**(x+1)/factorial(x+1)),x,oo)"
   ]
  },
  {
   "cell_type": "markdown",
   "id": "9b4b9df6",
   "metadata": {},
   "source": [
    "### Пример 9:\n",
    "Разложим в ряд Мак Лорена функции <p>\n",
    "$f(х) = sinx, f(x) = cos(x), f(x) = e^x,f(x) = arcsin(x)$"
   ]
  },
  {
   "cell_type": "code",
   "execution_count": 25,
   "id": "3e0517cd",
   "metadata": {},
   "outputs": [
    {
     "name": "stdout",
     "output_type": "stream",
     "text": [
      "x - x**3/6 + x**5/120 - x**7/5040 + x**9/362880 + O(x**10)\n"
     ]
    }
   ],
   "source": [
    "х = symbols('х')\n",
    "func = sin(x)\n",
    "x0=0\n",
    "print((func).series(x, x0, 10))"
   ]
  },
  {
   "cell_type": "code",
   "execution_count": 26,
   "id": "dfbd597b",
   "metadata": {},
   "outputs": [
    {
     "name": "stdout",
     "output_type": "stream",
     "text": [
      "1 - x**2/2 + x**4/24 - x**6/720 + x**8/40320 + O(x**10)\n"
     ]
    }
   ],
   "source": [
    "x = symbols('x')\n",
    "func = cos(x)\n",
    "x0=0\n",
    "print((func).series(x, x0, 10))"
   ]
  },
  {
   "cell_type": "code",
   "execution_count": 27,
   "id": "c1aba45e",
   "metadata": {},
   "outputs": [
    {
     "name": "stdout",
     "output_type": "stream",
     "text": [
      "1 + x + x**2/2 + x**3/6 + x**4/24 + x**5/120 + x**6/720 + x**7/5040 + x**8/40320 + x**9/362880 + O(x**10)\n"
     ]
    }
   ],
   "source": [
    "x = symbols('x')\n",
    "func = exp(x)\n",
    "x0=0\n",
    "print((func).series(x, x0, 10))"
   ]
  },
  {
   "cell_type": "code",
   "execution_count": 28,
   "id": "ca628447",
   "metadata": {},
   "outputs": [
    {
     "data": {
      "text/latex": [
       "$\\displaystyle x + \\frac{x^{3}}{6} + \\frac{3 x^{5}}{40} + \\frac{5 x^{7}}{112} + \\frac{35 x^{9}}{1152} + O\\left(x^{10}\\right)$"
      ],
      "text/plain": [
       "x + x**3/6 + 3*x**5/40 + 5*x**7/112 + 35*x**9/1152 + O(x**10)"
      ]
     },
     "execution_count": 28,
     "metadata": {},
     "output_type": "execute_result"
    }
   ],
   "source": [
    "func=asin(x)\n",
    "X0=0\n",
    "func.series(x,x0,10)"
   ]
  },
  {
   "cell_type": "markdown",
   "id": "5826c601",
   "metadata": {},
   "source": [
    "## Примеры решения задач"
   ]
  },
  {
   "cell_type": "markdown",
   "id": "5747a545",
   "metadata": {},
   "source": [
    "### Пример 1:\n",
    "Вычислите предел последовательности <p>\n",
    "$\\lim_{n\\to\\infty} \\frac{6n^2+1}{7n^2-3n+9}$"
   ]
  },
  {
   "cell_type": "code",
   "execution_count": 29,
   "id": "3e679269",
   "metadata": {
    "scrolled": true
   },
   "outputs": [
    {
     "data": {
      "text/latex": [
       "$\\displaystyle \\frac{6}{7}$"
      ],
      "text/plain": [
       "6/7"
      ]
     },
     "execution_count": 29,
     "metadata": {},
     "output_type": "execute_result"
    }
   ],
   "source": [
    "n = Symbol('n')\n",
    "limit((6 * n ** 2 + 1)/(7 * n ** 2 - 3 * n + 9),n,oo)"
   ]
  },
  {
   "cell_type": "markdown",
   "id": "9a3b6351",
   "metadata": {},
   "source": [
    "## Пример 2:\n",
    "Вычислите предел последовательности <p>\n",
    "$\\lim_{n\\to\\infty} (\\frac{-3n^3+4n^2-8n-6}{4n^2+2n})$"
   ]
  },
  {
   "cell_type": "code",
   "execution_count": 30,
   "id": "9466bf51",
   "metadata": {},
   "outputs": [
    {
     "data": {
      "text/latex": [
       "$\\displaystyle -\\infty$"
      ],
      "text/plain": [
       "-oo"
      ]
     },
     "execution_count": 30,
     "metadata": {},
     "output_type": "execute_result"
    }
   ],
   "source": [
    "n = Symbol('n')\n",
    "limit((-3*n**3+4*n**2-8*n-6)/(4*n**2+2*n),n,oo)"
   ]
  },
  {
   "cell_type": "markdown",
   "id": "b72dd00a",
   "metadata": {},
   "source": [
    "## Пример 3:\n",
    "Вычислите предел последовательности <p>\n",
    "$\\lim_{n\\to\\infty} (\\frac{n^2-3n}{-5n^3+4n^2+9})$"
   ]
  },
  {
   "cell_type": "code",
   "execution_count": 31,
   "id": "e3e0f751",
   "metadata": {},
   "outputs": [
    {
     "data": {
      "text/latex": [
       "$\\displaystyle 0$"
      ],
      "text/plain": [
       "0"
      ]
     },
     "execution_count": 31,
     "metadata": {},
     "output_type": "execute_result"
    }
   ],
   "source": [
    "n = Symbol('n')\n",
    "limit((n**2-3*n)/(-5*n**3+4*n**2+9),n,oo)"
   ]
  },
  {
   "cell_type": "markdown",
   "id": "8da1514b",
   "metadata": {},
   "source": [
    "## Пример 4:\n",
    "Вычислите предел последовательности <p>\n",
    "$\\lim_{n\\to\\infty} (\\frac{-7n+10}{\\sqrt{9n^2+10n}})$"
   ]
  },
  {
   "cell_type": "code",
   "execution_count": 32,
   "id": "5a5ecd54",
   "metadata": {
    "scrolled": true
   },
   "outputs": [
    {
     "data": {
      "text/latex": [
       "$\\displaystyle - \\frac{7}{3}$"
      ],
      "text/plain": [
       "-7/3"
      ]
     },
     "execution_count": 32,
     "metadata": {},
     "output_type": "execute_result"
    }
   ],
   "source": [
    "n = Symbol('n')\n",
    "limit((-7*n+10)/(sqrt(9*n**2 + 10 * n)),n,oo)"
   ]
  },
  {
   "cell_type": "markdown",
   "id": "53ffa064",
   "metadata": {},
   "source": [
    "## Пример 17:\n",
    "Вычислите предел последовательности <p>\n",
    "$\\lim_{n\\to\\infty} (\\frac{4*7^{-n}-5*2^{-n}-5}{5*2^{-n}+5*7^{-n}-3})$"
   ]
  },
  {
   "cell_type": "code",
   "execution_count": 33,
   "id": "8bd8120b",
   "metadata": {},
   "outputs": [
    {
     "data": {
      "text/latex": [
       "$\\displaystyle \\frac{5}{3}$"
      ],
      "text/plain": [
       "5/3"
      ]
     },
     "execution_count": 33,
     "metadata": {},
     "output_type": "execute_result"
    }
   ],
   "source": [
    "n = Symbol('n')\n",
    "limit((4 * 7 ** (-n) - 5 * 2 ** (-n) - 5)/(5 * 2 ** (-n) + 5 * 7 ** (-n) - 3),n,oo)"
   ]
  },
  {
   "cell_type": "markdown",
   "id": "83c70027",
   "metadata": {},
   "source": [
    "## Пример 20:\n",
    "Вычислите предел последовательности <p>\n",
    "$\\lim_{n\\to\\infty} (2n-\\sqrt{4n^2-5n+3})$"
   ]
  },
  {
   "cell_type": "code",
   "execution_count": 34,
   "id": "6673b7e5",
   "metadata": {},
   "outputs": [
    {
     "data": {
      "text/latex": [
       "$\\displaystyle \\frac{5}{4}$"
      ],
      "text/plain": [
       "5/4"
      ]
     },
     "execution_count": 34,
     "metadata": {},
     "output_type": "execute_result"
    }
   ],
   "source": [
    "n = Symbol('n')\n",
    "limit((2 * n - sqrt(4 * n ** 2 - 5 * n + 3)),n,oo)"
   ]
  },
  {
   "cell_type": "markdown",
   "id": "8cba65cc",
   "metadata": {},
   "source": [
    "## Задачи для самостоятельного решения"
   ]
  },
  {
   "cell_type": "markdown",
   "id": "5d1e85cd",
   "metadata": {},
   "source": [
    "## Задача 16:\n",
    "Вычислите предел <p>\n",
    "$\\lim_{x\\to+\\infty} (\\frac{4x+4}{5-2*ln(2x)})$"
   ]
  },
  {
   "cell_type": "code",
   "execution_count": 35,
   "id": "cd112c56",
   "metadata": {},
   "outputs": [
    {
     "data": {
      "text/latex": [
       "$\\displaystyle -\\infty$"
      ],
      "text/plain": [
       "-oo"
      ]
     },
     "execution_count": 35,
     "metadata": {},
     "output_type": "execute_result"
    }
   ],
   "source": [
    "x = Symbol('x')\n",
    "limit((4 * x + 4)/(5 - 2 * ln(2 * x)),x,oo)"
   ]
  },
  {
   "cell_type": "markdown",
   "id": "e8b7cc4a",
   "metadata": {},
   "source": [
    "### Индивидуальное задание"
   ]
  },
  {
   "cell_type": "markdown",
   "id": "1452e3bf",
   "metadata": {},
   "source": [
    "Компания производит товары по цене $C(x) = 100 + 5 * x ** 2 - 0.2 * x ** 3$ рублей, где x - количество произведенных товаров. Компания продает каждый товар по цене p(x) = 20 * x - 0.1 * x ** 2 - 5 * x ** 3 / 1000$ рублей. Найдите максимальную прибыль, которую может получить компания."
   ]
  },
  {
   "cell_type": "markdown",
   "id": "122a45fb",
   "metadata": {},
   "source": [
    "Чтобы решить эту проблему в Python, мы выполним следующие шаги:"
   ]
  },
  {
   "cell_type": "markdown",
   "id": "0642e3e0",
   "metadata": {},
   "source": [
    "Определяем переменные и функции:"
   ]
  },
  {
   "cell_type": "code",
   "execution_count": 36,
   "id": "4f7c5bad",
   "metadata": {},
   "outputs": [],
   "source": [
    "import sympy as sp\n",
    "\n",
    "x = sp.Symbol('x') # количество произведенных товаров\n",
    "\n",
    "C = 100 + 5 * x ** 2 - 0.2 * x ** 3 # функция затрат\n",
    "p = 20 * x - 0.1 * x ** 2 - 5 * x ** 3 / 1000 # функция цены"
   ]
  },
  {
   "cell_type": "markdown",
   "id": "a6dab566",
   "metadata": {},
   "source": [
    "Вычислим функцию выручки, R(x), которая является произведением количества произведенных виджетов и цены:"
   ]
  },
  {
   "cell_type": "code",
   "execution_count": 37,
   "id": "693d3eee",
   "metadata": {},
   "outputs": [
    {
     "data": {
      "text/latex": [
       "$\\displaystyle x \\left(- \\frac{x^{3}}{200} - 0.1 x^{2} + 20 x\\right)$"
      ],
      "text/plain": [
       "x*(-x**3/200 - 0.1*x**2 + 20*x)"
      ]
     },
     "execution_count": 37,
     "metadata": {},
     "output_type": "execute_result"
    }
   ],
   "source": [
    "R = p*x\n",
    "R"
   ]
  },
  {
   "cell_type": "markdown",
   "id": "1c1973fe",
   "metadata": {},
   "source": [
    "Рассчитаем функцию прибыли, P(x), которая представляет собой разницу между выручкой и затратами:"
   ]
  },
  {
   "cell_type": "code",
   "execution_count": 38,
   "id": "c274e197",
   "metadata": {},
   "outputs": [
    {
     "data": {
      "text/latex": [
       "$\\displaystyle 0.2 x^{3} - 5 x^{2} + x \\left(- \\frac{x^{3}}{200} - 0.1 x^{2} + 20 x\\right) - 100$"
      ],
      "text/plain": [
       "0.2*x**3 - 5*x**2 + x*(-x**3/200 - 0.1*x**2 + 20*x) - 100"
      ]
     },
     "execution_count": 38,
     "metadata": {},
     "output_type": "execute_result"
    }
   ],
   "source": [
    "P = R - C\n",
    "P"
   ]
  },
  {
   "cell_type": "markdown",
   "id": "c6bb655a",
   "metadata": {},
   "source": [
    "Найдем критические точки P(x), которые являются значениями x, при которых производная P(x) равна нулю:"
   ]
  },
  {
   "cell_type": "code",
   "execution_count": 39,
   "id": "a98e7330",
   "metadata": {},
   "outputs": [
    {
     "data": {
      "text/latex": [
       "$\\displaystyle - \\frac{x^{3}}{200} + 0.5 x^{2} + x \\left(- \\frac{3 x^{2}}{200} - 0.2 x + 20\\right) + 10 x$"
      ],
      "text/plain": [
       "-x**3/200 + 0.5*x**2 + x*(-3*x**2/200 - 0.2*x + 20) + 10*x"
      ]
     },
     "execution_count": 39,
     "metadata": {},
     "output_type": "execute_result"
    }
   ],
   "source": [
    "dP = sp.diff(P, x)\n",
    "dP"
   ]
  },
  {
   "cell_type": "code",
   "execution_count": 40,
   "id": "cca34185",
   "metadata": {},
   "outputs": [
    {
     "data": {
      "text/plain": [
       "[-31.9493345951487, 0.0, 46.9493345951487]"
      ]
     },
     "execution_count": 40,
     "metadata": {},
     "output_type": "execute_result"
    }
   ],
   "source": [
    "critical_points = sp.solve(dP, x)\n",
    "critical_points"
   ]
  },
  {
   "cell_type": "markdown",
   "id": "23c1ab27",
   "metadata": {},
   "source": [
    "Найдем вторую производную от P(x) и оценим ее в каждой критической точке, чтобы определить, соответствует ли каждая критическая точка максимуму или минимуму прибыли:"
   ]
  },
  {
   "cell_type": "code",
   "execution_count": 41,
   "id": "8c5bb270",
   "metadata": {},
   "outputs": [
    {
     "data": {
      "text/plain": [
       "[6740.38480362997, 19018.9901963700]"
      ]
     },
     "execution_count": 41,
     "metadata": {},
     "output_type": "execute_result"
    }
   ],
   "source": [
    "d2P = sp.diff(P, x, 2)\n",
    "max_profits = []\n",
    "for point in critical_points:\n",
    "    if d2P.subs(x, point) < 0:\n",
    "        max_profits.append(P.subs(x, point))\n",
    "\n",
    "max_profits"
   ]
  },
  {
   "cell_type": "markdown",
   "id": "e38e6960",
   "metadata": {},
   "source": [
    "Найдите максимальную прибыль, взяв максимум из прибылей, полученных в предыдущем шаге"
   ]
  },
  {
   "cell_type": "code",
   "execution_count": 42,
   "id": "eb401f5f",
   "metadata": {},
   "outputs": [],
   "source": [
    "max_profit = max(max_profits)"
   ]
  },
  {
   "cell_type": "code",
   "execution_count": 43,
   "id": "8da9cd4f",
   "metadata": {},
   "outputs": [
    {
     "name": "stdout",
     "output_type": "stream",
     "text": [
      "Максимальная прибыль, которую может получить компания, составляет 19018.99 рублей.\n"
     ]
    }
   ],
   "source": [
    "print(f\"Максимальная прибыль, которую может получить компания, составляет {max_profit:.2f} рублей.\")\n"
   ]
  }
 ],
 "metadata": {
  "kernelspec": {
   "display_name": "Python 3 (ipykernel)",
   "language": "python",
   "name": "python3"
  },
  "language_info": {
   "codemirror_mode": {
    "name": "ipython",
    "version": 3
   },
   "file_extension": ".py",
   "mimetype": "text/x-python",
   "name": "python",
   "nbconvert_exporter": "python",
   "pygments_lexer": "ipython3",
   "version": "3.11.2"
  }
 },
 "nbformat": 4,
 "nbformat_minor": 5
}
