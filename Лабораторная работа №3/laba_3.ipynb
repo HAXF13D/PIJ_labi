{
 "cells": [
  {
   "cell_type": "markdown",
   "id": "246c0328",
   "metadata": {},
   "source": [
    "## Решение задач на Python, Производная\n"
   ]
  },
  {
   "cell_type": "markdown",
   "id": "ca986dfa",
   "metadata": {},
   "source": [
    "#### Вычисление производных"
   ]
  },
  {
   "cell_type": "markdown",
   "id": "34f4edf9",
   "metadata": {},
   "source": [
    "Для вычисления производных используется библиотека sympy.\n",
    "Вычисление производной - функция diff(f,x,k). Вычисляет производную /<-го порядка функции у = f(х) по переменной х.\n",
    "Параметры: f- функция; х- переменная, по которой берется производная, к - необязательный параметр, порядок производной."
   ]
  },
  {
   "cell_type": "code",
   "execution_count": 1,
   "id": "44cc26ee",
   "metadata": {},
   "outputs": [],
   "source": [
    "from sympy import Symbol, limit, oo, sin, sqrt, solve, factorial, symbols, cos, exp, asin, idiff, diff, solve, log, atan\n",
    "from sympy import *\n",
    "import numpy as np\n",
    "import matplotlib.pyplot as plt\n",
    "from mpl_toolkits.mplot3d import Axes3D\n",
    "%matplotlib inline "
   ]
  },
  {
   "cell_type": "markdown",
   "id": "84d7282e",
   "metadata": {},
   "source": [
    "## Пример 1"
   ]
  },
  {
   "cell_type": "code",
   "execution_count": 2,
   "id": "2d609eaa",
   "metadata": {},
   "outputs": [
    {
     "data": {
      "text/latex": [
       "$\\displaystyle - x \\sin{\\left(x \\right)} + \\cos{\\left(x \\right)}$"
      ],
      "text/plain": [
       "-x*sin(x) + cos(x)"
      ]
     },
     "execution_count": 2,
     "metadata": {},
     "output_type": "execute_result"
    }
   ],
   "source": [
    "x = symbols('x')\n",
    "у = x*cos(x)\n",
    "diff(x*cos(x), x)"
   ]
  },
  {
   "cell_type": "markdown",
   "id": "351c11dd",
   "metadata": {},
   "source": [
    "### Пример 2"
   ]
  },
  {
   "cell_type": "code",
   "execution_count": 3,
   "id": "baf32817",
   "metadata": {},
   "outputs": [
    {
     "data": {
      "text/latex": [
       "$\\displaystyle \\frac{2}{x^{3}}$"
      ],
      "text/plain": [
       "2/x**3"
      ]
     },
     "execution_count": 3,
     "metadata": {},
     "output_type": "execute_result"
    }
   ],
   "source": [
    "x = symbols('x')\n",
    "diff(log(x), x, 3)"
   ]
  },
  {
   "cell_type": "markdown",
   "id": "0b5bf26c",
   "metadata": {},
   "source": [
    "### Пример 3"
   ]
  },
  {
   "cell_type": "code",
   "execution_count": 4,
   "id": "e8b8c2b5",
   "metadata": {},
   "outputs": [
    {
     "data": {
      "text/latex": [
       "$\\displaystyle - \\frac{9 \\left(-6 + \\log{\\left(1000 \\right)}\\right) \\log{\\left(1000 \\right)}}{100 \\log{\\left(10 \\right)}^{3}}$"
      ],
      "text/plain": [
       "-9*(-6 + log(1000))*log(1000)/(100*log(10)**3)"
      ]
     },
     "execution_count": 4,
     "metadata": {},
     "output_type": "execute_result"
    }
   ],
   "source": [
    "y = log(x**3,10)**3\n",
    "diff(y,x,2).subs(x,10)"
   ]
  },
  {
   "cell_type": "code",
   "execution_count": 5,
   "id": "0846827d",
   "metadata": {},
   "outputs": [
    {
     "data": {
      "text/latex": [
       "$\\displaystyle \\frac{81 \\cdot \\left(2 - \\log{\\left(10 \\right)}\\right)}{100 \\log{\\left(10 \\right)}^{2}}$"
      ],
      "text/plain": [
       "81*(2 - log(10))/(100*log(10)**2)"
      ]
     },
     "execution_count": 5,
     "metadata": {},
     "output_type": "execute_result"
    }
   ],
   "source": [
    "diff(y,x,2).subs(x,10).simplify()"
   ]
  },
  {
   "cell_type": "markdown",
   "id": "2517544b",
   "metadata": {},
   "source": [
    "### Пример 4"
   ]
  },
  {
   "cell_type": "code",
   "execution_count": 6,
   "id": "42a76a86",
   "metadata": {},
   "outputs": [
    {
     "data": {
      "text/latex": [
       "$\\displaystyle \\frac{9 \\log{\\left(x^{3} \\right)}^{2}}{x \\log{\\left(10 \\right)}^{3}}$"
      ],
      "text/plain": [
       "9*log(x**3)**2/(x*log(10)**3)"
      ]
     },
     "execution_count": 6,
     "metadata": {},
     "output_type": "execute_result"
    }
   ],
   "source": [
    "у = (x**2+x-6)/(x**2-10*x+25)\n",
    "z = diff(y,x)\n",
    "z"
   ]
  },
  {
   "cell_type": "code",
   "execution_count": 7,
   "id": "9fbc62de",
   "metadata": {},
   "outputs": [
    {
     "data": {
      "text/plain": [
       "[1, -1/2 - sqrt(3)*I/2, -1/2 + sqrt(3)*I/2]"
      ]
     },
     "execution_count": 7,
     "metadata": {},
     "output_type": "execute_result"
    }
   ],
   "source": [
    "solve(z, x)"
   ]
  },
  {
   "cell_type": "markdown",
   "id": "6ab0bd70",
   "metadata": {},
   "source": [
    "### Пример 5"
   ]
  },
  {
   "cell_type": "code",
   "execution_count": 8,
   "id": "c3890ca9",
   "metadata": {},
   "outputs": [
    {
     "data": {
      "text/latex": [
       "$\\displaystyle - \\frac{x}{y}$"
      ],
      "text/plain": [
       "-x/y"
      ]
     },
     "execution_count": 8,
     "metadata": {},
     "output_type": "execute_result"
    }
   ],
   "source": [
    "x = symbols('x')\n",
    "y = symbols('y')\n",
    "f = x**2 + y**2 - 4\n",
    "idiff(f, y, x)"
   ]
  },
  {
   "cell_type": "code",
   "execution_count": 9,
   "id": "6312cafc",
   "metadata": {},
   "outputs": [
    {
     "data": {
      "text/latex": [
       "$\\displaystyle - \\frac{\\frac{x^{2}}{y^{2}} + 1}{y}$"
      ],
      "text/plain": [
       "-(x**2/y**2 + 1)/y"
      ]
     },
     "execution_count": 9,
     "metadata": {},
     "output_type": "execute_result"
    }
   ],
   "source": [
    "f = x**2 + y**2 - 4\n",
    "idiff(f, y, x, 2)"
   ]
  },
  {
   "cell_type": "code",
   "execution_count": 10,
   "id": "472f8e03",
   "metadata": {},
   "outputs": [
    {
     "data": {
      "text/latex": [
       "$\\displaystyle \\frac{- x^{2} - y^{2}}{y^{3}}$"
      ],
      "text/plain": [
       "(-x**2 - y**2)/y**3"
      ]
     },
     "execution_count": 10,
     "metadata": {},
     "output_type": "execute_result"
    }
   ],
   "source": [
    "idiff(f, y, x, 2).simplify()"
   ]
  },
  {
   "cell_type": "markdown",
   "id": "565bf24d",
   "metadata": {},
   "source": [
    "### Пример 6"
   ]
  },
  {
   "cell_type": "code",
   "execution_count": 11,
   "id": "e60bd895",
   "metadata": {},
   "outputs": [
    {
     "data": {
      "text/latex": [
       "$\\displaystyle \\frac{\\sin{\\left(t \\right)}}{1 - \\cos{\\left(t \\right)}}$"
      ],
      "text/plain": [
       "sin(t)/(1 - cos(t))"
      ]
     },
     "execution_count": 11,
     "metadata": {},
     "output_type": "execute_result"
    }
   ],
   "source": [
    "t = symbols('t')\n",
    "x = t - sin(t)\n",
    "y = 1 - cos(t)\n",
    "y_diff = diff(y,t)/diff(x,t)\n",
    "y_diff"
   ]
  },
  {
   "cell_type": "code",
   "execution_count": 12,
   "id": "3ada1911",
   "metadata": {},
   "outputs": [
    {
     "data": {
      "text/latex": [
       "$\\displaystyle - \\frac{1}{\\left(\\cos{\\left(t \\right)} - 1\\right)^{2}}$"
      ],
      "text/plain": [
       "-1/(cos(t) - 1)**2"
      ]
     },
     "execution_count": 12,
     "metadata": {},
     "output_type": "execute_result"
    }
   ],
   "source": [
    "y_2diff = diff(y_diff,t)/diff(x,t)\n",
    "y_2diff.simplify()"
   ]
  },
  {
   "cell_type": "markdown",
   "id": "b778725a",
   "metadata": {},
   "source": [
    "### Пример 7"
   ]
  },
  {
   "cell_type": "code",
   "execution_count": 13,
   "id": "54e76546",
   "metadata": {},
   "outputs": [
    {
     "data": {
      "image/png": "[encoded data removed]",
      "text/plain": [
       "<Figure size 640x480 with 1 Axes>"
      ]
     },
     "metadata": {},
     "output_type": "display_data"
    }
   ],
   "source": [
    "x = np.linspace(-2,2,500)\n",
    "x[(x>-0.01) & (x < 0.01)] = np.nan\n",
    "y = np.arctan(1/x)\n",
    "plt.plot(x,y)\n",
    "plt.vlines(0, -1.6, 1.6, color='g', linestyles='dashed')\n",
    "plt.show()"
   ]
  },
  {
   "cell_type": "code",
   "execution_count": 14,
   "id": "55df6d30",
   "metadata": {},
   "outputs": [
    {
     "data": {
      "text/latex": [
       "$\\displaystyle -1$"
      ],
      "text/plain": [
       "-1"
      ]
     },
     "execution_count": 14,
     "metadata": {},
     "output_type": "execute_result"
    }
   ],
   "source": [
    "x = symbols('x')\n",
    "y = atan(1/x)\n",
    "z = diff(y,x)\n",
    "limit(z, x, 0, dir='+')"
   ]
  },
  {
   "cell_type": "code",
   "execution_count": 15,
   "id": "36377f0a",
   "metadata": {},
   "outputs": [
    {
     "data": {
      "text/latex": [
       "$\\displaystyle -1$"
      ],
      "text/plain": [
       "-1"
      ]
     },
     "execution_count": 15,
     "metadata": {},
     "output_type": "execute_result"
    }
   ],
   "source": [
    "limit(z, x, 0, dir='-')"
   ]
  },
  {
   "cell_type": "markdown",
   "id": "d74606fd",
   "metadata": {},
   "source": [
    "### Пример 8"
   ]
  },
  {
   "cell_type": "code",
   "execution_count": 16,
   "id": "aa074efc",
   "metadata": {},
   "outputs": [
    {
     "data": {
      "image/png": "[encoded data removed]",
      "text/plain": [
       "<Figure size 640x480 with 1 Axes>"
      ]
     },
     "metadata": {},
     "output_type": "display_data"
    }
   ],
   "source": [
    "x = np.linspace(-3,4,50)\n",
    "y1 = x**2\n",
    "plt.plot(x,y1,lw=2,c='b')\n",
    "x = np.linspace(-1,4,50)\n",
    "y2 = 4*x - 4\n",
    "plt.plot(x,y2,c='r')\n",
    "plt.xlabel('х')\n",
    "plt.ylabel('у')\n",
    "plt.grid(True, linestyle='-', color='0.4')\n",
    "plt.show()"
   ]
  },
  {
   "cell_type": "markdown",
   "id": "040f650a",
   "metadata": {},
   "source": [
    "### Пример 9 "
   ]
  },
  {
   "cell_type": "code",
   "execution_count": 17,
   "id": "879d9669",
   "metadata": {},
   "outputs": [
    {
     "data": {
      "image/png": "[encoded data removed]",
      "text/plain": [
       "<Figure size 640x480 with 1 Axes>"
      ]
     },
     "metadata": {},
     "output_type": "display_data"
    }
   ],
   "source": [
    "x = np.linspace(0,120,50)\n",
    "y1 = 6*x**(1/3) + 2*x**(1/2)\n",
    "plt.plot(x,y1,lw=2,c='r')\n",
    "x = np.linspace(10,120,50)\n",
    "y2 = x/4 + 24\n",
    "plt.plot(x,y2,'--',lw=2,c='b')\n",
    "x = np.linspace(60,70,50)\n",
    "y3 = 296 - 4*x\n",
    "plt.plot(x,y3,'-.',lw=2,c='g')\n",
    "plt.xlabel('x')\n",
    "plt.ylabel('y')\n",
    "plt.grid(True, linestyle='-', color='0.4')\n",
    "plt.axis('equal')\n",
    "plt.show()"
   ]
  },
  {
   "cell_type": "markdown",
   "id": "5fbb87b0",
   "metadata": {},
   "source": [
    "### Пример 10"
   ]
  },
  {
   "cell_type": "code",
   "execution_count": 18,
   "id": "a7fc7363",
   "metadata": {},
   "outputs": [
    {
     "data": {
      "image/png": "[encoded data removed]",
      "text/plain": [
       "<Figure size 640x480 with 1 Axes>"
      ]
     },
     "metadata": {},
     "output_type": "display_data"
    }
   ],
   "source": [
    "x = np.linspace(0,7,50)\n",
    "y1 = np.sqrt(x)\n",
    "plt.plot(x,y1,lw=2,c='b')\n",
    "x = np.linspace(-4,7,50)\n",
    "y2 = x/4 + 1\n",
    "plt.plot(x,y2,c='r')\n",
    "plt.xlabel('x')\n",
    "plt.ylabel('y')\n",
    "plt.grid (True, linestyle='-', color='0.4')\n",
    "plt.show()"
   ]
  },
  {
   "cell_type": "markdown",
   "id": "40fcf4bd",
   "metadata": {},
   "source": [
    "### Исследование функции"
   ]
  },
  {
   "cell_type": "code",
   "execution_count": 19,
   "id": "753da6f4",
   "metadata": {},
   "outputs": [
    {
     "data": {
      "image/png": "[encoded data removed]",
      "text/plain": [
       "<Figure size 640x480 with 1 Axes>"
      ]
     },
     "metadata": {},
     "output_type": "display_data"
    }
   ],
   "source": [
    "t = np.linspace(-1.5, 5, 100)\n",
    "f = t**3 - 5*t**2 + 5\n",
    "fd = 3*t**2 - 10*t\n",
    "fdd = 6*t - 10\n",
    "plt.plot(t,f,lw=2,color='red',label = \"$y(x)$\")\n",
    "plt.plot(t,fd,'--',lw=2,color='b',label = \"$y^{'}(x)$\")\n",
    "plt.plot(t,fdd, '-.', color='g',label = \"$y^{''}(x)$\")\n",
    "plt.plot([0], [0], 'o', color='y')\n",
    "plt.plot([0], [5], 'o', color='y')\n",
    "plt.plot([3.3], [0], 'o', color='y')\n",
    "plt.plot([3.3], [-13.4], 'o', color='y')\n",
    "plt.plot([1.65], [0], 'o', color='b')\n",
    "plt.plot([1.65], [-4], 'o', color='b')\n",
    "plt.grid(True, linestyle='-', color='0.4')\n",
    "plt.legend()\n",
    "plt.show()"
   ]
  },
  {
   "cell_type": "markdown",
   "id": "462a23e9",
   "metadata": {},
   "source": [
    "### Пример 11"
   ]
  },
  {
   "cell_type": "code",
   "execution_count": 20,
   "id": "d1e86db2",
   "metadata": {},
   "outputs": [
    {
     "data": {
      "text/latex": [
       "$\\displaystyle - \\sqrt{3} < x \\wedge x < \\sqrt{3}$"
      ],
      "text/plain": [
       "(x < sqrt(3)) & (-sqrt(3) < x)"
      ]
     },
     "execution_count": 20,
     "metadata": {},
     "output_type": "execute_result"
    }
   ],
   "source": [
    "x, y = symbols('x y')\n",
    "solve(x**2 < 3)"
   ]
  },
  {
   "cell_type": "markdown",
   "id": "4214867e",
   "metadata": {},
   "source": [
    "### Пример 12"
   ]
  },
  {
   "cell_type": "code",
   "execution_count": 21,
   "id": "6000f30f",
   "metadata": {},
   "outputs": [
    {
     "data": {
      "text/plain": [
       "[-y, y]"
      ]
     },
     "execution_count": 21,
     "metadata": {},
     "output_type": "execute_result"
    }
   ],
   "source": [
    "solve(x**2 - y**2, x)"
   ]
  },
  {
   "cell_type": "markdown",
   "id": "5e8d3dbc",
   "metadata": {},
   "source": [
    "### Пример 13"
   ]
  },
  {
   "cell_type": "code",
   "execution_count": 22,
   "id": "f1695968",
   "metadata": {
    "scrolled": false
   },
   "outputs": [
    {
     "data": {
      "image/png": "[encoded data removed]",
      "text/plain": [
       "<Figure size 640x480 with 1 Axes>"
      ]
     },
     "metadata": {},
     "output_type": "display_data"
    }
   ],
   "source": [
    "f = lambda х: np.exp(-x) - np.exp(-2*x)\n",
    "x = np.linspace(0.1,4,50)\n",
    "plt.plot(x, f(x), 'r')\n",
    "plt.xlabel('x')\n",
    "plt.ylabel('y')\n",
    "plt.grid(True, linestyle='-', color='0.4')\n",
    "plt.show()"
   ]
  },
  {
   "cell_type": "code",
   "execution_count": 28,
   "id": "803d4401",
   "metadata": {},
   "outputs": [
    {
     "name": "stdout",
     "output_type": "stream",
     "text": [
      "Defaulting to user installation because normal site-packages is not writeableNote: you may need to restart the kernel to use updated packages.\n"
     ]
    },
    {
     "name": "stderr",
     "output_type": "stream",
     "text": [
      "WARNING: Retrying (Retry(total=4, connect=None, read=None, redirect=None, status=None)) after connection broken by 'NewConnectionError('<pip._vendor.urllib3.connection.HTTPSConnection object at 0x000001CFA0BE42D0>: Failed to establish a new connection: [Errno 11001] getaddrinfo failed')': /simple/scipy/\n",
      "WARNING: Retrying (Retry(total=3, connect=None, read=None, redirect=None, status=None)) after connection broken by 'NewConnectionError('<pip._vendor.urllib3.connection.HTTPSConnection object at 0x000001CFA0BE4E90>: Failed to establish a new connection: [Errno 11001] getaddrinfo failed')': /simple/scipy/\n",
      "WARNING: Retrying (Retry(total=2, connect=None, read=None, redirect=None, status=None)) after connection broken by 'NewConnectionError('<pip._vendor.urllib3.connection.HTTPSConnection object at 0x000001CFA0BE5590>: Failed to establish a new connection: [Errno 11001] getaddrinfo failed')': /simple/scipy/\n",
      "WARNING: Retrying (Retry(total=1, connect=None, read=None, redirect=None, status=None)) after connection broken by 'NewConnectionError('<pip._vendor.urllib3.connection.HTTPSConnection object at 0x000001CFA0BE5F10>: Failed to establish a new connection: [Errno 11001] getaddrinfo failed')': /simple/scipy/\n",
      "WARNING: Retrying (Retry(total=0, connect=None, read=None, redirect=None, status=None)) after connection broken by 'NewConnectionError('<pip._vendor.urllib3.connection.HTTPSConnection object at 0x000001CFA0BE6950>: Failed to establish a new connection: [Errno 11001] getaddrinfo failed')': /simple/scipy/\n",
      "ERROR: Could not find a version that satisfies the requirement scipy (from versions: none)\n",
      "ERROR: No matching distribution found for scipy\n",
      "\n",
      "[notice] A new release of pip is available: 23.0.1 -> 23.1\n",
      "[notice] To update, run: python.exe -m pip install --upgrade pip\n"
     ]
    },
    {
     "name": "stdout",
     "output_type": "stream",
     "text": [
      "\n"
     ]
    }
   ],
   "source": [
    "pip install scipy"
   ]
  },
  {
   "cell_type": "code",
   "execution_count": 25,
   "id": "838a6e0a",
   "metadata": {},
   "outputs": [
    {
     "ename": "ModuleNotFoundError",
     "evalue": "No module named 'scipy'",
     "output_type": "error",
     "traceback": [
      "\u001b[1;31m---------------------------------------------------------------------------\u001b[0m",
      "\u001b[1;31mModuleNotFoundError\u001b[0m                       Traceback (most recent call last)",
      "Cell \u001b[1;32mIn[25], line 1\u001b[0m\n\u001b[1;32m----> 1\u001b[0m \u001b[38;5;28;01mfrom\u001b[39;00m \u001b[38;5;21;01mscipy\u001b[39;00m\u001b[38;5;21;01m.\u001b[39;00m\u001b[38;5;21;01moptimize\u001b[39;00m \u001b[38;5;28;01mimport\u001b[39;00m minimize\n\u001b[0;32m      3\u001b[0m f_max \u001b[38;5;241m=\u001b[39m \u001b[38;5;28;01mlambda\u001b[39;00m x: \u001b[38;5;241m-\u001b[39m(np\u001b[38;5;241m.\u001b[39mexp(\u001b[38;5;241m-\u001b[39mx) \u001b[38;5;241m-\u001b[39m np\u001b[38;5;241m.\u001b[39mexp(\u001b[38;5;241m-\u001b[39m\u001b[38;5;241m2\u001b[39m\u001b[38;5;241m*\u001b[39mx))\n\u001b[0;32m      4\u001b[0m res \u001b[38;5;241m=\u001b[39m minimize(f_max, \u001b[38;5;241m-\u001b[39m\u001b[38;5;241m2\u001b[39m)\n",
      "\u001b[1;31mModuleNotFoundError\u001b[0m: No module named 'scipy'"
     ]
    }
   ],
   "source": [
    "from scipy.optimize import minimize\n",
    "\n",
    "f_max = lambda x: -(np.exp(-x) - np.exp(-2*x))\n",
    "res = minimize(f_max, -2)\n",
    "res\n",
    "#print('x_max: %.3f f_max: %.3f' % (res.x, f(res.x)))"
   ]
  },
  {
   "cell_type": "markdown",
   "id": "9285d37d",
   "metadata": {},
   "source": [
    "### Пример 14"
   ]
  },
  {
   "cell_type": "code",
   "execution_count": null,
   "id": "6f07cbfc",
   "metadata": {
    "scrolled": false
   },
   "outputs": [],
   "source": [
    "x = symbols('x')\n",
    "y = x**3\n",
    "x0 = solve(diff(y,x))[0]\n",
    "print('x0: %.3f y(x0): %.3f' % (x0, y.subs(x, x0)))"
   ]
  },
  {
   "cell_type": "code",
   "execution_count": null,
   "id": "bd2bbc89",
   "metadata": {},
   "outputs": [],
   "source": [
    "diff(y,x,2).subs(x,x0)"
   ]
  },
  {
   "cell_type": "code",
   "execution_count": null,
   "id": "297749f5",
   "metadata": {},
   "outputs": [],
   "source": [
    "diff(у,x,3).subs(x,x0)"
   ]
  },
  {
   "cell_type": "code",
   "execution_count": null,
   "id": "75da2707",
   "metadata": {},
   "outputs": [],
   "source": [
    "x = np.linspace(-1,1,50)\n",
    "plt.plot(x, x**3, 'r')\n",
    "plt.xlabel('X')\n",
    "plt.ylabel('Y')\n",
    "plt.grid(True, linestyle='-', color='0.4')\n",
    "plt.show()"
   ]
  },
  {
   "cell_type": "markdown",
   "id": "6e972bb4",
   "metadata": {},
   "source": [
    "### Пример 15"
   ]
  },
  {
   "cell_type": "code",
   "execution_count": null,
   "id": "897da433",
   "metadata": {},
   "outputs": [],
   "source": [
    "f = lambda x: (x**3+3*x**2-1) / (x**2+1)\n",
    "x = np.linspace(-3,2,50)\n",
    "plt.plot(x, f(x), 'r')\n",
    "plt.xlabel('X')\n",
    "plt.ylabel('Y')\n",
    "plt.grid(True, linestyle='-', color='0.4')\n",
    "plt.show()"
   ]
  },
  {
   "cell_type": "code",
   "execution_count": null,
   "id": "93f1caf6",
   "metadata": {},
   "outputs": [],
   "source": [
    "res = minimize(f, 1)\n",
    "print('x_min: %.3f fmin: %.3f' % (res.x, f(res.x)))"
   ]
  },
  {
   "cell_type": "code",
   "execution_count": null,
   "id": "e623f5e7",
   "metadata": {},
   "outputs": [],
   "source": [
    "f_max = lambda х: -(х**3+3*х**2-1) / (х**2+1)\n",
    "res = minimize(f_max, -2)\n",
    "print('x_max: %.3f f max: %.3f' % (res.x, f(res.x)))"
   ]
  },
  {
   "cell_type": "markdown",
   "id": "9dffa002",
   "metadata": {},
   "source": [
    "### Пример 16"
   ]
  },
  {
   "cell_type": "code",
   "execution_count": null,
   "id": "38ecdd7a",
   "metadata": {},
   "outputs": [],
   "source": [
    "fun = lambda x: np.cbrt(2*(x+1)**2*(5-x)) - 2\n",
    "х = np.linspace(-3, 3, 100)\n",
    "plt.xlabel('X')\n",
    "plt.ylabel('Y')\n",
    "plt.plot(x, fun(x), 'r')\n",
    "plt.grid(True, linestyle='-', color='0.4')\n",
    "plt.show()"
   ]
  },
  {
   "cell_type": "code",
   "execution_count": null,
   "id": "3cb3678f",
   "metadata": {},
   "outputs": [],
   "source": [
    "res = minimize(fun, -1.5)\n",
    "print('x_min: %.3f' % res.x)"
   ]
  },
  {
   "cell_type": "code",
   "execution_count": null,
   "id": "103a5432",
   "metadata": {},
   "outputs": [],
   "source": [
    "res = minimize(fun, -1.001)\n",
    "print('xmin: %.3f' % res.x)"
   ]
  },
  {
   "cell_type": "code",
   "execution_count": null,
   "id": "b18a5a61",
   "metadata": {},
   "outputs": [],
   "source": [
    "print('у(-З): %.3f у(3): %.3f' % (fun(-3), fun(3)))"
   ]
  },
  {
   "cell_type": "markdown",
   "id": "050f44e2",
   "metadata": {},
   "source": [
    "### Пример 17"
   ]
  },
  {
   "cell_type": "code",
   "execution_count": null,
   "id": "fba5f7aa",
   "metadata": {},
   "outputs": [],
   "source": [
    "f = lambda х: х**4 * (12*np.log(x) - 7)\n",
    "x = np.linspace(0.001,2,50)\n",
    "plt.plot(x, f(x), 'r')\n",
    "plt.xlabel('X')\n",
    "plt.ylabel('Y')\n",
    "plt.grid(True, linestyle='-', color='0.4')\n",
    "plt.show()"
   ]
  },
  {
   "cell_type": "code",
   "execution_count": null,
   "id": "fe609088",
   "metadata": {},
   "outputs": [],
   "source": [
    "x = symbols('x')\n",
    "y = x**4 * (12*log(x) - 7)\n",
    "y_2deriv = diff(y,x,2)\n",
    "y_2deriv"
   ]
  },
  {
   "cell_type": "code",
   "execution_count": null,
   "id": "97ccec9d",
   "metadata": {},
   "outputs": [],
   "source": [
    "x_inflex = solve(y_2deriv, x)\n",
    "x_inflex"
   ]
  },
  {
   "cell_type": "code",
   "execution_count": null,
   "id": "35235179",
   "metadata": {},
   "outputs": [],
   "source": [
    "diff(y,x,3).subs(x, 1)"
   ]
  },
  {
   "cell_type": "code",
   "execution_count": null,
   "id": "8c30e403",
   "metadata": {},
   "outputs": [],
   "source": [
    "print('слева: %.1f справа: %.1f' % (y_2deriv.subs(x,0.9), y_2deriv.subs(x,1.1)))"
   ]
  },
  {
   "cell_type": "markdown",
   "id": "7d8b05af",
   "metadata": {},
   "source": [
    "### Пример 18"
   ]
  },
  {
   "cell_type": "code",
   "execution_count": null,
   "id": "48fd6ad9",
   "metadata": {},
   "outputs": [],
   "source": [
    "x = symbols('x')\n",
    "y = (x**2-16)/(5*(x+5))\n",
    "f = lambda x: (x**2-16)/(5*(x+5))\n",
    "x = np.linspace(-12,4.6,100)\n",
    "x[(x>-5.2) & (x < -4.8)] = np.nan\n",
    "y = f(x)\n",
    "plt.plot(x,y,lw=2,color='red')\n",
    "plt.grid(True, linestyle='-', color='0.4')\n",
    "plt.show()"
   ]
  },
  {
   "cell_type": "code",
   "execution_count": null,
   "id": "cfc38363",
   "metadata": {},
   "outputs": [],
   "source": [
    "k = limit(y/x, x, oo)\n",
    "k"
   ]
  },
  {
   "cell_type": "code",
   "execution_count": null,
   "id": "a7114172",
   "metadata": {},
   "outputs": [],
   "source": [
    "f = lambda х: (х**2-16)/(5*(х+5))\n",
    "х = np.linspace(-12,4.6,100)\n",
    "х[(х>-5.2) & (х < -4.8)] = np.nan\n",
    "У = f(x)\n",
    "plt.plot(x,y,lw=2,color='red')\n",
    "х = np.linspace(-12.3,5.5,100)\n",
    "у = х/5 - 1\n",
    "plt.plot(х,у,'--',color='b')\n",
    "plt.plot([-5,-5],[-9,7],'--',color='b')\n",
    "plt.grid(True, linestyle='-', color='0.4')\n",
    "plt.show()"
   ]
  },
  {
   "cell_type": "markdown",
   "id": "ad82de95",
   "metadata": {},
   "source": [
    "### Пример 19"
   ]
  },
  {
   "cell_type": "code",
   "execution_count": null,
   "id": "03275bc4",
   "metadata": {},
   "outputs": [],
   "source": [
    "x = symbols('х')\n",
    "y = x**2*sqrt(abs(x+3))/3\n",
    "f = lambda x: x**2*np.sqrt(abs(x+3))/3\n",
    "x = np.linspace(-4.5,3,100)\n",
    "f_x = f(x)\n",
    "plt.plot(x,f_x,lw=2,color='red')\n",
    "plt.grid(True, linestyle='-', color='0.4')\n",
    "plt.show()"
   ]
  },
  {
   "cell_type": "code",
   "execution_count": null,
   "id": "d1129c20",
   "metadata": {},
   "outputs": [],
   "source": [
    "y.subs(x,0)"
   ]
  },
  {
   "cell_type": "code",
   "execution_count": null,
   "id": "0f0214d8",
   "metadata": {},
   "outputs": [],
   "source": [
    "limit(y, х, oo)"
   ]
  },
  {
   "cell_type": "code",
   "execution_count": null,
   "id": "65c72302",
   "metadata": {},
   "outputs": [],
   "source": [
    "k = limit(y/x, x, oo)\n",
    "k"
   ]
  },
  {
   "cell_type": "code",
   "execution_count": null,
   "id": "cfffa476",
   "metadata": {},
   "outputs": [],
   "source": [
    "x = symbols('х')\n",
    "y1 = x**2*sqrt(-x-3)/3\n",
    "y1_ = diff(y1,x). simplify()\n",
    "y1_"
   ]
  },
  {
   "cell_type": "code",
   "execution_count": null,
   "id": "f2e43f67",
   "metadata": {},
   "outputs": [],
   "source": [
    "y2 = x**2*sqrt(x+3)/3\n",
    "y12_ = diff(y1,x,2).simplify()\n",
    "y12_"
   ]
  },
  {
   "cell_type": "code",
   "execution_count": null,
   "id": "db18d50e",
   "metadata": {},
   "outputs": [],
   "source": [
    "y22_ = diff(y2,x,2).simplify()\n",
    "y22_"
   ]
  },
  {
   "cell_type": "code",
   "execution_count": null,
   "id": "e42243dd",
   "metadata": {},
   "outputs": [],
   "source": [
    "xp1 = solve(y12_)\n",
    "xp1"
   ]
  },
  {
   "cell_type": "code",
   "execution_count": null,
   "id": "1e4fbaaa",
   "metadata": {},
   "outputs": [],
   "source": [
    "diff(y1, x, 3).subs(x,xp1[0]).evalf(5)"
   ]
  },
  {
   "cell_type": "code",
   "execution_count": null,
   "id": "dd43cf61",
   "metadata": {},
   "outputs": [],
   "source": [
    "diff(y1, x, 3).subs(x,xp1[1]).evalf(4)"
   ]
  },
  {
   "cell_type": "code",
   "execution_count": null,
   "id": "5b827924",
   "metadata": {},
   "outputs": [],
   "source": [
    "f = lambda х: x**2*np.sqrt(abs(x+3))/3\n",
    "x = np.linspace(-4.5,3,2000)\n",
    "f_x = f(x)\n",
    "plt.plot(x,f_x,lw=2,color='red')\n",
    "plt.grid(True, linestyle='-', color='0.4')\n",
    "plt.show()"
   ]
  },
  {
   "cell_type": "markdown",
   "id": "554fc322",
   "metadata": {},
   "source": [
    "### Пример 20"
   ]
  },
  {
   "cell_type": "code",
   "execution_count": null,
   "id": "1a7e5041",
   "metadata": {},
   "outputs": [],
   "source": [
    "x, y = symbols(\"x y\")\n",
    "z = x*y**2 + exp(-x)"
   ]
  },
  {
   "cell_type": "code",
   "execution_count": null,
   "id": "4164c85a",
   "metadata": {},
   "outputs": [],
   "source": [
    "diff(z, x, 2)"
   ]
  },
  {
   "cell_type": "code",
   "execution_count": null,
   "id": "fecfa6a9",
   "metadata": {},
   "outputs": [],
   "source": [
    "diff(z, y, 2)"
   ]
  },
  {
   "cell_type": "markdown",
   "id": "e7f0a9a1",
   "metadata": {},
   "source": [
    "### Пример 21"
   ]
  },
  {
   "cell_type": "code",
   "execution_count": null,
   "id": "dfe2e8b7",
   "metadata": {},
   "outputs": [],
   "source": [
    "x, y = symbols('х у')\n",
    "z = sin(x)*cos(y)\n",
    "diff(z, x, 2, y)"
   ]
  },
  {
   "cell_type": "markdown",
   "id": "695c3cf5",
   "metadata": {},
   "source": [
    "### Пример 22"
   ]
  },
  {
   "cell_type": "code",
   "execution_count": null,
   "id": "ba8dd439",
   "metadata": {},
   "outputs": [],
   "source": [
    "x,y = symbols('x y')\n",
    "z = 5*log(x**2 + y**2)\n",
    "z_x = diff(z,x).subs({x:1, y:2})\n",
    "z_y = diff(z,y).subs({x:1, y:2})\n",
    "grad_f = (z_x, z_y)\n",
    "grad_f"
   ]
  },
  {
   "cell_type": "markdown",
   "id": "53ce6b9d",
   "metadata": {},
   "source": [
    "### Пример 23"
   ]
  },
  {
   "cell_type": "code",
   "execution_count": null,
   "id": "a54c3e40",
   "metadata": {},
   "outputs": [],
   "source": [
    "x,y = symbols('х у')\n",
    "z = х**2 + х*у +7\n",
    "z_x = diff(z,x).subs({x:1, y:-1})\n",
    "z_y = diff(z,y).subs({x:1, y:-1})\n",
    "grad_f = (z_x, z_y)\n",
    "grad_f"
   ]
  },
  {
   "cell_type": "markdown",
   "id": "0c63a360",
   "metadata": {},
   "source": [
    "### Пример 24"
   ]
  },
  {
   "cell_type": "code",
   "execution_count": null,
   "id": "f072a5a9",
   "metadata": {},
   "outputs": [],
   "source": [
    "l = Point(3,4)\n",
    "l_n = l.distance(Point(0,0))\n",
    "cos_a = l.x/l_n\n",
    "cos_b = l.y/l_n\n",
    "x,y = symbols('х у')\n",
    "z = x**2 + y**2\n",
    "z_x = diff(z,x).subs({x:1, y:1})\n",
    "z_y = diff(z,y).subs({x:1, y:1})\n",
    "z_l = z_x*cos_a + z_y*cos_b\n",
    "z_l"
   ]
  },
  {
   "cell_type": "markdown",
   "id": "6b1efbfd",
   "metadata": {},
   "source": [
    "### Пример 25"
   ]
  },
  {
   "cell_type": "code",
   "execution_count": null,
   "id": "ac6372af",
   "metadata": {},
   "outputs": [],
   "source": [
    "def tangent_plane(F,M):\n",
    "    F_diff_x = diff(F,x).subs({x:M.x,y:M.y,z:M.z})\n",
    "    F_diff_y = diff(F,y).subs({x:M.x,y:M.y,z:M.z})\n",
    "    F_diff_z = diff(F,z).subs({x:M.x,y:M.y,z:M.z})\n",
    "\n",
    "    n = Point(F_diff_x, F_diff_y, F_diff_z)\n",
    "\n",
    "    р = Plane(M, normal_vector=n).equation()\n",
    "\n",
    "    К = Point(M.x+n.x, M.y+n.y, M.z+n.z)\n",
    "    l_n = Line(M, К).arbitrary_point()\n",
    "    return р, In"
   ]
  },
  {
   "cell_type": "code",
   "execution_count": null,
   "id": "18e712b3",
   "metadata": {},
   "outputs": [],
   "source": [
    "x, y, z = symbols('x у z')\n",
    "F = x**2 + y**2 + z**2 - 9\n",
    "M = Point(1,1,1)\n",
    "p, l_n = tangent_plane(F,M)"
   ]
  },
  {
   "cell_type": "code",
   "execution_count": null,
   "id": "b1cce572",
   "metadata": {},
   "outputs": [],
   "source": [
    "p"
   ]
  },
  {
   "cell_type": "markdown",
   "id": "d01738ed",
   "metadata": {},
   "source": [
    "### Пример 26"
   ]
  },
  {
   "cell_type": "code",
   "execution_count": null,
   "id": "dfcddef6",
   "metadata": {},
   "outputs": [],
   "source": [
    "z = lambda w: (w[0]-1)**2 + (w[1]-3)**4\n",
    "res = minimize(z, (0, 0))\n",
    "res.x"
   ]
  },
  {
   "cell_type": "code",
   "execution_count": null,
   "id": "1a7e16ba",
   "metadata": {},
   "outputs": [],
   "source": [
    "z((1,3)) < z((0.999,3.001))"
   ]
  },
  {
   "cell_type": "code",
   "execution_count": null,
   "id": "dddc5306",
   "metadata": {},
   "outputs": [],
   "source": [
    "z((1,3))"
   ]
  },
  {
   "cell_type": "markdown",
   "id": "1e759023",
   "metadata": {},
   "source": [
    "### Пример 27"
   ]
  },
  {
   "cell_type": "code",
   "execution_count": null,
   "id": "634e5860",
   "metadata": {},
   "outputs": [],
   "source": [
    "z = lambda w: w[0]**4 + w[1]**4 - 2*w[0]**2 +4*w[0]*w[1] - 2*w[1]**2\n",
    "\n",
    "fig = plt.figure(figsize=(7,7))\n",
    "axes = fig.add_subplot(projection='3d')\n",
    "y = x = np.linspace(-2, 2, 50)\n",
    "x, y = np.meshgrid(x, y)\n",
    "Z = z((x,y))\n",
    "surf = axes.plot_surface(x, y, Z, cmap='coolwarm',linewidth=0, antialiased=False)\n",
    "\n",
    "axes.set_xlabel('Ось X')\n",
    "axes.set_ylabel('Ось Y')\n",
    "axes.set_zlabel('Ось Z')\n",
    "plt.show()"
   ]
  },
  {
   "cell_type": "code",
   "execution_count": null,
   "id": "9877cbf4",
   "metadata": {},
   "outputs": [],
   "source": [
    "res = minimize(z, (1, -1))\n",
    "res.x"
   ]
  },
  {
   "cell_type": "code",
   "execution_count": null,
   "id": "1da5c9bf",
   "metadata": {},
   "outputs": [],
   "source": [
    "z(res.x)"
   ]
  },
  {
   "cell_type": "code",
   "execution_count": null,
   "id": "e8c47692",
   "metadata": {},
   "outputs": [],
   "source": [
    "res = minimize(z, (-1, 1))\n",
    "res.x"
   ]
  },
  {
   "cell_type": "code",
   "execution_count": null,
   "id": "7e5c0b17",
   "metadata": {},
   "outputs": [],
   "source": [
    "z(res.x)"
   ]
  },
  {
   "cell_type": "markdown",
   "id": "1a0f6ca6",
   "metadata": {},
   "source": [
    "### Пример 28"
   ]
  },
  {
   "cell_type": "code",
   "execution_count": null,
   "id": "f4c4d92b",
   "metadata": {},
   "outputs": [],
   "source": [
    "f = lambda w: w[0] - w[1] + 2\n",
    "fig = plt.figure()\n",
    "ax = fig.add_subplot(111, projection='3d')\n",
    "                     \n",
    "x = np.linspace(-1, 1, 50)\n",
    "y = np.linspace(-1, 1, 50)\n",
    "\n",
    "x, y = np.meshgrid(x, y)\n",
    "z1 = f((x,y))\n",
    "ax.plot_surface(x, y, z1, alpha=0.4)\n",
    "\n",
    "x = np.linspace(-1, 1, 100)\n",
    "z = np.linspace(0, 3, 100)\n",
    "xc, zc = np.meshgrid(x, z)\n",
    "yc = np.sqrt(1-xc**2)\n",
    "ax.plot_surface(xc, yc, zc, alpha=0.3)\n",
    "ax.plot_surface(xc, -yc, zc, alpha=0.3)\n",
    "ax.set_xlabel(\"X\")\n",
    "ax.set_ylabel(\"Y\")\n",
    "ax.set_zlabel(\"Z\")\n",
    "plt.show()"
   ]
  },
  {
   "cell_type": "code",
   "execution_count": null,
   "id": "b7b42f88",
   "metadata": {},
   "outputs": [],
   "source": [
    "cons = ({'type': 'eq', 'fun': lambda w: w[0]**2 + w[1]**2 - 1})\n",
    "\n",
    "bnds = ((None, None), (None, None))\n",
    "\n",
    "res = minimize(f, (-0.5, 0.5), bounds=bnds, constraints=cons)\n",
    "\n",
    "res.x"
   ]
  },
  {
   "cell_type": "code",
   "execution_count": null,
   "id": "7435735d",
   "metadata": {},
   "outputs": [],
   "source": [
    "f_max = lambda w: -(1.5*w[0] - w[1] + 1)\n",
    "cons = ({'type': 'eq', 'fun': lambda w: w[0]**2 + w[1]**2 - 1})\n",
    "bnds = ((None, None), (None, None))\n",
    "res = minimize(f_max, (0.5, -0.5), bounds=bnds,constraints=cons)\n",
    "\n",
    "res.x"
   ]
  },
  {
   "cell_type": "markdown",
   "id": "d6d5c9b5",
   "metadata": {},
   "source": [
    "### Пример 29"
   ]
  },
  {
   "cell_type": "code",
   "execution_count": null,
   "id": "33cebbc1",
   "metadata": {},
   "outputs": [],
   "source": [
    "x,y = symbols('x y')\n",
    "z = 4.5*x**(0.33) * y**(0.66)\n",
    "z_x = diff(z, x)\n",
    "z_y = diff(z, y)\n",
    "\n",
    "E_x = (x/z)*z_x\n",
    "E_y = (y/z)*z_y\n",
    "print('E_x: %.2f E_y: %.2f' % (E_x, E_y))"
   ]
  },
  {
   "cell_type": "markdown",
   "id": "873fbc2d",
   "metadata": {},
   "source": [
    "### Пример 30"
   ]
  },
  {
   "cell_type": "code",
   "execution_count": null,
   "id": "a535d046",
   "metadata": {},
   "outputs": [],
   "source": [
    "K,V0 = symbols('K V0')\n",
    "V = V0*log(5+K**2)\n",
    "\n",
    "Vprim2 = diff(V,K,2)\n",
    "\n",
    "Vprim3 = diff(V,K,3)\n",
    "\n",
    "s = solve(Vprim2,K)\n",
    "s"
   ]
  },
  {
   "cell_type": "code",
   "execution_count": null,
   "id": "e49c1609",
   "metadata": {},
   "outputs": [],
   "source": [
    "Vprim3.subs(K,s[1])"
   ]
  },
  {
   "cell_type": "markdown",
   "id": "56dc4a0d",
   "metadata": {},
   "source": [
    "## Примеры решения задач"
   ]
  },
  {
   "cell_type": "markdown",
   "id": "6334ce8d",
   "metadata": {},
   "source": [
    "Вычислить $y'$ для функции $xcos(lnx)+sin(lnx))$"
   ]
  },
  {
   "cell_type": "code",
   "execution_count": null,
   "id": "5e680cd5",
   "metadata": {},
   "outputs": [],
   "source": [
    "x = symbols('х')\n",
    "y = x*(cos(log(x))+sin(log(x)))\n",
    "diff(y,x)"
   ]
  },
  {
   "cell_type": "code",
   "execution_count": null,
   "id": "b7b79776",
   "metadata": {},
   "outputs": [],
   "source": [
    "diff(y,x).simplify()"
   ]
  },
  {
   "cell_type": "markdown",
   "id": "803ba210",
   "metadata": {},
   "source": [
    "Решить уравнение $y'(x) = 0$, где $y(x) = max\\{x^2-2x+3; 2x^2-5x-1\\}$"
   ]
  },
  {
   "cell_type": "code",
   "execution_count": null,
   "id": "22da2460",
   "metadata": {},
   "outputs": [],
   "source": [
    "f1 = lambda х: х**2-2*х+3\n",
    "f2 = lambda х: 2*х**2-5*х-1\n",
    "x = np.linspace(-3, 5.5, 50)\n",
    "y1 = f1(x)\n",
    "plt.plot(x,y1, label = \"f1\")\n",
    "y2 = f2(x)\n",
    "plt.plot(x,y2, label = \"f2\")\n",
    "plt.legend()\n",
    "plt.show()"
   ]
  },
  {
   "cell_type": "code",
   "execution_count": null,
   "id": "de3eaa2a",
   "metadata": {},
   "outputs": [],
   "source": [
    "f1(-1) == f2(-1)"
   ]
  },
  {
   "cell_type": "code",
   "execution_count": null,
   "id": "a36806d9",
   "metadata": {},
   "outputs": [],
   "source": [
    "f1(4) == f2(4)"
   ]
  },
  {
   "cell_type": "code",
   "execution_count": null,
   "id": "4bf3661b",
   "metadata": {},
   "outputs": [],
   "source": [
    "x = symbols('x')\n",
    "f1 = x**2-2*x+3\n",
    "f2 = 2*x**2-5*x-1\n",
    "\n",
    "y_diff1 = diff(f2,x)\n",
    "y_diff1"
   ]
  },
  {
   "cell_type": "code",
   "execution_count": null,
   "id": "a609f164",
   "metadata": {},
   "outputs": [],
   "source": [
    "y_diff2 = diff(f1,x)\n",
    "y_diff2"
   ]
  },
  {
   "cell_type": "markdown",
   "id": "dbda5ab9",
   "metadata": {},
   "source": [
    "Показать, что функция $y = xsinx$ удовлетворяет уравнению $\\frac{y'}{cosx} - x = tgx$"
   ]
  },
  {
   "cell_type": "code",
   "execution_count": null,
   "id": "8544c136",
   "metadata": {},
   "outputs": [],
   "source": [
    "x, y = symbols('х у')\n",
    "y = x*sin(x)\n",
    "yprim = diff(y, x)\n",
    "f = yprim/cos(x) - x\n",
    "f.simplify()"
   ]
  },
  {
   "cell_type": "markdown",
   "id": "0be97192",
   "metadata": {},
   "source": [
    "Написать уравнения касательных к графику функции $y=(x^2+1)(x-2)$ в точках её пересечения с осями координат."
   ]
  },
  {
   "cell_type": "code",
   "execution_count": null,
   "id": "7d17d5a7",
   "metadata": {},
   "outputs": [],
   "source": [
    "x = symbols('x', real=True)\n",
    "y = (x**2 + 1)*(x - 2)"
   ]
  },
  {
   "cell_type": "code",
   "execution_count": null,
   "id": "a08dca40",
   "metadata": {},
   "outputs": [],
   "source": [
    "def tangent(y, x0):\n",
    " y0 = y.subs(x, x0)\n",
    " x1 = x0 + 1\n",
    " k = diff(y,x).subs(x,x0)\n",
    " y1 = y0 + k\n",
    " return Line((x0,y0), (x1,y1))\n"
   ]
  },
  {
   "cell_type": "code",
   "execution_count": null,
   "id": "c7daf938",
   "metadata": {},
   "outputs": [],
   "source": [
    "tangent(y, 0).equation()"
   ]
  },
  {
   "cell_type": "code",
   "execution_count": null,
   "id": "f1e470b3",
   "metadata": {},
   "outputs": [],
   "source": [
    "хр = solve(y, x)\n",
    "tangent(y, хр[0]).equation()"
   ]
  },
  {
   "cell_type": "code",
   "execution_count": null,
   "id": "2ba971d7",
   "metadata": {},
   "outputs": [],
   "source": [
    "x = np.linspace(-1.5,3.5,100)\n",
    "y = (x**2 + 1)*(x - 2)\n",
    "plt.plot(x, y, lw=2, color='red')\n",
    "x = np.linspace(-1.5,3.3,100)\n",
    "y1 = x - 2\n",
    "plt.plot(x, y1, lw=2, color='green')\n",
    "\n",
    "x = np.linspace(-0.3,3.5,100)\n",
    "y2 = 5*x - 10\n",
    "plt.plot(x, y2, lw=2, color='blue')\n",
    "plt.plot([0], [-2], 'o', color='0.4')\n",
    "plt.plot([2], [0], 'o', color='y')\n",
    "plt.grid(True)\n",
    "plt.show()"
   ]
  },
  {
   "cell_type": "markdown",
   "id": "bd42b58a",
   "metadata": {},
   "source": [
    "При каком значении параметра $a$ парабола $y = ax^2$ касается кривой $y = lnx$?"
   ]
  },
  {
   "cell_type": "code",
   "execution_count": null,
   "id": "2366633a",
   "metadata": {},
   "outputs": [],
   "source": [
    "x, a, x0 = symbols('x а х0')\n",
    "\n",
    "y1 = a*x**2\n",
    "y2 = log(x)\n",
    "\n",
    "y1_diff = diff(y1,x).subs(x,x0)\n",
    "y2_diff = diff(y2,x).subs(x,x0)\n",
    "\n",
    "y1_0 = y1.subs(x,x0)\n",
    "y2_0 = y2.subs(x,x0)\n",
    "\n",
    "solve([y1_0-y2_0, y1_diff-y2_diff], [x0, a])"
   ]
  },
  {
   "cell_type": "code",
   "execution_count": null,
   "id": "80a0f566",
   "metadata": {},
   "outputs": [],
   "source": [
    "x = np.linspace(-4, 6, 500)\n",
    "y = x**2/(2*np.exp(1))\n",
    "plt.plot(x, y, lw=2, c='r')\n",
    "x = np.linspace(0.03, 6, 100)\n",
    "y = np.log(x)\n",
    "plt.plot(x, y, lw=2, c='b')\n",
    "plt.grid(True, linestyle='-', color='0.4')\n",
    "plt.show()"
   ]
  },
  {
   "cell_type": "markdown",
   "id": "918cd1fa",
   "metadata": {},
   "source": [
    "Исследовать на экстремум функцию $y = \\sqrt[3]{x} \\times lnx$."
   ]
  },
  {
   "cell_type": "code",
   "execution_count": null,
   "id": "b870610e",
   "metadata": {
    "scrolled": true
   },
   "outputs": [],
   "source": [
    "f = lambda x: (x**(1/3))*np.log(x)\n",
    "\n",
    "x = np.linspace(0.0001,1,100)\n",
    "y = f(x)\n",
    "plt.plot(x, y)\n",
    "plt.show()"
   ]
  },
  {
   "cell_type": "code",
   "execution_count": null,
   "id": "efaa9a19",
   "metadata": {},
   "outputs": [],
   "source": [
    "res = minimize(f, 0.01)\n",
    "print('xmin: %.4f y(x_min): %.3f' % (res.x, f(res.x)))"
   ]
  },
  {
   "cell_type": "code",
   "execution_count": null,
   "id": "4efd7a71",
   "metadata": {},
   "outputs": [],
   "source": [
    "x = symbols('x')\n",
    "y = x**(1/3) * log(x)\n",
    "x_min = solve(diff(y,x))[0]\n",
    "print('x_min: %.4f y(x_min) %.3f' % (x_min, y.subs(x, x_min)))"
   ]
  },
  {
   "cell_type": "markdown",
   "id": "57425170",
   "metadata": {},
   "source": [
    "Найти производную функции $w = \\frac{x^2}{2} + \\frac{y^2}{9} - z^2$ в точке $A(1;2)$ по направлению радиус-вектора этой точки."
   ]
  },
  {
   "cell_type": "code",
   "execution_count": null,
   "id": "5dc31f92",
   "metadata": {},
   "outputs": [],
   "source": [
    "l = Point(2,3,1)\n",
    "\n",
    "l_n = l.distance(Point(0,0,0))\n",
    "\n",
    "cos_a = l.x/l_n\n",
    "cos_b = l.y/l_n\n",
    "cos_c = l.z/l_n"
   ]
  },
  {
   "cell_type": "code",
   "execution_count": null,
   "id": "48f645b7",
   "metadata": {},
   "outputs": [],
   "source": [
    "x,y,z = symbols('x у z')\n",
    "w = x**2/2 + y**2/9 - z**2\n",
    "\n",
    "w_x = diff(w,x).subs({x:2, y:3, z:1})\n",
    "w_y = diff(w,y).subs({x:2, y:3, z:1})\n",
    "w_z = diff(w,z).subs({x:2, y:3, z:1})"
   ]
  },
  {
   "cell_type": "code",
   "execution_count": null,
   "id": "38830290",
   "metadata": {},
   "outputs": [],
   "source": [
    "w_x = diff(w,x).subs([(x,2),(y,3),(z,1)])\n",
    "w_y = diff(w,y).subs([(x,2),(y,3),(z,1)])\n",
    "w_z = diff(w,z).subs([(x,2),(y,3),(z,1)])\n",
    "\n",
    "w_l = w_x*cos_a + w_y*cos_b + w_z*cos_c\n",
    "w_l"
   ]
  },
  {
   "cell_type": "markdown",
   "id": "c6210096",
   "metadata": {},
   "source": [
    "Найти экстремумы функции $z = x^2 -4xy - 2y^2 + 8x$"
   ]
  },
  {
   "cell_type": "code",
   "execution_count": null,
   "id": "c6199ad6",
   "metadata": {},
   "outputs": [],
   "source": [
    "def critical_points(z):\n",
    "\n",
    "    z_x = diff(z,x)\n",
    "    z_y = diff(z,y)\n",
    "\n",
    "    cr_point = solve([z_x, z_y], [x, y], dict=True)\n",
    "\n",
    "    A = diff(z,x,2)\n",
    "    B = diff(z,x,y)\n",
    "    C = diff(z,y,2)\n",
    "\n",
    "    D = A*C - B**2\n",
    "    return cr_point, A, D"
   ]
  },
  {
   "cell_type": "code",
   "execution_count": null,
   "id": "fa7b2893",
   "metadata": {},
   "outputs": [],
   "source": [
    "def suff_indic(A, D, cr_point):\n",
    "    A0 = A.subs(cr_point)\n",
    "    D0 = D.subs(cr_point)\n",
    "    return D0, A0"
   ]
  },
  {
   "cell_type": "code",
   "execution_count": null,
   "id": "02e976ab",
   "metadata": {},
   "outputs": [],
   "source": [
    "x, y = symbols('х у')\n",
    "z = x**2 - 4*x*y - 2*y**2 + 8*x\n",
    "cr_point, A, D = critical_points(z)\n",
    "cr_point"
   ]
  },
  {
   "cell_type": "code",
   "execution_count": null,
   "id": "fc47902b",
   "metadata": {},
   "outputs": [],
   "source": [
    "D0, A0 = suff_indic(A, D, cr_point[0])\n",
    "D0, A0"
   ]
  },
  {
   "cell_type": "markdown",
   "id": "e75dc50f",
   "metadata": {},
   "source": [
    "Зависимость между себестоимостью продукции $C$ и объёмом её производства $Q$ выражается формулой $C(Q) = 80 - 0,38Q$. Определить эластичность себестоимости при выпуске продукции $Q = 20$ ден. ед."
   ]
  },
  {
   "cell_type": "code",
   "execution_count": null,
   "id": "3f282ac7",
   "metadata": {},
   "outputs": [],
   "source": [
    "Q = symbols('Q')\n",
    "c = 80 - 0.38*Q\n",
    "Dprim = diff(c,Q)\n",
    "E = (Q*Dprim/c).subs(Q,20)\n",
    "S(E).n(3)"
   ]
  },
  {
   "cell_type": "markdown",
   "id": "c6b6d569",
   "metadata": {},
   "source": [
    "Функция спроса $D$ и предложения $S$ от цены $p$ имеют вид: $D(p) = 40 - 1,3p$, $S(p) = 20 + 1,2p$. Найти эластичность спроса в точке равновенсой цены."
   ]
  },
  {
   "cell_type": "code",
   "execution_count": null,
   "id": "f3ba9e31",
   "metadata": {},
   "outputs": [],
   "source": [
    "p = symbols('р')\n",
    "D = 40 - 1.3*p\n",
    "S = 20 + 1.2*p\n",
    "p0 = solve(D-S,p)\n",
    "p0[0].n(2)\n"
   ]
  },
  {
   "cell_type": "code",
   "execution_count": null,
   "id": "ea5187ce",
   "metadata": {},
   "outputs": [],
   "source": [
    "Dprim = diff(D,p)\n",
    "E = (p*Dprim/D).subs(p,p0[0])\n",
    "E.n(3)"
   ]
  },
  {
   "cell_type": "markdown",
   "id": "148366ff",
   "metadata": {},
   "source": [
    "### Индивидуальное задание"
   ]
  },
  {
   "cell_type": "markdown",
   "id": "54162416",
   "metadata": {},
   "source": [
    "Производитель выпускает цилиндрический контейнер радиусом 5 см и высотой 15 см. Стоимость материала для верхней и нижней частей контейнера составляет $0,10/см^2$, а стоимость материала для боковых сторон - $0,05/см^2$. Найдите скорость изменения стоимости материала, если радиус увеличивается со скоростью $0,5 см/с$."
   ]
  },
  {
   "cell_type": "code",
   "execution_count": null,
   "id": "94710ca2",
   "metadata": {},
   "outputs": [],
   "source": [
    "from sympy import *\n",
    "import matplotlib.pyplot as plt\n",
    "import numpy as np"
   ]
  },
  {
   "cell_type": "markdown",
   "id": "279aeb2f",
   "metadata": {},
   "source": [
    "Сначала найдем уравнение для стоимости материала для цилиндрического контейнера. Общая площадь поверхности цилиндра составляет:\n",
    "$S = 2πr^2 + 2πrh$\n",
    "где r - радиус, а h - высота цилиндра. Стоимость материала для верхней и нижней частей контейнера составляет $0,10/см^2, поэтому стоимость этих поверхностей составляет:\n",
    "$C_top/bottom = 0,10(2πr^2)$.\n",
    "Стоимость материала для боковых сторон контейнера составляет $0,05/см^2, поэтому стоимость для этих поверхностей составляет:\n",
    "\n",
    "$C_стороны = 0,05(2πrh)$.\n",
    "\n",
    "Общая стоимость материала равна сумме стоимости материала для верха/дно и боковых поверхностей:\n",
    "\n",
    "$C = C_верх/низ + C_стороны = 0,10(2πr^2) + 0,05(2πrh) = 0,2πr^2 + 0,1πrh$."
   ]
  },
  {
   "cell_type": "code",
   "execution_count": null,
   "id": "f585b5b3",
   "metadata": {},
   "outputs": [],
   "source": [
    "r, h = symbols('r h')\n",
    "C = 0.2*pi*r**2 + 0.1*pi*r*h\n",
    "C"
   ]
  },
  {
   "cell_type": "markdown",
   "id": "36fe7632",
   "metadata": {},
   "source": [
    "Чтобы найти скорость изменения стоимости материала в зависимости от радиуса, нужно продифференцировать C в зависимости от r:\n",
    "\n",
    "$dC/dr = 0,4πr + 0,1πh$."
   ]
  },
  {
   "cell_type": "markdown",
   "id": "5dc36cf1",
   "metadata": {},
   "source": [
    "Мы знаем, что r увеличивается со скоростью 0,5 см/с, поэтому нам нужно найти соответствующую скорость изменения стоимости материала. Сначала подставим заданные значения r и h:\n",
    "\n",
    "$r = 5 см$\n",
    "$h = 15 см$\n",
    "\n",
    "$dC/dr $ оценивается при $(r,h) = (5,15)$: $dC/dr = 0,4π(5) + 0,1π(15) ≈ 3,93π$.\n",
    "\n",
    "Таким образом, скорость изменения стоимости материала составляет примерно $3,93π (\\$/с)$, когда радиус увеличивается со скоростью $0,5 см/с$."
   ]
  },
  {
   "cell_type": "code",
   "execution_count": null,
   "id": "0c684b0e",
   "metadata": {},
   "outputs": [],
   "source": [
    "# Генерируем данные для построения графика\n",
    "r_vals = np.linspace(0, 10, 100)\n",
    "C_vals = np.zeros(len(r_vals))\n",
    "dCdr_vals = np.zeros(len(r_vals))\n",
    "for i in range(len(r_vals)):\n",
    "    C_vals[i] = C.subs([(r, r_vals[i]), (h, 15)])\n",
    "    dCdr_vals[i] = diff(C, r).subs([(r, r_vals[i]), (h, 15)])\n",
    "C_vals\n",
    "dCdr_vals"
   ]
  },
  {
   "cell_type": "markdown",
   "id": "65d8f8e6",
   "metadata": {},
   "source": [
    "Построение графика стоимости материала в зависимости от радиуса:"
   ]
  },
  {
   "cell_type": "code",
   "execution_count": null,
   "id": "3b0d46bb",
   "metadata": {},
   "outputs": [],
   "source": [
    "fig, ax1 = plt.subplots()\n",
    "ax2 = ax1.twinx()\n",
    "\n",
    "# Постройте график стоимости материала в зависимости от радиуса\n",
    "ax1.plot(r_vals, C_vals, color='blue')\n",
    "ax1.set_xlabel('Радиус (см)')\n",
    "ax1.set_ylabel('Цена материала ($)', color='blue')\n",
    "\n",
    "# Постройте график скорости увеличения в зависимости от радиуса\n",
    "ax2.plot(r_vals, dCdr_vals, color='red')\n",
    "ax2.set_ylabel('Частота увелечения ($/с)', color='red')\n",
    "\n",
    "plt.show()\n"
   ]
  },
  {
   "cell_type": "markdown",
   "id": "0a413936",
   "metadata": {},
   "source": [
    "Из графика видно, что скорость увеличения стоимости максимальна, когда радиус мал, и уменьшается по мере увеличения радиуса. Это имеет смысл, поскольку с увеличением радиуса увеличение площади поверхности на каждую единицу увеличения радиуса становится меньше, поэтому стоимость материала растет медленнее."
   ]
  },
  {
   "cell_type": "code",
   "execution_count": null,
   "id": "b7068f40",
   "metadata": {},
   "outputs": [],
   "source": []
  }
 ],
 "metadata": {
  "kernelspec": {
   "display_name": "Python 3 (ipykernel)",
   "language": "python",
   "name": "python3"
  },
  "language_info": {
   "codemirror_mode": {
    "name": "ipython",
    "version": 3
   },
   "file_extension": ".py",
   "mimetype": "text/x-python",
   "name": "python",
   "nbconvert_exporter": "python",
   "pygments_lexer": "ipython3",
   "version": "3.11.2"
  }
 },
 "nbformat": 4,
 "nbformat_minor": 5
}
