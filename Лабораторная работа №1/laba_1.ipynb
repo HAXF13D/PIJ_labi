{
 "cells": [
  {
   "cell_type": "markdown",
   "id": "d205c095",
   "metadata": {},
   "source": [
    "## Решение задач на Python, Математический анализ, Комплексные числа\n"
   ]
  },
  {
   "cell_type": "markdown",
   "id": "4679d054",
   "metadata": {},
   "source": [
    "Действия над комплексными числами: сложение, вычитание, умножение, деление, производится с помощью стандартных операций «+», «-», «*», «/»."
   ]
  },
  {
   "cell_type": "markdown",
   "id": "78730528",
   "metadata": {},
   "source": [
    "### Пример 1:\n",
    "Пусть $x = 1 + 3i, y = 2 - i, g = 1 - 2i, t = 10.$ <br/>\n",
    "Найти $z = x * y, h = \\frac{t}{g}, n = p^2 = p * p, C = z + h + n$"
   ]
  },
  {
   "cell_type": "code",
   "execution_count": 1,
   "id": "7ab2b050",
   "metadata": {},
   "outputs": [
    {
     "name": "stdout",
     "output_type": "stream",
     "text": [
      "(5+5j)\n",
      "(1-2j)\n",
      "(10+0j)\n",
      "(2+4j)\n",
      "2j\n",
      "(7+11j)\n"
     ]
    }
   ],
   "source": [
    "x=complex(1,3)\n",
    "y=complex(2,-1)\n",
    "z=x*y\n",
    "print(z)\n",
    "g=complex(1,-2)\n",
    "print(g)\n",
    "t=complex(10,0)\n",
    "print(t)\n",
    "h=t/g\n",
    "print(h)\n",
    "p=complex(-1,-1)\n",
    "n=p*p\n",
    "print(n)\n",
    "C=z+h+n\n",
    "print(C)\n"
   ]
  },
  {
   "cell_type": "markdown",
   "id": "55154f8a",
   "metadata": {},
   "source": [
    "Возведение в степень: pow (число, показатель степени в которую мы возводим число)."
   ]
  },
  {
   "cell_type": "markdown",
   "id": "62d60a2f",
   "metadata": {},
   "source": [
    "### Пример 2:\n",
    "Степень $i^2$. <br/>\n",
    "$x = i, y = x^2, y = -1.$"
   ]
  },
  {
   "cell_type": "code",
   "execution_count": 2,
   "id": "41ec2bbf",
   "metadata": {},
   "outputs": [
    {
     "name": "stdout",
     "output_type": "stream",
     "text": [
      "(-1+0j)\n"
     ]
    }
   ],
   "source": [
    "x=complex(0,1)\n",
    "y=pow(x,2) # Степень\n",
    "print(y)\n"
   ]
  },
  {
   "cell_type": "markdown",
   "id": "da05ff8b",
   "metadata": {},
   "source": [
    "Итак, мы можем с легкостью производить любые действия с комплексными числами в среде Python."
   ]
  },
  {
   "cell_type": "markdown",
   "id": "a00d0a44",
   "metadata": {},
   "source": [
    "### Пример 3:\n",
    "Вычислить $(1 + 3i) * (2 - i) + \\frac{10}{(1+2i)} + (-1 -i)^2=7 + 11j$. <br/>\n"
   ]
  },
  {
   "cell_type": "code",
   "execution_count": 3,
   "id": "1d8d779a",
   "metadata": {},
   "outputs": [
    {
     "name": "stdout",
     "output_type": "stream",
     "text": [
      "(5+5j)\n",
      "(1-2j)\n",
      "(10+0j)\n",
      "(2+4j)\n",
      "2j\n",
      "(7+11j)\n"
     ]
    }
   ],
   "source": [
    "x=complex(1,3)\n",
    "y=complex(2,-1)\n",
    "z=x*y\n",
    "print(z)\n",
    "g=complex(1,-2)\n",
    "print(g)\n",
    "t=complex(10,0)\n",
    "print(t)\n",
    "h=t/g\n",
    "print(h)\n",
    "p=complex(-1,-1)\n",
    "n=p*p\n",
    "print(n)\n",
    "C=z+h+n\n",
    "print(C)\n"
   ]
  },
  {
   "cell_type": "markdown",
   "id": "cb78dcfd",
   "metadata": {},
   "source": [
    "С понятием комплексного числа связано решение квадратных уравнений, дискриминант которых меньше нуля."
   ]
  },
  {
   "cell_type": "markdown",
   "id": "9ca9ca22",
   "metadata": {},
   "source": [
    "### Пример 4:\n",
    "Решить уравнение $ х2 — 2х + 5 = 0.j$. <br/>\n",
    "Решение. Чтобы решить уравнение $f(х) = 0$ используем функцию $solve(f(х))$."
   ]
  },
  {
   "cell_type": "code",
   "execution_count": 4,
   "id": "2b29b557",
   "metadata": {},
   "outputs": [
    {
     "name": "stdout",
     "output_type": "stream",
     "text": [
      "[1 - 2*I, 1 + 2*I]\n"
     ]
    }
   ],
   "source": [
    "import math\n",
    "from sympy import *\n",
    "x = Symbol(\"x\")\n",
    "print(solve(x**2-2*x+5))\n"
   ]
  },
  {
   "cell_type": "markdown",
   "id": "138d19f9",
   "metadata": {},
   "source": [
    "### Пример 5:\n",
    "Найти значение функции $f(x) = x^4 + \\frac{2 + i}{x} - (-3 + 2i)$, при $x = 1 - 2i$. <br/>\n"
   ]
  },
  {
   "cell_type": "code",
   "execution_count": 5,
   "id": "df0b3a2f",
   "metadata": {},
   "outputs": [
    {
     "name": "stdout",
     "output_type": "stream",
     "text": [
      "(-4+23j)\n"
     ]
    }
   ],
   "source": [
    "x=complex(1,-2)\n",
    "i=complex(0,1)\n",
    "f=x**4+(2+i)/x-(-3+2*i)\n",
    "print(f)"
   ]
  },
  {
   "cell_type": "markdown",
   "id": "a1374c29",
   "metadata": {},
   "source": [
    "### Пример 6:\n",
    "Выполнить указанные действия $\\frac{(1+i)^8}{(1-i)^6}$. <br/>\n"
   ]
  },
  {
   "cell_type": "code",
   "execution_count": 6,
   "id": "2e75b354",
   "metadata": {},
   "outputs": [
    {
     "name": "stdout",
     "output_type": "stream",
     "text": [
      "-2j\n"
     ]
    }
   ],
   "source": [
    "print((1+i)**8/(1-i)**6)"
   ]
  },
  {
   "cell_type": "markdown",
   "id": "a21546fc",
   "metadata": {},
   "source": [
    "### Пример 7:\n",
    "Решить систему уравнений \n",
    "$\\begin{cases} \n",
    "    (2 + i)x + (2 -i)y =6,\\\\\n",
    "    (3 + 2i)x + (3 -2i)y = 8.\n",
    "\\end{cases}$. <br/>"
   ]
  },
  {
   "cell_type": "code",
   "execution_count": 7,
   "id": "4cdb6c1f",
   "metadata": {},
   "outputs": [
    {
     "name": "stdout",
     "output_type": "stream",
     "text": [
      "Matrix([[2.0 + 1.0*I], [2.0 - 1.0*I]])\n"
     ]
    }
   ],
   "source": [
    "from sympy import Symbol, nsolve\n",
    "import sympy\n",
    "import mpmath\n",
    "mpmath.mp.dps = 3\n",
    "\n",
    "x = Symbol('x')\n",
    "y = Symbol('y')\n",
    "\n",
    "i = complex(0, 1)\n",
    "\n",
    "f1 = (2+i)*x+y*(2-i)-6\n",
    "f2 = (3+2*i)*x+(3-2*i)*y-8\n",
    "print(nsolve((f1, f2), (x, y), (-1, 1)))"
   ]
  },
  {
   "cell_type": "markdown",
   "id": "15602674",
   "metadata": {},
   "source": [
    "### Пример 8:\n",
    "Вычислить $\\sqrt{3 - 4i}$. <br/>\n"
   ]
  },
  {
   "cell_type": "code",
   "execution_count": 8,
   "id": "800c82b4",
   "metadata": {},
   "outputs": [
    {
     "name": "stdout",
     "output_type": "stream",
     "text": [
      "[-2.0 + 1.0*I, 2.0 - 1.0*I]\n"
     ]
    }
   ],
   "source": [
    "print(solve(x**2-3+4*i))"
   ]
  },
  {
   "cell_type": "markdown",
   "id": "9b4b9df6",
   "metadata": {},
   "source": [
    "### Пример 9:\n",
    "Решить уравнение $(2+i)x^2 - (5 - i)x + (2 - 2i) = 0$. <br/>\n"
   ]
  },
  {
   "cell_type": "code",
   "execution_count": 9,
   "id": "3e0517cd",
   "metadata": {},
   "outputs": [
    {
     "name": "stdout",
     "output_type": "stream",
     "text": [
      "[0.8 - 0.4*I, 1.0 - 1.0*I]\n"
     ]
    }
   ],
   "source": [
    "from sympy import Symbol\n",
    "x = Symbol(\"x\")\n",
    "i = complex(0, 1)\n",
    "print(solve((2 + i)*x**2-(5-i)*x+2-2*i))"
   ]
  },
  {
   "cell_type": "markdown",
   "id": "bece30ab",
   "metadata": {},
   "source": [
    "### Пример 10:\n",
    "Вычислить $-25*\\frac{3i-9}{2+8i}-(3+5i)^{20}$. <br/>\n"
   ]
  },
  {
   "cell_type": "code",
   "execution_count": 10,
   "id": "565f7250",
   "metadata": {
    "scrolled": true
   },
   "outputs": [
    {
     "name": "stdout",
     "output_type": "stream",
     "text": [
      "(384166462260221.8-2028317440819228.8j)\n"
     ]
    }
   ],
   "source": [
    "i = complex(0, 1)\n",
    "print((-25 * ((3 * i - 9) / (2 + 8 * i))) - ((3 + 5 * i) ** 20))"
   ]
  },
  {
   "cell_type": "markdown",
   "id": "a9e4e552",
   "metadata": {},
   "source": [
    "### Пример 11:\n",
    "Вычислить $-(3 + 5i)^{10} - 25*\\frac{3i - 9}{2 - 8i}$. <br/>\n"
   ]
  },
  {
   "cell_type": "code",
   "execution_count": 11,
   "id": "b577a7e3",
   "metadata": {},
   "outputs": [
    {
     "name": "stdout",
     "output_type": "stream",
     "text": [
      "(28984573.79411765+34989571.323529415j)\n"
     ]
    }
   ],
   "source": [
    "i = complex(0, 1)\n",
    "print(-(3+5*i)**10-25*(3*i-9)/(2+8*i))"
   ]
  },
  {
   "cell_type": "markdown",
   "id": "3a3ac4f5",
   "metadata": {},
   "source": [
    "### Пример 12:\n",
    "Найти модуль и аргумент (фазу) комплексного числа $z = 2 + 2 *\\sqrt{3} * i$. <br/>\n"
   ]
  },
  {
   "cell_type": "code",
   "execution_count": 12,
   "id": "5dce0db2",
   "metadata": {},
   "outputs": [
    {
     "name": "stdout",
     "output_type": "stream",
     "text": [
      "3.9999999999999996\n",
      "60\n"
     ]
    }
   ],
   "source": [
    "from math import sqrt\n",
    "import cmath\n",
    "i = complex(0, 1)\n",
    "z = 2 + 2 * sqrt(3) * i\n",
    "print(abs(z))\n",
    "print(round(math.degrees(cmath.phase(z))))"
   ]
  },
  {
   "cell_type": "markdown",
   "id": "30202308",
   "metadata": {},
   "source": [
    "### Пример 13:\n",
    "Пусть $z_1=-4-9i, z_2=1-8i$. <br/>\n",
    "Вычислите $\\frac{z_1 - \\overline{z_2}}{\\overline{z_1} - z_2}$"
   ]
  },
  {
   "cell_type": "code",
   "execution_count": 13,
   "id": "fd94f822",
   "metadata": {},
   "outputs": [
    {
     "name": "stdout",
     "output_type": "stream",
     "text": [
      "(-0.19999999999999982+5.6000000000000005j)\n"
     ]
    }
   ],
   "source": [
    "zl=complex(-4,-9)\n",
    "z2=complex(1,-8)\n",
    "print(complex(zl-conjugate(z2))/complex(z2+conjugate(zl)))"
   ]
  },
  {
   "cell_type": "markdown",
   "id": "5826c601",
   "metadata": {},
   "source": [
    "## Примеры решения задач"
   ]
  },
  {
   "cell_type": "markdown",
   "id": "5747a545",
   "metadata": {},
   "source": [
    "### Пример 1:\n",
    "Пусть $z_1=-4-9i, z_2=1-8i$. <br/>\n",
    "Вычислите $\\frac{z_1 - \\overline{z_2}}{\\overline{z_1} - z_2}$"
   ]
  },
  {
   "cell_type": "code",
   "execution_count": 14,
   "id": "3e679269",
   "metadata": {
    "scrolled": true
   },
   "outputs": [
    {
     "name": "stdout",
     "output_type": "stream",
     "text": [
      "(-0.19999999999999982+5.6000000000000005j)\n"
     ]
    }
   ],
   "source": [
    "zl=complex(-4,-9)\n",
    "z2=complex(1,-8)\n",
    "print(complex(zl-conjugate(z2))/complex(z2+conjugate(zl)))"
   ]
  },
  {
   "cell_type": "markdown",
   "id": "9a3b6351",
   "metadata": {},
   "source": [
    "## Пример 2:\n",
    "Приведите число $z = 2 + 2\\sqrt{3}i$ к тригонометрическому виду. <br/>"
   ]
  },
  {
   "cell_type": "code",
   "execution_count": 15,
   "id": "9466bf51",
   "metadata": {},
   "outputs": [
    {
     "name": "stdout",
     "output_type": "stream",
     "text": [
      "60\n",
      "3.9999999999999996\n"
     ]
    }
   ],
   "source": [
    "import math\n",
    "import cmath\n",
    "z=2+2*math.sqrt(3)*1j\n",
    "fi=round(math.degrees(cmath.phase(z)))\n",
    "print(fi)\n",
    "r=abs(z)\n",
    "print(r)\n"
   ]
  },
  {
   "cell_type": "markdown",
   "id": "b72dd00a",
   "metadata": {},
   "source": [
    "## Пример 7:\n",
    "Вычислите значение выражения $\\frac{3+7i}{4i-5}$ и представьте результат $a +bi$. <br/>"
   ]
  },
  {
   "cell_type": "code",
   "execution_count": 16,
   "id": "e3e0f751",
   "metadata": {},
   "outputs": [
    {
     "name": "stdout",
     "output_type": "stream",
     "text": [
      "(0.31707317073170743-1.1463414634146343j)\n"
     ]
    }
   ],
   "source": [
    "print((3+7j)/(4j-5))\n"
   ]
  },
  {
   "cell_type": "markdown",
   "id": "6f0ce1b7",
   "metadata": {},
   "source": [
    "## Пример 9:\n",
    " Вычислите значение многочлена $P(z) = (-4+4i)z^2 + (-1+3i)z + (-2-3i)$ в точке $z = 1- 3i$ <br/>"
   ]
  },
  {
   "cell_type": "code",
   "execution_count": 17,
   "id": "5a5ecd54",
   "metadata": {},
   "outputs": [
    {
     "name": "stdout",
     "output_type": "stream",
     "text": [
      "(-4-59j)\n"
     ]
    }
   ],
   "source": [
    "z=1+3j\n",
    "p=(-4+4j)*(z*z)+(-1+3j)*z+(-2-3j)\n",
    "print(p)"
   ]
  },
  {
   "cell_type": "markdown",
   "id": "fbe2210a",
   "metadata": {},
   "source": [
    "## Пример 13:\n",
    "Вычислите модуль и аргумент числа  $z = -8 - 8i$. <br/>"
   ]
  },
  {
   "cell_type": "code",
   "execution_count": 18,
   "id": "8bd8120b",
   "metadata": {},
   "outputs": [
    {
     "data": {
      "text/plain": [
       "(-135, 11.313708498984761)"
      ]
     },
     "execution_count": 18,
     "metadata": {},
     "output_type": "execute_result"
    }
   ],
   "source": [
    "import math\n",
    "import cmath\n",
    "z=complex(-8,-8)\n",
    "round(math.degrees(cmath.phase(z))), abs(z)"
   ]
  },
  {
   "cell_type": "markdown",
   "id": "820fa009",
   "metadata": {},
   "source": [
    "## Пример 15:\n",
    "Найдите комплексные корни уравнения $x^2 + 8x + 20 = 0$. <br/>"
   ]
  },
  {
   "cell_type": "code",
   "execution_count": 19,
   "id": "6673b7e5",
   "metadata": {},
   "outputs": [
    {
     "name": "stdout",
     "output_type": "stream",
     "text": [
      "[-4 - 2*I, -4 + 2*I]\n"
     ]
    }
   ],
   "source": [
    "import math\n",
    "from sympy import *\n",
    "x=Symbol(\"x\")\n",
    "print(solve(x**2+8*x+20))"
   ]
  },
  {
   "cell_type": "markdown",
   "id": "b5f873f7",
   "metadata": {},
   "source": [
    "## Пример 21:\n",
    "Приведите число $z = 6 - 6i$ к тригонометрическому виду. <br/>"
   ]
  },
  {
   "cell_type": "code",
   "execution_count": 20,
   "id": "ed8c3fda",
   "metadata": {},
   "outputs": [
    {
     "name": "stdout",
     "output_type": "stream",
     "text": [
      "45\n",
      "8.48528137423857\n",
      "(4.4575048871930445-7.220155828003307j)\n"
     ]
    }
   ],
   "source": [
    "import math\n",
    "import cmath\n",
    "z=complex(6,6)\n",
    "print(round(math.degrees(cmath.phase(z))))\n",
    "r=abs(z)\n",
    "print(r)\n",
    "c=r*(math.cos(-45)+1j*math.sin(-45))\n",
    "print(c)\n"
   ]
  },
  {
   "cell_type": "markdown",
   "id": "8cba65cc",
   "metadata": {},
   "source": [
    "## Задачи для самостоятельного решения"
   ]
  },
  {
   "cell_type": "markdown",
   "id": "bb16a8fa",
   "metadata": {},
   "source": [
    "Вычислить модуль и аргумент числа $z = -5 + 5i$."
   ]
  },
  {
   "cell_type": "code",
   "execution_count": 21,
   "id": "c0535f02",
   "metadata": {},
   "outputs": [
    {
     "name": "stdout",
     "output_type": "stream",
     "text": [
      "7.0710678118654755\n",
      "135\n"
     ]
    }
   ],
   "source": [
    "from math import sqrt\n",
    "import cmath\n",
    "i = complex(0, 1)\n",
    "z = -5 + 5 * i\n",
    "print(abs(z))\n",
    "print(round(math.degrees(cmath.phase(z))))"
   ]
  },
  {
   "cell_type": "markdown",
   "id": "e8b7cc4a",
   "metadata": {},
   "source": [
    "### Индивидуальное задание"
   ]
  },
  {
   "cell_type": "markdown",
   "id": "1452e3bf",
   "metadata": {},
   "source": [
    "Цепь состоит из резистора, индуктора и конденсатора, соединенных последовательно. Значения этих компонентов заданы R = 10 Ом, L = 0,1 Генри и C = 0,001 Фарад. В момент t = 0 напряжение в цепи равно 5 вольтам. Постройте график зависимости силы тока от времени."
   ]
  },
  {
   "cell_type": "markdown",
   "id": "122a45fb",
   "metadata": {},
   "source": [
    "Чтобы решить эту задачу с помощью Python, мы можем использовать следующее уравнение, которое описывает поведение RLC-цепи:$\\frac{d^2I}{dt^2} + \\frac{R}{L}*\\frac{dI}{dt} + \\frac{1}{LC}*I = 0$"
   ]
  },
  {
   "cell_type": "markdown",
   "id": "859411db",
   "metadata": {},
   "source": [
    "Здесь I - ток через цепь, R - сопротивление резистора, L - индуктивность индуктора, C - емкость конденсатора, а t - время. Мы можем переписать это уравнение следующим образом: $\\frac{dI}{dt} = \\frac{V}{Ls^2 + Rs + \\frac{1}{C}}$, где V - напряжение в цепи, а s - переменная Лапласа. Затем мы можем решить это уравнение с помощью функции nsolve, чтобы найти зависимость силы тока через цепьи от времени."
   ]
  },
  {
   "cell_type": "markdown",
   "id": "c073fe14",
   "metadata": {},
   "source": [
    "Код, для построения зависимости:"
   ]
  },
  {
   "cell_type": "code",
   "execution_count": 22,
   "id": "4dad0728",
   "metadata": {},
   "outputs": [],
   "source": [
    "%matplotlib inline"
   ]
  },
  {
   "cell_type": "code",
   "execution_count": 23,
   "id": "2dfcb2b3",
   "metadata": {},
   "outputs": [
    {
     "data": {
      "image/png": "[encoded data removed]",
      "text/plain": [
       "<Figure size 640x480 with 1 Axes>"
      ]
     },
     "metadata": {},
     "output_type": "display_data"
    }
   ],
   "source": [
    "import numpy as np\n",
    "import sympy as sp\n",
    "import matplotlib.pyplot as plt\n",
    "\n",
    "# Объявление парамтеров схемы\n",
    "R = 10    # Ом\n",
    "L = 0.1   # Генри\n",
    "C = 0.001 # Фарад\n",
    "V0 = 5    # Воль\n",
    "\n",
    "# Объявление переменной времени\n",
    "t = sp.symbols('t')\n",
    "\n",
    "# Объявление дифференциальное уравнение для тока\n",
    "I = sp.Function('I')(t)\n",
    "eqn = sp.Eq(L*sp.diff(I,t,2) + R*sp.diff(I,t) + 1/C*I, 0)\n",
    "\n",
    "# Решение дифференциального уравнения\n",
    "sol = sp.dsolve(eqn, I)\n",
    "\n",
    "# Нахождение констант интегрирования\n",
    "C1, C2 = sp.symbols('C1 C2')\n",
    "consts = sp.solve([sol.rhs.subs(t,0), sol.rhs.diff(t).subs(t,0) + V0/L], [C1, C2])\n",
    "sol = sol.subs(consts)\n",
    "\n",
    "# Преобразование выражения SymPy в функцию NumPy\n",
    "I_func = sp.lambdify(t, sol.rhs, 'numpy')\n",
    "\n",
    "# Создание массива времени и расчет силы тока в каждой временной точке\n",
    "t_array = np.linspace(0, 1, 1000)  # от 0 до 1 с\n",
    "I_array = I_func(t_array)\n",
    "\n",
    "# Построение график зависимости тока от времени\n",
    "plt.plot(t_array, I_array)\n",
    "plt.xlabel('Время (s)')\n",
    "plt.ylabel('СИла тока (A)')\n",
    "plt.show()\n"
   ]
  },
  {
   "cell_type": "code",
   "execution_count": null,
   "id": "e620548d",
   "metadata": {},
   "outputs": [],
   "source": []
  }
 ],
 "metadata": {
  "kernelspec": {
   "display_name": "Python 3 (ipykernel)",
   "language": "python",
   "name": "python3"
  },
  "language_info": {
   "codemirror_mode": {
    "name": "ipython",
    "version": 3
   },
   "file_extension": ".py",
   "mimetype": "text/x-python",
   "name": "python",
   "nbconvert_exporter": "python",
   "pygments_lexer": "ipython3",
   "version": "3.10.6"
  }
 },
 "nbformat": 4,
 "nbformat_minor": 5
}
