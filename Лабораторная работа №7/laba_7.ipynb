{
 "cells": [
  {
   "cell_type": "markdown",
   "id": "d205c095",
   "metadata": {},
   "source": [
    "## Алгебра матриц. Системы линейных уравнений\n"
   ]
  },
  {
   "cell_type": "markdown",
   "id": "4679d054",
   "metadata": {},
   "source": [
    "### Матрицы"
   ]
  },
  {
   "cell_type": "markdown",
   "id": "d26dec8b",
   "metadata": {},
   "source": [
    "Матрицы в библиотеке numpy"
   ]
  },
  {
   "cell_type": "code",
   "execution_count": 1,
   "id": "ca368a23",
   "metadata": {},
   "outputs": [],
   "source": [
    "import numpy as np"
   ]
  },
  {
   "cell_type": "code",
   "execution_count": 2,
   "id": "ac6c7420",
   "metadata": {},
   "outputs": [],
   "source": [
    "def Minor_elem(A,i, j):\n",
    "    ''' Вычисляет минор элемента a_ij '''\n",
    "    m,n = A.shape\n",
    "    if m != n:\n",
    "        raise ValueError('Матрица должна быть квадратной')\n",
    "    if (0 < i <= n) & (0 < j <= n):\n",
    "        A.row_del(i-1) # нумерация элементов массива с 0\n",
    "        A.col_del(j-1)\n",
    "    else:\n",
    "        raise ValueError('индекс элемента больше размера матрицы')\n",
    "    return(det(А))"
   ]
  },
  {
   "cell_type": "code",
   "execution_count": 3,
   "id": "33ab35a9",
   "metadata": {},
   "outputs": [],
   "source": [
    "def Algebr_compl(A,i,j):\n",
    "    m = Minor_elem(A,i,j)\n",
    "    return (-l)**(i+j)*m"
   ]
  },
  {
   "cell_type": "code",
   "execution_count": 4,
   "id": "54fc052b",
   "metadata": {},
   "outputs": [],
   "source": [
    "def Algebr_compl(A,i,j):\n",
    "    m = Minor_elem(A,i,j)\n",
    "    return (-1)**(i+j)*m"
   ]
  },
  {
   "cell_type": "code",
   "execution_count": 5,
   "id": "23239daf",
   "metadata": {},
   "outputs": [],
   "source": [
    "def Minor_Matrix(A,Row,Col):\n",
    "    n = len(Row)\n",
    "    m = len(Col)\n",
    "    if n != m:\n",
    "        raise ValueError('The quantities of the given \\\n",
    "        rows and columns must be equal')\n",
    "    if (n < 1) or (n > A.shape[0]):\n",
    "        raise ValueError('Invalid number of minor rows')\n",
    "    M_Row = A.row(Row[0]-1)\n",
    "    for i in range(1,n):\n",
    "        M_Row = M_Row.row_insert(i,A.row(Row[i]-1))\n",
    "    M_Col = M_Row.col(Col[0]-1)\n",
    "    for j in range(1,m):\n",
    "        M_Col = M_Col.col_insert(j,M_Row.col(Col[j]-1))\n",
    "    return det(M_Col)\n"
   ]
  },
  {
   "cell_type": "code",
   "execution_count": 6,
   "id": "14bb8730",
   "metadata": {},
   "outputs": [],
   "source": [
    "def silvestr(A):\n",
    "\n",
    "    m,n = A.shape\n",
    "    if m!=n:\n",
    "        raise ValueError('Матрица должна быть квадратной')\n",
    "    Ml = А[0,0]\n",
    "    if Ml == 0:\n",
    "        return('Не является знакоопределенной')\n",
    "    elif Ml > 0: # проверка на положительную определенность\n",
    "        for k in range(2,n+1):\n",
    "            Mk = det(A[0:k,0:k])\n",
    "            if Mk <=0:\n",
    "                return('Не является знакоопределенной')\n",
    "        return('Положительно определена')\n",
    "    else: # проверка на отрицательную определенность\n",
    "        for k in range(2,n+1):\n",
    "            Mk = det(А[0:k,0:k])\n",
    "            if Mk == 0:\n",
    "                return('Не является знакоопределенной')\n",
    "            else:\n",
    "                s1 = Ml/abs(Ml)\n",
    "                s2 = Mk/abs(Mk)\n",
    "                if s1*s2 > 0:\n",
    "                    return('He является знакоопределенной')\n",
    "            Ml = Mk\n",
    "        return('Отрицательно определена')"
   ]
  },
  {
   "cell_type": "markdown",
   "id": "d7861870",
   "metadata": {},
   "source": [
    "Создание матрицы."
   ]
  },
  {
   "cell_type": "code",
   "execution_count": 7,
   "id": "4d81112c",
   "metadata": {
    "scrolled": true
   },
   "outputs": [
    {
     "data": {
      "text/plain": [
       "array([[-7,  4,  0],\n",
       "       [ 0, -1,  0],\n",
       "       [-1,  5,  7]])"
      ]
     },
     "execution_count": 7,
     "metadata": {},
     "output_type": "execute_result"
    }
   ],
   "source": [
    "A = np.array([[-7,4,0],\n",
    "             [0,-1,0],\n",
    "             [-1,5,7]])\n",
    "A"
   ]
  },
  {
   "cell_type": "code",
   "execution_count": 8,
   "id": "65585ae5",
   "metadata": {
    "scrolled": true
   },
   "outputs": [
    {
     "data": {
      "text/plain": [
       "array([[1., 0., 0.],\n",
       "       [0., 1., 0.],\n",
       "       [0., 0., 1.]])"
      ]
     },
     "execution_count": 8,
     "metadata": {},
     "output_type": "execute_result"
    }
   ],
   "source": [
    "'''Единичная матрица третьего порядка'''\n",
    "E = np.eye(3)\n",
    "E"
   ]
  },
  {
   "cell_type": "code",
   "execution_count": 9,
   "id": "0cbef735",
   "metadata": {},
   "outputs": [
    {
     "data": {
      "text/plain": [
       "array([1, 2, 3])"
      ]
     },
     "execution_count": 9,
     "metadata": {},
     "output_type": "execute_result"
    }
   ],
   "source": [
    "''' Матрица-строка '''\n",
    "А = np.array([1,2,3])\n",
    "А"
   ]
  },
  {
   "cell_type": "markdown",
   "id": "870ef25f",
   "metadata": {},
   "source": [
    "Элементы матрицы"
   ]
  },
  {
   "cell_type": "code",
   "execution_count": 10,
   "id": "70e6c279",
   "metadata": {},
   "outputs": [
    {
     "data": {
      "text/plain": [
       "4"
      ]
     },
     "execution_count": 10,
     "metadata": {},
     "output_type": "execute_result"
    }
   ],
   "source": [
    "А = np.array([[-7,4,0],\n",
    "[0,-1,0],\n",
    "[-1,5,7]])\n",
    "''' Элемент а12 (нумерация с 0) '''\n",
    "А[0,1]"
   ]
  },
  {
   "cell_type": "code",
   "execution_count": 11,
   "id": "9c926961",
   "metadata": {},
   "outputs": [
    {
     "data": {
      "text/plain": [
       "array([-7,  4,  0])"
      ]
     },
     "execution_count": 11,
     "metadata": {},
     "output_type": "execute_result"
    }
   ],
   "source": [
    "''' Первая строка '''\n",
    "А[0]\n"
   ]
  },
  {
   "cell_type": "code",
   "execution_count": 12,
   "id": "18821b2c",
   "metadata": {},
   "outputs": [
    {
     "data": {
      "text/plain": [
       "array([[ 4,  0],\n",
       "       [-1,  0],\n",
       "       [ 5,  7]])"
      ]
     },
     "execution_count": 12,
     "metadata": {},
     "output_type": "execute_result"
    }
   ],
   "source": [
    "''' Столбцы, начиная со второго\n",
    "и заканчивая третьим '''\n",
    "А[:,1:3]"
   ]
  },
  {
   "cell_type": "markdown",
   "id": "cb115e1b",
   "metadata": {},
   "source": [
    "Сложение, вычитание, умножение на число."
   ]
  },
  {
   "cell_type": "code",
   "execution_count": 13,
   "id": "28052315",
   "metadata": {},
   "outputs": [
    {
     "data": {
      "text/plain": [
       "array([[0., 2., 3.],\n",
       "       [4., 4., 6.],\n",
       "       [7., 8., 8.]])"
      ]
     },
     "execution_count": 13,
     "metadata": {},
     "output_type": "execute_result"
    }
   ],
   "source": [
    "А = np.array([[1,2,3],\n",
    "              [4,5,6] ,\n",
    "              [7,8,9] ])\n",
    "Е = np.eye(3)\n",
    "А-Е"
   ]
  },
  {
   "cell_type": "code",
   "execution_count": 14,
   "id": "cc7c465f",
   "metadata": {},
   "outputs": [
    {
     "data": {
      "text/plain": [
       "array([[ 3,  6,  9],\n",
       "       [12, 15, 18],\n",
       "       [21, 24, 27]])"
      ]
     },
     "execution_count": 14,
     "metadata": {},
     "output_type": "execute_result"
    }
   ],
   "source": [
    "3*А\n"
   ]
  },
  {
   "cell_type": "markdown",
   "id": "be311ed8",
   "metadata": {},
   "source": [
    "Поэлементное умножение - операция *"
   ]
  },
  {
   "cell_type": "code",
   "execution_count": 15,
   "id": "333ca61e",
   "metadata": {},
   "outputs": [
    {
     "data": {
      "text/plain": [
       "array([[[ 0,  0,  0],\n",
       "        [ 8, 10, 12]]])"
      ]
     },
     "execution_count": 15,
     "metadata": {},
     "output_type": "execute_result"
    }
   ],
   "source": [
    "А = np.array([[1,2,3],\n",
    "              [4,5,6] ]),\n",
    "В = np.array([[0,0,0],\n",
    "              [2,2,2]])\n",
    "А * В"
   ]
  },
  {
   "cell_type": "markdown",
   "id": "e077f363",
   "metadata": {},
   "source": [
    "Транспонирование - метод .Т"
   ]
  },
  {
   "cell_type": "markdown",
   "id": "22466e8c",
   "metadata": {},
   "source": [
    "Пример 1"
   ]
  },
  {
   "cell_type": "code",
   "execution_count": 16,
   "id": "40ca1902",
   "metadata": {},
   "outputs": [
    {
     "data": {
      "text/plain": [
       "array([[ 1,  0,  1],\n",
       "       [ 0, -2,  1]])"
      ]
     },
     "execution_count": 16,
     "metadata": {},
     "output_type": "execute_result"
    }
   ],
   "source": [
    "B = np.array([[1,0],\n",
    "              [0,-2],\n",
    "              [1,1] ])\n",
    "В1 = B.T\n",
    "В1"
   ]
  },
  {
   "cell_type": "markdown",
   "id": "5547cb5c",
   "metadata": {},
   "source": [
    "Пример 2."
   ]
  },
  {
   "cell_type": "code",
   "execution_count": 17,
   "id": "bb243510",
   "metadata": {},
   "outputs": [
    {
     "data": {
      "text/plain": [
       "array([[-7, -8],\n",
       "       [ 0,  2],\n",
       "       [ 6, -3]])"
      ]
     },
     "execution_count": 17,
     "metadata": {},
     "output_type": "execute_result"
    }
   ],
   "source": [
    "А = np.array([[-7,4,0],\n",
    "              [0,-1,0],\n",
    "              [-1,5,7]])\n",
    "В = np.array([[1,0],\n",
    "              [0,-2],\n",
    "              [1,1] ])\n",
    "F = А@В\n",
    "F\n"
   ]
  },
  {
   "cell_type": "markdown",
   "id": "27e25efa",
   "metadata": {},
   "source": [
    "### Определитель матрицы"
   ]
  },
  {
   "cell_type": "markdown",
   "id": "b3a4fad9",
   "metadata": {},
   "source": [
    "Пример 3."
   ]
  },
  {
   "cell_type": "code",
   "execution_count": 18,
   "id": "772be336",
   "metadata": {},
   "outputs": [
    {
     "data": {
      "text/plain": [
       "9.999999999999998"
      ]
     },
     "execution_count": 18,
     "metadata": {},
     "output_type": "execute_result"
    }
   ],
   "source": [
    "A = np.array([[7,-3],\n",
    "              [1,1]])\n",
    "detA = np.linalg.det(A)\n",
    "detA"
   ]
  },
  {
   "cell_type": "markdown",
   "id": "d714594a",
   "metadata": {},
   "source": [
    "Пример 4."
   ]
  },
  {
   "cell_type": "code",
   "execution_count": 19,
   "id": "80f7a0f1",
   "metadata": {},
   "outputs": [
    {
     "data": {
      "text/plain": [
       "array([[ 0.1,  0.3],\n",
       "       [-0.1,  0.7]])"
      ]
     },
     "execution_count": 19,
     "metadata": {},
     "output_type": "execute_result"
    }
   ],
   "source": [
    "A = np.array([[7,-3],\n",
    "              [1,1] ])\n",
    "A1 = np.linalg.inv(A)\n",
    "A1"
   ]
  },
  {
   "cell_type": "markdown",
   "id": "cf110b70",
   "metadata": {},
   "source": [
    "### Матрицы в библиотеке sympy"
   ]
  },
  {
   "cell_type": "code",
   "execution_count": 20,
   "id": "dfb63fcb",
   "metadata": {},
   "outputs": [],
   "source": [
    "''' Подключение функций библиотеки '''\n",
    "from sympy import *"
   ]
  },
  {
   "cell_type": "markdown",
   "id": "502e2e6b",
   "metadata": {},
   "source": [
    "Создание матрицы\n"
   ]
  },
  {
   "cell_type": "code",
   "execution_count": 21,
   "id": "7eae3f19",
   "metadata": {},
   "outputs": [
    {
     "data": {
      "text/latex": [
       "$\\displaystyle \\left[\\begin{matrix}1 & 2 & 3\\\\0 & -1 & 1\\end{matrix}\\right]$"
      ],
      "text/plain": [
       "Matrix([\n",
       "[1,  2, 3],\n",
       "[0, -1, 1]])"
      ]
     },
     "execution_count": 21,
     "metadata": {},
     "output_type": "execute_result"
    }
   ],
   "source": [
    "а = Matrix([[1,2,3], [0,-1, 1]])\n",
    "а\n"
   ]
  },
  {
   "cell_type": "markdown",
   "id": "696f2c01",
   "metadata": {},
   "source": [
    "Может содержать символы - переменные:"
   ]
  },
  {
   "cell_type": "code",
   "execution_count": 22,
   "id": "62d7bdbd",
   "metadata": {},
   "outputs": [
    {
     "data": {
      "text/latex": [
       "$\\displaystyle \\left[\\begin{matrix}1 & x\\\\у & z\\end{matrix}\\right]$"
      ],
      "text/plain": [
       "Matrix([\n",
       "[1, x],\n",
       "[у, z]])"
      ]
     },
     "execution_count": 22,
     "metadata": {},
     "output_type": "execute_result"
    }
   ],
   "source": [
    "x,y,z = symbols('x у z')\n",
    "v = Matrix([[1,x],[y,z]])\n",
    "v\n"
   ]
  },
  {
   "cell_type": "code",
   "execution_count": 23,
   "id": "d213800d",
   "metadata": {},
   "outputs": [
    {
     "data": {
      "text/latex": [
       "$\\displaystyle \\left[\\begin{matrix}1 & 0 & 0\\\\0 & 1 & 0\\\\0 & 0 & 1\\end{matrix}\\right]$"
      ],
      "text/plain": [
       "Matrix([\n",
       "[1, 0, 0],\n",
       "[0, 1, 0],\n",
       "[0, 0, 1]])"
      ]
     },
     "execution_count": 23,
     "metadata": {},
     "output_type": "execute_result"
    }
   ],
   "source": [
    "''' Создание единичной матрицы '''\n",
    "eye(3)"
   ]
  },
  {
   "cell_type": "code",
   "execution_count": 24,
   "id": "f1bd04fc",
   "metadata": {},
   "outputs": [
    {
     "data": {
      "text/latex": [
       "$\\displaystyle \\left[\\begin{matrix}0 & 0 & 0\\\\0 & 0 & 0\\end{matrix}\\right]$"
      ],
      "text/plain": [
       "Matrix([\n",
       "[0, 0, 0],\n",
       "[0, 0, 0]])"
      ]
     },
     "execution_count": 24,
     "metadata": {},
     "output_type": "execute_result"
    }
   ],
   "source": [
    "''' Создание нулевой матрицы '''\n",
    "zeros(2,3)"
   ]
  },
  {
   "cell_type": "code",
   "execution_count": 25,
   "id": "aef29ec3",
   "metadata": {},
   "outputs": [
    {
     "data": {
      "text/latex": [
       "$\\displaystyle \\left[\\begin{matrix}1 & 1\\\\1 & 1\\\\1 & 1\\end{matrix}\\right]$"
      ],
      "text/plain": [
       "Matrix([\n",
       "[1, 1],\n",
       "[1, 1],\n",
       "[1, 1]])"
      ]
     },
     "execution_count": 25,
     "metadata": {},
     "output_type": "execute_result"
    }
   ],
   "source": [
    "'''Создание матрицы, все элементы которой равны 1'''\n",
    "ones(3,2)"
   ]
  },
  {
   "cell_type": "code",
   "execution_count": 26,
   "id": "df23c336",
   "metadata": {},
   "outputs": [
    {
     "data": {
      "text/latex": [
       "$\\displaystyle \\left[\\begin{matrix}1 & 0 & 0\\\\0 & 5 & 0\\\\0 & 0 & -2\\end{matrix}\\right]$"
      ],
      "text/plain": [
       "Matrix([\n",
       "[1, 0,  0],\n",
       "[0, 5,  0],\n",
       "[0, 0, -2]])"
      ]
     },
     "execution_count": 26,
     "metadata": {},
     "output_type": "execute_result"
    }
   ],
   "source": [
    "''' Создание диагональной матрицы '''\n",
    "diag(1,5,-2)"
   ]
  },
  {
   "cell_type": "code",
   "execution_count": 27,
   "id": "d57e6f6c",
   "metadata": {},
   "outputs": [
    {
     "data": {
      "text/latex": [
       "$\\displaystyle \\left[\\begin{matrix}-1 & 0 & 0 & 0\\\\0 & 1 & 1 & 0\\\\0 & 1 & 1 & 0\\\\0 & 0 & 0 & 5\\\\0 & 0 & 0 & 7\\\\0 & 0 & 0 & 5\\end{matrix}\\right]$"
      ],
      "text/plain": [
       "Matrix([\n",
       "[-1, 0, 0, 0],\n",
       "[ 0, 1, 1, 0],\n",
       "[ 0, 1, 1, 0],\n",
       "[ 0, 0, 0, 5],\n",
       "[ 0, 0, 0, 7],\n",
       "[ 0, 0, 0, 5]])"
      ]
     },
     "execution_count": 27,
     "metadata": {},
     "output_type": "execute_result"
    }
   ],
   "source": [
    "''' Элементами диагонали могут быть матрицы '''\n",
    "diag(-1, ones(2, 2), Matrix([5, 7, 5]))"
   ]
  },
  {
   "cell_type": "code",
   "execution_count": 28,
   "id": "d8137f82",
   "metadata": {},
   "outputs": [
    {
     "data": {
      "text/latex": [
       "$\\displaystyle \\left[\\begin{matrix}1 & 2 & 3\\end{matrix}\\right]$"
      ],
      "text/plain": [
       "Matrix([[1, 2, 3]])"
      ]
     },
     "execution_count": 28,
     "metadata": {},
     "output_type": "execute_result"
    }
   ],
   "source": [
    "''' Матрица 1x3 (вектор-строка) '''\n",
    "А = Matrix([[1,2,3]])\n",
    "А"
   ]
  },
  {
   "cell_type": "code",
   "execution_count": 29,
   "id": "7b71f492",
   "metadata": {},
   "outputs": [
    {
     "data": {
      "text/latex": [
       "$\\displaystyle \\left[\\begin{matrix}1\\\\2\\\\3\\end{matrix}\\right]$"
      ],
      "text/plain": [
       "Matrix([\n",
       "[1],\n",
       "[2],\n",
       "[3]])"
      ]
     },
     "execution_count": 29,
     "metadata": {},
     "output_type": "execute_result"
    }
   ],
   "source": [
    "''' Матрица 3x1 (вектор-столбец)'''\n",
    "А = Matrix([[1], [2],[3]])\n",
    "А"
   ]
  },
  {
   "cell_type": "code",
   "execution_count": 30,
   "id": "d8f4c46c",
   "metadata": {},
   "outputs": [
    {
     "data": {
      "text/latex": [
       "$\\displaystyle \\left[\\begin{matrix}1\\\\2\\\\3\\end{matrix}\\right]$"
      ],
      "text/plain": [
       "Matrix([\n",
       "[1],\n",
       "[2],\n",
       "[3]])"
      ]
     },
     "execution_count": 30,
     "metadata": {},
     "output_type": "execute_result"
    }
   ],
   "source": [
    "''' Отличие от правила в модуле numpy:\n",
    "одна пара квадратных скобок приводит к созданию вектор-столбца '''\n",
    "А = Matrix([1,2,3])\n",
    "А\n"
   ]
  },
  {
   "cell_type": "markdown",
   "id": "a4ead8c4",
   "metadata": {},
   "source": [
    "Пример 5. Матрица размера 2 X 3 (2 строки, 3 столбца):"
   ]
  },
  {
   "cell_type": "code",
   "execution_count": 31,
   "id": "16fe332d",
   "metadata": {},
   "outputs": [
    {
     "data": {
      "text/plain": [
       "(2, 3)"
      ]
     },
     "execution_count": 31,
     "metadata": {},
     "output_type": "execute_result"
    }
   ],
   "source": [
    "A = Matrix([[1,2,3], [0,-1, 1]])\n",
    "A.shape"
   ]
  },
  {
   "cell_type": "markdown",
   "id": "e4fd8730",
   "metadata": {},
   "source": [
    "Пример 6. Матрица третьего порядка"
   ]
  },
  {
   "cell_type": "code",
   "execution_count": 32,
   "id": "9e6ae95c",
   "metadata": {},
   "outputs": [
    {
     "data": {
      "text/latex": [
       "$\\displaystyle \\left[\\begin{matrix}a_{11} & а_{12} & а_{13}\\\\а_{21} & a_{22} & a_{23}\\\\а_{31} & a_{32} & а_{33}\\end{matrix}\\right]$"
      ],
      "text/plain": [
       "Matrix([\n",
       "[a11, а12, а13],\n",
       "[а21, a22, a23],\n",
       "[а31, a32, а33]])"
      ]
     },
     "execution_count": 32,
     "metadata": {},
     "output_type": "execute_result"
    }
   ],
   "source": [
    "all, а12, а13, а21, а22, а23, а31, а32, аЗЗ = \\\n",
    "symbols('a11 а12 а13 а21 a22 a23 а31 a32 а33')\n",
    "А = Matrix([[all, а12, а13],\n",
    "            [а21, а22, а23],\n",
    "            [а31, а32, аЗЗ]])\n",
    "А\n"
   ]
  },
  {
   "cell_type": "code",
   "execution_count": 33,
   "id": "ca787ed5",
   "metadata": {},
   "outputs": [
    {
     "data": {
      "text/latex": [
       "$\\displaystyle а_{31}$"
      ],
      "text/plain": [
       "а31"
      ]
     },
     "execution_count": 33,
     "metadata": {},
     "output_type": "execute_result"
    }
   ],
   "source": [
    "''' Элемент в третьей строке, в первом столбце (нумерация с 0'''\n",
    "А[2,0]"
   ]
  },
  {
   "cell_type": "code",
   "execution_count": 34,
   "id": "c9635ba5",
   "metadata": {},
   "outputs": [
    {
     "data": {
      "text/latex": [
       "$\\displaystyle \\left[\\begin{matrix}а_{12}\\\\a_{22}\\\\a_{32}\\end{matrix}\\right]$"
      ],
      "text/plain": [
       "Matrix([\n",
       "[а12],\n",
       "[a22],\n",
       "[a32]])"
      ]
     },
     "execution_count": 34,
     "metadata": {},
     "output_type": "execute_result"
    }
   ],
   "source": [
    "''' Второй столбец '''\n",
    "А[:, 1:2]\n"
   ]
  },
  {
   "cell_type": "markdown",
   "id": "5cbb0e4b",
   "metadata": {},
   "source": [
    "Методы получения строки и столбца - ,row(), .col()"
   ]
  },
  {
   "cell_type": "code",
   "execution_count": 35,
   "id": "f6f9ec45",
   "metadata": {},
   "outputs": [
    {
     "data": {
      "text/latex": [
       "$\\displaystyle \\left[\\begin{matrix}1 & 2 & 3\\end{matrix}\\right]$"
      ],
      "text/plain": [
       "Matrix([[1, 2, 3]])"
      ]
     },
     "execution_count": 35,
     "metadata": {},
     "output_type": "execute_result"
    }
   ],
   "source": [
    "А = Matrix([[1,2,3],\n",
    "[4,5,6] ,\n",
    "[7,8,9] ])\n",
    "''' Первая строка '''\n",
    "A.row(0)"
   ]
  },
  {
   "cell_type": "code",
   "execution_count": 36,
   "id": "a151049b",
   "metadata": {},
   "outputs": [
    {
     "data": {
      "text/latex": [
       "$\\displaystyle \\left[\\begin{matrix}2\\\\5\\\\8\\end{matrix}\\right]$"
      ],
      "text/plain": [
       "Matrix([\n",
       "[2],\n",
       "[5],\n",
       "[8]])"
      ]
     },
     "execution_count": 36,
     "metadata": {},
     "output_type": "execute_result"
    }
   ],
   "source": [
    "''' Второй столбец '''\n",
    "А.col(1)\n"
   ]
  },
  {
   "cell_type": "markdown",
   "id": "875d30f6",
   "metadata": {},
   "source": [
    "Пример 7"
   ]
  },
  {
   "cell_type": "code",
   "execution_count": 37,
   "id": "32db1f03",
   "metadata": {},
   "outputs": [
    {
     "data": {
      "text/latex": [
       "$\\displaystyle \\left[\\begin{matrix}1 & 2 & 3\\\\4 & 5 & 6\\\\7 & 8 & 9\\end{matrix}\\right]$"
      ],
      "text/plain": [
       "Matrix([\n",
       "[1, 2, 3],\n",
       "[4, 5, 6],\n",
       "[7, 8, 9]])"
      ]
     },
     "execution_count": 37,
     "metadata": {},
     "output_type": "execute_result"
    }
   ],
   "source": [
    "A = Matrix([[1,2,3],\n",
    "            [4,5,6] ,\n",
    "            [7,8,9] ])\n",
    "A"
   ]
  },
  {
   "cell_type": "code",
   "execution_count": 38,
   "id": "5fa0c3be",
   "metadata": {},
   "outputs": [
    {
     "data": {
      "text/latex": [
       "$\\displaystyle \\left[\\begin{matrix}4 & 5 & 6\\\\7 & 8 & 9\\end{matrix}\\right]$"
      ],
      "text/plain": [
       "Matrix([\n",
       "[4, 5, 6],\n",
       "[7, 8, 9]])"
      ]
     },
     "execution_count": 38,
     "metadata": {},
     "output_type": "execute_result"
    }
   ],
   "source": [
    "A.row_del(0)\n",
    "A"
   ]
  },
  {
   "cell_type": "code",
   "execution_count": 39,
   "id": "7d8304f9",
   "metadata": {},
   "outputs": [
    {
     "data": {
      "text/latex": [
       "$\\displaystyle \\left[\\begin{matrix}4 & 6\\\\7 & 9\\end{matrix}\\right]$"
      ],
      "text/plain": [
       "Matrix([\n",
       "[4, 6],\n",
       "[7, 9]])"
      ]
     },
     "execution_count": 39,
     "metadata": {},
     "output_type": "execute_result"
    }
   ],
   "source": [
    "A.col_del(1)\n",
    "A"
   ]
  },
  {
   "cell_type": "markdown",
   "id": "c4e768ad",
   "metadata": {},
   "source": [
    "Пример 8."
   ]
  },
  {
   "cell_type": "code",
   "execution_count": 40,
   "id": "7f99a82c",
   "metadata": {},
   "outputs": [
    {
     "data": {
      "text/latex": [
       "$\\displaystyle \\left[\\begin{matrix}1 & 2 & 3\\\\4 & 5 & 6\\\\7 & 8 & 9\\end{matrix}\\right]$"
      ],
      "text/plain": [
       "Matrix([\n",
       "[1, 2, 3],\n",
       "[4, 5, 6],\n",
       "[7, 8, 9]])"
      ]
     },
     "execution_count": 40,
     "metadata": {},
     "output_type": "execute_result"
    }
   ],
   "source": [
    "B = Matrix([[1,2,3],\n",
    "            [7,8,9] ])\n",
    "A = B.row_insert(1, Matrix([[4,5,6]]))\n",
    "A"
   ]
  },
  {
   "cell_type": "code",
   "execution_count": 41,
   "id": "66a3afcc",
   "metadata": {},
   "outputs": [
    {
     "data": {
      "text/latex": [
       "$\\displaystyle \\left[\\begin{matrix}1 & 2 & 3\\\\7 & 8 & 9\\end{matrix}\\right]$"
      ],
      "text/plain": [
       "Matrix([\n",
       "[1, 2, 3],\n",
       "[7, 8, 9]])"
      ]
     },
     "execution_count": 41,
     "metadata": {},
     "output_type": "execute_result"
    }
   ],
   "source": [
    "''' Матрица В не изменилась '''\n",
    "B"
   ]
  },
  {
   "cell_type": "code",
   "execution_count": 42,
   "id": "f9f60b92",
   "metadata": {},
   "outputs": [
    {
     "data": {
      "text/latex": [
       "$\\displaystyle \\left[\\begin{matrix}1 & 2 & 3 & 4\\\\7 & 8 & 9 & 10\\end{matrix}\\right]$"
      ],
      "text/plain": [
       "Matrix([\n",
       "[1, 2, 3,  4],\n",
       "[7, 8, 9, 10]])"
      ]
     },
     "execution_count": 42,
     "metadata": {},
     "output_type": "execute_result"
    }
   ],
   "source": [
    "D = B.col_insert(3,Matrix([4,10]))\n",
    "D"
   ]
  },
  {
   "cell_type": "markdown",
   "id": "65639b0e",
   "metadata": {},
   "source": [
    "Пример 9."
   ]
  },
  {
   "cell_type": "code",
   "execution_count": 43,
   "id": "ce1fe347",
   "metadata": {},
   "outputs": [
    {
     "data": {
      "text/latex": [
       "$\\displaystyle \\left[\\begin{matrix}x у + 1 & x z + x\\\\z у + у & x у + z^{2}\\end{matrix}\\right]$"
      ],
      "text/plain": [
       "Matrix([\n",
       "[x*у + 1,    x*z + x],\n",
       "[z*у + у, x*у + z**2]])"
      ]
     },
     "execution_count": 43,
     "metadata": {},
     "output_type": "execute_result"
    }
   ],
   "source": [
    "V = Matrix([[1,x],[y,z]])\n",
    "V*V\n"
   ]
  },
  {
   "cell_type": "markdown",
   "id": "a9a169c0",
   "metadata": {},
   "source": [
    "Пример 10.\n"
   ]
  },
  {
   "cell_type": "code",
   "execution_count": 44,
   "id": "7eb48310",
   "metadata": {},
   "outputs": [
    {
     "data": {
      "text/latex": [
       "$\\displaystyle \\left[\\begin{matrix}a_{11} b_{11} + a_{12} b_{21} & a_{11} b_{12} + a_{12} b_{22}\\\\a_{21} b_{11} + a_{22} b_{21} & a_{21} b_{12} + a_{22} b_{22}\\\\a_{31} b_{11} + a_{32} b_{21} & a_{31} b_{12} + a_{32} b_{22}\\end{matrix}\\right]$"
      ],
      "text/plain": [
       "Matrix([\n",
       "[a11*b11 + a12*b21, a11*b12 + a12*b22],\n",
       "[a21*b11 + a22*b21, a21*b12 + a22*b22],\n",
       "[a31*b11 + a32*b21, a31*b12 + a32*b22]])"
      ]
     },
     "execution_count": 44,
     "metadata": {},
     "output_type": "execute_result"
    }
   ],
   "source": [
    "a11, а12, а21, а22, а31, а32, b11, b12, b21, b22 = \\\n",
    "symbols('a11 a12 a21 a22 a31 a32 b11 b12 b21 b22')\n",
    "А = Matrix([[a11, а12], [а21, а22], [а31, а32]])\n",
    "В = Matrix([[b11, b12], [b21, b22]])\n",
    "А*В\n"
   ]
  },
  {
   "cell_type": "markdown",
   "id": "19bb60e4",
   "metadata": {},
   "source": [
    "Пример 11."
   ]
  },
  {
   "cell_type": "code",
   "execution_count": 45,
   "id": "f9880920",
   "metadata": {},
   "outputs": [
    {
     "data": {
      "text/latex": [
       "$\\displaystyle \\left[\\begin{matrix}b_{11} & b_{12}\\\\b_{21} & b_{22}\\end{matrix}\\right]$"
      ],
      "text/plain": [
       "Matrix([\n",
       "[b11, b12],\n",
       "[b21, b22]])"
      ]
     },
     "execution_count": 45,
     "metadata": {},
     "output_type": "execute_result"
    }
   ],
   "source": [
    "B = Matrix( [ [b11, b12], [b21, b22]])\n",
    "B"
   ]
  },
  {
   "cell_type": "code",
   "execution_count": 46,
   "id": "2d27d5a6",
   "metadata": {},
   "outputs": [
    {
     "data": {
      "text/latex": [
       "$\\displaystyle \\left[\\begin{matrix}b_{11} & b_{21}\\\\b_{12} & b_{22}\\end{matrix}\\right]$"
      ],
      "text/plain": [
       "Matrix([\n",
       "[b11, b21],\n",
       "[b12, b22]])"
      ]
     },
     "execution_count": 46,
     "metadata": {},
     "output_type": "execute_result"
    }
   ],
   "source": [
    "B.T"
   ]
  },
  {
   "cell_type": "markdown",
   "id": "3ea59e59",
   "metadata": {},
   "source": [
    "Пример 12."
   ]
  },
  {
   "cell_type": "code",
   "execution_count": 47,
   "id": "1c7f7c4f",
   "metadata": {},
   "outputs": [
    {
     "data": {
      "text/latex": [
       "$\\displaystyle -1$"
      ],
      "text/plain": [
       "-1"
      ]
     },
     "execution_count": 47,
     "metadata": {},
     "output_type": "execute_result"
    }
   ],
   "source": [
    "D = Matrix([[0,1], [1,0]])\n",
    "det(D)"
   ]
  },
  {
   "cell_type": "markdown",
   "id": "c9f0894b",
   "metadata": {},
   "source": [
    "Пример 13."
   ]
  },
  {
   "cell_type": "code",
   "execution_count": 48,
   "id": "24704a7c",
   "metadata": {},
   "outputs": [
    {
     "data": {
      "text/latex": [
       "$\\displaystyle - x_{12} х_{21} + xll х_{22}$"
      ],
      "text/plain": [
       "-x12*х21 + xll*х22"
      ]
     },
     "execution_count": 48,
     "metadata": {},
     "output_type": "execute_result"
    }
   ],
   "source": [
    "x11, x12, x21, х22 = symbols('xll x12 х21 х22')\n",
    "X = Matrix([[x11, x12], [x21, х22]])\n",
    "det(X)"
   ]
  },
  {
   "cell_type": "code",
   "execution_count": 49,
   "id": "f85e3d7c",
   "metadata": {},
   "outputs": [
    {
     "data": {
      "text/latex": [
       "$\\displaystyle y_{11} y_{22} y_{33} - y_{11} y_{23} y_{32} - y_{12} y_{21} y_{33} + y_{12} y_{23} y_{31} + y_{13} y_{21} y_{32} - y_{13} y_{22} y_{31}$"
      ],
      "text/plain": [
       "y11*y22*y33 - y11*y23*y32 - y12*y21*y33 + y12*y23*y31 + y13*y21*y32 - y13*y22*y31"
      ]
     },
     "execution_count": 49,
     "metadata": {},
     "output_type": "execute_result"
    }
   ],
   "source": [
    "y11, y12, y13, y21, y22, y23, y31, y32, yЗЗ = \\\n",
    "symbols('y11 y12 y13 y21 y22 y23 y31 y32 y33')\n",
    "Y = Matrix([[y11, y12, y13], [y21, y22, y23], [y31, y32, yЗЗ]])\n",
    "det(Y)"
   ]
  },
  {
   "cell_type": "markdown",
   "id": "76ad2b19",
   "metadata": {},
   "source": [
    "Пример 14.\n"
   ]
  },
  {
   "cell_type": "code",
   "execution_count": 50,
   "id": "7903e744",
   "metadata": {},
   "outputs": [
    {
     "data": {
      "text/latex": [
       "$\\displaystyle \\left[\\begin{matrix}\\frac{3}{10} & - \\frac{9}{10} & - \\frac{7}{5}\\\\- \\frac{2}{5} & \\frac{1}{5} & \\frac{6}{5}\\\\\\frac{1}{10} & - \\frac{3}{10} & - \\frac{4}{5}\\end{matrix}\\right]$"
      ],
      "text/plain": [
       "Matrix([\n",
       "[3/10, -9/10, -7/5],\n",
       "[-2/5,   1/5,  6/5],\n",
       "[1/10, -3/10, -4/5]])"
      ]
     },
     "execution_count": 50,
     "metadata": {},
     "output_type": "execute_result"
    }
   ],
   "source": [
    "A = Matrix( [[ 2,-3,-8],\n",
    "             [-2,-1, 2],\n",
    "             [ 1, 0,-3]] )\n",
    "A.inv()"
   ]
  },
  {
   "cell_type": "code",
   "execution_count": 51,
   "id": "dc704a8b",
   "metadata": {},
   "outputs": [
    {
     "data": {
      "text/latex": [
       "$\\displaystyle \\left[\\begin{matrix}\\frac{x_{22}}{x_{11} x_{22} - x_{12} x_{21}} & - \\frac{x_{12}}{x_{11} x_{22} - x_{12} x_{21}}\\\\- \\frac{x_{21}}{x_{11} x_{22} - x_{12} x_{21}} & \\frac{x_{11}}{x_{11} x_{22} - x_{12} x_{21}}\\end{matrix}\\right]$"
      ],
      "text/plain": [
       "Matrix([\n",
       "[ x22/(x11*x22 - x12*x21), -x12/(x11*x22 - x12*x21)],\n",
       "[-x21/(x11*x22 - x12*x21),  x11/(x11*x22 - x12*x21)]])"
      ]
     },
     "execution_count": 51,
     "metadata": {},
     "output_type": "execute_result"
    }
   ],
   "source": [
    "x11, x12, x21, x22 = symbols('x11 x12 x21 x22')\n",
    "X = Matrix([[x11, x12], [x21, x22]])\n",
    "X.inv()"
   ]
  },
  {
   "cell_type": "code",
   "execution_count": 52,
   "id": "d963b26f",
   "metadata": {},
   "outputs": [
    {
     "data": {
      "text/latex": [
       "$\\displaystyle \\left[\\begin{matrix}\\frac{3}{10} & - \\frac{9}{10} & - \\frac{7}{5}\\\\- \\frac{2}{5} & \\frac{1}{5} & \\frac{6}{5}\\\\\\frac{1}{10} & - \\frac{3}{10} & - \\frac{4}{5}\\end{matrix}\\right]$"
      ],
      "text/plain": [
       "Matrix([\n",
       "[3/10, -9/10, -7/5],\n",
       "[-2/5,   1/5,  6/5],\n",
       "[1/10, -3/10, -4/5]])"
      ]
     },
     "execution_count": 52,
     "metadata": {},
     "output_type": "execute_result"
    }
   ],
   "source": [
    "А = Matrix( [[ 2,-3,-8],\n",
    "             [-2,-1, 2],\n",
    "             [ 1, 0,-3]] )\n",
    "А**-1"
   ]
  },
  {
   "cell_type": "markdown",
   "id": "15d49b65",
   "metadata": {},
   "source": [
    "Пример 15."
   ]
  },
  {
   "cell_type": "code",
   "execution_count": 53,
   "id": "82ddd242",
   "metadata": {},
   "outputs": [
    {
     "data": {
      "text/plain": [
       "4"
      ]
     },
     "execution_count": 53,
     "metadata": {},
     "output_type": "execute_result"
    }
   ],
   "source": [
    "A = Matrix([[2,4,5,6,0,4],\n",
    "            [8,-2,0,2,4,-2],\n",
    "            [6,-6,-5,-4,4,-6],\n",
    "            [-4,0,2,-2,2,0],\n",
    "            [-2,-4,-5,-6,0,-4],\n",
    "            [0,1,0,1,0,1]])\n",
    "A.rank()"
   ]
  },
  {
   "cell_type": "markdown",
   "id": "5ed5f52c",
   "metadata": {},
   "source": [
    "Пример 16."
   ]
  },
  {
   "cell_type": "code",
   "execution_count": 54,
   "id": "e7dbc102",
   "metadata": {},
   "outputs": [
    {
     "data": {
      "text/plain": [
       "3"
      ]
     },
     "execution_count": 54,
     "metadata": {},
     "output_type": "execute_result"
    }
   ],
   "source": [
    "a = Matrix([[1,3,4,5,0],\n",
    "            [4,-1,0,1,2],\n",
    "            [3,2,5,5,3],\n",
    "            [-2,0,1,-1,1],\n",
    "            [4,6,7,11,-1]])\n",
    "a.rank()"
   ]
  },
  {
   "cell_type": "markdown",
   "id": "439ab051",
   "metadata": {},
   "source": [
    "Пример 17."
   ]
  },
  {
   "cell_type": "code",
   "execution_count": 55,
   "id": "1798cacf",
   "metadata": {},
   "outputs": [
    {
     "data": {
      "text/latex": [
       "$\\displaystyle \\left[\\begin{matrix}1 & 3 & 4\\\\4 & -1 & 0\\\\3 & 2 & 5\\\\-2 & 0 & 11\\\\4 & 6 & 7\\end{matrix}\\right]$"
      ],
      "text/plain": [
       "Matrix([\n",
       "[ 1,  3,  4],\n",
       "[ 4, -1,  0],\n",
       "[ 3,  2,  5],\n",
       "[-2,  0, 11],\n",
       "[ 4,  6,  7]])"
      ]
     },
     "execution_count": 55,
     "metadata": {},
     "output_type": "execute_result"
    }
   ],
   "source": [
    "A = Matrix([[1,3,4],\n",
    "            [4,-1,0],\n",
    "            [3,2,5],\n",
    "            [-2,0,11],\n",
    "            [4,6,7]])\n",
    "A"
   ]
  },
  {
   "cell_type": "code",
   "execution_count": 56,
   "id": "e1876eb8",
   "metadata": {},
   "outputs": [
    {
     "data": {
      "text/plain": [
       "[Matrix([\n",
       " [1],\n",
       " [3],\n",
       " [4]]),\n",
       " Matrix([\n",
       " [ 4],\n",
       " [-1],\n",
       " [ 0]]),\n",
       " Matrix([\n",
       " [3],\n",
       " [2],\n",
       " [5]])]"
      ]
     },
     "execution_count": 56,
     "metadata": {},
     "output_type": "execute_result"
    }
   ],
   "source": [
    "A.T.columnspace()"
   ]
  },
  {
   "cell_type": "code",
   "execution_count": 57,
   "id": "881e2ada",
   "metadata": {},
   "outputs": [
    {
     "data": {
      "text/plain": [
       "(0, 1, 2)"
      ]
     },
     "execution_count": 57,
     "metadata": {},
     "output_type": "execute_result"
    }
   ],
   "source": [
    "A.T.rref()[1]"
   ]
  },
  {
   "cell_type": "markdown",
   "id": "31faacde",
   "metadata": {},
   "source": [
    "Пример 18. "
   ]
  },
  {
   "cell_type": "code",
   "execution_count": 58,
   "id": "058ec428",
   "metadata": {},
   "outputs": [
    {
     "data": {
      "text/latex": [
       "$\\displaystyle 579$"
      ],
      "text/plain": [
       "579"
      ]
     },
     "execution_count": 58,
     "metadata": {},
     "output_type": "execute_result"
    }
   ],
   "source": [
    "A = Matrix([[1,0,-3,9],\n",
    "[2,-7,11,5],\n",
    "[-9,4,25,84],\n",
    "[3,12,-5,58]])\n",
    "''' Матрица после удаления 3-й строки и 2-го столбца'''\n",
    "M = Matrix([[1,-3,9], [2,11,5], [3,-5,58]])\n",
    "''' Определитель '''\n",
    "det(M)\n"
   ]
  },
  {
   "cell_type": "markdown",
   "id": "dde48916",
   "metadata": {},
   "source": [
    "Пример 19."
   ]
  },
  {
   "cell_type": "code",
   "execution_count": 59,
   "id": "886c7f4e",
   "metadata": {},
   "outputs": [
    {
     "data": {
      "text/latex": [
       "$\\displaystyle -579$"
      ],
      "text/plain": [
       "-579"
      ]
     },
     "execution_count": 59,
     "metadata": {},
     "output_type": "execute_result"
    }
   ],
   "source": [
    "А = Matrix([[1,0,-3,9],\n",
    "            [2,-7,11,5],\n",
    "            [-9,4,25,84],\n",
    "            [3,12,-5,58]])\n",
    "Algebr_compl(А, 3,2)"
   ]
  },
  {
   "cell_type": "markdown",
   "id": "d2671f9e",
   "metadata": {},
   "source": [
    "Пример 20."
   ]
  },
  {
   "cell_type": "code",
   "execution_count": 60,
   "id": "2468a0d9",
   "metadata": {},
   "outputs": [
    {
     "data": {
      "text/latex": [
       "$\\displaystyle -477$"
      ],
      "text/plain": [
       "-477"
      ]
     },
     "execution_count": 60,
     "metadata": {},
     "output_type": "execute_result"
    }
   ],
   "source": [
    "A = Matrix([[1,0,-3,9],\n",
    "            [2,-7,11,5],\n",
    "            [-9,4,25,84],\n",
    "            [3,12,-5,58]])\n",
    "Row = [1,3]\n",
    "Col = [3,4]\n",
    "Minor_Matrix(A,Row,Col)"
   ]
  },
  {
   "cell_type": "markdown",
   "id": "80a18dc0",
   "metadata": {},
   "source": [
    "Пример 21. "
   ]
  },
  {
   "cell_type": "code",
   "execution_count": 61,
   "id": "c07ed599",
   "metadata": {},
   "outputs": [
    {
     "data": {
      "text/latex": [
       "$\\displaystyle \\left[\\begin{matrix}1 & 3 & 2 & 4 & 5\\\\0 & 0 & -1 & 2 & 7\\\\3 & 9 & 6 & 12 & 15\\\\5 & 15 & 9 & 26 & 22\\\\1 & 3 & 1 & 10 & 2\\end{matrix}\\right]$"
      ],
      "text/plain": [
       "Matrix([\n",
       "[1,  3,  2,  4,  5],\n",
       "[0,  0, -1,  2,  7],\n",
       "[3,  9,  6, 12, 15],\n",
       "[5, 15,  9, 26, 22],\n",
       "[1,  3,  1, 10,  2]])"
      ]
     },
     "execution_count": 61,
     "metadata": {},
     "output_type": "execute_result"
    }
   ],
   "source": [
    "A = Matrix([[1,3,2,4,5],\n",
    "[0,0,-1,2,7],\n",
    "[3,9,6,12,15],\n",
    "[5,15,9,26,22],\n",
    "[1,3,1,10,2]])\n",
    "A"
   ]
  },
  {
   "cell_type": "code",
   "execution_count": 62,
   "id": "8b24dd5c",
   "metadata": {},
   "outputs": [
    {
     "data": {
      "text/plain": [
       "3"
      ]
     },
     "execution_count": 62,
     "metadata": {},
     "output_type": "execute_result"
    }
   ],
   "source": [
    "A.rank()"
   ]
  },
  {
   "cell_type": "markdown",
   "id": "92306435",
   "metadata": {},
   "source": [
    "### Системы линейных уравнений\n"
   ]
  },
  {
   "cell_type": "markdown",
   "id": "8e09b1c6",
   "metadata": {},
   "source": [
    "Пример 22."
   ]
  },
  {
   "cell_type": "code",
   "execution_count": 63,
   "id": "b6cef798",
   "metadata": {},
   "outputs": [
    {
     "data": {
      "text/plain": [
       "array([ 2., -2.,  9.])"
      ]
     },
     "execution_count": 63,
     "metadata": {},
     "output_type": "execute_result"
    }
   ],
   "source": [
    "A = np.array([[3, 2, 0],\n",
    "[1, -1, 0],\n",
    "[0, 5, 1]])\n",
    "b = np.array([2, 4, -1])\n",
    "u = np.linalg.solve(A,b)\n",
    "u"
   ]
  },
  {
   "cell_type": "code",
   "execution_count": 64,
   "id": "09fb9bb8",
   "metadata": {},
   "outputs": [
    {
     "data": {
      "text/plain": [
       "array([ True,  True,  True])"
      ]
     },
     "execution_count": 64,
     "metadata": {},
     "output_type": "execute_result"
    }
   ],
   "source": [
    "np.dot(A, u) == b"
   ]
  },
  {
   "cell_type": "markdown",
   "id": "0decdd67",
   "metadata": {},
   "source": [
    "Пример 23."
   ]
  },
  {
   "cell_type": "code",
   "execution_count": 65,
   "id": "9135829b",
   "metadata": {},
   "outputs": [
    {
     "data": {
      "text/latex": [
       "$\\displaystyle \\left[\\begin{matrix}2\\\\-2\\\\9\\end{matrix}\\right]$"
      ],
      "text/plain": [
       "Matrix([\n",
       "[ 2],\n",
       "[-2],\n",
       "[ 9]])"
      ]
     },
     "execution_count": 65,
     "metadata": {},
     "output_type": "execute_result"
    }
   ],
   "source": [
    "A = Matrix([[3, 2, 0],\n",
    "[1, -1, 0],\n",
    "[0, 5, 1]])\n",
    "b = Matrix([2, 4, -1])\n",
    "x = A.inv()*b\n",
    "x"
   ]
  },
  {
   "cell_type": "markdown",
   "id": "1353a843",
   "metadata": {},
   "source": [
    "### Разложение вектора по системе векторов"
   ]
  },
  {
   "cell_type": "markdown",
   "id": "f5d36ba0",
   "metadata": {},
   "source": [
    "Пример 24."
   ]
  },
  {
   "cell_type": "code",
   "execution_count": 66,
   "id": "d4a5eef3",
   "metadata": {},
   "outputs": [
    {
     "data": {
      "text/latex": [
       "$\\displaystyle \\left[\\begin{matrix}\\frac{1}{2}\\\\1\\end{matrix}\\right]$"
      ],
      "text/plain": [
       "Matrix([\n",
       "[1/2],\n",
       "[  1]])"
      ]
     },
     "execution_count": 66,
     "metadata": {},
     "output_type": "execute_result"
    }
   ],
   "source": [
    "F = Matrix([[2,-1],\n",
    "            [6,2]])\n",
    "a = Matrix([0,5])\n",
    "x = F.inv()*a\n",
    "x"
   ]
  },
  {
   "cell_type": "markdown",
   "id": "87c72e6e",
   "metadata": {},
   "source": [
    "### Линейные системы уравнений произвольного вида. Общее решение системы"
   ]
  },
  {
   "cell_type": "markdown",
   "id": "df1e3981",
   "metadata": {},
   "source": [
    "Пример 25."
   ]
  },
  {
   "cell_type": "code",
   "execution_count": 67,
   "id": "31fa12e1",
   "metadata": {},
   "outputs": [
    {
     "data": {
      "text/plain": [
       "2"
      ]
     },
     "execution_count": 67,
     "metadata": {},
     "output_type": "execute_result"
    }
   ],
   "source": [
    "A = Matrix([[1,1,3],\n",
    "[2,-1,9]])\n",
    "A.rank()"
   ]
  },
  {
   "cell_type": "code",
   "execution_count": 68,
   "id": "1b7cd316",
   "metadata": {},
   "outputs": [
    {
     "data": {
      "text/latex": [
       "$\\displaystyle \\left\\{\\left( 16 - 4 x_{3}, \\  x_{3} + 2\\right)\\right\\}$"
      ],
      "text/plain": [
       "{(16 - 4*x3, x3 + 2)}"
      ]
     },
     "execution_count": 68,
     "metadata": {},
     "output_type": "execute_result"
    }
   ],
   "source": [
    "x1,x2,x3 = symbols('xl x2 x3')\n",
    "\n",
    "y1 = x1 + x2 + 3*x3 - 18\n",
    "y2 = 2*x1 - x2 + 9*x3 - 30\n",
    "\n",
    "linsolve([y1,y2], [x1,x2])"
   ]
  },
  {
   "cell_type": "code",
   "execution_count": 69,
   "id": "d87aa24b",
   "metadata": {},
   "outputs": [
    {
     "data": {
      "text/plain": [
       "(Matrix([\n",
       " [1, 0,  4, 16],\n",
       " [0, 1, -1,  2]]),\n",
       " (0, 1))"
      ]
     },
     "execution_count": 69,
     "metadata": {},
     "output_type": "execute_result"
    }
   ],
   "source": [
    "A = Matrix([[1, 1, 3, 18],\n",
    "[2, -1, 9, 30]])\n",
    "A.rref()"
   ]
  },
  {
   "cell_type": "code",
   "execution_count": 70,
   "id": "06f508ca",
   "metadata": {},
   "outputs": [
    {
     "data": {
      "text/latex": [
       "$\\displaystyle \\left[\\begin{matrix}1 & 0 & 4 & 16\\\\0 & 1 & -1 & 2\\end{matrix}\\right]$"
      ],
      "text/plain": [
       "Matrix([\n",
       "[1, 0,  4, 16],\n",
       "[0, 1, -1,  2]])"
      ]
     },
     "execution_count": 70,
     "metadata": {},
     "output_type": "execute_result"
    }
   ],
   "source": [
    "rref_matrix, rref_pivots = A.rref()\n",
    "rref_matrix"
   ]
  },
  {
   "cell_type": "code",
   "execution_count": 71,
   "id": "244123ab",
   "metadata": {},
   "outputs": [
    {
     "data": {
      "text/plain": [
       "(0, 1)"
      ]
     },
     "execution_count": 71,
     "metadata": {},
     "output_type": "execute_result"
    }
   ],
   "source": [
    "rref_pivots"
   ]
  },
  {
   "cell_type": "markdown",
   "id": "9c799f6e",
   "metadata": {},
   "source": [
    "Пример 26."
   ]
  },
  {
   "cell_type": "code",
   "execution_count": 72,
   "id": "191d2f5b",
   "metadata": {},
   "outputs": [
    {
     "data": {
      "text/plain": [
       "2"
      ]
     },
     "execution_count": 72,
     "metadata": {},
     "output_type": "execute_result"
    }
   ],
   "source": [
    "A = Matrix([[1,-2,4],\n",
    "[1,-2,1],\n",
    "[-3,6,-12]])\n",
    "A.rank()"
   ]
  },
  {
   "cell_type": "code",
   "execution_count": 73,
   "id": "885ad2b0",
   "metadata": {},
   "outputs": [
    {
     "data": {
      "text/plain": [
       "2"
      ]
     },
     "execution_count": 73,
     "metadata": {},
     "output_type": "execute_result"
    }
   ],
   "source": [
    "Ab = Matrix([[1,-2,4,6],\n",
    "[1,-2,1,4],\n",
    "[-3,6,-12,-18]])\n",
    "A.rank()"
   ]
  },
  {
   "cell_type": "code",
   "execution_count": 74,
   "id": "99673a06",
   "metadata": {},
   "outputs": [
    {
     "data": {
      "text/latex": [
       "$\\displaystyle \\left[\\begin{matrix}1 & -2 & 0 & \\frac{10}{3}\\\\0 & 0 & 1 & \\frac{2}{3}\\\\0 & 0 & 0 & 0\\end{matrix}\\right]$"
      ],
      "text/plain": [
       "Matrix([\n",
       "[1, -2, 0, 10/3],\n",
       "[0,  0, 1,  2/3],\n",
       "[0,  0, 0,    0]])"
      ]
     },
     "execution_count": 74,
     "metadata": {},
     "output_type": "execute_result"
    }
   ],
   "source": [
    "A = Matrix([[1,-2,4,6],\n",
    "[1,-2,1,4],\n",
    "[-3,6,-12,-18]])\n",
    "rref_matrix, rref_pivots = A.rref()\n",
    "rref_matrix"
   ]
  },
  {
   "cell_type": "code",
   "execution_count": 75,
   "id": "d71c05c2",
   "metadata": {},
   "outputs": [
    {
     "data": {
      "text/plain": [
       "(0, 2)"
      ]
     },
     "execution_count": 75,
     "metadata": {},
     "output_type": "execute_result"
    }
   ],
   "source": [
    "rref_pivots"
   ]
  },
  {
   "cell_type": "markdown",
   "id": "d194e3af",
   "metadata": {},
   "source": [
    "Пример 27."
   ]
  },
  {
   "cell_type": "code",
   "execution_count": 76,
   "id": "f48821da",
   "metadata": {},
   "outputs": [
    {
     "data": {
      "text/latex": [
       "$\\displaystyle \\left[\\begin{matrix}1 & 2 & 3\\\\4 & 5 & 6\\\\7 & 8 & 10\\end{matrix}\\right]$"
      ],
      "text/plain": [
       "Matrix([\n",
       "[1, 2,  3],\n",
       "[4, 5,  6],\n",
       "[7, 8, 10]])"
      ]
     },
     "execution_count": 76,
     "metadata": {},
     "output_type": "execute_result"
    }
   ],
   "source": [
    "x, y, z = symbols('x, y, z')\n",
    "A = Matrix([[1, 2, 3], [4, 5, 6], [7, 8, 10]])\n",
    "b = Matrix([3, 6, 9])\n",
    "A"
   ]
  },
  {
   "cell_type": "code",
   "execution_count": 77,
   "id": "725509b8",
   "metadata": {},
   "outputs": [
    {
     "data": {
      "text/latex": [
       "$\\displaystyle \\left[\\begin{matrix}3\\\\6\\\\9\\end{matrix}\\right]$"
      ],
      "text/plain": [
       "Matrix([\n",
       "[3],\n",
       "[6],\n",
       "[9]])"
      ]
     },
     "execution_count": 77,
     "metadata": {},
     "output_type": "execute_result"
    }
   ],
   "source": [
    "b"
   ]
  },
  {
   "cell_type": "code",
   "execution_count": 78,
   "id": "50af2912",
   "metadata": {},
   "outputs": [
    {
     "data": {
      "text/latex": [
       "$\\displaystyle \\left\\{\\left( -1, \\  2, \\  0\\right)\\right\\}$"
      ],
      "text/plain": [
       "{(-1, 2, 0)}"
      ]
     },
     "execution_count": 78,
     "metadata": {},
     "output_type": "execute_result"
    }
   ],
   "source": [
    "linsolve((A, b), [x, y, z])"
   ]
  },
  {
   "cell_type": "markdown",
   "id": "62b716d5",
   "metadata": {},
   "source": [
    "Пример 28."
   ]
  },
  {
   "cell_type": "code",
   "execution_count": 79,
   "id": "b2aa7041",
   "metadata": {},
   "outputs": [
    {
     "data": {
      "text/latex": [
       "$\\displaystyle \\left\\{\\left( z - 1, \\  2 - 2 z, \\  z\\right)\\right\\}$"
      ],
      "text/plain": [
       "{(z - 1, 2 - 2*z, z)}"
      ]
     },
     "execution_count": 79,
     "metadata": {},
     "output_type": "execute_result"
    }
   ],
   "source": [
    "A = Matrix([[1, 2, 3],\n",
    "[4, 5, 6],\n",
    "[7, 8, 9]])\n",
    "b = Matrix([3, 6, 9])\n",
    "linsolve((A, b), x, y, z)"
   ]
  },
  {
   "cell_type": "code",
   "execution_count": 80,
   "id": "c4c80c71",
   "metadata": {},
   "outputs": [
    {
     "data": {
      "text/latex": [
       "$\\displaystyle \\left\\{\\left( \\tau_{0} - 1, \\  2 - 2 \\tau_{0}, \\  \\tau_{0}\\right)\\right\\}$"
      ],
      "text/plain": [
       "{(tau0 - 1, 2 - 2*tau0, tau0)}"
      ]
     },
     "execution_count": 80,
     "metadata": {},
     "output_type": "execute_result"
    }
   ],
   "source": [
    "linsolve((A, b))"
   ]
  },
  {
   "cell_type": "markdown",
   "id": "06477621",
   "metadata": {},
   "source": [
    "Пример 29."
   ]
  },
  {
   "cell_type": "code",
   "execution_count": 81,
   "id": "5f923aff",
   "metadata": {},
   "outputs": [
    {
     "data": {
      "text/latex": [
       "$\\displaystyle \\left\\{\\left( 1, \\  -2, \\  -2\\right)\\right\\}$"
      ],
      "text/plain": [
       "{(1, -2, -2)}"
      ]
     },
     "execution_count": 81,
     "metadata": {},
     "output_type": "execute_result"
    }
   ],
   "source": [
    "Eqns = [3*x + 2*y - z - 1, 2*x - 2*y + 4*z + 2, -x + y/2 - z]\n",
    "linsolve(Eqns, x, y, z)"
   ]
  },
  {
   "cell_type": "markdown",
   "id": "60ee5eda",
   "metadata": {},
   "source": [
    "Пример 30."
   ]
  },
  {
   "cell_type": "code",
   "execution_count": 82,
   "id": "d57b85d3",
   "metadata": {},
   "outputs": [
    {
     "data": {
      "text/latex": [
       "$\\displaystyle \\left\\{\\left( \\frac{3}{10}, \\  \\frac{2}{5}, \\  0\\right)\\right\\}$"
      ],
      "text/plain": [
       "{(3/10, 2/5, 0)}"
      ]
     },
     "execution_count": 82,
     "metadata": {},
     "output_type": "execute_result"
    }
   ],
   "source": [
    "A = Matrix([[2, 1, 3, 1],\n",
    "[2, 6, 8, 3],\n",
    "[6, 8, 18, 5]])\n",
    "linsolve(A, x, y, z)"
   ]
  },
  {
   "cell_type": "markdown",
   "id": "81becab2",
   "metadata": {},
   "source": [
    "Пример 31."
   ]
  },
  {
   "cell_type": "code",
   "execution_count": 83,
   "id": "7155ac5d",
   "metadata": {},
   "outputs": [
    {
     "data": {
      "text/latex": [
       "$\\displaystyle \\left\\{\\left( \\frac{- b f + c e}{a e - b d}, \\  \\frac{a f - c d}{a e - b d}\\right)\\right\\}$"
      ],
      "text/plain": [
       "{((-b*f + c*e)/(a*e - b*d), (a*f - c*d)/(a*e - b*d))}"
      ]
     },
     "execution_count": 83,
     "metadata": {},
     "output_type": "execute_result"
    }
   ],
   "source": [
    "a, b, c, d, e, f = symbols('a b c d e f')\n",
    "eqns = [a*x + b*y - c, d*x + e*y - f]\n",
    "linsolve(eqns, x, y)"
   ]
  },
  {
   "cell_type": "markdown",
   "id": "41d95fd9",
   "metadata": {},
   "source": [
    "### Однородные системы уравнений"
   ]
  },
  {
   "cell_type": "markdown",
   "id": "37c2529b",
   "metadata": {},
   "source": [
    "Пример 32. "
   ]
  },
  {
   "cell_type": "code",
   "execution_count": 84,
   "id": "6925ebfc",
   "metadata": {},
   "outputs": [
    {
     "data": {
      "text/plain": [
       "3"
      ]
     },
     "execution_count": 84,
     "metadata": {},
     "output_type": "execute_result"
    }
   ],
   "source": [
    "А = Matrix([[1,-1,2],\n",
    "[2,1,-3],\n",
    "[3,0,2]])\n",
    "''' Ранг матрицы системы '''\n",
    "A.rank()"
   ]
  },
  {
   "cell_type": "markdown",
   "id": "b58746c0",
   "metadata": {},
   "source": [
    "Пример 33."
   ]
  },
  {
   "cell_type": "code",
   "execution_count": 85,
   "id": "ba9e78d7",
   "metadata": {},
   "outputs": [
    {
     "data": {
      "text/plain": [
       "2"
      ]
     },
     "execution_count": 85,
     "metadata": {},
     "output_type": "execute_result"
    }
   ],
   "source": [
    "A = Matrix([[1,2,3],\n",
    "[4,5,6],\n",
    "[7,8,9]])\n",
    "\n",
    "A.rank()"
   ]
  },
  {
   "cell_type": "code",
   "execution_count": 86,
   "id": "9f781417",
   "metadata": {},
   "outputs": [
    {
     "data": {
      "text/plain": [
       "[Matrix([\n",
       " [ 1],\n",
       " [-2],\n",
       " [ 1]])]"
      ]
     },
     "execution_count": 86,
     "metadata": {},
     "output_type": "execute_result"
    }
   ],
   "source": [
    "A = Matrix( [[1,2,3],\n",
    "[4,5,6],\n",
    "[7,8,9]])\n",
    "A.nullspace()\n"
   ]
  },
  {
   "cell_type": "markdown",
   "id": "61e20346",
   "metadata": {},
   "source": [
    "Пример 34. "
   ]
  },
  {
   "cell_type": "code",
   "execution_count": 87,
   "id": "0eeca0b3",
   "metadata": {},
   "outputs": [
    {
     "data": {
      "text/plain": [
       "2"
      ]
     },
     "execution_count": 87,
     "metadata": {},
     "output_type": "execute_result"
    }
   ],
   "source": [
    "A = Matrix([[1,3,4, -2],\n",
    "            [0,5,7,-4],\n",
    "            [1,8,11,-6],\n",
    "            [-1,2,3,-2]])\n",
    "\n",
    "A.rank()"
   ]
  },
  {
   "cell_type": "markdown",
   "id": "168fd364",
   "metadata": {},
   "source": [
    "### Преобразование координат вектора при переходе к новому базису\n"
   ]
  },
  {
   "cell_type": "markdown",
   "id": "961f4023",
   "metadata": {},
   "source": [
    "Пример 35."
   ]
  },
  {
   "cell_type": "code",
   "execution_count": 88,
   "id": "c4b2bce0",
   "metadata": {},
   "outputs": [
    {
     "data": {
      "text/latex": [
       "$\\displaystyle \\left[\\begin{matrix}1 & -2 & -1\\\\2 & 0 & 1\\\\-1 & 3 & -1\\end{matrix}\\right]$"
      ],
      "text/plain": [
       "Matrix([\n",
       "[ 1, -2, -1],\n",
       "[ 2,  0,  1],\n",
       "[-1,  3, -1]])"
      ]
     },
     "execution_count": 88,
     "metadata": {},
     "output_type": "execute_result"
    }
   ],
   "source": [
    "x = Matrix([-2,3,1])\n",
    "e1 = Matrix([1,2,-1])\n",
    "e2 = Matrix([-2,0,3])\n",
    "e3 = Matrix([-1,1,-1])\n",
    "T = Matrix([e1.T,e2.T,e3.T]).T\n",
    "T"
   ]
  },
  {
   "cell_type": "code",
   "execution_count": 89,
   "id": "771d4e22",
   "metadata": {},
   "outputs": [
    {
     "data": {
      "text/latex": [
       "$\\displaystyle \\left[\\begin{matrix}1\\\\1\\\\1\\end{matrix}\\right]$"
      ],
      "text/plain": [
       "Matrix([\n",
       "[1],\n",
       "[1],\n",
       "[1]])"
      ]
     },
     "execution_count": 89,
     "metadata": {},
     "output_type": "execute_result"
    }
   ],
   "source": [
    "xn = T.inv()*x\n",
    "xn"
   ]
  },
  {
   "cell_type": "markdown",
   "id": "7771b311",
   "metadata": {},
   "source": [
    "Пример 36."
   ]
  },
  {
   "cell_type": "code",
   "execution_count": 90,
   "id": "fe2f632e",
   "metadata": {},
   "outputs": [
    {
     "data": {
      "text/latex": [
       "$\\displaystyle \\left[\\begin{matrix}\\frac{5}{17} & \\frac{1}{17}\\\\- \\frac{2}{17} & \\frac{3}{17}\\end{matrix}\\right]$"
      ],
      "text/plain": [
       "Matrix([\n",
       "[ 5/17, 1/17],\n",
       "[-2/17, 3/17]])"
      ]
     },
     "execution_count": 90,
     "metadata": {},
     "output_type": "execute_result"
    }
   ],
   "source": [
    "T = Matrix([[3,-1],\n",
    "[2,5]])\n",
    "T1 = T.inv()\n",
    "T1"
   ]
  },
  {
   "cell_type": "code",
   "execution_count": 91,
   "id": "6e70f20f",
   "metadata": {},
   "outputs": [
    {
     "data": {
      "text/latex": [
       "$\\displaystyle \\left[\\begin{matrix}- \\frac{5}{17} & - \\frac{106}{17}\\\\- \\frac{15}{17} & - \\frac{29}{17}\\end{matrix}\\right]$"
      ],
      "text/plain": [
       "Matrix([\n",
       "[ -5/17, -106/17],\n",
       "[-15/17,  -29/17]])"
      ]
     },
     "execution_count": 91,
     "metadata": {},
     "output_type": "execute_result"
    }
   ],
   "source": [
    "A = Matrix([[2,-3],\n",
    "[1,-4]])\n",
    "T1*A*T"
   ]
  },
  {
   "cell_type": "markdown",
   "id": "57a055f9",
   "metadata": {},
   "source": [
    "### Собственные векторы\n"
   ]
  },
  {
   "cell_type": "markdown",
   "id": "05b3245b",
   "metadata": {},
   "source": [
    "Пример 37."
   ]
  },
  {
   "cell_type": "code",
   "execution_count": 92,
   "id": "5ac24608",
   "metadata": {},
   "outputs": [
    {
     "data": {
      "text/plain": [
       "(array([1., 6.]),\n",
       " array([[-0.9486833 , -0.89442719],\n",
       "        [ 0.31622777, -0.4472136 ]]))"
      ]
     },
     "execution_count": 92,
     "metadata": {},
     "output_type": "execute_result"
    }
   ],
   "source": [
    "A = np.array([[3,6],\n",
    "[1, 4]])\n",
    "np.linalg.eig(A)"
   ]
  },
  {
   "cell_type": "code",
   "execution_count": 93,
   "id": "14b3960b",
   "metadata": {},
   "outputs": [
    {
     "data": {
      "text/plain": [
       "array([1., 6.])"
      ]
     },
     "execution_count": 93,
     "metadata": {},
     "output_type": "execute_result"
    }
   ],
   "source": [
    "L,V = np.linalg.eig(A)\n",
    "L"
   ]
  },
  {
   "cell_type": "code",
   "execution_count": 94,
   "id": "1c41c7f8",
   "metadata": {},
   "outputs": [
    {
     "data": {
      "text/plain": [
       "array([-0.9486833 ,  0.31622777])"
      ]
     },
     "execution_count": 94,
     "metadata": {},
     "output_type": "execute_result"
    }
   ],
   "source": [
    "V[:,0]"
   ]
  },
  {
   "cell_type": "code",
   "execution_count": 95,
   "id": "666f482e",
   "metadata": {},
   "outputs": [
    {
     "data": {
      "text/plain": [
       "array([-0.89442719, -0.4472136 ])"
      ]
     },
     "execution_count": 95,
     "metadata": {},
     "output_type": "execute_result"
    }
   ],
   "source": [
    "V[:,1]"
   ]
  },
  {
   "cell_type": "markdown",
   "id": "db8cf326",
   "metadata": {},
   "source": [
    "### В библиотеке sympy.\n"
   ]
  },
  {
   "cell_type": "code",
   "execution_count": 96,
   "id": "0f109f80",
   "metadata": {},
   "outputs": [
    {
     "data": {
      "text/plain": [
       "{6: 1, 1: 1}"
      ]
     },
     "execution_count": 96,
     "metadata": {},
     "output_type": "execute_result"
    }
   ],
   "source": [
    "A = Matrix([[3,6],\n",
    "[1, 4]])\n",
    "A.eigenvals()"
   ]
  },
  {
   "cell_type": "code",
   "execution_count": 97,
   "id": "fdab01b0",
   "metadata": {},
   "outputs": [
    {
     "data": {
      "text/plain": [
       "[6, 1]"
      ]
     },
     "execution_count": 97,
     "metadata": {},
     "output_type": "execute_result"
    }
   ],
   "source": [
    "list(A.eigenvals().keys())"
   ]
  },
  {
   "cell_type": "markdown",
   "id": "39b766a8",
   "metadata": {},
   "source": [
    "Пример 39."
   ]
  },
  {
   "cell_type": "code",
   "execution_count": 98,
   "id": "c0795b72",
   "metadata": {},
   "outputs": [
    {
     "data": {
      "text/plain": [
       "[(1,\n",
       "  1,\n",
       "  [Matrix([\n",
       "   [-3],\n",
       "   [ 1]])]),\n",
       " (6,\n",
       "  1,\n",
       "  [Matrix([\n",
       "   [2],\n",
       "   [1]])])]"
      ]
     },
     "execution_count": 98,
     "metadata": {},
     "output_type": "execute_result"
    }
   ],
   "source": [
    "A = Matrix([[3,6],\n",
    "[1, 4]])\n",
    "A.eigenvects()"
   ]
  },
  {
   "cell_type": "code",
   "execution_count": 99,
   "id": "72c835e2",
   "metadata": {},
   "outputs": [
    {
     "data": {
      "text/plain": [
       "[Matrix([\n",
       " [-3],\n",
       " [ 1]])]"
      ]
     },
     "execution_count": 99,
     "metadata": {},
     "output_type": "execute_result"
    }
   ],
   "source": [
    "A.eigenvects()[0][2]"
   ]
  },
  {
   "cell_type": "code",
   "execution_count": 100,
   "id": "a442d095",
   "metadata": {},
   "outputs": [
    {
     "data": {
      "text/plain": [
       "[[-3, 1], [2, 1]]"
      ]
     },
     "execution_count": 100,
     "metadata": {},
     "output_type": "execute_result"
    }
   ],
   "source": [
    "[list(t[2][0]) for t in A.eigenvects()]"
   ]
  },
  {
   "cell_type": "markdown",
   "id": "6d0ce881",
   "metadata": {},
   "source": [
    "### Характеристический многочлен"
   ]
  },
  {
   "cell_type": "markdown",
   "id": "12e0387e",
   "metadata": {},
   "source": [
    "Пример 40."
   ]
  },
  {
   "cell_type": "code",
   "execution_count": 101,
   "id": "1bf2c87d",
   "metadata": {},
   "outputs": [
    {
     "data": {
      "text/latex": [
       "$\\displaystyle \\operatorname{PurePoly}{\\left( \\lambda^{4} - 11 \\lambda^{3} + 29 \\lambda^{2} + 35 \\lambda - 150, \\lambda, domain=\\mathbb{Z} \\right)}$"
      ],
      "text/plain": [
       "PurePoly(lamda**4 - 11*lamda**3 + 29*lamda**2 + 35*lamda - 150, lamda, domain='ZZ')"
      ]
     },
     "execution_count": 101,
     "metadata": {},
     "output_type": "execute_result"
    }
   ],
   "source": [
    "A = Matrix([[3, -2, 4, -2],\n",
    "           [5, 3, -3, -2],\n",
    "           [5, -2, 2, -2],\n",
    "           [5, -2, -3, 3]])\n",
    "lamda = symbols('lamda')\n",
    "p = A.charpoly(lamda)\n",
    "p"
   ]
  },
  {
   "cell_type": "code",
   "execution_count": 102,
   "id": "2829ceef",
   "metadata": {},
   "outputs": [
    {
     "data": {
      "text/latex": [
       "$\\displaystyle \\operatorname{PurePoly}{\\left( \\lambda^{4} - 11 \\lambda^{3} + 29 \\lambda^{2} + 35 \\lambda - 150, \\lambda, domain=\\mathbb{Z} \\right)}$"
      ],
      "text/plain": [
       "PurePoly(lamda**4 - 11*lamda**3 + 29*lamda**2 + 35*lamda - 150, lamda, domain='ZZ')"
      ]
     },
     "execution_count": 102,
     "metadata": {},
     "output_type": "execute_result"
    }
   ],
   "source": [
    "factor(p)"
   ]
  },
  {
   "cell_type": "code",
   "execution_count": 103,
   "id": "c3d28a5d",
   "metadata": {},
   "outputs": [
    {
     "data": {
      "text/plain": [
       "{3: 1, -2: 1, 5: 2}"
      ]
     },
     "execution_count": 103,
     "metadata": {},
     "output_type": "execute_result"
    }
   ],
   "source": [
    "A.eigenvals()"
   ]
  },
  {
   "cell_type": "markdown",
   "id": "b8837971",
   "metadata": {},
   "source": [
    "### Приведение матрицы линейного оператора к диагональному виду\n"
   ]
  },
  {
   "cell_type": "markdown",
   "id": "c663f63b",
   "metadata": {},
   "source": [
    "Пример 41."
   ]
  },
  {
   "cell_type": "code",
   "execution_count": 104,
   "id": "4f2b16a9",
   "metadata": {},
   "outputs": [],
   "source": [
    "A = Matrix([[3, -2, 4, -2],\n",
    "[5, 3, -3, -2],\n",
    "[5, -2, 2, -2],\n",
    "[5, -2, -3, 3]])\n",
    "T, D = A.diagonalize()"
   ]
  },
  {
   "cell_type": "code",
   "execution_count": 105,
   "id": "73dcb108",
   "metadata": {},
   "outputs": [
    {
     "data": {
      "text/latex": [
       "$\\displaystyle \\left[\\begin{matrix}0 & 1 & 1 & 0\\\\1 & 1 & 1 & -1\\\\1 & 1 & 1 & 0\\\\1 & 1 & 0 & 1\\end{matrix}\\right]$"
      ],
      "text/plain": [
       "Matrix([\n",
       "[0, 1, 1,  0],\n",
       "[1, 1, 1, -1],\n",
       "[1, 1, 1,  0],\n",
       "[1, 1, 0,  1]])"
      ]
     },
     "execution_count": 105,
     "metadata": {},
     "output_type": "execute_result"
    }
   ],
   "source": [
    "T"
   ]
  },
  {
   "cell_type": "code",
   "execution_count": 106,
   "id": "4ddf4341",
   "metadata": {},
   "outputs": [
    {
     "data": {
      "text/latex": [
       "$\\displaystyle \\left[\\begin{matrix}-2 & 0 & 0 & 0\\\\0 & 3 & 0 & 0\\\\0 & 0 & 5 & 0\\\\0 & 0 & 0 & 5\\end{matrix}\\right]$"
      ],
      "text/plain": [
       "Matrix([\n",
       "[-2, 0, 0, 0],\n",
       "[ 0, 3, 0, 0],\n",
       "[ 0, 0, 5, 0],\n",
       "[ 0, 0, 0, 5]])"
      ]
     },
     "execution_count": 106,
     "metadata": {},
     "output_type": "execute_result"
    }
   ],
   "source": [
    "D"
   ]
  },
  {
   "cell_type": "code",
   "execution_count": 107,
   "id": "a2a60907",
   "metadata": {},
   "outputs": [
    {
     "data": {
      "text/latex": [
       "$\\displaystyle \\left[\\begin{matrix}3 & -2 & 4 & -2\\\\5 & 3 & -3 & -2\\\\5 & -2 & 2 & -2\\\\5 & -2 & -3 & 3\\end{matrix}\\right]$"
      ],
      "text/plain": [
       "Matrix([\n",
       "[3, -2,  4, -2],\n",
       "[5,  3, -3, -2],\n",
       "[5, -2,  2, -2],\n",
       "[5, -2, -3,  3]])"
      ]
     },
     "execution_count": 107,
     "metadata": {},
     "output_type": "execute_result"
    }
   ],
   "source": [
    "T*D*T**-1"
   ]
  },
  {
   "cell_type": "markdown",
   "id": "11a2270f",
   "metadata": {},
   "source": [
    "### Квадратичные формы"
   ]
  },
  {
   "cell_type": "markdown",
   "id": "f1b762e9",
   "metadata": {},
   "source": [
    "Пример 43."
   ]
  },
  {
   "cell_type": "code",
   "execution_count": 108,
   "id": "0db8d71d",
   "metadata": {},
   "outputs": [],
   "source": [
    "A = Matrix([[-1,1,2], \n",
    "            [1,-3,5],\n",
    "            [2,5,-2]])\n",
    "xl,x2,x3 = symbols('xl х2 хЗ')"
   ]
  },
  {
   "cell_type": "code",
   "execution_count": 109,
   "id": "5f2c3c7b",
   "metadata": {},
   "outputs": [
    {
     "data": {
      "text/latex": [
       "$\\displaystyle \\left[\\begin{matrix}- xl^{2} + 2 xl х_{2} + 4 xl хЗ - 3 х_{2}^{2} + 10 х_{2} хЗ - 2 хЗ^{2}\\end{matrix}\\right]$"
      ],
      "text/plain": [
       "Matrix([[-xl**2 + 2*xl*х2 + 4*xl*хЗ - 3*х2**2 + 10*х2*хЗ - 2*хЗ**2]])"
      ]
     },
     "execution_count": 109,
     "metadata": {},
     "output_type": "execute_result"
    }
   ],
   "source": [
    "X = Matrix([[x1,x2,x3]])\n",
    "Q = X*A*X.T\n",
    "Q.simplify()\n",
    "Q"
   ]
  },
  {
   "cell_type": "markdown",
   "id": "7ccb1333",
   "metadata": {},
   "source": [
    "Пример 44"
   ]
  },
  {
   "cell_type": "code",
   "execution_count": 110,
   "id": "78cf0626",
   "metadata": {
    "scrolled": true
   },
   "outputs": [
    {
     "data": {
      "text/plain": [
       "'Положительно определена'"
      ]
     },
     "execution_count": 110,
     "metadata": {},
     "output_type": "execute_result"
    }
   ],
   "source": [
    "A = Matrix( [[-1,1,2],\n",
    "[1,-3,5],\n",
    "[2,5,-2]])\n",
    "silvestr(A)"
   ]
  },
  {
   "cell_type": "markdown",
   "id": "89b1715d",
   "metadata": {},
   "source": [
    "### Приведение квадратичной формы к каноническому виду"
   ]
  },
  {
   "cell_type": "markdown",
   "id": "44530359",
   "metadata": {},
   "source": [
    "Пример 45. "
   ]
  },
  {
   "cell_type": "code",
   "execution_count": 111,
   "id": "9737908c",
   "metadata": {},
   "outputs": [
    {
     "data": {
      "text/latex": [
       "$\\displaystyle \\left[\\begin{matrix}-2 & 1\\\\1 & 2\\end{matrix}\\right]$"
      ],
      "text/plain": [
       "Matrix([\n",
       "[-2, 1],\n",
       "[ 1, 2]])"
      ]
     },
     "execution_count": 111,
     "metadata": {},
     "output_type": "execute_result"
    }
   ],
   "source": [
    "A = Matrix([[-2, 2],\n",
    "           [2, 1]])\n",
    "\n",
    "T,D = A.diagonalize()\n",
    "T\n"
   ]
  },
  {
   "cell_type": "code",
   "execution_count": 112,
   "id": "0226f60f",
   "metadata": {},
   "outputs": [
    {
     "data": {
      "text/latex": [
       "$\\displaystyle \\left[\\begin{matrix}-3 & 0\\\\0 & 2\\end{matrix}\\right]$"
      ],
      "text/plain": [
       "Matrix([\n",
       "[-3, 0],\n",
       "[ 0, 2]])"
      ]
     },
     "execution_count": 112,
     "metadata": {},
     "output_type": "execute_result"
    }
   ],
   "source": [
    "D"
   ]
  },
  {
   "cell_type": "markdown",
   "id": "aaf071cc",
   "metadata": {},
   "source": [
    "Пример 46."
   ]
  },
  {
   "cell_type": "code",
   "execution_count": 113,
   "id": "39630c53",
   "metadata": {},
   "outputs": [],
   "source": [
    "q = Matrix([30,60,40,80,50])\n",
    "r = Matrix([5,3,7,2,4])\n",
    "t = Matrix([7,10,8,15,8])\n",
    "p = Matrix([45,20,50,25,30])"
   ]
  },
  {
   "cell_type": "code",
   "execution_count": 114,
   "id": "12dad223",
   "metadata": {},
   "outputs": [
    {
     "data": {
      "text/latex": [
       "$\\displaystyle \\left[\\begin{matrix}970\\end{matrix}\\right]$"
      ],
      "text/plain": [
       "Matrix([[970]])"
      ]
     },
     "execution_count": 114,
     "metadata": {},
     "output_type": "execute_result"
    }
   ],
   "source": [
    "R = q.T*r\n",
    "R"
   ]
  },
  {
   "cell_type": "code",
   "execution_count": 115,
   "id": "4a372d9e",
   "metadata": {},
   "outputs": [
    {
     "data": {
      "text/latex": [
       "$\\displaystyle \\left[\\begin{matrix}2730\\end{matrix}\\right]$"
      ],
      "text/plain": [
       "Matrix([[2730]])"
      ]
     },
     "execution_count": 115,
     "metadata": {},
     "output_type": "execute_result"
    }
   ],
   "source": [
    "Т = q.T*t\n",
    "Т"
   ]
  },
  {
   "cell_type": "code",
   "execution_count": 116,
   "id": "e6b4675e",
   "metadata": {},
   "outputs": [
    {
     "data": {
      "text/latex": [
       "$\\displaystyle \\left[\\begin{matrix}8050\\end{matrix}\\right]$"
      ],
      "text/plain": [
       "Matrix([[8050]])"
      ]
     },
     "execution_count": 116,
     "metadata": {},
     "output_type": "execute_result"
    }
   ],
   "source": [
    "Р = q.T*p\n",
    "Р"
   ]
  },
  {
   "cell_type": "markdown",
   "id": "0dd74d1c",
   "metadata": {},
   "source": [
    "Пример 47. "
   ]
  },
  {
   "cell_type": "code",
   "execution_count": 117,
   "id": "1318cc3c",
   "metadata": {},
   "outputs": [],
   "source": [
    "Q = Matrix([[3,5,4,4,6],\n",
    "[4,2,3,5,2] ,\n",
    "[2,3,5,2,4],\n",
    "[7,4,2,8,3] ])\n",
    "N = Matrix([120,200,150,170,220]).T\n",
    "B = Matrix([[4,2,6,3],\n",
    "[3,1,4,5],\n",
    "[2,5,4,2]])\n",
    "p = Matrix([60,80,50]).T"
   ]
  },
  {
   "cell_type": "code",
   "execution_count": 118,
   "id": "c215465c",
   "metadata": {},
   "outputs": [
    {
     "data": {
      "text/latex": [
       "$\\displaystyle \\left[\\begin{matrix}360 & 1000 & 600 & 680 & 1320\\\\480 & 400 & 450 & 850 & 440\\\\240 & 600 & 750 & 340 & 880\\\\840 & 800 & 300 & 1360 & 660\\end{matrix}\\right]$"
      ],
      "text/plain": [
       "Matrix([\n",
       "[360, 1000, 600,  680, 1320],\n",
       "[480,  400, 450,  850,  440],\n",
       "[240,  600, 750,  340,  880],\n",
       "[840,  800, 300, 1360,  660]])"
      ]
     },
     "execution_count": 118,
     "metadata": {},
     "output_type": "execute_result"
    }
   ],
   "source": [
    "Qy = zeros(4,5)\n",
    "for j in range(0,5):\n",
    "    for i in range(0,4):\n",
    "        Qy[i, j] = Q[i, j] * N[j]\n",
    "Qy"
   ]
  },
  {
   "cell_type": "code",
   "execution_count": 119,
   "id": "656741b5",
   "metadata": {},
   "outputs": [
    {
     "data": {
      "text/latex": [
       "$\\displaystyle \\left[\\begin{matrix}53 & 54 & 58 & 62 & 61\\\\56 & 49 & 45 & 65 & 51\\\\48 & 40 & 47 & 57 & 44\\end{matrix}\\right]$"
      ],
      "text/plain": [
       "Matrix([\n",
       "[53, 54, 58, 62, 61],\n",
       "[56, 49, 45, 65, 51],\n",
       "[48, 40, 47, 57, 44]])"
      ]
     },
     "execution_count": 119,
     "metadata": {},
     "output_type": "execute_result"
    }
   ],
   "source": [
    "BQ = B*Q\n",
    "BQ"
   ]
  },
  {
   "cell_type": "code",
   "execution_count": 120,
   "id": "b801e7e7",
   "metadata": {},
   "outputs": [
    {
     "data": {
      "text/latex": [
       "$\\displaystyle \\left[\\begin{matrix}6360 & 10800 & 8700 & 10540 & 13420\\\\6720 & 9800 & 6750 & 11050 & 11220\\\\5760 & 8000 & 7050 & 9690 & 9680\\end{matrix}\\right]$"
      ],
      "text/plain": [
       "Matrix([\n",
       "[6360, 10800, 8700, 10540, 13420],\n",
       "[6720,  9800, 6750, 11050, 11220],\n",
       "[5760,  8000, 7050,  9690,  9680]])"
      ]
     },
     "execution_count": 120,
     "metadata": {},
     "output_type": "execute_result"
    }
   ],
   "source": [
    "BQy = zeros(3,5)\n",
    "for j in range(0,5):\n",
    "    for i in range(0,3):\n",
    "        BQy[i,j] = BQ[i,j]*N[j]\n",
    "BQy"
   ]
  },
  {
   "cell_type": "code",
   "execution_count": 121,
   "id": "d3edcb07",
   "metadata": {},
   "outputs": [
    {
     "data": {
      "text/latex": [
       "$\\displaystyle \\left[\\begin{matrix}1207200 & 1832000 & 1414500 & 2000900 & 2186800\\end{matrix}\\right]$"
      ],
      "text/plain": [
       "Matrix([[1207200, 1832000, 1414500, 2000900, 2186800]])"
      ]
     },
     "execution_count": 121,
     "metadata": {},
     "output_type": "execute_result"
    }
   ],
   "source": [
    "Р = p*BQy\n",
    "Р"
   ]
  },
  {
   "cell_type": "markdown",
   "id": "a3c47d1b",
   "metadata": {},
   "source": [
    "## Примеры решения задач"
   ]
  },
  {
   "cell_type": "markdown",
   "id": "ce5d4b74",
   "metadata": {},
   "source": [
    "1. Найти $ A-A^{T}$, если $ A=\\left(\\begin{array}{ll}1 & 2 \\\\ 3 & 4\\end{array}\\right) $."
   ]
  },
  {
   "cell_type": "code",
   "execution_count": 122,
   "id": "c2d6b501",
   "metadata": {},
   "outputs": [
    {
     "data": {
      "text/latex": [
       "$\\displaystyle \\left[\\begin{matrix}0 & -1\\\\1 & 0\\end{matrix}\\right]$"
      ],
      "text/plain": [
       "Matrix([\n",
       "[0, -1],\n",
       "[1,  0]])"
      ]
     },
     "execution_count": 122,
     "metadata": {},
     "output_type": "execute_result"
    }
   ],
   "source": [
    "A = Matrix([[1,2], [3,4]])\n",
    "A - A.T"
   ]
  },
  {
   "cell_type": "markdown",
   "id": "12462f14",
   "metadata": {},
   "source": [
    "2. Найти $ A B $ и $ B A $, если $ A=\\left(\\begin{array}{cc}1 & 2 \\\\ 4 & -1\\end{array}\\right), B=\\left(\\begin{array}{cc}2 & -3 \\\\ -4 & 1\\end{array}\\right) $."
   ]
  },
  {
   "cell_type": "code",
   "execution_count": 123,
   "id": "a0bbcb72",
   "metadata": {},
   "outputs": [
    {
     "data": {
      "text/latex": [
       "$\\displaystyle \\left[\\begin{matrix}-6 & -1\\\\12 & -13\\end{matrix}\\right]$"
      ],
      "text/plain": [
       "Matrix([\n",
       "[-6,  -1],\n",
       "[12, -13]])"
      ]
     },
     "execution_count": 123,
     "metadata": {},
     "output_type": "execute_result"
    }
   ],
   "source": [
    "A = Matrix([[1,2], [4,-1]])\n",
    "B = Matrix([[2,-3], [-4,1]])\n",
    "A * B"
   ]
  },
  {
   "cell_type": "code",
   "execution_count": 124,
   "id": "2171e256",
   "metadata": {},
   "outputs": [
    {
     "data": {
      "text/latex": [
       "$\\displaystyle \\left[\\begin{matrix}-10 & 7\\\\0 & -9\\end{matrix}\\right]$"
      ],
      "text/plain": [
       "Matrix([\n",
       "[-10,  7],\n",
       "[  0, -9]])"
      ]
     },
     "execution_count": 124,
     "metadata": {},
     "output_type": "execute_result"
    }
   ],
   "source": [
    "B * A"
   ]
  },
  {
   "cell_type": "markdown",
   "id": "596484b7",
   "metadata": {},
   "source": [
    "3. Квадрат ненулевой матрицы, в отличие от чисел, может быть нулевым. Проверить равенство: $\\left(\\begin{array}{cc}2 & 1 \\\\-4 & -2\\end{array}\\right)^{2}=\\left(\\begin{array}{ll}0 & 0 \\\\0 & 0\\end{array}\\right) \\text {. }$"
   ]
  },
  {
   "cell_type": "code",
   "execution_count": 125,
   "id": "12b8379f",
   "metadata": {},
   "outputs": [
    {
     "data": {
      "text/latex": [
       "$\\displaystyle \\left[\\begin{matrix}0 & 0\\\\0 & 0\\end{matrix}\\right]$"
      ],
      "text/plain": [
       "Matrix([\n",
       "[0, 0],\n",
       "[0, 0]])"
      ]
     },
     "execution_count": 125,
     "metadata": {},
     "output_type": "execute_result"
    }
   ],
   "source": [
    "А = Matrix([[2,1], [-4,-2]])\n",
    "А**2"
   ]
  },
  {
   "cell_type": "markdown",
   "id": "a98815b1",
   "metadata": {},
   "source": [
    "4. Пусть $f(x)=x^{3}-5 x^{2}+3 x, A=\\left(\\begin{array}{cc}2 & -1 \\\\ -3 & 3\\end{array}\\right) . Найти  f(A) $."
   ]
  },
  {
   "cell_type": "code",
   "execution_count": 126,
   "id": "2dbf6525",
   "metadata": {},
   "outputs": [
    {
     "data": {
      "text/latex": [
       "$\\displaystyle \\left[\\begin{matrix}0 & 0\\\\0 & 0\\end{matrix}\\right]$"
      ],
      "text/plain": [
       "Matrix([\n",
       "[0, 0],\n",
       "[0, 0]])"
      ]
     },
     "execution_count": 126,
     "metadata": {},
     "output_type": "execute_result"
    }
   ],
   "source": [
    "x = symbols('х')\n",
    "y = x**3 - 5*x**2 + 3*x\n",
    "A = Matrix([[2,-1], [-3,3]])\n",
    "y.subs(x,A)"
   ]
  },
  {
   "cell_type": "markdown",
   "id": "f9441f56",
   "metadata": {},
   "source": [
    "5. Вычислить $ \\left(\\begin{array}{ll}2 & -1 \\\\ 3 & -2\\end{array}\\right)^{n} $."
   ]
  },
  {
   "cell_type": "code",
   "execution_count": 127,
   "id": "71097f97",
   "metadata": {},
   "outputs": [
    {
     "data": {
      "text/latex": [
       "$\\displaystyle \\left[\\begin{matrix}\\frac{3}{2} - \\frac{\\left(-1\\right)^{n}}{2} & \\frac{\\left(-1\\right)^{n}}{2} - \\frac{1}{2}\\\\\\frac{3}{2} - \\frac{3 \\left(-1\\right)^{n}}{2} & \\frac{3 \\left(-1\\right)^{n}}{2} - \\frac{1}{2}\\end{matrix}\\right]$"
      ],
      "text/plain": [
       "Matrix([\n",
       "[  3/2 - (-1)**n/2,   (-1)**n/2 - 1/2],\n",
       "[3/2 - 3*(-1)**n/2, 3*(-1)**n/2 - 1/2]])"
      ]
     },
     "execution_count": 127,
     "metadata": {},
     "output_type": "execute_result"
    }
   ],
   "source": [
    "A = Matrix([[2,-1],\n",
    "[3,-2]])\n",
    "n = symbols('n')\n",
    "A**n"
   ]
  },
  {
   "cell_type": "markdown",
   "id": "c21a8443",
   "metadata": {},
   "source": [
    "7. Вычислить $ \\sqrt{A} $ , где $ A=\\left(\\begin{array}{cc}20 & -4 \\\\ 4 & 12\\end{array}\\right) $."
   ]
  },
  {
   "cell_type": "code",
   "execution_count": 128,
   "id": "34da579e",
   "metadata": {},
   "outputs": [
    {
     "data": {
      "text/latex": [
       "$\\displaystyle \\left[\\begin{matrix}4.5 & -0.5\\\\0.5 & 3.5\\end{matrix}\\right]$"
      ],
      "text/plain": [
       "Matrix([\n",
       "[4.5, -0.5],\n",
       "[0.5,  3.5]])"
      ]
     },
     "execution_count": 128,
     "metadata": {},
     "output_type": "execute_result"
    }
   ],
   "source": [
    "А = Matrix([[20,-4],\n",
    "[4,12]])\n",
    "А**(1/2)"
   ]
  },
  {
   "cell_type": "markdown",
   "id": "a284ff62",
   "metadata": {},
   "source": [
    "9. Вычислить определитель $ \\left|\\begin{array}{ccc}1 & -2 & 1 \\\\ 2 & 1 & 4 \\\\ 3 & 5 & 1\\end{array}\\right| $."
   ]
  },
  {
   "cell_type": "code",
   "execution_count": 129,
   "id": "0c98b304",
   "metadata": {},
   "outputs": [
    {
     "data": {
      "text/latex": [
       "$\\displaystyle -32$"
      ],
      "text/plain": [
       "-32"
      ]
     },
     "execution_count": 129,
     "metadata": {},
     "output_type": "execute_result"
    }
   ],
   "source": [
    "A = Matrix([[1,-2,1], [2,1,4], [3,5,1]])\n",
    "det(A)"
   ]
  },
  {
   "cell_type": "markdown",
   "id": "88791be9",
   "metadata": {},
   "source": [
    "10. Решить уравнение $ \\left|\\begin{array}{cc}x^{2}-4 & 4 \\\\ x-2 & x+2\\end{array}\\right|=0 $."
   ]
  },
  {
   "cell_type": "code",
   "execution_count": 130,
   "id": "2d072ab7",
   "metadata": {},
   "outputs": [
    {
     "data": {
      "text/plain": [
       "[-4, 0, 2]"
      ]
     },
     "execution_count": 130,
     "metadata": {},
     "output_type": "execute_result"
    }
   ],
   "source": [
    "x = symbols('х')\n",
    "A = Matrix([[x**2-4, 4], [x-2, x+2]])\n",
    "solve(det(A),x)"
   ]
  },
  {
   "cell_type": "markdown",
   "id": "28d9bb4c",
   "metadata": {},
   "source": [
    "12. Найти $ \\left(A^{-1}\\right)^{T} $ и $ \\left(A^{T}\\right)^{-1} $, если $ A=\\left(\\begin{array}{ccc}1 & 0 & -1 \\\\ 2 & 1 & 0 \\\\ 2 & 2 & 1\\end{array}\\right) $."
   ]
  },
  {
   "cell_type": "code",
   "execution_count": 131,
   "id": "b2d6d337",
   "metadata": {},
   "outputs": [
    {
     "data": {
      "text/latex": [
       "$\\displaystyle \\left[\\begin{matrix}-1 & 2 & -2\\\\2 & -3 & 2\\\\-1 & 2 & -1\\end{matrix}\\right]$"
      ],
      "text/plain": [
       "Matrix([\n",
       "[-1,  2, -2],\n",
       "[ 2, -3,  2],\n",
       "[-1,  2, -1]])"
      ]
     },
     "execution_count": 131,
     "metadata": {},
     "output_type": "execute_result"
    }
   ],
   "source": [
    "A = Matrix([[1,0,-1], [2,1,0], [2,2,1]])\n",
    "A.inv().T\n"
   ]
  },
  {
   "cell_type": "code",
   "execution_count": 132,
   "id": "921a5e8a",
   "metadata": {},
   "outputs": [
    {
     "data": {
      "text/latex": [
       "$\\displaystyle \\left[\\begin{matrix}-1 & 2 & -2\\\\2 & -3 & 2\\\\-1 & 2 & -1\\end{matrix}\\right]$"
      ],
      "text/plain": [
       "Matrix([\n",
       "[-1,  2, -2],\n",
       "[ 2, -3,  2],\n",
       "[-1,  2, -1]])"
      ]
     },
     "execution_count": 132,
     "metadata": {},
     "output_type": "execute_result"
    }
   ],
   "source": [
    "A.T.inv()\n"
   ]
  },
  {
   "cell_type": "markdown",
   "id": "a6f7be1a",
   "metadata": {},
   "source": [
    "13. Найти ранг матрицы $ \\left(\\begin{array}{cccc}1 & 4 & 4 & 3 \\\\ 2 & 6 & 4 & 0 \\\\ 2 & -8 & 1 & 10 \\\\ 5 & 10 & 5 & 5\\end{array}\\right) $."
   ]
  },
  {
   "cell_type": "code",
   "execution_count": 133,
   "id": "4b96eb24",
   "metadata": {},
   "outputs": [
    {
     "data": {
      "text/plain": [
       "3"
      ]
     },
     "execution_count": 133,
     "metadata": {},
     "output_type": "execute_result"
    }
   ],
   "source": [
    "A = Matrix([[1,4,4,3], [2,6,4,0], [2,-5,-3,2], [5,5,5,5]])\n",
    "A.rank()"
   ]
  },
  {
   "cell_type": "markdown",
   "id": "44b4a4bd",
   "metadata": {},
   "source": [
    "16. Являются ли векторы $ \\boldsymbol{a}=(-1,0,1), \\boldsymbol{b}=(2,-1,0) $ и $ \\boldsymbol{c}=(3,2,-1) $ линейно независимыми?"
   ]
  },
  {
   "cell_type": "code",
   "execution_count": 134,
   "id": "0b8c077c",
   "metadata": {},
   "outputs": [
    {
     "data": {
      "text/plain": [
       "3"
      ]
     },
     "execution_count": 134,
     "metadata": {},
     "output_type": "execute_result"
    }
   ],
   "source": [
    "Matrix([[-1,0,1], [2,-1,0], [3,2,-1]]).rank()"
   ]
  },
  {
   "cell_type": "markdown",
   "id": "11b9722e",
   "metadata": {},
   "source": [
    "22. Решить систему уравнений $\\left\\{\\begin{array}{l}2 x+3 y-z=3 \\\\3 x+4 y-2 z=5 \\\\x+2 y-3 z=6\\end{array}\\right.$"
   ]
  },
  {
   "cell_type": "code",
   "execution_count": 135,
   "id": "44df986c",
   "metadata": {},
   "outputs": [
    {
     "data": {
      "text/plain": [
       "array([-0.33333333,  0.66666667, -1.66666667])"
      ]
     },
     "execution_count": 135,
     "metadata": {},
     "output_type": "execute_result"
    }
   ],
   "source": [
    "A = np.array([[2, 3, -1],\n",
    "[3, 4, -2],\n",
    "[1, 2, -3]])\n",
    "b = np.array([3, 5, 6])\n",
    "w = np.linalg.solve(A, b)\n",
    "w"
   ]
  },
  {
   "cell_type": "markdown",
   "id": "ac62991d",
   "metadata": {},
   "source": [
    "28. Найти общее и базисное решения системы $\\left\\{\\begin{array}{l}x_{1}+3 x_{2}+4 x_{3}-2 x_{4}=-2, \\\\5 x_{2}+7 x_{3}-4 x_{4}=4 \\\\x_{1}+8 x_{2}+11 x_{3}-6 x_{4}=2, \\\\-x_{1}+2 x_{2}+3 x_{3}-2 x_{4}=6 .\\end{array}\\right.$"
   ]
  },
  {
   "cell_type": "code",
   "execution_count": 136,
   "id": "79087bd6",
   "metadata": {},
   "outputs": [],
   "source": [
    "A = Matrix([[1,3,4,-2],\n",
    "[0,5,7,-4],\n",
    "[1,8,11,-6],\n",
    "[-1,2,3,-2]])\n",
    "b = Matrix([-2,4,2,6])\n",
    "Ab = Matrix([[1,3,4,-2,-2],\n",
    "[0,5,7,-4,4],\n",
    "[1,8,11,-6,2],\n",
    "[-1,2,3,-2,6]])"
   ]
  },
  {
   "cell_type": "code",
   "execution_count": 137,
   "id": "007c4814",
   "metadata": {},
   "outputs": [
    {
     "data": {
      "text/latex": [
       "$\\displaystyle \\left\\{\\left( \\frac{x_{3}}{5} - \\frac{2 x_{4}}{5} - \\frac{22}{5}, \\  - \\frac{7 x_{3}}{5} + \\frac{4 x_{4}}{5} + \\frac{4}{5}, \\  x_{3}, \\  x_{4}\\right)\\right\\}$"
      ],
      "text/plain": [
       "{(x3/5 - 2*x4/5 - 22/5, -7*x3/5 + 4*x4/5 + 4/5, x3, x4)}"
      ]
     },
     "execution_count": 137,
     "metadata": {},
     "output_type": "execute_result"
    }
   ],
   "source": [
    "xl,x2,x3,x4, = symbols('xl x2 x3 x4')\n",
    "gensolve = linsolve((A,b), [xl,x2,x3,x4])\n",
    "gensolve"
   ]
  },
  {
   "cell_type": "markdown",
   "id": "76ed6b40",
   "metadata": {},
   "source": [
    "41. Предприятие производит продукцию четырех видов $ P_{1}, P_{2}, P_{3}, P_{4} $, и использует сырье пяти типов $ S_{1}, S_{2}, S_{3}, S_{4}, S_{5} $. Нормы затрат сырья (по строкам) на единицу продукции каждого вида (по столбцам) заданы матрицей$A=\\left(\\begin{array}{llll}3 & 2 & 5 & 2 \\\\1 & 6 & 3 & 0 \\\\5 & 0 & 4 & 5 \\\\2 & 4 & 1 & 3 \\\\4 & 1 & 0 & 4\\end{array}\\right) .$Стоимость единицы сырья каждого типа $ S_{i} $ задана матрицей $B=\\left(\\begin{array}{lllll}25 & 10 & 18 & 20 & 15\\end{array}\\right) .$Каковы общие затраты предприятия на производство 200,300 , 250 и 350 единиц продукции вида $ P_{1}, P_{2}, P_{3}, P_{4} $ соответственно?"
   ]
  },
  {
   "cell_type": "code",
   "execution_count": 138,
   "id": "068c40c4",
   "metadata": {},
   "outputs": [],
   "source": [
    "A = Matrix([[3,2,5,2],\n",
    "[1,6,3,0],\n",
    "[5,0,4,5],\n",
    "[2,4,1,3] ,\n",
    "[4,1,0,4]])\n",
    "B = Matrix([25,10,18,20,15])\n",
    "Q = Matrix([200,300,250,350])"
   ]
  },
  {
   "cell_type": "code",
   "execution_count": 139,
   "id": "baa3c829",
   "metadata": {},
   "outputs": [
    {
     "data": {
      "text/latex": [
       "$\\displaystyle \\left[\\begin{matrix}25\\\\10\\\\18\\\\20\\\\15\\end{matrix}\\right]$"
      ],
      "text/plain": [
       "Matrix([\n",
       "[25],\n",
       "[10],\n",
       "[18],\n",
       "[20],\n",
       "[15]])"
      ]
     },
     "execution_count": 139,
     "metadata": {},
     "output_type": "execute_result"
    }
   ],
   "source": [
    "B"
   ]
  },
  {
   "cell_type": "code",
   "execution_count": 140,
   "id": "74c06c15",
   "metadata": {},
   "outputs": [
    {
     "data": {
      "text/latex": [
       "$\\displaystyle \\left[\\begin{matrix}275 & 205 & 247 & 260\\end{matrix}\\right]$"
      ],
      "text/plain": [
       "Matrix([[275, 205, 247, 260]])"
      ]
     },
     "execution_count": 140,
     "metadata": {},
     "output_type": "execute_result"
    }
   ],
   "source": [
    "P = B.T*A\n",
    "P"
   ]
  },
  {
   "cell_type": "code",
   "execution_count": 141,
   "id": "af9ed5c1",
   "metadata": {},
   "outputs": [
    {
     "data": {
      "text/latex": [
       "$\\displaystyle \\left[\\begin{matrix}269250\\end{matrix}\\right]$"
      ],
      "text/plain": [
       "Matrix([[269250]])"
      ]
     },
     "execution_count": 141,
     "metadata": {},
     "output_type": "execute_result"
    }
   ],
   "source": [
    "P*Q"
   ]
  },
  {
   "cell_type": "markdown",
   "id": "8cba65cc",
   "metadata": {},
   "source": [
    "## Задачи для самостоятельного решения"
   ]
  },
  {
   "cell_type": "markdown",
   "id": "5d1e85cd",
   "metadata": {},
   "source": [
    "## Задача 16:\n",
    "Найти значение многочлена $ f(x)=x^{3}-7 x^{2}+13 x-5 $ от матрицы $\\left(\\begin{array}{lll}5 & 2 & -3 \\\\1 & 3 & -1 \\\\2 & 2 & -1\\end{array}\\right) .$"
   ]
  },
  {
   "cell_type": "code",
   "execution_count": 142,
   "id": "cd112c56",
   "metadata": {},
   "outputs": [
    {
     "data": {
      "text/latex": [
       "$\\displaystyle \\left[\\begin{matrix}0 & 0 & 0\\\\0 & 0 & 0\\\\0 & 0 & 0\\end{matrix}\\right]$"
      ],
      "text/plain": [
       "Matrix([\n",
       "[0, 0, 0],\n",
       "[0, 0, 0],\n",
       "[0, 0, 0]])"
      ]
     },
     "execution_count": 142,
     "metadata": {},
     "output_type": "execute_result"
    }
   ],
   "source": [
    "A = Matrix([\n",
    "    [5, 2, -3], \n",
    "    [1, 3, -1],\n",
    "    [2, 2, -1]\n",
    "])\n",
    "E = eye(3)\n",
    "A**3 - 7*A**2 + 13*A - 5*E"
   ]
  },
  {
   "cell_type": "markdown",
   "id": "e8b7cc4a",
   "metadata": {},
   "source": [
    "### Индивидуальное задание"
   ]
  },
  {
   "cell_type": "markdown",
   "id": "e9dba416",
   "metadata": {},
   "source": [
    "Задача:\n",
    "Вы инженер-механик, которому поручено улучшить аэродинамику автомобиля. Первоначальный коэффициент аэродинамического сопротивления автомобиля составляет 0,445, и вы хотите максимально снизить его, чтобы улучшить топливную экономичность и производительность. Одним из способов снижения коэффициента сопротивления является изменение формы кузова автомобиля, включая угол наклона лобового стекла и расположение воздухозаборников и выхлопных труб."
   ]
  },
  {
   "cell_type": "markdown",
   "id": "a7dfdee6",
   "metadata": {},
   "source": [
    "Для моделирования аэродинамики автомобиля используется матричное уравнение, которое связывает силу сопротивления, действующую на автомобиль, с коэффициентом сопротивления и скоростью автомобиля: $F = \\frac{1}{2} * rho * v^2 * A * Cd$"
   ]
  },
  {
   "cell_type": "markdown",
   "id": "09fd0cc7",
   "metadata": {},
   "source": [
    "где $F$ - сила сопротивления, действующая на автомобиль, $rho$ - плотность воздуха, $v$ - скорость автомобиля, $A$ - лобовая площадь автомобиля, $Cd$ - коэффициент сопротивления."
   ]
  },
  {
   "cell_type": "markdown",
   "id": "8bd002b9",
   "metadata": {},
   "source": [
    "Чтобы оптимизировать аэродинамику автомобиля, можно варьировать параметры конструкции и вычислять результирующий коэффициент сопротивления для каждой комбинации параметров. Затем стоит использовать эти коэффициенты сопротивления для построения матричного уравнения, которое свяжет новый коэффициент сопротивления со старым коэффициентом сопротивления и изменениями параметров конструкции."
   ]
  },
  {
   "cell_type": "markdown",
   "id": "3f340f4a",
   "metadata": {},
   "source": [
    "К параметрам конструкции, которые можно регулировать, относятся:"
   ]
  },
  {
   "cell_type": "markdown",
   "id": "5ae4cbf5",
   "metadata": {},
   "source": [
    "Угол наклона лобового стекла, который может изменяться от $20$ до $30$ градусов"
   ]
  },
  {
   "cell_type": "markdown",
   "id": "810e8b7d",
   "metadata": {},
   "source": [
    "Размер воздухозаборников, который можно варьировать от $0,2$ до $0,4$ квадратных метров"
   ]
  },
  {
   "cell_type": "markdown",
   "id": "577a5c4d",
   "metadata": {},
   "source": [
    "размер выхлопных труб, который может изменяться от $0,1$ до $0,2$ квадратных метров."
   ]
  },
  {
   "cell_type": "markdown",
   "id": "6bc8bca3",
   "metadata": {},
   "source": [
    "Начальный коэффициент сопротивления 0,445"
   ]
  },
  {
   "cell_type": "markdown",
   "id": "65a4767d",
   "metadata": {},
   "source": [
    "Примечание: можно предположить, что частные производные уравнения сопротивления по отношению к параметрам конструкции постоянны и равны следующим значениям: <br>\n",
    "<br>\n",
    "$\\frac{df(Cd)}{dWindshield} = -0,01$<br><br>\n",
    "$\\frac{df(Cd)}{dAirIntake} = -0.005$<br><br>\n",
    "$\\frac{df(Cd)}{dExhaust} = -0.0025$<br>\n"
   ]
  },
  {
   "cell_type": "markdown",
   "id": "a786f7a4",
   "metadata": {},
   "source": [
    "### Решение:"
   ]
  },
  {
   "cell_type": "markdown",
   "id": "2d13b8d6",
   "metadata": {},
   "source": [
    "Импорт необходимых библиотек"
   ]
  },
  {
   "cell_type": "code",
   "execution_count": 143,
   "id": "e92d1789",
   "metadata": {},
   "outputs": [],
   "source": [
    "import matplotlib.pyplot as plt\n",
    "%matplotlib inline\n"
   ]
  },
  {
   "cell_type": "markdown",
   "id": "3c9f779a",
   "metadata": {},
   "source": [
    "Определение диапазонов параметров конструкции"
   ]
  },
  {
   "cell_type": "code",
   "execution_count": 144,
   "id": "1d2e5472",
   "metadata": {},
   "outputs": [],
   "source": [
    "windshield_range = np.arange(20, 31, 1)\n",
    "air_intake_range = np.arange(0.2, 0.41, 0.05)\n",
    "exhaust_range = np.arange(0.1, 0.21, 0.05)\n"
   ]
  },
  {
   "cell_type": "markdown",
   "id": "df7cf872",
   "metadata": {},
   "source": [
    "Определение констант\n",
    "Нам необходимо определить константы, которые мы будем использовать при расчете новых коэффициентов сопротивления."
   ]
  },
  {
   "cell_type": "code",
   "execution_count": 145,
   "id": "59859a9a",
   "metadata": {},
   "outputs": [],
   "source": [
    "rho = 1.225 # kg/m^3\n",
    "A = 2.5 # m^2\n",
    "v = 100 * 1000 / 3600 # m/s\n",
    "Cd_initial = 0.445\n",
    "dCd_dWindshield = -0.01\n",
    "dCd_dAirIntake = -0.005\n",
    "dCd_dExhaust = -0.0025\n"
   ]
  },
  {
   "cell_type": "markdown",
   "id": "addb6345",
   "metadata": {},
   "source": [
    "Рассчитываем новые коэффициенты сопротивления для каждой комбинации параметров конструкции"
   ]
  },
  {
   "cell_type": "code",
   "execution_count": 146,
   "id": "47fd8e60",
   "metadata": {},
   "outputs": [],
   "source": [
    "drag_coefficients = np.zeros((len(windshield_range), len(air_intake_range), len(exhaust_range)))\n",
    "for i, windshield in enumerate(windshield_range):\n",
    "    for j, air_intake in enumerate(air_intake_range):\n",
    "        for k, exhaust in enumerate(exhaust_range):\n",
    "            Cd_new = Cd_initial + dCd_dWindshield * (windshield - 25) + dCd_dAirIntake * (air_intake - 0.3) + dCd_dExhaust * (exhaust - 0.15)\n",
    "            F = 0.5 * rho * v**2 * A * Cd_new\n",
    "            drag_coefficients[i, j, k] = Cd_new\n"
   ]
  },
  {
   "cell_type": "code",
   "execution_count": 147,
   "id": "f47ad34e",
   "metadata": {},
   "outputs": [
    {
     "data": {
      "text/plain": [
       "0.39437500000000003"
      ]
     },
     "execution_count": 147,
     "metadata": {},
     "output_type": "execute_result"
    }
   ],
   "source": [
    "Cd_new"
   ]
  },
  {
   "cell_type": "code",
   "execution_count": 148,
   "id": "c06311ee",
   "metadata": {},
   "outputs": [
    {
     "data": {
      "text/plain": [
       "465.96197434413585"
      ]
     },
     "execution_count": 148,
     "metadata": {},
     "output_type": "execute_result"
    }
   ],
   "source": [
    "F"
   ]
  },
  {
   "cell_type": "markdown",
   "id": "64f776f7",
   "metadata": {},
   "source": [
    "Найдем комбинацию параметров конструкции, при которой достигается наименьший коэффициент сопротивления"
   ]
  },
  {
   "cell_type": "code",
   "execution_count": 149,
   "id": "34d0dfb4",
   "metadata": {},
   "outputs": [],
   "source": [
    "i_min, j_min, k_min = np.unravel_index(np.argmin(drag_coefficients), drag_coefficients.shape)\n",
    "windshield_min = windshield_range[i_min]\n",
    "air_intake_min = air_intake_range[j_min]\n",
    "exhaust_min = exhaust_range[k_min]\n",
    "Cd_min = drag_coefficients[i_min, j_min, k_min]"
   ]
  },
  {
   "cell_type": "code",
   "execution_count": 150,
   "id": "4cc90ece",
   "metadata": {},
   "outputs": [
    {
     "data": {
      "text/plain": [
       "30"
      ]
     },
     "execution_count": 150,
     "metadata": {},
     "output_type": "execute_result"
    }
   ],
   "source": [
    "windshield_min"
   ]
  },
  {
   "cell_type": "code",
   "execution_count": 151,
   "id": "322ca872",
   "metadata": {},
   "outputs": [
    {
     "data": {
      "text/plain": [
       "0.39999999999999997"
      ]
     },
     "execution_count": 151,
     "metadata": {},
     "output_type": "execute_result"
    }
   ],
   "source": [
    "air_intake_min"
   ]
  },
  {
   "cell_type": "code",
   "execution_count": 152,
   "id": "909bf5cb",
   "metadata": {},
   "outputs": [
    {
     "data": {
      "text/plain": [
       "0.20000000000000004"
      ]
     },
     "execution_count": 152,
     "metadata": {},
     "output_type": "execute_result"
    }
   ],
   "source": [
    "exhaust_min"
   ]
  },
  {
   "cell_type": "code",
   "execution_count": 153,
   "id": "71d8acb8",
   "metadata": {},
   "outputs": [
    {
     "data": {
      "text/plain": [
       "0.39437500000000003"
      ]
     },
     "execution_count": 153,
     "metadata": {},
     "output_type": "execute_result"
    }
   ],
   "source": [
    "Cd_min"
   ]
  },
  {
   "cell_type": "markdown",
   "id": "da4d09e2",
   "metadata": {},
   "source": [
    "Построение трехмерной диаграмму рассеяния коэффициентов сопротивления"
   ]
  },
  {
   "cell_type": "code",
   "execution_count": 154,
   "id": "8c04777c",
   "metadata": {},
   "outputs": [
    {
     "data": {
      "image/png": "[encoded data removed]",
      "text/plain": [
       "<Figure size 700x700 with 1 Axes>"
      ]
     },
     "metadata": {},
     "output_type": "display_data"
    }
   ],
   "source": [
    "fig = plt.figure(figsize=(7, 7))\n",
    "ax = fig.add_subplot(111, projection='3d')\n",
    "X, Y, Z = np.meshgrid(windshield_range, air_intake_range, exhaust_range, indexing='ij')\n",
    "ax.scatter(X, Y, Z, c=drag_coefficients.flatten(), cmap='viridis')\n",
    "ax.set_xlabel('Угол наклона лобового стекла (градусы)')\n",
    "ax.set_ylabel('Размер воздухозаборника (м^2)')\n",
    "ax.set_zlabel('Размер выхлопной трубы (м^2)')\n",
    "ax.set_title('Коэффициент сопротивления в зависимости от конструктивных параметров')\n",
    "ax.text(25, air_intake_min, 0.22, f'минимальное Cd = {Cd_min:.4f}', color='red')\n",
    "plt.show()"
   ]
  }
 ],
 "metadata": {
  "kernelspec": {
   "display_name": "Python 3 (ipykernel)",
   "language": "python",
   "name": "python3"
  },
  "language_info": {
   "codemirror_mode": {
    "name": "ipython",
    "version": 3
   },
   "file_extension": ".py",
   "mimetype": "text/x-python",
   "name": "python",
   "nbconvert_exporter": "python",
   "pygments_lexer": "ipython3",
   "version": "3.10.6"
  }
 },
 "nbformat": 4,
 "nbformat_minor": 5
}
