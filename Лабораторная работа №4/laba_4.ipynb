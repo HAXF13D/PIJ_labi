{
 "cells": [
  {
   "cell_type": "markdown",
   "id": "d205c095",
   "metadata": {},
   "source": [
    "## Решение задач на Python, Интегралы\n"
   ]
  },
  {
   "cell_type": "markdown",
   "id": "4679d054",
   "metadata": {},
   "source": [
    "### Дифференциал функции"
   ]
  },
  {
   "cell_type": "markdown",
   "id": "d26dec8b",
   "metadata": {},
   "source": [
    "Пример 1. Найти дифференциал функции $у = \\arctan(\\frac{1}{x})$"
   ]
  },
  {
   "cell_type": "code",
   "execution_count": 1,
   "id": "ca368a23",
   "metadata": {},
   "outputs": [],
   "source": [
    "from sympy import *\n",
    "import matplotlib.pyplot as plt\n",
    "import numpy as np\n",
    "import sympy as sym"
   ]
  },
  {
   "cell_type": "code",
   "execution_count": 2,
   "id": "4d81112c",
   "metadata": {
    "scrolled": true
   },
   "outputs": [
    {
     "name": "stdout",
     "output_type": "stream",
     "text": [
      "-dx/(x**2*(1 + x**(-2)))\n"
     ]
    }
   ],
   "source": [
    "x = Symbol('x')\n",
    "dx = Symbol('dx')\n",
    "a = diff(atan(1/x), x)\n",
    "print( dx*a )"
   ]
  },
  {
   "cell_type": "code",
   "execution_count": 3,
   "id": "65585ae5",
   "metadata": {},
   "outputs": [
    {
     "name": "stdout",
     "output_type": "stream",
     "text": [
      "dx*sin(x)*cos(x)/sqrt(sin(x)**2 + 1)\n"
     ]
    }
   ],
   "source": [
    "x = Symbol('x')\n",
    "dx = Symbol('dx')\n",
    "у = Symbol(' у')\n",
    "xx = diff(sqrt(1+(sin(x))**2), x )\n",
    "y=print( xx*dx )"
   ]
  },
  {
   "cell_type": "markdown",
   "id": "7e6d6130",
   "metadata": {},
   "source": [
    "### Неопределенный интеграл"
   ]
  },
  {
   "cell_type": "markdown",
   "id": "375c8e3a",
   "metadata": {},
   "source": [
    "Пример 2. Найти неопределенный интеграл. $\\int\\limits 6x^5dx$"
   ]
  },
  {
   "cell_type": "code",
   "execution_count": 4,
   "id": "26503883",
   "metadata": {},
   "outputs": [
    {
     "name": "stdout",
     "output_type": "stream",
     "text": [
      "x**6\n"
     ]
    }
   ],
   "source": [
    "x = symbols('x')\n",
    "y=integrate(6*x**5, x)\n",
    "print (y)"
   ]
  },
  {
   "cell_type": "markdown",
   "id": "d3f1b1c0",
   "metadata": {},
   "source": [
    "Пример 3. Найти неопределенный интеграл. $\\int\\limits \\frac{x}{x + 2}dx$"
   ]
  },
  {
   "cell_type": "code",
   "execution_count": 5,
   "id": "6a77f16a",
   "metadata": {},
   "outputs": [
    {
     "data": {
      "text/latex": [
       "$\\displaystyle x - 2 \\log{\\left(x + 2 \\right)}$"
      ],
      "text/plain": [
       "x - 2*log(x + 2)"
      ]
     },
     "execution_count": 5,
     "metadata": {},
     "output_type": "execute_result"
    }
   ],
   "source": [
    "x = symbols('x')\n",
    "y=integrate(x/(x+2), x)\n",
    "y"
   ]
  },
  {
   "cell_type": "markdown",
   "id": "f3e8bb1c",
   "metadata": {},
   "source": [
    "Пример 4. Найти неопределенный интеграл. $\\int\\limits \\frac{1}{(x^2 + 1)^2}dx$"
   ]
  },
  {
   "cell_type": "code",
   "execution_count": 6,
   "id": "18d5feb7",
   "metadata": {},
   "outputs": [
    {
     "data": {
      "text/latex": [
       "$\\displaystyle \\frac{x}{2 x^{2} + 2} + \\frac{\\operatorname{atan}{\\left(x \\right)}}{2}$"
      ],
      "text/plain": [
       "x/(2*x**2 + 2) + atan(x)/2"
      ]
     },
     "execution_count": 6,
     "metadata": {},
     "output_type": "execute_result"
    }
   ],
   "source": [
    "integrate(1/(x**2+1)**2)"
   ]
  },
  {
   "cell_type": "markdown",
   "id": "0adfd98f",
   "metadata": {},
   "source": [
    "Пример 5. Найти неопределенный интеграл. $\\int\\limits xe^{2x}dx$"
   ]
  },
  {
   "cell_type": "code",
   "execution_count": 7,
   "id": "dfe4e7e1",
   "metadata": {
    "scrolled": true
   },
   "outputs": [
    {
     "data": {
      "text/latex": [
       "$\\displaystyle \\frac{\\left(2 x - 1\\right) e^{2 x}}{4}$"
      ],
      "text/plain": [
       "(2*x - 1)*exp(2*x)/4"
      ]
     },
     "execution_count": 7,
     "metadata": {},
     "output_type": "execute_result"
    }
   ],
   "source": [
    "integrate(x*exp(2 *x),x)"
   ]
  },
  {
   "cell_type": "markdown",
   "id": "72ad0a54",
   "metadata": {},
   "source": [
    "Пример 6. Найти неопределенный интеграл. $\\int\\limits \\frac{\\sqrt{x + 4}}{x}dx$"
   ]
  },
  {
   "cell_type": "code",
   "execution_count": 8,
   "id": "18481410",
   "metadata": {},
   "outputs": [
    {
     "data": {
      "text/latex": [
       "$\\displaystyle \\begin{cases} 2 \\sqrt{x + 4} - 4 \\operatorname{acoth}{\\left(\\frac{\\sqrt{x + 4}}{2} \\right)} & \\text{for}\\: \\left|{x + 4}\\right| > 4 \\\\2 \\sqrt{x + 4} - 4 \\operatorname{atanh}{\\left(\\frac{\\sqrt{x + 4}}{2} \\right)} & \\text{otherwise} \\end{cases}$"
      ],
      "text/plain": [
       "Piecewise((2*sqrt(x + 4) - 4*acoth(sqrt(x + 4)/2), Abs(x + 4) > 4), (2*sqrt(x + 4) - 4*atanh(sqrt(x + 4)/2), True))"
      ]
     },
     "execution_count": 8,
     "metadata": {},
     "output_type": "execute_result"
    }
   ],
   "source": [
    "integrate(sqrt(x+4)/x)"
   ]
  },
  {
   "cell_type": "markdown",
   "id": "4ad37163",
   "metadata": {},
   "source": [
    "### Определенный интеграл"
   ]
  },
  {
   "cell_type": "markdown",
   "id": "208b57ad",
   "metadata": {},
   "source": [
    "Пример 7. $\\int\\limits_0^4 6x^5dx$"
   ]
  },
  {
   "cell_type": "code",
   "execution_count": 9,
   "id": "addbd1a8",
   "metadata": {},
   "outputs": [
    {
     "data": {
      "text/latex": [
       "$\\displaystyle 4096$"
      ],
      "text/plain": [
       "4096"
      ]
     },
     "execution_count": 9,
     "metadata": {},
     "output_type": "execute_result"
    }
   ],
   "source": [
    "x = symbols('x')\n",
    "y=integrate(6*x**5, (x,0,4))\n",
    "y"
   ]
  },
  {
   "cell_type": "markdown",
   "id": "4ed52a75",
   "metadata": {},
   "source": [
    "Пример 8. $\\int\\limits_1^3 \\frac{x}{x + 2}dx$"
   ]
  },
  {
   "cell_type": "code",
   "execution_count": 10,
   "id": "d711e227",
   "metadata": {},
   "outputs": [
    {
     "data": {
      "text/latex": [
       "$\\displaystyle - 2 \\log{\\left(5 \\right)} + 2 + 2 \\log{\\left(3 \\right)}$"
      ],
      "text/plain": [
       "-2*log(5) + 2 + 2*log(3)"
      ]
     },
     "execution_count": 10,
     "metadata": {},
     "output_type": "execute_result"
    }
   ],
   "source": [
    "x = symbols('x')\n",
    "y=integrate(x/(x+2), (x, 1, 3))\n",
    "y"
   ]
  },
  {
   "cell_type": "markdown",
   "id": "617ef832",
   "metadata": {},
   "source": [
    "Пример 9. $\\int\\limits_{-1}^{1} \\frac{1}{(x^2 + 1)^2}dx$"
   ]
  },
  {
   "cell_type": "code",
   "execution_count": 11,
   "id": "f54321ee",
   "metadata": {},
   "outputs": [
    {
     "data": {
      "text/latex": [
       "$\\displaystyle \\frac{1}{2} + \\frac{\\pi}{4}$"
      ],
      "text/plain": [
       "1/2 + pi/4"
      ]
     },
     "execution_count": 11,
     "metadata": {},
     "output_type": "execute_result"
    }
   ],
   "source": [
    "integrate (1/(x**2 + 1)**2,(x,-1,1) )"
   ]
  },
  {
   "cell_type": "markdown",
   "id": "08b30f79",
   "metadata": {},
   "source": [
    "Пример 10. $\\int\\limits_{0}^{100} xe^{2x}dx$"
   ]
  },
  {
   "cell_type": "code",
   "execution_count": 12,
   "id": "4dfb92b7",
   "metadata": {},
   "outputs": [
    {
     "data": {
      "text/latex": [
       "$\\displaystyle \\frac{1}{4} + \\frac{199 e^{200}}{4}$"
      ],
      "text/plain": [
       "1/4 + 199*exp(200)/4"
      ]
     },
     "execution_count": 12,
     "metadata": {},
     "output_type": "execute_result"
    }
   ],
   "source": [
    "integrate (x*exp(2*x),(x, 0, 100))"
   ]
  },
  {
   "cell_type": "markdown",
   "id": "ccaa33e6",
   "metadata": {},
   "source": [
    "Пример 11. $\\int\\limits_{-1}^{0} \\sqrt{x + 4}dx$"
   ]
  },
  {
   "cell_type": "code",
   "execution_count": 13,
   "id": "5e45e819",
   "metadata": {},
   "outputs": [
    {
     "data": {
      "text/latex": [
       "$\\displaystyle \\frac{16}{3} - 2 \\sqrt{3}$"
      ],
      "text/plain": [
       "16/3 - 2*sqrt(3)"
      ]
     },
     "execution_count": 13,
     "metadata": {},
     "output_type": "execute_result"
    }
   ],
   "source": [
    "integrate(sqrt(x+4),(x,-1,0))"
   ]
  },
  {
   "cell_type": "markdown",
   "id": "3d21a2d5",
   "metadata": {},
   "source": [
    "### Несобственный интеграл"
   ]
  },
  {
   "cell_type": "markdown",
   "id": "e99db5fe",
   "metadata": {},
   "source": [
    "Пример 12. $\\int\\limits_{1}^{\\infty} x^{-4}dx$"
   ]
  },
  {
   "cell_type": "code",
   "execution_count": 14,
   "id": "ac54a5dc",
   "metadata": {},
   "outputs": [
    {
     "data": {
      "text/latex": [
       "$\\displaystyle \\frac{1}{3}$"
      ],
      "text/plain": [
       "1/3"
      ]
     },
     "execution_count": 14,
     "metadata": {},
     "output_type": "execute_result"
    }
   ],
   "source": [
    "integrate(x**(-4), (x, 1, oo))"
   ]
  },
  {
   "cell_type": "markdown",
   "id": "7a310cec",
   "metadata": {},
   "source": [
    "Пример 13. $\\int\\limits_{-1}^{\\infty} e^{-2x}dx$"
   ]
  },
  {
   "cell_type": "code",
   "execution_count": 15,
   "id": "c689778c",
   "metadata": {},
   "outputs": [
    {
     "data": {
      "text/latex": [
       "$\\displaystyle \\frac{e^{2}}{2}$"
      ],
      "text/plain": [
       "exp(2)/2"
      ]
     },
     "execution_count": 15,
     "metadata": {},
     "output_type": "execute_result"
    }
   ],
   "source": [
    "integrate(exp(-2*x), (x, -1, oo) )"
   ]
  },
  {
   "cell_type": "markdown",
   "id": "252cfc2c",
   "metadata": {},
   "source": [
    "Пример 14. $\\int\\limits_{0}^{1} \\ln(x) dx$"
   ]
  },
  {
   "cell_type": "code",
   "execution_count": 16,
   "id": "67f5375b",
   "metadata": {},
   "outputs": [
    {
     "data": {
      "text/latex": [
       "$\\displaystyle -1$"
      ],
      "text/plain": [
       "-1"
      ]
     },
     "execution_count": 16,
     "metadata": {},
     "output_type": "execute_result"
    }
   ],
   "source": [
    "integrate(log(x), (x, 0, 1))"
   ]
  },
  {
   "cell_type": "markdown",
   "id": "aa5a7903",
   "metadata": {},
   "source": [
    "Пример 15. $\\int\\limits_{0}^{7} \\frac{1}{x^{\\frac{6}{7}}} dx$"
   ]
  },
  {
   "cell_type": "code",
   "execution_count": 17,
   "id": "a9745d46",
   "metadata": {},
   "outputs": [
    {
     "data": {
      "text/latex": [
       "$\\displaystyle 9.24328473429286$"
      ],
      "text/plain": [
       "9.24328473429286"
      ]
     },
     "execution_count": 17,
     "metadata": {},
     "output_type": "execute_result"
    }
   ],
   "source": [
    "integrate(1/x**(6/7), (x, 0, 7))"
   ]
  },
  {
   "cell_type": "markdown",
   "id": "fc451c67",
   "metadata": {},
   "source": [
    "### Кратные интегралы"
   ]
  },
  {
   "cell_type": "markdown",
   "id": "3a753628",
   "metadata": {},
   "source": [
    "Пример 16. $\\int\\limits\\int\\limits (y^2x-2xy)dxdy$, где $x \\leq y \\leq 2, -1 \\leq x \\leq 2$"
   ]
  },
  {
   "cell_type": "code",
   "execution_count": 18,
   "id": "35d4038a",
   "metadata": {},
   "outputs": [
    {
     "data": {
      "text/latex": [
       "$\\displaystyle - \\frac{x^{4}}{3} + x^{3} - \\frac{4 x}{3}$"
      ],
      "text/plain": [
       "-x**4/3 + x**3 - 4*x/3"
      ]
     },
     "execution_count": 18,
     "metadata": {},
     "output_type": "execute_result"
    }
   ],
   "source": [
    "x = symbols('x')\n",
    "y = symbols('y')\n",
    "d = integrate(y**2*x-2*x*y,(y,x,2))\n",
    "d"
   ]
  },
  {
   "cell_type": "code",
   "execution_count": 19,
   "id": "54110252",
   "metadata": {},
   "outputs": [
    {
     "data": {
      "text/latex": [
       "$\\displaystyle - \\frac{9}{20}$"
      ],
      "text/plain": [
       "-9/20"
      ]
     },
     "execution_count": 19,
     "metadata": {},
     "output_type": "execute_result"
    }
   ],
   "source": [
    "integrate(d, (x, -1, 2))"
   ]
  },
  {
   "cell_type": "markdown",
   "id": "1f28303d",
   "metadata": {},
   "source": [
    "### Применения интегралов"
   ]
  },
  {
   "cell_type": "markdown",
   "id": "b5688d99",
   "metadata": {},
   "source": [
    "Пример 17. Найти площадь фигуры, ограниченной линиями $y = 2x, y=-x^2+7x-6.$"
   ]
  },
  {
   "cell_type": "code",
   "execution_count": 20,
   "id": "ed3393f3",
   "metadata": {},
   "outputs": [
    {
     "data": {
      "text/latex": [
       "$\\displaystyle \\frac{1}{6}$"
      ],
      "text/plain": [
       "1/6"
      ]
     },
     "execution_count": 20,
     "metadata": {},
     "output_type": "execute_result"
    }
   ],
   "source": [
    "x = symbols('x')\n",
    "integrate(-x**2+7*x-6-2*x,(x,2,3))"
   ]
  },
  {
   "cell_type": "markdown",
   "id": "9b35c3cb",
   "metadata": {},
   "source": [
    "Пример 18. Найти площадь фигуры, ограниченной линиями $y = -2x, y=-x^2+5x-10.$"
   ]
  },
  {
   "cell_type": "code",
   "execution_count": 21,
   "id": "a1e56e5f",
   "metadata": {
    "scrolled": true
   },
   "outputs": [
    {
     "data": {
      "text/latex": [
       "$\\displaystyle \\frac{9}{2}$"
      ],
      "text/plain": [
       "9/2"
      ]
     },
     "execution_count": 21,
     "metadata": {},
     "output_type": "execute_result"
    }
   ],
   "source": [
    "x = symbols('x')\n",
    "integrate(-x**2+5*x-10+2*x,(x,2,5))"
   ]
  },
  {
   "cell_type": "markdown",
   "id": "9ed28f1d",
   "metadata": {},
   "source": [
    "Пример 19. Найти площадь фигуры, ограниченной линиями $y = -2x, y=-x^2+3x-6.$"
   ]
  },
  {
   "cell_type": "code",
   "execution_count": 22,
   "id": "eeeb712c",
   "metadata": {},
   "outputs": [
    {
     "data": {
      "text/latex": [
       "$\\displaystyle \\frac{1}{6}$"
      ],
      "text/plain": [
       "1/6"
      ]
     },
     "execution_count": 22,
     "metadata": {},
     "output_type": "execute_result"
    }
   ],
   "source": [
    "integrate(-x**2+3*x-6+2*x,(x,2,3))"
   ]
  },
  {
   "cell_type": "markdown",
   "id": "1c9d234d",
   "metadata": {},
   "source": [
    "### Объемы тел вращения"
   ]
  },
  {
   "cell_type": "markdown",
   "id": "87085dcf",
   "metadata": {},
   "source": [
    "Пример 20. Вычислите объём тела, образованного вращением\n",
    "вокруг оси Ох области, ограниченной линиями $y = x^2 - x$ и $y = 0$ при $x \t\\in [2,4]$"
   ]
  },
  {
   "cell_type": "code",
   "execution_count": 23,
   "id": "4197f8c3",
   "metadata": {},
   "outputs": [
    {
     "data": {
      "text/latex": [
       "$\\displaystyle \\frac{1456 \\pi}{15}$"
      ],
      "text/plain": [
       "1456*pi/15"
      ]
     },
     "execution_count": 23,
     "metadata": {},
     "output_type": "execute_result"
    }
   ],
   "source": [
    "pi*integrate((x**2-x)**2,(x,2,4))"
   ]
  },
  {
   "cell_type": "markdown",
   "id": "2bc79967",
   "metadata": {},
   "source": [
    "Пример 21. Вычислите объём тела, образованного вращением\n",
    "вокруг оси Ох области, ограниченной линиями $y = \\sqrt{3-x}$ и $y = -x - 53$ при $x \\in [-61, -53]$"
   ]
  },
  {
   "cell_type": "code",
   "execution_count": 24,
   "id": "2472e00b",
   "metadata": {},
   "outputs": [
    {
     "data": {
      "text/latex": [
       "$\\displaystyle \\frac{928 \\pi}{3}$"
      ],
      "text/plain": [
       "928*pi/3"
      ]
     },
     "execution_count": 24,
     "metadata": {},
     "output_type": "execute_result"
    }
   ],
   "source": [
    "pi*integrate(((sqrt(3-x)) **2-(-x-53)**2), (x,-61,-53))"
   ]
  },
  {
   "cell_type": "markdown",
   "id": "091d3b43",
   "metadata": {},
   "source": [
    "### Длина дуги"
   ]
  },
  {
   "cell_type": "markdown",
   "id": "2d353791",
   "metadata": {},
   "source": [
    "Пример 22. Вычислить длину дуги параболы $у = х^2$ от точки A(1,1) до точки B(2,4)"
   ]
  },
  {
   "cell_type": "code",
   "execution_count": 25,
   "id": "5e7047f0",
   "metadata": {},
   "outputs": [
    {
     "data": {
      "text/latex": [
       "$\\displaystyle - \\frac{\\sqrt{5}}{2} - \\frac{\\operatorname{asinh}{\\left(2 \\right)}}{4} + \\frac{\\operatorname{asinh}{\\left(4 \\right)}}{4} + \\sqrt{17}$"
      ],
      "text/plain": [
       "-sqrt(5)/2 - asinh(2)/4 + asinh(4)/4 + sqrt(17)"
      ]
     },
     "execution_count": 25,
     "metadata": {},
     "output_type": "execute_result"
    }
   ],
   "source": [
    "x = symbols('x')\n",
    "integrate(sqrt(1+diff(x**2)**2), (x,1,2))"
   ]
  },
  {
   "cell_type": "markdown",
   "id": "95b421b4",
   "metadata": {},
   "source": [
    "Пример 23. Вычислить длину дуги параболы $у^2 = х^3$ от точки M(0,0) до точки N(1,1)"
   ]
  },
  {
   "cell_type": "code",
   "execution_count": 26,
   "id": "19e1f755",
   "metadata": {},
   "outputs": [
    {
     "data": {
      "text/latex": [
       "$\\displaystyle 1.43970987337155$"
      ],
      "text/plain": [
       "1.43970987337155"
      ]
     },
     "execution_count": 26,
     "metadata": {},
     "output_type": "execute_result"
    }
   ],
   "source": [
    "integrate(sqrt(1+diff(pow(x,3/2))**2),(x,0,1))"
   ]
  },
  {
   "cell_type": "markdown",
   "id": "90cc5beb",
   "metadata": {},
   "source": [
    "### Экономические задачи"
   ]
  },
  {
   "cell_type": "markdown",
   "id": "4609f93a",
   "metadata": {},
   "source": [
    "Пример 24. Найдите функцию дохода $R(х)$, если предельный доход при реализации единиц продукции определяется по формуле\n",
    "$MR = бx^6 - 230$."
   ]
  },
  {
   "cell_type": "code",
   "execution_count": 27,
   "id": "17a5a68b",
   "metadata": {},
   "outputs": [
    {
     "data": {
      "text/latex": [
       "$\\displaystyle \\frac{6 x^{7}}{7} - 230 x$"
      ],
      "text/plain": [
       "6*x**7/7 - 230*x"
      ]
     },
     "execution_count": 27,
     "metadata": {},
     "output_type": "execute_result"
    }
   ],
   "source": [
    "x=symbols('x')\n",
    "y=integrate(6*x**6-230,x)\n",
    "y"
   ]
  },
  {
   "cell_type": "markdown",
   "id": "94360a8e",
   "metadata": {},
   "source": [
    "Пример 25. Найти функцию издержек TC(q), если предельные\n",
    "издержки заданы функцией $МС=18g^5 + 20q^4 +16q^3$, а начальные фиксированные затраты равны 790."
   ]
  },
  {
   "cell_type": "code",
   "execution_count": 28,
   "id": "8f547b53",
   "metadata": {},
   "outputs": [
    {
     "data": {
      "text/latex": [
       "$\\displaystyle 3 x^{6} + 4 x^{5} + \\frac{17 x^{4}}{4}$"
      ],
      "text/plain": [
       "3*x**6 + 4*x**5 + 17*x**4/4"
      ]
     },
     "execution_count": 28,
     "metadata": {},
     "output_type": "execute_result"
    }
   ],
   "source": [
    "x=symbols('x')\n",
    "y=integrate(18*x**5+20*x**4+17*x**3,x)\n",
    "y"
   ]
  },
  {
   "cell_type": "markdown",
   "id": "e1db3f18",
   "metadata": {},
   "source": [
    "Пример 26. Найти общую себестоимость выпуска q единиц\n",
    "продукции $ТС(q)$, если предельная себестоимость производства $q$\n",
    "единиц продукции задана функцией $МС = е^{7,8q}$, а начальные фиксированные затраты равны $21$."
   ]
  },
  {
   "cell_type": "code",
   "execution_count": 29,
   "id": "7a4a4f1c",
   "metadata": {},
   "outputs": [
    {
     "data": {
      "text/latex": [
       "$\\displaystyle 0.128205128205128 e^{7.8 x}$"
      ],
      "text/plain": [
       "0.128205128205128*exp(7.8*x)"
      ]
     },
     "execution_count": 29,
     "metadata": {},
     "output_type": "execute_result"
    }
   ],
   "source": [
    "x=symbols('x')\n",
    "y=integrate(exp(7.8*x),x)\n",
    "y"
   ]
  },
  {
   "cell_type": "markdown",
   "id": "fbbe9c39",
   "metadata": {},
   "source": [
    "Пример 27. Количество потребляемой предприятием электроэнергии меняется в течение суток в зависимости от времени $t$ со скоростью $v(t) = 8+4sin(—(t+7))$, где время $t$ измеряется в часах. Найти суммарный расход электроэнергии за сутки."
   ]
  },
  {
   "cell_type": "code",
   "execution_count": 30,
   "id": "7589e53b",
   "metadata": {},
   "outputs": [
    {
     "data": {
      "text/latex": [
       "$\\displaystyle 192$"
      ],
      "text/plain": [
       "192"
      ]
     },
     "execution_count": 30,
     "metadata": {},
     "output_type": "execute_result"
    }
   ],
   "source": [
    "x=symbols('x')\n",
    "y=integrate(8+4*sin(pi/4*(x+7)),(x,0,24))\n",
    "y"
   ]
  },
  {
   "cell_type": "markdown",
   "id": "e2eddc9f",
   "metadata": {},
   "source": [
    "Пример 28. Найти объем продукции, произведений за 6 лет, если\n",
    "функция Кобба - Дугласа имеет вид: $F(t) = (1 + t)e^{2t}$."
   ]
  },
  {
   "cell_type": "code",
   "execution_count": 31,
   "id": "b5d6e190",
   "metadata": {},
   "outputs": [
    {
     "data": {
      "text/latex": [
       "$\\displaystyle - \\frac{1}{4} + \\frac{13 e^{12}}{4}$"
      ],
      "text/plain": [
       "-1/4 + 13*exp(12)/4"
      ]
     },
     "execution_count": 31,
     "metadata": {},
     "output_type": "execute_result"
    }
   ],
   "source": [
    "x=symbols('x')\n",
    "y=integrate((1+x)*exp(2*x),(x,0,6))\n",
    "y"
   ]
  },
  {
   "cell_type": "markdown",
   "id": "dace046e",
   "metadata": {},
   "source": [
    "### Примеры решения задач"
   ]
  },
  {
   "cell_type": "markdown",
   "id": "ec399a03",
   "metadata": {},
   "source": [
    "1. Найти неопределенный интеграл. $\\int\\limits \\frac{(x-4)^2}{x}dx$"
   ]
  },
  {
   "cell_type": "code",
   "execution_count": 32,
   "id": "b20115c3",
   "metadata": {},
   "outputs": [
    {
     "data": {
      "text/latex": [
       "$\\displaystyle \\frac{x^{2}}{2} - 8 x + 16 \\log{\\left(x \\right)}$"
      ],
      "text/plain": [
       "x**2/2 - 8*x + 16*log(x)"
      ]
     },
     "execution_count": 32,
     "metadata": {},
     "output_type": "execute_result"
    }
   ],
   "source": [
    "x=symbols('x')\n",
    "y=integrate(((x-4)**2)/x,x)\n",
    "y"
   ]
  },
  {
   "cell_type": "markdown",
   "id": "3f8f888c",
   "metadata": {},
   "source": [
    "2. Найдите неопределенный интеграл. $\\int\\limits \\frac{4(1+\\cos^2x}{1+\\cos2x}dx$"
   ]
  },
  {
   "cell_type": "code",
   "execution_count": 33,
   "id": "bb406aba",
   "metadata": {},
   "outputs": [
    {
     "data": {
      "text/latex": [
       "$\\displaystyle 2 x + 2 \\tan{\\left(x \\right)}$"
      ],
      "text/plain": [
       "2*x + 2*tan(x)"
      ]
     },
     "execution_count": 33,
     "metadata": {},
     "output_type": "execute_result"
    }
   ],
   "source": [
    "x=symbols('x')\n",
    "y=integrate(4*(1+cos(x)**2)/(1+cos(2*x)),x)\n",
    "y"
   ]
  },
  {
   "cell_type": "markdown",
   "id": "22888438",
   "metadata": {},
   "source": [
    "19. Найдите определенный интеграл  $\\int\\limits_{-\\frac{11}{2}}^{-\\frac{5}{2}} \\frac{dx}{\\sqrt{-x^2-8x-7}}$ "
   ]
  },
  {
   "cell_type": "code",
   "execution_count": 34,
   "id": "d7a15cf1",
   "metadata": {},
   "outputs": [
    {
     "data": {
      "text/latex": [
       "$\\displaystyle 0.366204096222703$"
      ],
      "text/plain": [
       "0.366204096222703"
      ]
     },
     "execution_count": 34,
     "metadata": {},
     "output_type": "execute_result"
    }
   ],
   "source": [
    "x=symbols('x')\n",
    "y=integrate(1/(-x**2-8*x-7),(x,-11/2,-5/2))\n",
    "y"
   ]
  },
  {
   "cell_type": "markdown",
   "id": "73bfe96b",
   "metadata": {},
   "source": [
    "20. Найдите определенный интеграл $\\int\\limits_{2}^{3} x(28-3x^2)^{\\frac{1}{5}}dx$ "
   ]
  },
  {
   "cell_type": "code",
   "execution_count": 35,
   "id": "89fafeda",
   "metadata": {},
   "outputs": [
    {
     "data": {
      "text/latex": [
       "$\\displaystyle \\int\\limits_{2}^{3} \\begin{cases} - 0.999999999999999 x \\left(3 x^{2} - 28\\right)^{0.2} e^{1.2 i \\pi} & \\text{for}\\: x^{2} > \\frac{28}{3} \\\\0.999999999999999 x \\left(28 - 3 x^{2}\\right)^{0.2} & \\text{otherwise} \\end{cases}\\, dx$"
      ],
      "text/plain": [
       "Integral(Piecewise((-0.999999999999999*x*(3*x**2 - 28)**0.2*exp(1.2*I*pi), x**2 > 28/3), (0.999999999999999*x*(28 - 3*x**2)**0.2, True)), (x, 2, 3))"
      ]
     },
     "execution_count": 35,
     "metadata": {},
     "output_type": "execute_result"
    }
   ],
   "source": [
    "x=symbols('x')\n",
    "y=integrate(x*(28-3*x**2)**(1/5),(x,2,3))\n",
    "y"
   ]
  },
  {
   "cell_type": "markdown",
   "id": "92828e4a",
   "metadata": {},
   "source": [
    "40. Найдите несобственный интеграл или установите его расходимость $\\int\\limits_{0}^{4} \\frac{dx}{x^4}dx$ "
   ]
  },
  {
   "cell_type": "code",
   "execution_count": 36,
   "id": "5bb69189",
   "metadata": {},
   "outputs": [
    {
     "data": {
      "text/latex": [
       "$\\displaystyle \\infty$"
      ],
      "text/plain": [
       "oo"
      ]
     },
     "execution_count": 36,
     "metadata": {},
     "output_type": "execute_result"
    }
   ],
   "source": [
    "x=symbols('x')\n",
    "y=integrate(1/x**4,(x,0,4))\n",
    "y"
   ]
  },
  {
   "cell_type": "markdown",
   "id": "e3de227d",
   "metadata": {},
   "source": [
    "42. Найдите несобственный интеграл или установите его расходимость $\\int\\limits_{0}^{+\\infty} \\frac{dx}{x^3}dx$ "
   ]
  },
  {
   "cell_type": "code",
   "execution_count": 37,
   "id": "7576dfab",
   "metadata": {},
   "outputs": [
    {
     "data": {
      "text/latex": [
       "$\\displaystyle \\frac{1}{18}$"
      ],
      "text/plain": [
       "1/18"
      ]
     },
     "execution_count": 37,
     "metadata": {},
     "output_type": "execute_result"
    }
   ],
   "source": [
    "x=symbols('x')\n",
    "y=integrate(1/x**3, (x,3,oo))\n",
    "y"
   ]
  },
  {
   "cell_type": "markdown",
   "id": "d94d7763",
   "metadata": {},
   "source": [
    "47. Найти площадь фигуры, ограниченной линиями $у = 5х$, $у = Зх^2 — 9х +15$."
   ]
  },
  {
   "cell_type": "code",
   "execution_count": 38,
   "id": "40079bd3",
   "metadata": {},
   "outputs": [
    {
     "data": {
      "text/plain": [
       "[5/3, 3]"
      ]
     },
     "execution_count": 38,
     "metadata": {},
     "output_type": "execute_result"
    }
   ],
   "source": [
    "solve(5*x-(3*x**2-9*x+15),x)"
   ]
  },
  {
   "cell_type": "code",
   "execution_count": 39,
   "id": "7b3122f3",
   "metadata": {},
   "outputs": [
    {
     "data": {
      "text/latex": [
       "$\\displaystyle 1.18518518518518$"
      ],
      "text/plain": [
       "1.18518518518518"
      ]
     },
     "execution_count": 39,
     "metadata": {},
     "output_type": "execute_result"
    }
   ],
   "source": [
    "abs(integrate(5*x- (3*x**2-9*x+15), (x, 5/3, 3)))"
   ]
  },
  {
   "cell_type": "markdown",
   "id": "b199cc34",
   "metadata": {},
   "source": [
    "49. Вычислить кратный интеграл $\\int\\limits\\int\\limits (3y^3x-xy^2)dxdy$, по области $D = \\{(x, y) \t\\in \\mathbb{R} | -1 \\leq x \\leq 1, 3 \\leq y \\leq x \\}$"
   ]
  },
  {
   "cell_type": "code",
   "execution_count": 40,
   "id": "6a7c6a39",
   "metadata": {},
   "outputs": [
    {
     "data": {
      "text/latex": [
       "$\\displaystyle - \\frac{5}{2916}$"
      ],
      "text/plain": [
       "-5/2916"
      ]
     },
     "execution_count": 40,
     "metadata": {},
     "output_type": "execute_result"
    }
   ],
   "source": [
    "х, у = symbols(\"x у\")\n",
    "f = (3*y**3*x-x*y**2)\n",
    "I = integrate(f, (у, 3, x), (x, -1, 1))\n",
    "I"
   ]
  },
  {
   "cell_type": "markdown",
   "id": "8cba65cc",
   "metadata": {},
   "source": [
    "## Задачи для самостоятельного решения"
   ]
  },
  {
   "cell_type": "markdown",
   "id": "5d1e85cd",
   "metadata": {},
   "source": [
    "## Задача 16:\n",
    "Найти интеграл <p>\n",
    "$\\int\\limits_{1}^{2} \\frac{4x^3+5x^2-4}{x^2}dx$"
   ]
  },
  {
   "cell_type": "code",
   "execution_count": 41,
   "id": "cd112c56",
   "metadata": {},
   "outputs": [
    {
     "data": {
      "text/latex": [
       "$\\displaystyle 9$"
      ],
      "text/plain": [
       "9"
      ]
     },
     "execution_count": 41,
     "metadata": {},
     "output_type": "execute_result"
    }
   ],
   "source": [
    "x=symbols('x')\n",
    "y=integrate((4*x**3+5*x**2-4) / x ** 2 ,(x,1,2))\n",
    "y"
   ]
  },
  {
   "cell_type": "markdown",
   "id": "e8b7cc4a",
   "metadata": {},
   "source": [
    "### Индивидуальное задание"
   ]
  },
  {
   "cell_type": "markdown",
   "id": "8973ddd8",
   "metadata": {},
   "source": [
    "Задача: Броуновское движение частицы в жидкости. Рассчитать среднеквадратичное смещение (MSD) частицы как функцию времени. MSD определяется как среднее квадратичное смещение частицы за промежуток времени. То есть, $MSD(t) = (x(t) - x(0))^2$, где $x(t)$ - положение частицы в момент времени t.\n",
    "Броуновское движение описывается уравнением Ланжевена $\\frac{dx}{dt} = -γx + f(t)$, где γ - коэффициент трения, а f(t) - стохастическая сила, удовлетворяющая $f(t) = 0$ и $f(t)f(t') = 2Dδ(t - t')$, где D - коэффициент диффузии, а δ - дельта-функция Дирака.\n",
    "\n",
    "Используя уравнение Ланжевена, покажите, что MSD частицы удовлетворяет следующему дифференциальному уравнению:\n",
    "$\\frac{d(MSD)}{dt} = 2D - 2γMSD$.\n",
    "\n",
    "Решение этого дифференциального уравнения имеет вид:\n",
    "$MSD(t) = \\frac{2D}{γ} - \\frac{2D}{γ*exp(-γt)}$.\n",
    "\n",
    "Вычислить и построит график MSD как функцию времени для заданных значений D и γ."
   ]
  },
  {
   "cell_type": "markdown",
   "id": "751c357b",
   "metadata": {},
   "source": [
    "Функция для генерации стохастической силы для каждой временной точки в t_values. Стохастическая сила представляет случайные колебания в движении частицы из-за взаимодействия с окружающими молекулами и является ключевым компонентом уравнения Ланжевена, используемого для моделирования броуновского движения."
   ]
  },
  {
   "cell_type": "code",
   "execution_count": 42,
   "id": "e12253ae",
   "metadata": {},
   "outputs": [],
   "source": [
    "def generate_stochastic_force(t_values):\n",
    "    if len(t_values) > 1:\n",
    "        dt = t_values[1] - t_values[0]\n",
    "    else:\n",
    "        dt = 1\n",
    "    f_values = np.random.normal(scale=np.sqrt(2*D*dt), size=len(t_values))\n",
    "    return f_values"
   ]
  },
  {
   "cell_type": "markdown",
   "id": "b62358f3",
   "metadata": {},
   "source": [
    "Функция для численного расчета среднеквадратичного смещения (MSD) частицы в жидкости в зависимости от времени."
   ]
  },
  {
   "cell_type": "code",
   "execution_count": 43,
   "id": "b4c41235",
   "metadata": {},
   "outputs": [],
   "source": [
    "def calculate_MSD_numerical(t_values):\n",
    "    x_values = np.zeros(len(t_values))\n",
    "    for i in range(len(t_values)):\n",
    "        if i == 0:\n",
    "            x_values[i] = 0\n",
    "        else:\n",
    "            dt = t_values[i] - t_values[i-1]\n",
    "            f_value = generate_stochastic_force([t_values[i]])\n",
    "            x_values[i] = x_values[i-1] + (-gamma*x_values[i-1] + f_value)*dt\n",
    "    MSD_values = (x_values**2).mean()\n",
    "    return MSD_values"
   ]
  },
  {
   "cell_type": "markdown",
   "id": "89ba12c6",
   "metadata": {},
   "source": [
    "Обьявлем необходимые переменные"
   ]
  },
  {
   "cell_type": "code",
   "execution_count": 44,
   "id": "46301722",
   "metadata": {},
   "outputs": [],
   "source": [
    "D = 1.0    # Коэфициент дифузии\n",
    "gamma = 0.5    # Коэфициент сцепления\n",
    "t = symbols('t')\n",
    "MSD = Function('MSD')(t)"
   ]
  },
  {
   "cell_type": "markdown",
   "id": "6b48bbea",
   "metadata": {},
   "source": [
    "Определение уравнение Ланжевена"
   ]
  },
  {
   "cell_type": "code",
   "execution_count": 45,
   "id": "1ddfd3dd",
   "metadata": {
    "scrolled": true
   },
   "outputs": [
    {
     "data": {
      "text/latex": [
       "$\\displaystyle 1.0 \\operatorname{MSD}{\\left(t \\right)} + \\frac{d}{d t} \\operatorname{MSD}{\\left(t \\right)} - 2.0$"
      ],
      "text/plain": [
       "1.0*MSD(t) + Derivative(MSD(t), t) - 2.0"
      ]
     },
     "execution_count": 45,
     "metadata": {},
     "output_type": "execute_result"
    }
   ],
   "source": [
    "L_eq = diff(MSD, t) - 2*D + 2*gamma*MSD\n",
    "L_eq"
   ]
  },
  {
   "cell_type": "markdown",
   "id": "da19f6b1",
   "metadata": {},
   "source": [
    "Получаем аналитическое решение дифференциального уравнения"
   ]
  },
  {
   "cell_type": "code",
   "execution_count": 46,
   "id": "654de93e",
   "metadata": {},
   "outputs": [
    {
     "data": {
      "text/latex": [
       "$\\displaystyle \\operatorname{MSD}{\\left(t \\right)} = C_{1} e^{- t} + 2.0$"
      ],
      "text/plain": [
       "Eq(MSD(t), C1*exp(-t) + 2.0)"
      ]
     },
     "execution_count": 46,
     "metadata": {},
     "output_type": "execute_result"
    }
   ],
   "source": [
    "sol = dsolve(L_eq, MSD)\n",
    "sol"
   ]
  },
  {
   "cell_type": "markdown",
   "id": "c08537c6",
   "metadata": {},
   "source": [
    "Определение функции для аналитического решения"
   ]
  },
  {
   "cell_type": "code",
   "execution_count": 47,
   "id": "4c6b15ae",
   "metadata": {},
   "outputs": [],
   "source": [
    "MSD_analytical = lambdify(t, sol.rhs.subs('C1', 2*D/gamma), 'numpy')"
   ]
  },
  {
   "cell_type": "markdown",
   "id": "bc1aab7d",
   "metadata": {},
   "source": [
    "Определение временного диапазона"
   ]
  },
  {
   "cell_type": "code",
   "execution_count": 48,
   "id": "0bdf64d4",
   "metadata": {},
   "outputs": [
    {
     "data": {
      "text/plain": [
       "array([0.       , 0.1010101, 0.2020202, 0.3030303, 0.4040404])"
      ]
     },
     "execution_count": 48,
     "metadata": {},
     "output_type": "execute_result"
    }
   ],
   "source": [
    "t_range = np.linspace(0, 10, 100)\n",
    "t_range[0:5]"
   ]
  },
  {
   "cell_type": "markdown",
   "id": "c8f32a86",
   "metadata": {},
   "source": [
    "Вычисление численного MSD"
   ]
  },
  {
   "cell_type": "code",
   "execution_count": 49,
   "id": "a69a359e",
   "metadata": {},
   "outputs": [
    {
     "data": {
      "text/plain": [
       "array([0.        , 0.00077913, 0.02930006, 0.00136291, 0.05893093])"
      ]
     },
     "execution_count": 49,
     "metadata": {},
     "output_type": "execute_result"
    }
   ],
   "source": [
    "MSD_numerical = np.zeros(len(t_range))\n",
    "for i, t in enumerate(t_range):\n",
    "    MSD_numerical[i] = calculate_MSD_numerical(t_range[:i+1])\n",
    "MSD_numerical[0:5]"
   ]
  },
  {
   "cell_type": "code",
   "execution_count": 50,
   "id": "3d2f408a",
   "metadata": {},
   "outputs": [
    {
     "data": {
      "image/png": "[encoded data removed]",
      "text/plain": [
       "<Figure size 640x480 with 1 Axes>"
      ]
     },
     "metadata": {},
     "output_type": "display_data"
    }
   ],
   "source": [
    "plt.plot(t_range, MSD_analytical(t_range), label='Аналитический')\n",
    "plt.plot(t_range, MSD_numerical, label='Числовой')\n",
    "plt.xlabel('Время')\n",
    "plt.ylabel('среднеквадратичное смещение')\n",
    "plt.legend()\n",
    "plt.show()\n"
   ]
  },
  {
   "cell_type": "code",
   "execution_count": null,
   "id": "636ed202",
   "metadata": {},
   "outputs": [],
   "source": []
  }
 ],
 "metadata": {
  "kernelspec": {
   "display_name": "Python 3 (ipykernel)",
   "language": "python",
   "name": "python3"
  },
  "language_info": {
   "codemirror_mode": {
    "name": "ipython",
    "version": 3
   },
   "file_extension": ".py",
   "mimetype": "text/x-python",
   "name": "python",
   "nbconvert_exporter": "python",
   "pygments_lexer": "ipython3",
   "version": "3.11.2"
  }
 },
 "nbformat": 4,
 "nbformat_minor": 5
}
