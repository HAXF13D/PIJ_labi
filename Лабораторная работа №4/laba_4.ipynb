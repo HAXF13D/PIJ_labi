{
 "cells": [
  {
   "cell_type": "markdown",
   "id": "d205c095",
   "metadata": {},
   "source": [
    "## Решение задач на Python, Интегралы\n"
   ]
  },
  {
   "cell_type": "markdown",
   "id": "4679d054",
   "metadata": {},
   "source": [
    "### Дифференциал функции"
   ]
  },
  {
   "cell_type": "markdown",
   "id": "d26dec8b",
   "metadata": {},
   "source": [
    "Пример 1. Найти дифференциал функции $у = arctg(\\frac{1}{x})$"
   ]
  },
  {
   "cell_type": "code",
   "execution_count": 1,
   "id": "ca368a23",
   "metadata": {},
   "outputs": [],
   "source": [
    "import sympy\n",
    "from sympy import *"
   ]
  },
  {
   "cell_type": "code",
   "execution_count": 2,
   "id": "4d81112c",
   "metadata": {
    "scrolled": true
   },
   "outputs": [
    {
     "name": "stdout",
     "output_type": "stream",
     "text": [
      "-dx/(x**2*(1 + x**(-2)))\n"
     ]
    }
   ],
   "source": [
    "x = sympy.Symbol('x')\n",
    "dx = sympy.Symbol('dx')\n",
    "a = sympy.diff(atan(1/x), x)\n",
    "print( dx*a )"
   ]
  },
  {
   "cell_type": "code",
   "execution_count": 3,
   "id": "65585ae5",
   "metadata": {},
   "outputs": [
    {
     "name": "stdout",
     "output_type": "stream",
     "text": [
      "dx*sin(x)*cos(x)/sqrt(sin(x)**2 + 1)\n"
     ]
    }
   ],
   "source": [
    "x = sympy.Symbol('x')\n",
    "dx = sympy.Symbol('dx')\n",
    "у = sympy.Symbol(' у')\n",
    "xx = sympy.diff(sqrt(1+(sin(x))**2), x )\n",
    "y=print( xx*dx )"
   ]
  },
  {
   "cell_type": "markdown",
   "id": "7e6d6130",
   "metadata": {},
   "source": [
    "### Неопределенный интеграл"
   ]
  },
  {
   "cell_type": "markdown",
   "id": "375c8e3a",
   "metadata": {},
   "source": [
    "Пример 2. Найти неопределенный интеграл. $\\int\\limits 6x^5dx$"
   ]
  },
  {
   "cell_type": "code",
   "execution_count": 4,
   "id": "26503883",
   "metadata": {},
   "outputs": [
    {
     "name": "stdout",
     "output_type": "stream",
     "text": [
      "x**6\n"
     ]
    }
   ],
   "source": [
    "x = symbols('x')\n",
    "y=integrate(6*x**5, x)\n",
    "print (y)"
   ]
  },
  {
   "cell_type": "markdown",
   "id": "d3f1b1c0",
   "metadata": {},
   "source": [
    "Пример 3. Найти неопределенный интеграл. $\\int\\limits \\frac{x}{x + 2}dx$"
   ]
  },
  {
   "cell_type": "code",
   "execution_count": 5,
   "id": "6a77f16a",
   "metadata": {},
   "outputs": [
    {
     "data": {
      "text/latex": [
       "$\\displaystyle x - 2 \\log{\\left(x + 2 \\right)}$"
      ],
      "text/plain": [
       "x - 2*log(x + 2)"
      ]
     },
     "execution_count": 5,
     "metadata": {},
     "output_type": "execute_result"
    }
   ],
   "source": [
    "from sympy import *\n",
    "x = symbols('x')\n",
    "y=integrate(x/(x+2), x)\n",
    "y"
   ]
  },
  {
   "cell_type": "markdown",
   "id": "f3e8bb1c",
   "metadata": {},
   "source": [
    "Пример 4. Найти неопределенный интеграл. $\\int\\limits \\frac{1}{(x^2 + 1)^2}dx$"
   ]
  },
  {
   "cell_type": "code",
   "execution_count": 6,
   "id": "18d5feb7",
   "metadata": {},
   "outputs": [
    {
     "data": {
      "text/latex": [
       "$\\displaystyle \\frac{x}{2 x^{2} + 2} + \\frac{\\operatorname{atan}{\\left(x \\right)}}{2}$"
      ],
      "text/plain": [
       "x/(2*x**2 + 2) + atan(x)/2"
      ]
     },
     "execution_count": 6,
     "metadata": {},
     "output_type": "execute_result"
    }
   ],
   "source": [
    "integrate(1/(x**2+1)**2)"
   ]
  },
  {
   "cell_type": "markdown",
   "id": "0adfd98f",
   "metadata": {},
   "source": [
    "Пример 5. Найти неопределенный интеграл. $\\int\\limits xe^{2x}dx$"
   ]
  },
  {
   "cell_type": "code",
   "execution_count": 7,
   "id": "dfe4e7e1",
   "metadata": {
    "scrolled": true
   },
   "outputs": [
    {
     "data": {
      "text/latex": [
       "$\\displaystyle \\frac{\\left(2 x - 1\\right) e^{2 x}}{4}$"
      ],
      "text/plain": [
       "(2*x - 1)*exp(2*x)/4"
      ]
     },
     "execution_count": 7,
     "metadata": {},
     "output_type": "execute_result"
    }
   ],
   "source": [
    "integrate(x*exp(2 *x),x)"
   ]
  },
  {
   "cell_type": "markdown",
   "id": "72ad0a54",
   "metadata": {},
   "source": [
    "Пример 6. Найти неопределенный интеграл. $\\int\\limits \\frac{\\sqrt{x + 4}}{x}dx$"
   ]
  },
  {
   "cell_type": "code",
   "execution_count": 8,
   "id": "18481410",
   "metadata": {},
   "outputs": [
    {
     "data": {
      "text/latex": [
       "$\\displaystyle \\begin{cases} 2 \\sqrt{x + 4} - 4 \\operatorname{acoth}{\\left(\\frac{\\sqrt{x + 4}}{2} \\right)} & \\text{for}\\: \\left|{x + 4}\\right| > 4 \\\\2 \\sqrt{x + 4} - 4 \\operatorname{atanh}{\\left(\\frac{\\sqrt{x + 4}}{2} \\right)} & \\text{otherwise} \\end{cases}$"
      ],
      "text/plain": [
       "Piecewise((2*sqrt(x + 4) - 4*acoth(sqrt(x + 4)/2), Abs(x + 4) > 4), (2*sqrt(x + 4) - 4*atanh(sqrt(x + 4)/2), True))"
      ]
     },
     "execution_count": 8,
     "metadata": {},
     "output_type": "execute_result"
    }
   ],
   "source": [
    "integrate(sqrt(x+4)/x)"
   ]
  },
  {
   "cell_type": "markdown",
   "id": "4ad37163",
   "metadata": {},
   "source": [
    "### Определенный интеграл"
   ]
  },
  {
   "cell_type": "markdown",
   "id": "208b57ad",
   "metadata": {},
   "source": [
    "Пример 7. $\\int\\limits_0^4 6x^5dx$"
   ]
  },
  {
   "cell_type": "code",
   "execution_count": 9,
   "id": "addbd1a8",
   "metadata": {},
   "outputs": [
    {
     "data": {
      "text/latex": [
       "$\\displaystyle 4096$"
      ],
      "text/plain": [
       "4096"
      ]
     },
     "execution_count": 9,
     "metadata": {},
     "output_type": "execute_result"
    }
   ],
   "source": [
    "x = symbols('x')\n",
    "y=integrate(6*x**5, (x,0,4))\n",
    "y"
   ]
  },
  {
   "cell_type": "markdown",
   "id": "4ed52a75",
   "metadata": {},
   "source": [
    "Пример 8. $\\int\\limits_1^3 \\frac{x}{x + 2}dx$"
   ]
  },
  {
   "cell_type": "code",
   "execution_count": 10,
   "id": "d711e227",
   "metadata": {},
   "outputs": [
    {
     "data": {
      "text/latex": [
       "$\\displaystyle - 2 \\log{\\left(5 \\right)} + 2 + 2 \\log{\\left(3 \\right)}$"
      ],
      "text/plain": [
       "-2*log(5) + 2 + 2*log(3)"
      ]
     },
     "execution_count": 10,
     "metadata": {},
     "output_type": "execute_result"
    }
   ],
   "source": [
    "x = symbols('x')\n",
    "y=integrate(x/(x+2), (x, 1, 3))\n",
    "y"
   ]
  },
  {
   "cell_type": "markdown",
   "id": "617ef832",
   "metadata": {},
   "source": [
    "Пример 9. $\\int\\limits_{-1}^{1} \\frac{1}{(x^2 + 1)^2}dx$"
   ]
  },
  {
   "cell_type": "code",
   "execution_count": 11,
   "id": "f54321ee",
   "metadata": {},
   "outputs": [
    {
     "data": {
      "text/latex": [
       "$\\displaystyle \\frac{1}{2} + \\frac{\\pi}{4}$"
      ],
      "text/plain": [
       "1/2 + pi/4"
      ]
     },
     "execution_count": 11,
     "metadata": {},
     "output_type": "execute_result"
    }
   ],
   "source": [
    "integrate (1/(x**2 + 1)**2,(x,-1,1) )"
   ]
  },
  {
   "cell_type": "markdown",
   "id": "08b30f79",
   "metadata": {},
   "source": [
    "Пример 10. $\\int\\limits_{0}^{100} xe^{2x}dx$"
   ]
  },
  {
   "cell_type": "code",
   "execution_count": 12,
   "id": "4dfb92b7",
   "metadata": {},
   "outputs": [
    {
     "data": {
      "text/latex": [
       "$\\displaystyle \\frac{1}{4} + \\frac{199 e^{200}}{4}$"
      ],
      "text/plain": [
       "1/4 + 199*exp(200)/4"
      ]
     },
     "execution_count": 12,
     "metadata": {},
     "output_type": "execute_result"
    }
   ],
   "source": [
    "integrate (x*exp(2*x),(x, 0, 100))"
   ]
  },
  {
   "cell_type": "markdown",
   "id": "ccaa33e6",
   "metadata": {},
   "source": [
    "Пример 11. $\\int\\limits_{-1}^{0} \\sqrt{x + 4}dx$"
   ]
  },
  {
   "cell_type": "code",
   "execution_count": 13,
   "id": "5e45e819",
   "metadata": {},
   "outputs": [
    {
     "data": {
      "text/latex": [
       "$\\displaystyle \\frac{16}{3} - 2 \\sqrt{3}$"
      ],
      "text/plain": [
       "16/3 - 2*sqrt(3)"
      ]
     },
     "execution_count": 13,
     "metadata": {},
     "output_type": "execute_result"
    }
   ],
   "source": [
    "integrate(sqrt(x+4),(x,-1,0))"
   ]
  },
  {
   "cell_type": "markdown",
   "id": "3d21a2d5",
   "metadata": {},
   "source": [
    "### Несобственный интеграл"
   ]
  },
  {
   "cell_type": "markdown",
   "id": "e99db5fe",
   "metadata": {},
   "source": [
    "Пример 12. $\\int\\limits_{1}^{\\infty} x^{-4}dx$"
   ]
  },
  {
   "cell_type": "code",
   "execution_count": 14,
   "id": "ac54a5dc",
   "metadata": {},
   "outputs": [
    {
     "data": {
      "text/latex": [
       "$\\displaystyle \\frac{1}{3}$"
      ],
      "text/plain": [
       "1/3"
      ]
     },
     "execution_count": 14,
     "metadata": {},
     "output_type": "execute_result"
    }
   ],
   "source": [
    "integrate(x**(-4), (x, 1, oo))"
   ]
  },
  {
   "cell_type": "markdown",
   "id": "7a310cec",
   "metadata": {},
   "source": [
    "Пример 13. $\\int\\limits_{-1}^{\\infty} e^{-2x}dx$"
   ]
  },
  {
   "cell_type": "code",
   "execution_count": 15,
   "id": "c689778c",
   "metadata": {},
   "outputs": [
    {
     "data": {
      "text/latex": [
       "$\\displaystyle \\frac{e^{2}}{2}$"
      ],
      "text/plain": [
       "exp(2)/2"
      ]
     },
     "execution_count": 15,
     "metadata": {},
     "output_type": "execute_result"
    }
   ],
   "source": [
    "integrate(exp(-2*x), (x, -1, oo) )"
   ]
  },
  {
   "cell_type": "markdown",
   "id": "252cfc2c",
   "metadata": {},
   "source": [
    "Пример 14. $\\int\\limits_{0}^{1} lnx dx$"
   ]
  },
  {
   "cell_type": "code",
   "execution_count": 16,
   "id": "67f5375b",
   "metadata": {},
   "outputs": [
    {
     "data": {
      "text/latex": [
       "$\\displaystyle -1$"
      ],
      "text/plain": [
       "-1"
      ]
     },
     "execution_count": 16,
     "metadata": {},
     "output_type": "execute_result"
    }
   ],
   "source": [
    "integrate(log(x), (x, 0, 1))"
   ]
  },
  {
   "cell_type": "markdown",
   "id": "aa5a7903",
   "metadata": {},
   "source": [
    "Пример 15. $\\int\\limits_{0}^{7} \\frac{1}{x^{\\frac{6}{7}}} dx$"
   ]
  },
  {
   "cell_type": "code",
   "execution_count": 17,
   "id": "a9745d46",
   "metadata": {},
   "outputs": [
    {
     "data": {
      "text/latex": [
       "$\\displaystyle 9.24328473429286$"
      ],
      "text/plain": [
       "9.24328473429286"
      ]
     },
     "execution_count": 17,
     "metadata": {},
     "output_type": "execute_result"
    }
   ],
   "source": [
    "integrate(1/x**(6/7), (x, 0, 7))"
   ]
  },
  {
   "cell_type": "markdown",
   "id": "fc451c67",
   "metadata": {},
   "source": [
    "### Кратные интегралы"
   ]
  },
  {
   "cell_type": "markdown",
   "id": "3a753628",
   "metadata": {},
   "source": [
    "Пример 16. $\\int\\limits\\int\\limits (y^2x-2xy)dxdy$, где $x \\leq y \\leq 2, -1 \\leq x \\leq 2$"
   ]
  },
  {
   "cell_type": "code",
   "execution_count": 18,
   "id": "4ce0b96f",
   "metadata": {},
   "outputs": [
    {
     "data": {
      "text/latex": [
       "$\\displaystyle - x \\left(- 2 x \\left(- 2 \\log{\\left(5 \\right)} + 2 + 2 \\log{\\left(3 \\right)}\\right) + x \\left(- 2 \\log{\\left(5 \\right)} + 2 + 2 \\log{\\left(3 \\right)}\\right)^{2}\\right) - 4 x \\left(- 2 \\log{\\left(5 \\right)} + 2 + 2 \\log{\\left(3 \\right)}\\right) + 2 x \\left(- 2 \\log{\\left(5 \\right)} + 2 + 2 \\log{\\left(3 \\right)}\\right)^{2}$"
      ],
      "text/plain": [
       "-x*(-2*x*(-2*log(5) + 2 + 2*log(3)) + x*(-2*log(5) + 2 + 2*log(3))**2) - 4*x*(-2*log(5) + 2 + 2*log(3)) + 2*x*(-2*log(5) + 2 + 2*log(3))**2"
      ]
     },
     "execution_count": 18,
     "metadata": {},
     "output_type": "execute_result"
    }
   ],
   "source": [
    "x = symbols('x')\n",
    "integrate(y**2*x-2*x*y,(у,x,2))"
   ]
  },
  {
   "cell_type": "code",
   "execution_count": 19,
   "id": "54110252",
   "metadata": {},
   "outputs": [
    {
     "data": {
      "text/latex": [
       "$\\displaystyle - \\frac{9}{20}$"
      ],
      "text/plain": [
       "-9/20"
      ]
     },
     "execution_count": 19,
     "metadata": {},
     "output_type": "execute_result"
    }
   ],
   "source": [
    "integrate(-x**4/3 + x**3 - 4*x/3, (x, -1, 2))"
   ]
  },
  {
   "cell_type": "markdown",
   "id": "1f28303d",
   "metadata": {},
   "source": [
    "### Применения интегралов"
   ]
  },
  {
   "cell_type": "markdown",
   "id": "b5688d99",
   "metadata": {},
   "source": [
    "Пример 17. Найти площадь фигуры, ограниченной линиями $y = 2x, y=-x^2+7x-6.$"
   ]
  },
  {
   "cell_type": "code",
   "execution_count": 20,
   "id": "ed3393f3",
   "metadata": {},
   "outputs": [
    {
     "data": {
      "text/latex": [
       "$\\displaystyle \\frac{1}{6}$"
      ],
      "text/plain": [
       "1/6"
      ]
     },
     "execution_count": 20,
     "metadata": {},
     "output_type": "execute_result"
    }
   ],
   "source": [
    "x = symbols('x')\n",
    "integrate(-x**2+7*x-6-2*x,(x,2,3))"
   ]
  },
  {
   "cell_type": "markdown",
   "id": "9b35c3cb",
   "metadata": {},
   "source": [
    "Пример 18. Найти площадь фигуры, ограниченной линиями $y = -2x, y=-x^2+5x-10.$"
   ]
  },
  {
   "cell_type": "code",
   "execution_count": 21,
   "id": "a1e56e5f",
   "metadata": {
    "scrolled": true
   },
   "outputs": [
    {
     "data": {
      "text/latex": [
       "$\\displaystyle \\frac{9}{2}$"
      ],
      "text/plain": [
       "9/2"
      ]
     },
     "execution_count": 21,
     "metadata": {},
     "output_type": "execute_result"
    }
   ],
   "source": [
    "x = symbols('x')\n",
    "integrate(-x**2+5*x-10+2*x,(x,2,5))"
   ]
  },
  {
   "cell_type": "markdown",
   "id": "9ed28f1d",
   "metadata": {},
   "source": [
    "Пример 19. Найти площадь фигуры, ограниченной линиями $y = -2x, y=-x^2+3x-6.$"
   ]
  },
  {
   "cell_type": "code",
   "execution_count": 22,
   "id": "eeeb712c",
   "metadata": {},
   "outputs": [
    {
     "data": {
      "text/latex": [
       "$\\displaystyle \\frac{1}{6}$"
      ],
      "text/plain": [
       "1/6"
      ]
     },
     "execution_count": 22,
     "metadata": {},
     "output_type": "execute_result"
    }
   ],
   "source": [
    "integrate(-x**2+3*x-6+2*x,(x,2,3))"
   ]
  },
  {
   "cell_type": "markdown",
   "id": "1c9d234d",
   "metadata": {},
   "source": [
    "### Объемы тел вращения"
   ]
  },
  {
   "cell_type": "markdown",
   "id": "87085dcf",
   "metadata": {},
   "source": [
    "Пример 20. Вычислите объём тела, образованного вращением\n",
    "вокруг оси Ох области, ограниченной линиями $y = x^2 - x$ и $y = 0$ при $x \t\\in [2,4]$"
   ]
  },
  {
   "cell_type": "code",
   "execution_count": 23,
   "id": "4197f8c3",
   "metadata": {},
   "outputs": [
    {
     "data": {
      "text/latex": [
       "$\\displaystyle \\frac{1456 \\pi}{15}$"
      ],
      "text/plain": [
       "1456*pi/15"
      ]
     },
     "execution_count": 23,
     "metadata": {},
     "output_type": "execute_result"
    }
   ],
   "source": [
    "pi*integrate((x**2-x)**2,(x,2,4))"
   ]
  },
  {
   "cell_type": "markdown",
   "id": "2bc79967",
   "metadata": {},
   "source": [
    "Пример 21. Вычислите объём тела, образованного вращением\n",
    "вокруг оси Ох области, ограниченной линиями $y = \\sqrt{3-x}$ и $y = -x - 53$ при $x \\in [-61, -53]$"
   ]
  },
  {
   "cell_type": "code",
   "execution_count": 24,
   "id": "2472e00b",
   "metadata": {},
   "outputs": [
    {
     "data": {
      "text/latex": [
       "$\\displaystyle \\frac{928 \\pi}{3}$"
      ],
      "text/plain": [
       "928*pi/3"
      ]
     },
     "execution_count": 24,
     "metadata": {},
     "output_type": "execute_result"
    }
   ],
   "source": [
    "pi*integrate(((sqrt(3-x)) **2-(-x-53)**2), (x,-61,-53))"
   ]
  },
  {
   "cell_type": "markdown",
   "id": "091d3b43",
   "metadata": {},
   "source": [
    "### Длина дуги"
   ]
  },
  {
   "cell_type": "markdown",
   "id": "2d353791",
   "metadata": {},
   "source": [
    "Пример 22. Вычислить длину дуги параболы $у = х^2$ от точки A(1,1) до точки B(2,4)"
   ]
  },
  {
   "cell_type": "code",
   "execution_count": 25,
   "id": "5e7047f0",
   "metadata": {},
   "outputs": [
    {
     "data": {
      "text/latex": [
       "$\\displaystyle - \\frac{\\sqrt{5}}{2} - \\frac{\\operatorname{asinh}{\\left(2 \\right)}}{4} + \\frac{\\operatorname{asinh}{\\left(4 \\right)}}{4} + \\sqrt{17}$"
      ],
      "text/plain": [
       "-sqrt(5)/2 - asinh(2)/4 + asinh(4)/4 + sqrt(17)"
      ]
     },
     "execution_count": 25,
     "metadata": {},
     "output_type": "execute_result"
    }
   ],
   "source": [
    "x = symbols('x')\n",
    "integrate(sqrt(1+diff(x**2)**2), (x,1,2))"
   ]
  },
  {
   "cell_type": "markdown",
   "id": "95b421b4",
   "metadata": {},
   "source": [
    "Пример 23. Вычислить длину дуги параболы $у^2 = х^3$ от точки M(0,0) до точки N(1,1)"
   ]
  },
  {
   "cell_type": "code",
   "execution_count": 26,
   "id": "19e1f755",
   "metadata": {},
   "outputs": [
    {
     "data": {
      "text/latex": [
       "$\\displaystyle 1.43970987337155$"
      ],
      "text/plain": [
       "1.43970987337155"
      ]
     },
     "execution_count": 26,
     "metadata": {},
     "output_type": "execute_result"
    }
   ],
   "source": [
    "integrate(sqrt(1+diff(pow(x,3/2))**2),(x,0,1))"
   ]
  },
  {
   "cell_type": "markdown",
   "id": "90cc5beb",
   "metadata": {},
   "source": [
    "### Экономические задачи"
   ]
  },
  {
   "cell_type": "markdown",
   "id": "4609f93a",
   "metadata": {},
   "source": [
    "Пример 24. Найдите функцию дохода $R(х)$, если предельный доход при реализации единиц продукции определяется по формуле\n",
    "$MR = бx^6 - 230$."
   ]
  },
  {
   "cell_type": "code",
   "execution_count": 27,
   "id": "17a5a68b",
   "metadata": {},
   "outputs": [
    {
     "data": {
      "text/latex": [
       "$\\displaystyle \\frac{6 x^{7}}{7} - 230 x$"
      ],
      "text/plain": [
       "6*x**7/7 - 230*x"
      ]
     },
     "execution_count": 27,
     "metadata": {},
     "output_type": "execute_result"
    }
   ],
   "source": [
    "x=symbols('x')\n",
    "y=integrate(6*x**6-230,x)\n",
    "y"
   ]
  },
  {
   "cell_type": "markdown",
   "id": "94360a8e",
   "metadata": {},
   "source": [
    "Пример 25. Найти функцию издержек TC(q), если предельные\n",
    "издержки заданы функцией $МС=18g^5 + 20q^4 +16q^3$, а начальные фиксированные затраты равны 790."
   ]
  },
  {
   "cell_type": "code",
   "execution_count": 28,
   "id": "8f547b53",
   "metadata": {},
   "outputs": [
    {
     "data": {
      "text/latex": [
       "$\\displaystyle 3 x^{6} + 4 x^{5} + \\frac{17 x^{4}}{4}$"
      ],
      "text/plain": [
       "3*x**6 + 4*x**5 + 17*x**4/4"
      ]
     },
     "execution_count": 28,
     "metadata": {},
     "output_type": "execute_result"
    }
   ],
   "source": [
    "x=symbols('x')\n",
    "y=integrate(18*x**5+20*x**4+17*x**3,x)\n",
    "y"
   ]
  },
  {
   "cell_type": "markdown",
   "id": "e1db3f18",
   "metadata": {},
   "source": [
    "Пример 26. Найти общую себестоимость выпуска q единиц\n",
    "продукции $ТС(q)$, если предельная себестоимость производства $q$\n",
    "единиц продукции задана функцией $МС = е^{7,8q}$, а начальные фиксированные затраты равны $21$."
   ]
  },
  {
   "cell_type": "code",
   "execution_count": 29,
   "id": "7a4a4f1c",
   "metadata": {},
   "outputs": [
    {
     "data": {
      "text/latex": [
       "$\\displaystyle 0.128205128205128 e^{7.8 x}$"
      ],
      "text/plain": [
       "0.128205128205128*exp(7.8*x)"
      ]
     },
     "execution_count": 29,
     "metadata": {},
     "output_type": "execute_result"
    }
   ],
   "source": [
    "x=symbols('x')\n",
    "y=integrate(exp(7.8*x),x)\n",
    "y"
   ]
  },
  {
   "cell_type": "markdown",
   "id": "fbbe9c39",
   "metadata": {},
   "source": [
    "Пример 27. Количество потребляемой предприятием электроэнергии меняется в течение суток в зависимости от времени $t$ со скоростью $v(t) = 8+4sin(—(t+7))$, где время $t$ измеряется в часах. Найти суммарный расход электроэнергии за сутки."
   ]
  },
  {
   "cell_type": "code",
   "execution_count": 30,
   "id": "7589e53b",
   "metadata": {},
   "outputs": [
    {
     "data": {
      "text/latex": [
       "$\\displaystyle 192$"
      ],
      "text/plain": [
       "192"
      ]
     },
     "execution_count": 30,
     "metadata": {},
     "output_type": "execute_result"
    }
   ],
   "source": [
    "x=symbols('x')\n",
    "y=integrate(8+4*sin(pi/4*(x+7)),(x,0,24))\n",
    "y"
   ]
  },
  {
   "cell_type": "markdown",
   "id": "e2eddc9f",
   "metadata": {},
   "source": [
    "Пример 28. Найти объем продукции, произведений за 6 лет, если\n",
    "функция Кобба - Дугласа имеет вид: $F(t) = (1 + t)e^{2t}$."
   ]
  },
  {
   "cell_type": "code",
   "execution_count": 31,
   "id": "b5d6e190",
   "metadata": {},
   "outputs": [
    {
     "data": {
      "text/latex": [
       "$\\displaystyle - \\frac{1}{4} + \\frac{13 e^{12}}{4}$"
      ],
      "text/plain": [
       "-1/4 + 13*exp(12)/4"
      ]
     },
     "execution_count": 31,
     "metadata": {},
     "output_type": "execute_result"
    }
   ],
   "source": [
    "x=symbols('x')\n",
    "y=integrate((1+x)*exp(2*x),(x,0,6))\n",
    "y"
   ]
  },
  {
   "cell_type": "markdown",
   "id": "dace046e",
   "metadata": {},
   "source": [
    "### Примеры решения задач"
   ]
  },
  {
   "cell_type": "markdown",
   "id": "ec399a03",
   "metadata": {},
   "source": [
    "1. Найти неопределенный интеграл. $\\int\\limits \\frac{(x-4)^2}{x}dx$"
   ]
  },
  {
   "cell_type": "code",
   "execution_count": 32,
   "id": "b20115c3",
   "metadata": {},
   "outputs": [
    {
     "data": {
      "text/latex": [
       "$\\displaystyle \\frac{x^{2}}{2} - 8 x + 16 \\log{\\left(x \\right)}$"
      ],
      "text/plain": [
       "x**2/2 - 8*x + 16*log(x)"
      ]
     },
     "execution_count": 32,
     "metadata": {},
     "output_type": "execute_result"
    }
   ],
   "source": [
    "x=sympy.symbols('x')\n",
    "y=integrate(((x-4)**2)/x,x)\n",
    "y"
   ]
  },
  {
   "cell_type": "markdown",
   "id": "3f8f888c",
   "metadata": {},
   "source": [
    "2. Найдите неопределенный интеграл. $\\int\\limits \\frac{4(1+cos^2x}{1+cos2x}dx$"
   ]
  },
  {
   "cell_type": "code",
   "execution_count": 33,
   "id": "bb406aba",
   "metadata": {},
   "outputs": [
    {
     "data": {
      "text/latex": [
       "$\\displaystyle 2 x + 2 \\tan{\\left(x \\right)}$"
      ],
      "text/plain": [
       "2*x + 2*tan(x)"
      ]
     },
     "execution_count": 33,
     "metadata": {},
     "output_type": "execute_result"
    }
   ],
   "source": [
    "x=sympy.symbols('x')\n",
    "y=integrate(4*(1+cos(x)**2)/(1+cos(2*x)),x)\n",
    "y"
   ]
  },
  {
   "cell_type": "markdown",
   "id": "22888438",
   "metadata": {},
   "source": [
    "19. Найдите определенный интеграл  $\\int\\limits_{-\\frac{11}{2}}^{-\\frac{5}{2}} \\frac{dx}{\\sqrt{-x^2-8x-7}}$ "
   ]
  },
  {
   "cell_type": "code",
   "execution_count": 34,
   "id": "d7a15cf1",
   "metadata": {},
   "outputs": [
    {
     "data": {
      "text/latex": [
       "$\\displaystyle 0.366204096222703$"
      ],
      "text/plain": [
       "0.366204096222703"
      ]
     },
     "execution_count": 34,
     "metadata": {},
     "output_type": "execute_result"
    }
   ],
   "source": [
    "x=sympy.symbols('x')\n",
    "y=integrate(1/(-x**2-8*x-7),(x,-11/2,-5/2))\n",
    "y"
   ]
  },
  {
   "cell_type": "markdown",
   "id": "73bfe96b",
   "metadata": {},
   "source": [
    "20. Найдите определенный интеграл $\\int\\limits_{2}^{3} x(28-3x^2)^{\\frac{1}{5}}dx$ "
   ]
  },
  {
   "cell_type": "code",
   "execution_count": 35,
   "id": "89fafeda",
   "metadata": {},
   "outputs": [
    {
     "data": {
      "text/latex": [
       "$\\displaystyle \\int\\limits_{2}^{3} \\begin{cases} - 0.999999999999999 x \\left(3 x^{2} - 28\\right)^{0.2} e^{1.2 i \\pi} & \\text{for}\\: x^{2} > \\frac{28}{3} \\\\0.999999999999999 x \\left(28 - 3 x^{2}\\right)^{0.2} & \\text{otherwise} \\end{cases}\\, dx$"
      ],
      "text/plain": [
       "Integral(Piecewise((-0.999999999999999*x*(3*x**2 - 28)**0.2*exp(1.2*I*pi), x**2 > 28/3), (0.999999999999999*x*(28 - 3*x**2)**0.2, True)), (x, 2, 3))"
      ]
     },
     "execution_count": 35,
     "metadata": {},
     "output_type": "execute_result"
    }
   ],
   "source": [
    "x=sympy.symbols('x')\n",
    "y=integrate(x*(28-3*x**2)**(1/5),(x,2,3))\n",
    "y"
   ]
  },
  {
   "cell_type": "markdown",
   "id": "92828e4a",
   "metadata": {},
   "source": [
    "40. Найдите несобственный интеграл или установите его расходимость $\\int\\limits_{0}^{4} \\frac{dx}{x^4}dx$ "
   ]
  },
  {
   "cell_type": "code",
   "execution_count": 36,
   "id": "5bb69189",
   "metadata": {},
   "outputs": [
    {
     "data": {
      "text/latex": [
       "$\\displaystyle \\infty$"
      ],
      "text/plain": [
       "oo"
      ]
     },
     "execution_count": 36,
     "metadata": {},
     "output_type": "execute_result"
    }
   ],
   "source": [
    "x=sympy.symbols('x')\n",
    "y=integrate(1/x**4,(x,0,4))\n",
    "y"
   ]
  },
  {
   "cell_type": "markdown",
   "id": "e3de227d",
   "metadata": {},
   "source": [
    "42. Найдите несобственный интеграл или установите его расходимость $\\int\\limits_{0}^{+\\infty} \\frac{dx}{x^3}dx$ "
   ]
  },
  {
   "cell_type": "code",
   "execution_count": 37,
   "id": "7576dfab",
   "metadata": {},
   "outputs": [
    {
     "data": {
      "text/latex": [
       "$\\displaystyle \\frac{1}{18}$"
      ],
      "text/plain": [
       "1/18"
      ]
     },
     "execution_count": 37,
     "metadata": {},
     "output_type": "execute_result"
    }
   ],
   "source": [
    "x=sympy.symbols('x')\n",
    "y=integrate(1/x**3, (x,3,oo))\n",
    "y"
   ]
  },
  {
   "cell_type": "markdown",
   "id": "d94d7763",
   "metadata": {},
   "source": [
    "47. Найти площадь фигуры, ограниченной линиями $у = 5х$, $у = Зх^2 — 9х +15$."
   ]
  },
  {
   "cell_type": "code",
   "execution_count": 38,
   "id": "40079bd3",
   "metadata": {},
   "outputs": [
    {
     "data": {
      "text/plain": [
       "[5/3, 3]"
      ]
     },
     "execution_count": 38,
     "metadata": {},
     "output_type": "execute_result"
    }
   ],
   "source": [
    "solve(5*x-(3*x**2-9*x+15),x)"
   ]
  },
  {
   "cell_type": "code",
   "execution_count": 39,
   "id": "7b3122f3",
   "metadata": {},
   "outputs": [
    {
     "data": {
      "text/latex": [
       "$\\displaystyle 1.18518518518518$"
      ],
      "text/plain": [
       "1.18518518518518"
      ]
     },
     "execution_count": 39,
     "metadata": {},
     "output_type": "execute_result"
    }
   ],
   "source": [
    "abs(integrate(5*x- (3*x**2-9*x+15), (x, 5/3, 3)))"
   ]
  },
  {
   "cell_type": "markdown",
   "id": "b199cc34",
   "metadata": {},
   "source": [
    "49. Вычислить кратный интеграл $\\int\\limits\\int\\limits (3y^3x-xy^2)dxdy$, по области $D = \\{(x, y) \t\\in \\real | -1 \\leq x \\leq 1, 3 \\leq y \\leq x \\}$"
   ]
  },
  {
   "cell_type": "code",
   "execution_count": null,
   "id": "6a7c6a39",
   "metadata": {},
   "outputs": [],
   "source": []
  },
  {
   "cell_type": "markdown",
   "id": "8cba65cc",
   "metadata": {},
   "source": [
    "## Задачи для самостоятельного решения"
   ]
  },
  {
   "cell_type": "markdown",
   "id": "5d1e85cd",
   "metadata": {},
   "source": [
    "## Задача 16:\n",
    "Вычислите предел <p>\n",
    "$\\lim_{x\\to+\\infty} (\\frac{4x+4}{5-2*ln(2x)})$"
   ]
  },
  {
   "cell_type": "code",
   "execution_count": 40,
   "id": "cd112c56",
   "metadata": {},
   "outputs": [
    {
     "data": {
      "text/latex": [
       "$\\displaystyle -\\infty$"
      ],
      "text/plain": [
       "-oo"
      ]
     },
     "execution_count": 40,
     "metadata": {},
     "output_type": "execute_result"
    }
   ],
   "source": [
    "x = Symbol('x')\n",
    "limit((4 * x + 4)/(5 - 2 * ln(2 * x)),x,oo)"
   ]
  },
  {
   "cell_type": "markdown",
   "id": "e8b7cc4a",
   "metadata": {},
   "source": [
    "### Индивидуальное задание"
   ]
  },
  {
   "cell_type": "markdown",
   "id": "1452e3bf",
   "metadata": {},
   "source": [
    "Компания производит товары по цене $C(x) = 100 + 5 * x ** 2 - 0.2 * x ** 3$ рублей, где x - количество произведенных товаров. Компания продает каждый товар по цене p(x) = 20 * x - 0.1 * x ** 2 - 5 * x ** 3 / 1000$ рублей. Найдите максимальную прибыль, которую может получить компания."
   ]
  },
  {
   "cell_type": "markdown",
   "id": "122a45fb",
   "metadata": {},
   "source": [
    "Чтобы решить эту проблему в Python, мы выполним следующие шаги:"
   ]
  },
  {
   "cell_type": "markdown",
   "id": "0642e3e0",
   "metadata": {},
   "source": [
    "Определяем переменные и функции:"
   ]
  },
  {
   "cell_type": "code",
   "execution_count": 41,
   "id": "4f7c5bad",
   "metadata": {},
   "outputs": [],
   "source": [
    "import sympy as sp\n",
    "\n",
    "x = sp.Symbol('x') # количество произведенных товаров\n",
    "\n",
    "C = 100 + 5 * x ** 2 - 0.2 * x ** 3 # функция затрат\n",
    "p = 20 * x - 0.1 * x ** 2 - 5 * x ** 3 / 1000 # функция цены"
   ]
  },
  {
   "cell_type": "markdown",
   "id": "a6dab566",
   "metadata": {},
   "source": [
    "Вычислим функцию выручки, R(x), которая является произведением количества произведенных виджетов и цены:"
   ]
  },
  {
   "cell_type": "code",
   "execution_count": 42,
   "id": "693d3eee",
   "metadata": {},
   "outputs": [
    {
     "data": {
      "text/latex": [
       "$\\displaystyle x \\left(- \\frac{x^{3}}{200} - 0.1 x^{2} + 20 x\\right)$"
      ],
      "text/plain": [
       "x*(-x**3/200 - 0.1*x**2 + 20*x)"
      ]
     },
     "execution_count": 42,
     "metadata": {},
     "output_type": "execute_result"
    }
   ],
   "source": [
    "R = p*x\n",
    "R"
   ]
  },
  {
   "cell_type": "markdown",
   "id": "1c1973fe",
   "metadata": {},
   "source": [
    "Рассчитаем функцию прибыли, P(x), которая представляет собой разницу между выручкой и затратами:"
   ]
  },
  {
   "cell_type": "code",
   "execution_count": 43,
   "id": "c274e197",
   "metadata": {},
   "outputs": [
    {
     "data": {
      "text/latex": [
       "$\\displaystyle 0.2 x^{3} - 5 x^{2} + x \\left(- \\frac{x^{3}}{200} - 0.1 x^{2} + 20 x\\right) - 100$"
      ],
      "text/plain": [
       "0.2*x**3 - 5*x**2 + x*(-x**3/200 - 0.1*x**2 + 20*x) - 100"
      ]
     },
     "execution_count": 43,
     "metadata": {},
     "output_type": "execute_result"
    }
   ],
   "source": [
    "P = R - C\n",
    "P"
   ]
  },
  {
   "cell_type": "markdown",
   "id": "c6bb655a",
   "metadata": {},
   "source": [
    "Найдем критические точки P(x), которые являются значениями x, при которых производная P(x) равна нулю:"
   ]
  },
  {
   "cell_type": "code",
   "execution_count": 44,
   "id": "a98e7330",
   "metadata": {},
   "outputs": [
    {
     "data": {
      "text/latex": [
       "$\\displaystyle - \\frac{x^{3}}{200} + 0.5 x^{2} + x \\left(- \\frac{3 x^{2}}{200} - 0.2 x + 20\\right) + 10 x$"
      ],
      "text/plain": [
       "-x**3/200 + 0.5*x**2 + x*(-3*x**2/200 - 0.2*x + 20) + 10*x"
      ]
     },
     "execution_count": 44,
     "metadata": {},
     "output_type": "execute_result"
    }
   ],
   "source": [
    "dP = sp.diff(P, x)\n",
    "dP"
   ]
  },
  {
   "cell_type": "code",
   "execution_count": 45,
   "id": "cca34185",
   "metadata": {},
   "outputs": [
    {
     "data": {
      "text/plain": [
       "[-31.9493345951487, 0.0, 46.9493345951487]"
      ]
     },
     "execution_count": 45,
     "metadata": {},
     "output_type": "execute_result"
    }
   ],
   "source": [
    "critical_points = sp.solve(dP, x)\n",
    "critical_points"
   ]
  },
  {
   "cell_type": "markdown",
   "id": "23c1ab27",
   "metadata": {},
   "source": [
    "Найдем вторую производную от P(x) и оценим ее в каждой критической точке, чтобы определить, соответствует ли каждая критическая точка максимуму или минимуму прибыли:"
   ]
  },
  {
   "cell_type": "code",
   "execution_count": 46,
   "id": "8c5bb270",
   "metadata": {},
   "outputs": [
    {
     "data": {
      "text/plain": [
       "[6740.38480362997, 19018.9901963700]"
      ]
     },
     "execution_count": 46,
     "metadata": {},
     "output_type": "execute_result"
    }
   ],
   "source": [
    "d2P = sp.diff(P, x, 2)\n",
    "max_profits = []\n",
    "for point in critical_points:\n",
    "    if d2P.subs(x, point) < 0:\n",
    "        max_profits.append(P.subs(x, point))\n",
    "\n",
    "max_profits"
   ]
  },
  {
   "cell_type": "markdown",
   "id": "e38e6960",
   "metadata": {},
   "source": [
    "Найдите максимальную прибыль, взяв максимум из прибылей, полученных в предыдущем шаге"
   ]
  },
  {
   "cell_type": "code",
   "execution_count": 47,
   "id": "eb401f5f",
   "metadata": {},
   "outputs": [],
   "source": [
    "max_profit = max(max_profits)"
   ]
  },
  {
   "cell_type": "code",
   "execution_count": 48,
   "id": "8da9cd4f",
   "metadata": {},
   "outputs": [
    {
     "name": "stdout",
     "output_type": "stream",
     "text": [
      "Максимальная прибыль, которую может получить компания, составляет 19018.99 рублей.\n"
     ]
    }
   ],
   "source": [
    "print(f\"Максимальная прибыль, которую может получить компания, составляет {max_profit:.2f} рублей.\")\n"
   ]
  }
 ],
 "metadata": {
  "kernelspec": {
   "display_name": "Python 3 (ipykernel)",
   "language": "python",
   "name": "python3"
  },
  "language_info": {
   "codemirror_mode": {
    "name": "ipython",
    "version": 3
   },
   "file_extension": ".py",
   "mimetype": "text/x-python",
   "name": "python",
   "nbconvert_exporter": "python",
   "pygments_lexer": "ipython3",
   "version": "3.11.2"
  }
 },
 "nbformat": 4,
 "nbformat_minor": 5
}
