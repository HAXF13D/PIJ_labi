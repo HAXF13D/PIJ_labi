{
 "cells": [
  {
   "cell_type": "markdown",
   "id": "d205c095",
   "metadata": {},
   "source": [
    "## Решение задач на Python, Предел, непрерывность, ряды\n"
   ]
  },
  {
   "cell_type": "markdown",
   "id": "4679d054",
   "metadata": {},
   "source": [
    "### Предел, непрерывность"
   ]
  },
  {
   "cell_type": "markdown",
   "id": "b8598fc1",
   "metadata": {},
   "source": [
    "Для вычисления пределов используется функция limit() библиотеки sympy. Синтаксис: sympy.limit (функция, предел которой вычисляется, переменная, предельное значение переменной, правосторонний, левосторонний или обычный предел). $sympy.limit (е, z, zO, dir='+')$ Параметры: вычисляется предел функции е от переменной z при стремлении к числу zo, zo может быть принимать бесконечные значения, оо и -оо; если dir=\"+-\" или эта позиция отсутствует, вычисляется обычный двусторонний предел, если dir=\"+\" - правосторонний, если dir=\"—\" - левосторонний пределы. Отметим, что символ бесконечности в языке Python - это две буквы о (оо)."
   ]
  },
  {
   "cell_type": "markdown",
   "id": "78730528",
   "metadata": {},
   "source": [
    "### Пример 1:\n",
    "Найти предел $\\lim_{x\\to\\infty} \\frac{6x^2+3x}{3x^2}$"
   ]
  },
  {
   "cell_type": "code",
   "execution_count": 1,
   "id": "7ab2b050",
   "metadata": {},
   "outputs": [
    {
     "data": {
      "text/latex": [
       "$\\displaystyle 2$"
      ],
      "text/plain": [
       "2"
      ]
     },
     "execution_count": 1,
     "metadata": {},
     "output_type": "execute_result"
    }
   ],
   "source": [
    "from sympy import *\n",
    "x = Symbol(\"x\")\n",
    "limit((6*x**2+3*x)/(3*x**2),x,oo)"
   ]
  },
  {
   "cell_type": "markdown",
   "id": "62d60a2f",
   "metadata": {},
   "source": [
    "### Пример 2:\n",
    "Пример 2. Вычислить пределы: <p>\n",
    "$\\lim_{x\\to0} \\frac{sin(x)}{x} = \\lim_{x\\to0} \\frac{x}{sin(x)} = 1$ <p>\n",
    "$\\lim_{x\\to0} (1 + x)^{(\\frac{1}{x})} = e$ <p>\n",
    "$\\lim_{x\\to\\infty} (1 + \\frac{1}{x})^x = e$ <p>"
   ]
  },
  {
   "cell_type": "code",
   "execution_count": 2,
   "id": "41ec2bbf",
   "metadata": {
    "scrolled": true
   },
   "outputs": [
    {
     "data": {
      "text/latex": [
       "$\\displaystyle 1$"
      ],
      "text/plain": [
       "1"
      ]
     },
     "execution_count": 2,
     "metadata": {},
     "output_type": "execute_result"
    }
   ],
   "source": [
    "limit(sin(x)/x,x,0)"
   ]
  },
  {
   "cell_type": "code",
   "execution_count": 3,
   "id": "a1442d3d",
   "metadata": {},
   "outputs": [
    {
     "data": {
      "text/latex": [
       "$\\displaystyle e$"
      ],
      "text/plain": [
       "E"
      ]
     },
     "execution_count": 3,
     "metadata": {},
     "output_type": "execute_result"
    }
   ],
   "source": [
    "limit((1+x)**(1/x),x,0)"
   ]
  },
  {
   "cell_type": "code",
   "execution_count": 4,
   "id": "34d529b6",
   "metadata": {},
   "outputs": [
    {
     "data": {
      "text/latex": [
       "$\\displaystyle e$"
      ],
      "text/plain": [
       "E"
      ]
     },
     "execution_count": 4,
     "metadata": {},
     "output_type": "execute_result"
    }
   ],
   "source": [
    "limit((1+1/x)**x,x,oo)"
   ]
  },
  {
   "cell_type": "markdown",
   "id": "4842449b",
   "metadata": {},
   "source": [
    "### Односторонние пределы"
   ]
  },
  {
   "cell_type": "markdown",
   "id": "8b97758d",
   "metadata": {},
   "source": [
    "Найдем левосторонний предел функции $f(x) = \\frac{1}{x}$ <p>\n",
    "Заметим, что вместо $dir='—'$ можно поставить просто $'—'$"
   ]
  },
  {
   "cell_type": "code",
   "execution_count": 5,
   "id": "862407bb",
   "metadata": {},
   "outputs": [
    {
     "data": {
      "text/latex": [
       "$\\displaystyle -\\infty$"
      ],
      "text/plain": [
       "-oo"
      ]
     },
     "execution_count": 5,
     "metadata": {},
     "output_type": "execute_result"
    }
   ],
   "source": [
    "limit(1/x,x,0,'-')"
   ]
  },
  {
   "cell_type": "markdown",
   "id": "a00d0a44",
   "metadata": {},
   "source": [
    "### Пример 3:\n",
    "Найти левосторонний и правосторонний пределы функции $\\frac{2^x-1}{x^2-3x}$, при $x\\to3$. <br/>\n"
   ]
  },
  {
   "cell_type": "code",
   "execution_count": 6,
   "id": "1d8d779a",
   "metadata": {
    "scrolled": true
   },
   "outputs": [
    {
     "data": {
      "text/latex": [
       "$\\displaystyle \\infty$"
      ],
      "text/plain": [
       "oo"
      ]
     },
     "execution_count": 6,
     "metadata": {},
     "output_type": "execute_result"
    }
   ],
   "source": [
    "limit((2**x-1)/(x**2-3*x),x,3,'+')"
   ]
  },
  {
   "cell_type": "code",
   "execution_count": 7,
   "id": "9084dcb6",
   "metadata": {},
   "outputs": [
    {
     "data": {
      "text/latex": [
       "$\\displaystyle -\\infty$"
      ],
      "text/plain": [
       "-oo"
      ]
     },
     "execution_count": 7,
     "metadata": {},
     "output_type": "execute_result"
    }
   ],
   "source": [
    "limit((2**x-1)/(x**2-3*x),x,3,'-')\n"
   ]
  },
  {
   "cell_type": "markdown",
   "id": "9ca9ca22",
   "metadata": {},
   "source": [
    "### Пример 4:"
   ]
  },
  {
   "cell_type": "code",
   "execution_count": 8,
   "id": "2b29b557",
   "metadata": {},
   "outputs": [
    {
     "data": {
      "text/latex": [
       "$\\displaystyle \\frac{5}{3}$"
      ],
      "text/plain": [
       "5/3"
      ]
     },
     "execution_count": 8,
     "metadata": {},
     "output_type": "execute_result"
    }
   ],
   "source": [
    "х=Symbol(\"х\")\n",
    "limit((5**x-5*7**x)/(4*5**x-3*7**x),x,oo)"
   ]
  },
  {
   "cell_type": "code",
   "execution_count": 9,
   "id": "1bdede0c",
   "metadata": {},
   "outputs": [
    {
     "data": {
      "text/latex": [
       "$\\displaystyle \\frac{7}{6}$"
      ],
      "text/plain": [
       "7/6"
      ]
     },
     "execution_count": 9,
     "metadata": {},
     "output_type": "execute_result"
    }
   ],
   "source": [
    "x=Symbol(\"x\")\n",
    "limit((7*8**x+2*9**x)/(6*8**x-6*9**x),x,-oo)"
   ]
  },
  {
   "cell_type": "code",
   "execution_count": 10,
   "id": "b43facfb",
   "metadata": {},
   "outputs": [
    {
     "data": {
      "text/latex": [
       "$\\displaystyle - \\frac{3}{2}$"
      ],
      "text/plain": [
       "-3/2"
      ]
     },
     "execution_count": 10,
     "metadata": {},
     "output_type": "execute_result"
    }
   ],
   "source": [
    "limit(sqrt(x*(x+3))-sqrt(x**2+9), x, -oo)"
   ]
  },
  {
   "cell_type": "markdown",
   "id": "138d19f9",
   "metadata": {},
   "source": [
    "### Пример 5:\n",
    "Найти точки разрыва функции и определить их типы \n",
    "$f(x) = \\frac{|x-2|(x-7)}{x^3-9x^2+14x}$.\n"
   ]
  },
  {
   "cell_type": "code",
   "execution_count": 11,
   "id": "df0b3a2f",
   "metadata": {},
   "outputs": [
    {
     "name": "stdout",
     "output_type": "stream",
     "text": [
      "[0, 2, 7]\n"
     ]
    }
   ],
   "source": [
    "x=Symbol(\"x\")\n",
    "print(solve(x**3-9*x**2+14*x))"
   ]
  },
  {
   "cell_type": "code",
   "execution_count": 12,
   "id": "5f86b2ef",
   "metadata": {},
   "outputs": [
    {
     "data": {
      "text/latex": [
       "$\\displaystyle \\infty$"
      ],
      "text/plain": [
       "oo"
      ]
     },
     "execution_count": 12,
     "metadata": {},
     "output_type": "execute_result"
    }
   ],
   "source": [
    "limit(abs(x-2)*(x-7)/(x**3-9*x**2+14*x),x, 0,'-')"
   ]
  },
  {
   "cell_type": "code",
   "execution_count": 13,
   "id": "e47beb20",
   "metadata": {},
   "outputs": [
    {
     "data": {
      "text/latex": [
       "$\\displaystyle -\\infty$"
      ],
      "text/plain": [
       "-oo"
      ]
     },
     "execution_count": 13,
     "metadata": {},
     "output_type": "execute_result"
    }
   ],
   "source": [
    "limit(abs(x-2)*(x-7)/(x**3-9*x**2+14*x),x, 0,'+')"
   ]
  },
  {
   "cell_type": "code",
   "execution_count": 14,
   "id": "50fe13e9",
   "metadata": {},
   "outputs": [
    {
     "data": {
      "text/latex": [
       "$\\displaystyle - \\frac{1}{2}$"
      ],
      "text/plain": [
       "-1/2"
      ]
     },
     "execution_count": 14,
     "metadata": {},
     "output_type": "execute_result"
    }
   ],
   "source": [
    "limit(abs(x-2)*(x-7)/(x**3-9*x**2+14*x),x, 2,'-')"
   ]
  },
  {
   "cell_type": "code",
   "execution_count": 15,
   "id": "ffa045fe",
   "metadata": {},
   "outputs": [
    {
     "data": {
      "text/latex": [
       "$\\displaystyle \\frac{1}{2}$"
      ],
      "text/plain": [
       "1/2"
      ]
     },
     "execution_count": 15,
     "metadata": {},
     "output_type": "execute_result"
    }
   ],
   "source": [
    "limit(abs(x-2)*(x-7)/(x**3-9*x**2+14*x),x, 2,'+')"
   ]
  },
  {
   "cell_type": "code",
   "execution_count": 16,
   "id": "fd3a8cfa",
   "metadata": {},
   "outputs": [
    {
     "data": {
      "text/latex": [
       "$\\displaystyle \\frac{1}{7}$"
      ],
      "text/plain": [
       "1/7"
      ]
     },
     "execution_count": 16,
     "metadata": {},
     "output_type": "execute_result"
    }
   ],
   "source": [
    "limit(abs(x-2)*(x-7)/(x**3-9*x**2+14*x),x, 7,'-')"
   ]
  },
  {
   "cell_type": "code",
   "execution_count": 17,
   "id": "09f9f685",
   "metadata": {},
   "outputs": [
    {
     "data": {
      "text/latex": [
       "$\\displaystyle \\frac{1}{7}$"
      ],
      "text/plain": [
       "1/7"
      ]
     },
     "execution_count": 17,
     "metadata": {},
     "output_type": "execute_result"
    }
   ],
   "source": [
    "limit(abs(x-2)*(x-7)/(x**3-9*x**2+14*x),x, 7,'+')"
   ]
  },
  {
   "cell_type": "markdown",
   "id": "73f44f0a",
   "metadata": {},
   "source": [
    "0 — точка разрыва $II$ рода, 7 — $I$ рода, устранимый разрыв, 2 — $I$ рода, неустранимый разрыв."
   ]
  },
  {
   "cell_type": "markdown",
   "id": "a1374c29",
   "metadata": {},
   "source": [
    "### Пример 6:\n",
    "Найти асимптоты графика функции $y = \\frac{1 + 5x}{3 + x}$ .\n"
   ]
  },
  {
   "cell_type": "markdown",
   "id": "dd0e2da0",
   "metadata": {},
   "source": [
    "Сначала найдем наклонные асимптоты $у = kx + b$."
   ]
  },
  {
   "cell_type": "code",
   "execution_count": 18,
   "id": "f7bdb036",
   "metadata": {},
   "outputs": [
    {
     "name": "stdout",
     "output_type": "stream",
     "text": [
      "0\n"
     ]
    }
   ],
   "source": [
    "k=limit((1 + 5*x)/(3+x)/x,x,oo)\n",
    "print(k)"
   ]
  },
  {
   "cell_type": "code",
   "execution_count": 19,
   "id": "2e75b354",
   "metadata": {},
   "outputs": [
    {
     "name": "stdout",
     "output_type": "stream",
     "text": [
      "5\n"
     ]
    }
   ],
   "source": [
    "b=limit((1+5*x)/(3+x)-k*x,x,oo)\n",
    "print(b)"
   ]
  },
  {
   "cell_type": "markdown",
   "id": "921bb826",
   "metadata": {},
   "source": [
    "Затем вертикальные."
   ]
  },
  {
   "cell_type": "code",
   "execution_count": 20,
   "id": "ca9435ce",
   "metadata": {},
   "outputs": [
    {
     "data": {
      "text/plain": [
       "[-3]"
      ]
     },
     "execution_count": 20,
     "metadata": {},
     "output_type": "execute_result"
    }
   ],
   "source": [
    "solve(3+x)"
   ]
  },
  {
   "cell_type": "code",
   "execution_count": 21,
   "id": "261d2772",
   "metadata": {},
   "outputs": [
    {
     "data": {
      "text/latex": [
       "$\\displaystyle \\infty$"
      ],
      "text/plain": [
       "oo"
      ]
     },
     "execution_count": 21,
     "metadata": {},
     "output_type": "execute_result"
    }
   ],
   "source": [
    "limit((1+5*х)/(3+х),х,-3, '-')"
   ]
  },
  {
   "cell_type": "code",
   "execution_count": 22,
   "id": "f4d68308",
   "metadata": {},
   "outputs": [
    {
     "data": {
      "text/latex": [
       "$\\displaystyle -\\infty$"
      ],
      "text/plain": [
       "-oo"
      ]
     },
     "execution_count": 22,
     "metadata": {},
     "output_type": "execute_result"
    }
   ],
   "source": [
    "limit((1+5*х)/(3+х),х,-3, '+')"
   ]
  },
  {
   "cell_type": "markdown",
   "id": "6244dede",
   "metadata": {},
   "source": [
    "$у = 5$ — горизонтальная асимптота, $х = -3$ — вертикальная асимптота."
   ]
  },
  {
   "cell_type": "markdown",
   "id": "b4fb4c0b",
   "metadata": {},
   "source": [
    "### Ряды"
   ]
  },
  {
   "cell_type": "markdown",
   "id": "a21546fc",
   "metadata": {},
   "source": [
    "### Пример 7:\n",
    "Найдем радиус и интервал сходимости степенного ряда <p> \n",
    "$\\sum_{n=1}^{\\infty} \\frac{x^n}{n!}$"
   ]
  },
  {
   "cell_type": "code",
   "execution_count": 23,
   "id": "4cdb6c1f",
   "metadata": {},
   "outputs": [
    {
     "data": {
      "text/latex": [
       "$\\displaystyle \\infty$"
      ],
      "text/plain": [
       "oo"
      ]
     },
     "execution_count": 23,
     "metadata": {},
     "output_type": "execute_result"
    }
   ],
   "source": [
    "import math as m\n",
    "x=symbols('x')\n",
    "limit(1/factorial(x)/(1/factorial(x+1)),x,oo)"
   ]
  },
  {
   "cell_type": "markdown",
   "id": "15602674",
   "metadata": {},
   "source": [
    "### Пример 8:\n",
    "Найдем радиус сходимости степенного ряда <p>\n",
    "$\\sum_{n=1}^{\\infty} \\frac{n^n}{n!}x^n$"
   ]
  },
  {
   "cell_type": "code",
   "execution_count": 24,
   "id": "800c82b4",
   "metadata": {},
   "outputs": [
    {
     "data": {
      "text/latex": [
       "$\\displaystyle e^{-1}$"
      ],
      "text/plain": [
       "exp(-1)"
      ]
     },
     "execution_count": 24,
     "metadata": {},
     "output_type": "execute_result"
    }
   ],
   "source": [
    "x=Symbol('x')\n",
    "limit(x**x/factorial(x)/((x+1)**(x+1)/factorial(x+1)),x,oo)"
   ]
  },
  {
   "cell_type": "markdown",
   "id": "9b4b9df6",
   "metadata": {},
   "source": [
    "### Пример 9:\n",
    "Разложим в ряд Мак Лорена функции <p>\n",
    "$f(х) = sinx, f(x) = cos(x), f(x) = e^x,f(x) = arcsin(x)$"
   ]
  },
  {
   "cell_type": "code",
   "execution_count": 25,
   "id": "3e0517cd",
   "metadata": {},
   "outputs": [
    {
     "name": "stdout",
     "output_type": "stream",
     "text": [
      "x - x**3/6 + x**5/120 - x**7/5040 + x**9/362880 + O(x**10)\n"
     ]
    }
   ],
   "source": [
    "х = symbols('х')\n",
    "func = sin(x)\n",
    "x0=0\n",
    "print((func).series(x, x0, 10))"
   ]
  },
  {
   "cell_type": "code",
   "execution_count": 26,
   "id": "5b18596e",
   "metadata": {},
   "outputs": [
    {
     "name": "stdout",
     "output_type": "stream",
     "text": [
      "1 - x**2/2 + x**4/24 - x**6/720 + x**8/40320 + O(x**10)\n"
     ]
    }
   ],
   "source": [
    "x = symbols('x')\n",
    "func = cos(x)\n",
    "x0=0\n",
    "print((func).series(x, x0, 10))"
   ]
  },
  {
   "cell_type": "code",
   "execution_count": 27,
   "id": "6227198d",
   "metadata": {},
   "outputs": [
    {
     "name": "stdout",
     "output_type": "stream",
     "text": [
      "1 + x + x**2/2 + x**3/6 + x**4/24 + x**5/120 + x**6/720 + x**7/5040 + x**8/40320 + x**9/362880 + O(x**10)\n"
     ]
    }
   ],
   "source": [
    "x = symbols('x')\n",
    "func = exp(x)\n",
    "x0=0\n",
    "print((func).series(x, x0, 10))"
   ]
  },
  {
   "cell_type": "code",
   "execution_count": 28,
   "id": "af7a48cb",
   "metadata": {},
   "outputs": [
    {
     "data": {
      "text/latex": [
       "$\\displaystyle x + \\frac{x^{3}}{6} + \\frac{3 x^{5}}{40} + \\frac{5 x^{7}}{112} + \\frac{35 x^{9}}{1152} + O\\left(x^{10}\\right)$"
      ],
      "text/plain": [
       "x + x**3/6 + 3*x**5/40 + 5*x**7/112 + 35*x**9/1152 + O(x**10)"
      ]
     },
     "execution_count": 28,
     "metadata": {},
     "output_type": "execute_result"
    }
   ],
   "source": [
    "func=asin(x)\n",
    "X0=0\n",
    "func.series(x,x0,10)"
   ]
  },
  {
   "cell_type": "markdown",
   "id": "5826c601",
   "metadata": {},
   "source": [
    "## Примеры решения задач"
   ]
  },
  {
   "cell_type": "markdown",
   "id": "5747a545",
   "metadata": {},
   "source": [
    "### Пример 1:\n",
    "Вычислите предел последовательности <p>\n",
    "$\\lim_{n\\to\\infty} \\frac{6n^2+1}{7n^2-3n+9}$"
   ]
  },
  {
   "cell_type": "code",
   "execution_count": 29,
   "id": "3e679269",
   "metadata": {
    "scrolled": true
   },
   "outputs": [
    {
     "data": {
      "text/latex": [
       "$\\displaystyle \\frac{6}{7}$"
      ],
      "text/plain": [
       "6/7"
      ]
     },
     "execution_count": 29,
     "metadata": {},
     "output_type": "execute_result"
    }
   ],
   "source": [
    "n = Symbol('n')\n",
    "limit((6 * n ** 2 + 1)/(7 * n ** 2 - 3 * n + 9),n,oo)"
   ]
  },
  {
   "cell_type": "markdown",
   "id": "9a3b6351",
   "metadata": {},
   "source": [
    "## Пример 2:\n",
    "Вычислите предел последовательности <p>\n",
    "$\\lim_{n\\to\\infty} (\\frac{-3n^3+4n^2-8n-6}{4n^2+2n})$"
   ]
  },
  {
   "cell_type": "code",
   "execution_count": 30,
   "id": "9466bf51",
   "metadata": {},
   "outputs": [
    {
     "data": {
      "text/latex": [
       "$\\displaystyle -\\infty$"
      ],
      "text/plain": [
       "-oo"
      ]
     },
     "execution_count": 30,
     "metadata": {},
     "output_type": "execute_result"
    }
   ],
   "source": [
    "n = Symbol('n')\n",
    "limit((-3*n**3+4*n**2-8*n-6)/(4*n**2+2*n),n,oo)"
   ]
  },
  {
   "cell_type": "markdown",
   "id": "b72dd00a",
   "metadata": {},
   "source": [
    "## Пример 3:\n",
    "Вычислите предел последовательности <p>\n",
    "$\\lim_{n\\to\\infty} (\\frac{n^2-3n}{-5n^3+4n^2+9})$"
   ]
  },
  {
   "cell_type": "code",
   "execution_count": 31,
   "id": "e3e0f751",
   "metadata": {},
   "outputs": [
    {
     "data": {
      "text/latex": [
       "$\\displaystyle 0$"
      ],
      "text/plain": [
       "0"
      ]
     },
     "execution_count": 31,
     "metadata": {},
     "output_type": "execute_result"
    }
   ],
   "source": [
    "n = Symbol('n')\n",
    "limit((n**2-3*n)/(-5*n**3+4*n**2+9),n,oo)"
   ]
  },
  {
   "cell_type": "markdown",
   "id": "3233414a",
   "metadata": {},
   "source": [
    "## Пример 4:\n",
    "Вычислите предел последовательности <p>\n",
    "$\\lim_{n\\to\\infty} (\\frac{-7n+10}{\\sqrt{9n^2+10n}})$"
   ]
  },
  {
   "cell_type": "code",
   "execution_count": 32,
   "id": "5a5ecd54",
   "metadata": {
    "scrolled": true
   },
   "outputs": [
    {
     "data": {
      "text/latex": [
       "$\\displaystyle - \\frac{7}{3}$"
      ],
      "text/plain": [
       "-7/3"
      ]
     },
     "execution_count": 32,
     "metadata": {},
     "output_type": "execute_result"
    }
   ],
   "source": [
    "n = Symbol('n')\n",
    "limit((-7*n+10)/(sqrt(9*n**2 + 10 * n)),n,oo)"
   ]
  },
  {
   "cell_type": "markdown",
   "id": "31edff30",
   "metadata": {},
   "source": [
    "## Пример 17:\n",
    "Вычислите предел последовательности <p>\n",
    "$\\lim_{n\\to\\infty} (\\frac{4*7^{-n}-5*2^{-n}-5}{5*2^{-n}+5*7^{-n}-3})$"
   ]
  },
  {
   "cell_type": "code",
   "execution_count": 33,
   "id": "8bd8120b",
   "metadata": {},
   "outputs": [
    {
     "data": {
      "text/latex": [
       "$\\displaystyle \\frac{5}{3}$"
      ],
      "text/plain": [
       "5/3"
      ]
     },
     "execution_count": 33,
     "metadata": {},
     "output_type": "execute_result"
    }
   ],
   "source": [
    "n = Symbol('n')\n",
    "limit((4 * 7 ** (-n) - 5 * 2 ** (-n) - 5)/(5 * 2 ** (-n) + 5 * 7 ** (-n) - 3),n,oo)"
   ]
  },
  {
   "cell_type": "markdown",
   "id": "f38476f3",
   "metadata": {},
   "source": [
    "## Пример 20:\n",
    "Вычислите предел последовательности <p>\n",
    "$\\lim_{n\\to\\infty} (2n-\\sqrt{4n^2-5n+3})$"
   ]
  },
  {
   "cell_type": "code",
   "execution_count": 34,
   "id": "6673b7e5",
   "metadata": {},
   "outputs": [
    {
     "data": {
      "text/latex": [
       "$\\displaystyle \\frac{5}{4}$"
      ],
      "text/plain": [
       "5/4"
      ]
     },
     "execution_count": 34,
     "metadata": {},
     "output_type": "execute_result"
    }
   ],
   "source": [
    "n = Symbol('n')\n",
    "limit((2 * n - sqrt(4 * n ** 2 - 5 * n + 3)),n,oo)"
   ]
  },
  {
   "cell_type": "markdown",
   "id": "8cba65cc",
   "metadata": {},
   "source": [
    "## Задачи для самостоятельного решения"
   ]
  },
  {
   "cell_type": "markdown",
   "id": "4acd286f",
   "metadata": {},
   "source": [
    "## Задача 16:\n",
    "Вычислите предел <p>\n",
    "$\\lim_{x\\to+\\infty} (\\frac{4x+4}{5-2*ln(2x)})$"
   ]
  },
  {
   "cell_type": "code",
   "execution_count": 35,
   "id": "1c9bc2b8",
   "metadata": {},
   "outputs": [
    {
     "data": {
      "text/latex": [
       "$\\displaystyle -\\infty$"
      ],
      "text/plain": [
       "-oo"
      ]
     },
     "execution_count": 35,
     "metadata": {},
     "output_type": "execute_result"
    }
   ],
   "source": [
    "x = Symbol('x')\n",
    "limit((4 * x + 4)/(5 - 2 * ln(2 * x)),x,oo)"
   ]
  },
  {
   "cell_type": "markdown",
   "id": "e8b7cc4a",
   "metadata": {},
   "source": [
    "### Индивидуальное задание"
   ]
  },
  {
   "cell_type": "markdown",
   "id": "1452e3bf",
   "metadata": {},
   "source": [
    "Цепь состоит из резистора, индуктора и конденсатора, соединенных последовательно. Значения этих компонентов заданы R = 10 Ом, L = 0,1 Генри и C = 0,001 Фарад. В момент t = 0 напряжение в цепи равно 5 вольтам. Постройте график зависимости силы тока от времени."
   ]
  },
  {
   "cell_type": "markdown",
   "id": "122a45fb",
   "metadata": {},
   "source": [
    "Чтобы решить эту задачу с помощью Python, мы можем использовать следующее уравнение, которое описывает поведение RLC-цепи:$\\frac{d^2I}{dt^2} + \\frac{R}{L}*\\frac{dI}{dt} + \\frac{1}{LC}*I = 0$"
   ]
  },
  {
   "cell_type": "markdown",
   "id": "859411db",
   "metadata": {},
   "source": [
    "Здесь I - ток через цепь, R - сопротивление резистора, L - индуктивность индуктора, C - емкость конденсатора, а t - время. Мы можем переписать это уравнение следующим образом: $\\frac{dI}{dt} = \\frac{V}{Ls^2 + Rs + \\frac{1}{C}}$, где V - напряжение в цепи, а s - переменная Лапласа. Затем мы можем решить это уравнение с помощью функции nsolve, чтобы найти зависимость силы тока через цепьи от времени."
   ]
  },
  {
   "cell_type": "markdown",
   "id": "c073fe14",
   "metadata": {},
   "source": [
    "Код, для построения зависимости:"
   ]
  },
  {
   "cell_type": "code",
   "execution_count": 38,
   "id": "4dad0728",
   "metadata": {},
   "outputs": [],
   "source": [
    "%matplotlib inline"
   ]
  },
  {
   "cell_type": "code",
   "execution_count": 39,
   "id": "2dfcb2b3",
   "metadata": {},
   "outputs": [
    {
     "data": {
      "image/png": "[encoded data removed]",
      "text/plain": [
       "<Figure size 640x480 with 1 Axes>"
      ]
     },
     "metadata": {},
     "output_type": "display_data"
    }
   ],
   "source": [
    "import numpy as np\n",
    "import sympy as sp\n",
    "import matplotlib.pyplot as plt\n",
    "\n",
    "# Объявление парамтеров схемы\n",
    "R = 10    # Ом\n",
    "L = 0.1   # Генри\n",
    "C = 0.001 # Фарад\n",
    "V0 = 5    # Воль\n",
    "\n",
    "# Объявление переменной времени\n",
    "t = sp.symbols('t')\n",
    "\n",
    "# Объявление дифференциальное уравнение для тока\n",
    "I = sp.Function('I')(t)\n",
    "eqn = sp.Eq(L*sp.diff(I,t,2) + R*sp.diff(I,t) + 1/C*I, 0)\n",
    "\n",
    "# Решение дифференциального уравнения\n",
    "sol = sp.dsolve(eqn, I)\n",
    "\n",
    "# Нахождение констант интегрирования\n",
    "C1, C2 = sp.symbols('C1 C2')\n",
    "consts = sp.solve([sol.rhs.subs(t,0), sol.rhs.diff(t).subs(t,0) + V0/L], [C1, C2])\n",
    "sol = sol.subs(consts)\n",
    "\n",
    "# Преобразование выражения SymPy в функцию NumPy\n",
    "I_func = sp.lambdify(t, sol.rhs, 'numpy')\n",
    "\n",
    "# Создание массива времени и расчет силы тока в каждой временной точке\n",
    "t_array = np.linspace(0, 1, 1000)  # от 0 до 1 с\n",
    "I_array = I_func(t_array)\n",
    "\n",
    "# Построение график зависимости тока от времени\n",
    "plt.plot(t_array, I_array)\n",
    "plt.xlabel('Время (s)')\n",
    "plt.ylabel('СИла тока (A)')\n",
    "plt.show()\n"
   ]
  },
  {
   "cell_type": "code",
   "execution_count": null,
   "id": "e620548d",
   "metadata": {},
   "outputs": [],
   "source": []
  }
 ],
 "metadata": {
  "kernelspec": {
   "display_name": "Python 3 (ipykernel)",
   "language": "python",
   "name": "python3"
  },
  "language_info": {
   "codemirror_mode": {
    "name": "ipython",
    "version": 3
   },
   "file_extension": ".py",
   "mimetype": "text/x-python",
   "name": "python",
   "nbconvert_exporter": "python",
   "pygments_lexer": "ipython3",
   "version": "3.11.2"
  }
 },
 "nbformat": 4,
 "nbformat_minor": 5
}
