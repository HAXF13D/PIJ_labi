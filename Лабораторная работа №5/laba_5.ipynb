{
 "cells": [
  {
   "cell_type": "markdown",
   "id": "3a6bb59d",
   "metadata": {},
   "source": [
    "## Дифференциальные уравнения"
   ]
  },
  {
   "cell_type": "code",
   "execution_count": 1,
   "id": "aef4352c",
   "metadata": {},
   "outputs": [],
   "source": [
    "from sympy import *\n",
    "import numpy as np\n",
    "from scipy.integrate import odeint\n",
    "import matplotlib.pyplot as plt\n",
    "%matplotlib inline"
   ]
  },
  {
   "cell_type": "markdown",
   "id": "4365fea3",
   "metadata": {},
   "source": [
    "### Пример 1"
   ]
  },
  {
   "cell_type": "code",
   "execution_count": 2,
   "id": "ae3430ac",
   "metadata": {},
   "outputs": [],
   "source": [
    "x = symbols('x')\n",
    "y = Function('y')"
   ]
  },
  {
   "cell_type": "code",
   "execution_count": 3,
   "id": "92af6efa",
   "metadata": {},
   "outputs": [
    {
     "data": {
      "text/latex": [
       "$\\displaystyle y{\\left(x \\right)} = C_{1} + 2 e^{\\sqrt{x} - 2}$"
      ],
      "text/plain": [
       "Eq(y(x), C1 + 2*exp(sqrt(x) - 2))"
      ]
     },
     "execution_count": 3,
     "metadata": {},
     "output_type": "execute_result"
    }
   ],
   "source": [
    "eq = diff(y(x),x) - (exp(sqrt(x)-2)/sqrt(x))\n",
    "dsolve(eq,y(x)).simplify()"
   ]
  },
  {
   "cell_type": "markdown",
   "id": "ef878392",
   "metadata": {},
   "source": [
    "###  Пример 2"
   ]
  },
  {
   "cell_type": "code",
   "execution_count": 4,
   "id": "429cb81e",
   "metadata": {},
   "outputs": [
    {
     "data": {
      "text/latex": [
       "$\\displaystyle y{\\left(x \\right)} = C_{1} \\left(x + 1\\right) e^{- x}$"
      ],
      "text/plain": [
       "Eq(y(x), C1*(x + 1)*exp(-x))"
      ]
     },
     "execution_count": 4,
     "metadata": {},
     "output_type": "execute_result"
    }
   ],
   "source": [
    "eq = (x+1)*diff(y(x),x) + x*y(x)\n",
    "dsolve(eq, y(x))"
   ]
  },
  {
   "cell_type": "markdown",
   "id": "c0de12d4",
   "metadata": {},
   "source": [
    "###  Пример 3"
   ]
  },
  {
   "cell_type": "code",
   "execution_count": 5,
   "id": "f4a12bbc",
   "metadata": {},
   "outputs": [
    {
     "data": {
      "text/latex": [
       "$\\displaystyle y{\\left(x \\right)} = x \\cosh{\\left(C_{1} - \\log{\\left(x \\right)} \\right)}$"
      ],
      "text/plain": [
       "Eq(y(x), x*cosh(C1 - log(x)))"
      ]
     },
     "execution_count": 5,
     "metadata": {},
     "output_type": "execute_result"
    }
   ],
   "source": [
    "eq = x*diff(y(x),x) - y(x) - sqrt(y(x)**2-x**2)\n",
    "dsolve(eq, y(x))"
   ]
  },
  {
   "cell_type": "markdown",
   "id": "e96700ad",
   "metadata": {},
   "source": [
    "###  Пример 4"
   ]
  },
  {
   "cell_type": "code",
   "execution_count": 6,
   "id": "14ffac5a",
   "metadata": {},
   "outputs": [
    {
     "data": {
      "text/latex": [
       "$\\displaystyle \\log{\\left(z \\right)} - \\frac{1}{2 z^{2}}$"
      ],
      "text/plain": [
       "log(z) - 1/(2*z**2)"
      ]
     },
     "execution_count": 6,
     "metadata": {},
     "output_type": "execute_result"
    }
   ],
   "source": [
    "z = symbols('z')\n",
    "fz = (1+z**2)/z**3\n",
    "I1 = integrate(fz)\n",
    "I1"
   ]
  },
  {
   "cell_type": "code",
   "execution_count": 7,
   "id": "ba45dc60",
   "metadata": {},
   "outputs": [
    {
     "data": {
      "text/latex": [
       "$\\displaystyle - \\log{\\left(x \\right)}$"
      ],
      "text/plain": [
       "-log(x)"
      ]
     },
     "execution_count": 7,
     "metadata": {},
     "output_type": "execute_result"
    }
   ],
   "source": [
    "I2 = -integrate(1/x)\n",
    "I2"
   ]
  },
  {
   "cell_type": "markdown",
   "id": "6cb96a69",
   "metadata": {},
   "source": [
    "###  Пример 5"
   ]
  },
  {
   "cell_type": "code",
   "execution_count": 8,
   "id": "18ddcccd",
   "metadata": {},
   "outputs": [
    {
     "data": {
      "text/latex": [
       "$\\displaystyle v{\\left(u \\right)} = u \\left(C_{1} + 0.5 \\log{\\left(u \\right)}\\right)$"
      ],
      "text/plain": [
       "Eq(v(u), u*(C1 + 0.5*log(u)))"
      ]
     },
     "execution_count": 8,
     "metadata": {},
     "output_type": "execute_result"
    }
   ],
   "source": [
    "u = symbols('u')\n",
    "v = Function('v')\n",
    "eq = diff(v(u), u) - v(u)/u - 1/2\n",
    "dsolve(eq, v(u))"
   ]
  },
  {
   "cell_type": "markdown",
   "id": "3fe0aaff",
   "metadata": {},
   "source": [
    "###  Пример 6"
   ]
  },
  {
   "cell_type": "code",
   "execution_count": 9,
   "id": "916e7dfa",
   "metadata": {},
   "outputs": [
    {
     "data": {
      "text/latex": [
       "$\\displaystyle y{\\left(x \\right)} = x \\left(C_{1} + \\frac{x^{2}}{2}\\right)$"
      ],
      "text/plain": [
       "Eq(y(x), x*(C1 + x**2/2))"
      ]
     },
     "execution_count": 9,
     "metadata": {},
     "output_type": "execute_result"
    }
   ],
   "source": [
    "eq = x*diff(y(x),x) - y(x) - x**3\n",
    "dsolve(eq, y(x))"
   ]
  },
  {
   "cell_type": "markdown",
   "id": "d4f841c4",
   "metadata": {},
   "source": [
    "###  Пример 7"
   ]
  },
  {
   "cell_type": "code",
   "execution_count": 10,
   "id": "afaf5693",
   "metadata": {},
   "outputs": [
    {
     "data": {
      "text/latex": [
       "$\\displaystyle y{\\left(x \\right)} = C_{1} e^{- 2 x^{2}}$"
      ],
      "text/plain": [
       "Eq(y(x), C1*exp(-2*x**2))"
      ]
     },
     "execution_count": 10,
     "metadata": {},
     "output_type": "execute_result"
    }
   ],
   "source": [
    "eq = diff(y(x),x)+4*x*y(x)\n",
    "dsolve(eq,y(x))"
   ]
  },
  {
   "cell_type": "code",
   "execution_count": 11,
   "id": "254d5774",
   "metadata": {},
   "outputs": [
    {
     "data": {
      "text/latex": [
       "$\\displaystyle 3 e^{x^{2}}$"
      ],
      "text/plain": [
       "3*exp(x**2)"
      ]
     },
     "execution_count": 11,
     "metadata": {},
     "output_type": "execute_result"
    }
   ],
   "source": [
    "integrate(6*x*exp(x**2),x)"
   ]
  },
  {
   "cell_type": "markdown",
   "id": "efd83d0b",
   "metadata": {},
   "source": [
    "###  Пример 8"
   ]
  },
  {
   "cell_type": "code",
   "execution_count": 12,
   "id": "33f31e42",
   "metadata": {},
   "outputs": [
    {
     "data": {
      "text/latex": [
       "$\\displaystyle x{\\left(y \\right)} = y^{2} \\left(C_{1} + y\\right)$"
      ],
      "text/plain": [
       "Eq(x(y), y**2*(C1 + y))"
      ]
     },
     "execution_count": 12,
     "metadata": {},
     "output_type": "execute_result"
    }
   ],
   "source": [
    "y = symbols('y')\n",
    "x = Function('x')\n",
    "eq = diff(x(y),y) - 2*x(y)/y - y**2\n",
    "dsolve(eq, x(y))"
   ]
  },
  {
   "cell_type": "markdown",
   "id": "f05931c7",
   "metadata": {},
   "source": [
    "###  Пример 9"
   ]
  },
  {
   "cell_type": "code",
   "execution_count": 13,
   "id": "f527af37",
   "metadata": {},
   "outputs": [
    {
     "data": {
      "text/latex": [
       "$\\displaystyle y{\\left(x \\right)} = \\frac{6 x}{C_{1} - x^{6}}$"
      ],
      "text/plain": [
       "Eq(y(x), 6*x/(C1 - x**6))"
      ]
     },
     "execution_count": 13,
     "metadata": {},
     "output_type": "execute_result"
    }
   ],
   "source": [
    "x = symbols('x')\n",
    "y = Function('y')\n",
    "eq = diff(y(x),x) - y(x)/x - (x**4)*(y(x)**2)\n",
    "dsolve(eq,y(x))"
   ]
  },
  {
   "cell_type": "markdown",
   "id": "c6cea9ff",
   "metadata": {},
   "source": [
    "###  Пример 10"
   ]
  },
  {
   "cell_type": "code",
   "execution_count": 14,
   "id": "f7da6bfe",
   "metadata": {},
   "outputs": [
    {
     "data": {
      "text/latex": [
       "$\\displaystyle z{\\left(x \\right)} = C_{1} e^{- 2 x^{2}} + 1$"
      ],
      "text/plain": [
       "Eq(z(x), C1*exp(-2*x**2) + 1)"
      ]
     },
     "execution_count": 14,
     "metadata": {},
     "output_type": "execute_result"
    }
   ],
   "source": [
    "z = Function('z')\n",
    "eq = diff(z(x),x)/4 + x*z(x) - x\n",
    "dsolve(eq, z(x))"
   ]
  },
  {
   "cell_type": "markdown",
   "id": "cfc5451e",
   "metadata": {},
   "source": [
    "###  Пример 11"
   ]
  },
  {
   "cell_type": "code",
   "execution_count": 15,
   "id": "6a3599c7",
   "metadata": {},
   "outputs": [
    {
     "data": {
      "text/latex": [
       "$\\displaystyle u{\\left(x \\right)} = \\frac{3}{C_{1} x^{4} - x}$"
      ],
      "text/plain": [
       "Eq(u(x), 3/(C1*x**4 - x))"
      ]
     },
     "execution_count": 15,
     "metadata": {},
     "output_type": "execute_result"
    }
   ],
   "source": [
    "u = Function('u')\n",
    "eq = diff(u(x),x) + 4*u(x)/x + u(x)**2\n",
    "des = dsolve(eq, u(x))\n",
    "des.simplify()"
   ]
  },
  {
   "cell_type": "markdown",
   "id": "c789ff72",
   "metadata": {},
   "source": [
    "###  Пример 12"
   ]
  },
  {
   "cell_type": "code",
   "execution_count": 16,
   "id": "2f0c24c4",
   "metadata": {},
   "outputs": [
    {
     "data": {
      "text/latex": [
       "$\\displaystyle y{\\left(x \\right)} = \\frac{C_{1} - x^{3}}{2 x - 3}$"
      ],
      "text/plain": [
       "Eq(y(x), (C1 - x**3)/(2*x - 3))"
      ]
     },
     "execution_count": 16,
     "metadata": {},
     "output_type": "execute_result"
    }
   ],
   "source": [
    "eq = (2*x-3)*diff(y(x),x) + 3*x**2+2*y(x)\n",
    "dsolve(eq,y(x))"
   ]
  },
  {
   "cell_type": "markdown",
   "id": "a2fd79df",
   "metadata": {},
   "source": [
    "###  Пример 13"
   ]
  },
  {
   "cell_type": "code",
   "execution_count": 17,
   "id": "cfd2228e",
   "metadata": {},
   "outputs": [
    {
     "data": {
      "text/latex": [
       "$\\displaystyle x^{2} y - \\frac{y^{3}}{3}$"
      ],
      "text/plain": [
       "x**2*y - y**3/3"
      ]
     },
     "execution_count": 17,
     "metadata": {},
     "output_type": "execute_result"
    }
   ],
   "source": [
    "x,y = symbols('x y')\n",
    "Q = x**2 - y**2\n",
    "I2 = integrate(Q, (y,0,y))\n",
    "I2"
   ]
  },
  {
   "cell_type": "markdown",
   "id": "173c9b4c",
   "metadata": {},
   "source": [
    "###  Пример 14"
   ]
  },
  {
   "cell_type": "code",
   "execution_count": 18,
   "id": "7a8711b7",
   "metadata": {},
   "outputs": [
    {
     "data": {
      "text/latex": [
       "$\\displaystyle y{\\left(x \\right)} = - \\frac{1}{C_{1} - \\log{\\left(x^{2} - 1 \\right)}}$"
      ],
      "text/plain": [
       "Eq(y(x), -1/(C1 - log(x**2 - 1)))"
      ]
     },
     "execution_count": 18,
     "metadata": {},
     "output_type": "execute_result"
    }
   ],
   "source": [
    "x = symbols('x')\n",
    "y = Function('y')\n",
    "eq = (x**2-1)*diff(y(x), x) + 2*x*y(x)**2\n",
    "dsolve(eq, y(x))"
   ]
  },
  {
   "cell_type": "markdown",
   "id": "615c3b5f",
   "metadata": {},
   "source": [
    "###  Пример 15"
   ]
  },
  {
   "cell_type": "code",
   "execution_count": 19,
   "id": "0e77840f",
   "metadata": {},
   "outputs": [
    {
     "data": {
      "text/latex": [
       "$\\displaystyle y{\\left(x \\right)} = \\frac{x}{C_{1} + x \\log{\\left(x \\right)}^{2}}$"
      ],
      "text/plain": [
       "Eq(y(x), x/(C1 + x*log(x)**2))"
      ]
     },
     "execution_count": 19,
     "metadata": {},
     "output_type": "execute_result"
    }
   ],
   "source": [
    "eq = x*diff(y(x),x) - y(x) + y(x)**2*(log(x)+2)*log(x)\n",
    "des = dsolve(eq, y(x))\n",
    "des"
   ]
  },
  {
   "cell_type": "markdown",
   "id": "0b08ed5c",
   "metadata": {},
   "source": [
    "###  Пример 16"
   ]
  },
  {
   "cell_type": "code",
   "execution_count": 20,
   "id": "03bf4f1a",
   "metadata": {},
   "outputs": [
    {
     "data": {
      "text/latex": [
       "$\\displaystyle y{\\left(x \\right)} = C_{1} e^{- \\operatorname{atan}{\\left(x \\right)}}$"
      ],
      "text/plain": [
       "Eq(y(x), C1*exp(-atan(x)))"
      ]
     },
     "execution_count": 20,
     "metadata": {},
     "output_type": "execute_result"
    }
   ],
   "source": [
    "eq = (1+x**2)*diff(y(x),x) + y(x)\n",
    "des = dsolve(eq, y(x))\n",
    "des"
   ]
  },
  {
   "cell_type": "markdown",
   "id": "0da8f7d6",
   "metadata": {},
   "source": [
    "###  Пример 17"
   ]
  },
  {
   "cell_type": "code",
   "execution_count": 21,
   "id": "0d26a502",
   "metadata": {},
   "outputs": [],
   "source": [
    "def Lin_homogen_2(a,yl):\n",
    "    x = symbols('x')\n",
    "    u = Function('u')\n",
    "    z = Function('z')\n",
    "\n",
    "    y1d = diff(y1,x)\n",
    "\n",
    "    eq = y1*diff(u(x),x)+(2*y1d+a*y1)*u(x)\n",
    "    u0 = dsolve(eq,u(x))\n",
    "\n",
    "    eq = diff(z(x),x)-u0.rhs\n",
    "    z0 = dsolve(eq,z(x))\n",
    "\n",
    "    y = y1*z0.rhs\n",
    "    return y.simplify()"
   ]
  },
  {
   "cell_type": "markdown",
   "id": "cfc1962f",
   "metadata": {},
   "source": [
    "###  Пример 18"
   ]
  },
  {
   "cell_type": "code",
   "execution_count": 22,
   "id": "06dd9934",
   "metadata": {},
   "outputs": [
    {
     "data": {
      "text/latex": [
       "$\\displaystyle \\left(\\frac{C_{1} x^{2}}{2} + C_{2}\\right) e^{x}$"
      ],
      "text/plain": [
       "(C1*x**2/2 + C2)*exp(x)"
      ]
     },
     "execution_count": 22,
     "metadata": {},
     "output_type": "execute_result"
    }
   ],
   "source": [
    "a = -(2*x+1)/x\n",
    "y1 = exp(x)\n",
    "Lin_homogen_2(a,y1)"
   ]
  },
  {
   "cell_type": "markdown",
   "id": "dd771527",
   "metadata": {},
   "source": [
    "###  Пример 19"
   ]
  },
  {
   "cell_type": "code",
   "execution_count": 23,
   "id": "de2d1b76",
   "metadata": {},
   "outputs": [
    {
     "data": {
      "text/latex": [
       "$\\displaystyle x \\left(C_{1} x + C_{2}\\right)$"
      ],
      "text/plain": [
       "x*(C1*x + C2)"
      ]
     },
     "execution_count": 23,
     "metadata": {},
     "output_type": "execute_result"
    }
   ],
   "source": [
    "a = -2/x\n",
    "y1 = x\n",
    "Lin_homogen_2(a,y1)"
   ]
  },
  {
   "cell_type": "markdown",
   "id": "8236e99c",
   "metadata": {},
   "source": [
    "###  Пример 20"
   ]
  },
  {
   "cell_type": "code",
   "execution_count": 24,
   "id": "b7cc27e9",
   "metadata": {},
   "outputs": [
    {
     "data": {
      "text/latex": [
       "$\\displaystyle x \\log{\\left(x \\right)} - x$"
      ],
      "text/plain": [
       "x*log(x) - x"
      ]
     },
     "execution_count": 24,
     "metadata": {},
     "output_type": "execute_result"
    }
   ],
   "source": [
    "integrate(log(x),x)"
   ]
  },
  {
   "cell_type": "markdown",
   "id": "5f6ee1d7",
   "metadata": {},
   "source": [
    "###  Пример 21"
   ]
  },
  {
   "cell_type": "code",
   "execution_count": 25,
   "id": "ff1c1cf4",
   "metadata": {},
   "outputs": [
    {
     "data": {
      "text/latex": [
       "$\\displaystyle y{\\left(x \\right)} = C_{1} + C_{2} x^{2} + C_{3} x^{3} + C_{4} x^{4} + x \\left(C_{5} + \\frac{\\sin{\\left(2 x \\right)}}{32}\\right) + \\frac{5 \\cos{\\left(2 x \\right)}}{64}$"
      ],
      "text/plain": [
       "Eq(y(x), C1 + C2*x**2 + C3*x**3 + C4*x**4 + x*(C5 + sin(2*x)/32) + 5*cos(2*x)/64)"
      ]
     },
     "execution_count": 25,
     "metadata": {},
     "output_type": "execute_result"
    }
   ],
   "source": [
    "eq = diff(y(x),x,5) - x*cos(2*x)\n",
    "des = dsolve(eq, y(x))\n",
    "des"
   ]
  },
  {
   "cell_type": "markdown",
   "id": "f7913d7f",
   "metadata": {},
   "source": [
    "###  Пример 22"
   ]
  },
  {
   "cell_type": "code",
   "execution_count": 26,
   "id": "a5d00df9",
   "metadata": {},
   "outputs": [
    {
     "data": {
      "text/latex": [
       "$\\displaystyle y{\\left(x \\right)} = C_{1} + C_{2} x^{4}$"
      ],
      "text/plain": [
       "Eq(y(x), C1 + C2*x**4)"
      ]
     },
     "execution_count": 26,
     "metadata": {},
     "output_type": "execute_result"
    }
   ],
   "source": [
    "eq = x*diff(y(x),x,2) - 3*diff(y(x),x)\n",
    "des = dsolve(eq, y(x))\n",
    "des"
   ]
  },
  {
   "cell_type": "markdown",
   "id": "73c9752c",
   "metadata": {},
   "source": [
    "###  Пример 23"
   ]
  },
  {
   "cell_type": "code",
   "execution_count": 27,
   "id": "f4ca6716",
   "metadata": {},
   "outputs": [
    {
     "data": {
      "text/plain": [
       "[Eq(z(x), -sqrt(C1*x + 1)), Eq(z(x), sqrt(C1*x + 1))]"
      ]
     },
     "execution_count": 27,
     "metadata": {},
     "output_type": "execute_result"
    }
   ],
   "source": [
    "z = Function('z')\n",
    "eq = 2*x*z(x)*diff(z(x),x)-z(x)**2+1\n",
    "des = dsolve(eq, z(x))\n",
    "des"
   ]
  },
  {
   "cell_type": "code",
   "execution_count": 28,
   "id": "31ac837e",
   "metadata": {},
   "outputs": [
    {
     "data": {
      "text/latex": [
       "$\\displaystyle y{\\left(x \\right)} = C_{2} + \\frac{2 \\left(C_{1} x + 1\\right)^{\\frac{3}{2}}}{3 C_{1}}$"
      ],
      "text/plain": [
       "Eq(y(x), C2 + 2*(C1*x + 1)**(3/2)/(3*C1))"
      ]
     },
     "execution_count": 28,
     "metadata": {},
     "output_type": "execute_result"
    }
   ],
   "source": [
    "C1 = symbols('C1')\n",
    "eq = diff(y(x),x)-sqrt(C1*x+1)\n",
    "des = dsolve(eq, y(x))\n",
    "des"
   ]
  },
  {
   "cell_type": "markdown",
   "id": "6121fc37",
   "metadata": {},
   "source": [
    "###  Пример 24"
   ]
  },
  {
   "cell_type": "code",
   "execution_count": 29,
   "id": "7bef626e",
   "metadata": {},
   "outputs": [
    {
     "data": {
      "text/latex": [
       "$\\displaystyle u{\\left(x \\right)} = \\frac{3}{x \\left(C_{1} x^{3} - 1\\right)}$"
      ],
      "text/plain": [
       "Eq(u(x), 3/(x*(C1*x**3 - 1)))"
      ]
     },
     "execution_count": 29,
     "metadata": {},
     "output_type": "execute_result"
    }
   ],
   "source": [
    "u = Function('u')\n",
    "eq = diff(u(x),x) + 4*u(x)/x + u(x)**2\n",
    "des = dsolve(eq, u(x))\n",
    "des"
   ]
  },
  {
   "cell_type": "markdown",
   "id": "8d531fb5",
   "metadata": {},
   "source": [
    "###  Пример 25"
   ]
  },
  {
   "cell_type": "code",
   "execution_count": 30,
   "id": "428123be",
   "metadata": {},
   "outputs": [
    {
     "data": {
      "text/latex": [
       "$\\displaystyle z{\\left(y \\right)} = \\frac{C_{1}}{\\sqrt{y}}$"
      ],
      "text/plain": [
       "Eq(z(y), C1/sqrt(y))"
      ]
     },
     "execution_count": 30,
     "metadata": {},
     "output_type": "execute_result"
    }
   ],
   "source": [
    "y = symbols('y')\n",
    "z = Function('z')\n",
    "eq = 2*y*diff(z(y),y) + z(y)\n",
    "des = dsolve(eq, z(y))\n",
    "des"
   ]
  },
  {
   "cell_type": "markdown",
   "id": "4beacd92",
   "metadata": {},
   "source": [
    "###  Пример 26"
   ]
  },
  {
   "cell_type": "code",
   "execution_count": 31,
   "id": "d7dae93f",
   "metadata": {},
   "outputs": [
    {
     "data": {
      "text/latex": [
       "$\\displaystyle y{\\left(x \\right)} = C_{1} + C_{2} e^{- 2 x} + C_{3} e^{x}$"
      ],
      "text/plain": [
       "Eq(y(x), C1 + C2*exp(-2*x) + C3*exp(x))"
      ]
     },
     "execution_count": 31,
     "metadata": {},
     "output_type": "execute_result"
    }
   ],
   "source": [
    "x = symbols('x')\n",
    "y = Function('y')\n",
    "eq = diff(y(x),x,3)+diff(y(x),x,2)-2*diff(y(x),x)\n",
    "des = dsolve(eq, y(x))\n",
    "des"
   ]
  },
  {
   "cell_type": "markdown",
   "id": "38bf8957",
   "metadata": {},
   "source": [
    "###  Пример 27"
   ]
  },
  {
   "cell_type": "code",
   "execution_count": 32,
   "id": "5738a103",
   "metadata": {},
   "outputs": [
    {
     "data": {
      "text/plain": [
       "{2: 1, -3*I: 1, 3*I: 1, 0: 2}"
      ]
     },
     "execution_count": 32,
     "metadata": {},
     "output_type": "execute_result"
    }
   ],
   "source": [
    "lamda=symbols('lamda')\n",
    "roots(lamda**5-2*lamda**4+9*lamda**3-18*lamda**2)"
   ]
  },
  {
   "cell_type": "markdown",
   "id": "36050f1b",
   "metadata": {},
   "source": [
    "###  Пример 28"
   ]
  },
  {
   "cell_type": "code",
   "execution_count": 33,
   "id": "cc6e0702",
   "metadata": {},
   "outputs": [
    {
     "data": {
      "text/plain": [
       "{-4: 4, 2 - 5*I: 1, 2 + 5*I: 1}"
      ]
     },
     "execution_count": 33,
     "metadata": {},
     "output_type": "execute_result"
    }
   ],
   "source": [
    "roots(lamda**6+12*lamda**5+61*lamda**4+336*lamda**3 +2016*lamda**2+6400*lamda+7424)"
   ]
  },
  {
   "cell_type": "markdown",
   "id": "bb658a33",
   "metadata": {},
   "source": [
    "###  Пример 29"
   ]
  },
  {
   "cell_type": "code",
   "execution_count": 34,
   "id": "b6903601",
   "metadata": {},
   "outputs": [
    {
     "data": {
      "text/latex": [
       "$\\displaystyle y{\\left(x \\right)} = \\frac{4 x^{2} e^{3 x}}{49} - \\frac{16 x e^{3 x}}{343} + \\left(C_{1} + C_{2} x\\right) e^{- 4 x} + \\frac{24 e^{3 x}}{2401}$"
      ],
      "text/plain": [
       "Eq(y(x), 4*x**2*exp(3*x)/49 - 16*x*exp(3*x)/343 + (C1 + C2*x)*exp(-4*x) + 24*exp(3*x)/2401)"
      ]
     },
     "execution_count": 34,
     "metadata": {},
     "output_type": "execute_result"
    }
   ],
   "source": [
    "x = symbols('x')\n",
    "y = Function('y')\n",
    "eq = diff(y(x),x,2)+8*diff(y(x),x)+16*y(x)-4*x**2*exp(3*x)\n",
    "des = dsolve(eq, y(x))\n",
    "des"
   ]
  },
  {
   "cell_type": "markdown",
   "id": "75221607",
   "metadata": {},
   "source": [
    "###  Пример 30"
   ]
  },
  {
   "cell_type": "code",
   "execution_count": 35,
   "id": "e940fc73",
   "metadata": {},
   "outputs": [
    {
     "data": {
      "text/latex": [
       "$\\displaystyle - \\left(C_{3} \\sin{\\left(2 x \\right)} + C_{4} \\cos{\\left(2 x \\right)}\\right) e^{- x} + \\left(2 C_{3} \\cos{\\left(2 x \\right)} - 2 C_{4} \\sin{\\left(2 x \\right)}\\right) e^{- x}$"
      ],
      "text/plain": [
       "-(C3*sin(2*x) + C4*cos(2*x))*exp(-x) + (2*C3*cos(2*x) - 2*C4*sin(2*x))*exp(-x)"
      ]
     },
     "execution_count": 35,
     "metadata": {},
     "output_type": "execute_result"
    }
   ],
   "source": [
    "x,C3,C4 = symbols('x C3 C4')\n",
    "ych = exp(-x)*(C3*sin(2*x)+C4*cos(2*x))\n",
    "ych1 = diff(ych,x)\n",
    "ych1"
   ]
  },
  {
   "cell_type": "markdown",
   "id": "c88e4c97",
   "metadata": {},
   "source": [
    "###  Пример 31"
   ]
  },
  {
   "cell_type": "code",
   "execution_count": 36,
   "id": "49416c2c",
   "metadata": {},
   "outputs": [
    {
     "data": {
      "text/plain": [
       "{3: 1, 2: 1, 0: 1}"
      ]
     },
     "execution_count": 36,
     "metadata": {},
     "output_type": "execute_result"
    }
   ],
   "source": [
    "lamda=symbols('lamda')\n",
    "roots(lamda**3-5*lamda**2+6*lamda)"
   ]
  },
  {
   "cell_type": "code",
   "execution_count": 37,
   "id": "fdbf405b",
   "metadata": {},
   "outputs": [
    {
     "data": {
      "text/plain": [
       "{Cd: 2**x/6, C2d: -2**x*exp(-2*x)/2, C3d: 2**x*exp(-3*x)/3}"
      ]
     },
     "execution_count": 37,
     "metadata": {},
     "output_type": "execute_result"
    }
   ],
   "source": [
    "x,C1d,C2d,C3d = symbols('x Cd C2d C3d')\n",
    "y1 = 1\n",
    "y2 = exp(2*x)\n",
    "y3 = exp(3*x)\n",
    "\n",
    "y1d = diff(y1,x)\n",
    "y2d = diff(y2,x)\n",
    "y3d = diff(y3,x)\n",
    "\n",
    "y1dd = diff(y1,x,2)\n",
    "y2dd = diff(y2,x,2)\n",
    "y3dd = diff(y3,x,2)\n",
    "\n",
    "eq1 = C1d*y1+C2d*y2+C3d*y3\n",
    "eq2 = C1d*y1d+C2d*y2d+C3d*y3d\n",
    "eq3 = C1d*y1dd+C2d*y2dd+C3d*y3dd\n",
    "\n",
    "solve([eq1,eq2,eq3-2**x], [C1d,C2d,C3d])"
   ]
  },
  {
   "cell_type": "markdown",
   "id": "24a3381f",
   "metadata": {},
   "source": [
    "###  Пример 32"
   ]
  },
  {
   "cell_type": "code",
   "execution_count": 38,
   "id": "f83ca123",
   "metadata": {},
   "outputs": [
    {
     "data": {
      "text/latex": [
       "$\\displaystyle y{\\left(x \\right)} = C_{1} + C_{4} e^{- 2 x} + \\left(C_{2} + C_{3} x\\right) e^{x}$"
      ],
      "text/plain": [
       "Eq(y(x), C1 + C4*exp(-2*x) + (C2 + C3*x)*exp(x))"
      ]
     },
     "execution_count": 38,
     "metadata": {},
     "output_type": "execute_result"
    }
   ],
   "source": [
    "x = symbols('x')\n",
    "y = Function('y')\n",
    "eq = diff(y(x),x,4)-3*diff(y(x),x,2)+2*diff(y(x),x)\n",
    "des = dsolve(eq, y(x))\n",
    "des"
   ]
  },
  {
   "cell_type": "markdown",
   "id": "8ceb0758",
   "metadata": {},
   "source": [
    "###  Пример 33"
   ]
  },
  {
   "cell_type": "code",
   "execution_count": 39,
   "id": "b98108fd",
   "metadata": {},
   "outputs": [
    {
     "data": {
      "text/latex": [
       "$\\displaystyle y{\\left(x \\right)} = C_{1} + C_{2} e^{- 2 x} + \\frac{e^{x}}{3}$"
      ],
      "text/plain": [
       "Eq(y(x), C1 + C2*exp(-2*x) + exp(x)/3)"
      ]
     },
     "execution_count": 39,
     "metadata": {},
     "output_type": "execute_result"
    }
   ],
   "source": [
    "eq = diff(y(x),x,2) + 2*diff(y(x),x) - exp(x)\n",
    "des = dsolve(eq,y(x))\n",
    "des"
   ]
  },
  {
   "cell_type": "markdown",
   "id": "82749cb4",
   "metadata": {},
   "source": [
    "###  Пример 34"
   ]
  },
  {
   "cell_type": "code",
   "execution_count": 40,
   "id": "98bd4124",
   "metadata": {},
   "outputs": [
    {
     "data": {
      "text/latex": [
       "$\\displaystyle y{\\left(x \\right)} = C_{1} + C_{2} \\log{\\left(x \\right)} + \\frac{4 x^{\\frac{3}{2}}}{9}$"
      ],
      "text/plain": [
       "Eq(y(x), C1 + C2*log(x) + 4*x**(3/2)/9)"
      ]
     },
     "execution_count": 40,
     "metadata": {},
     "output_type": "execute_result"
    }
   ],
   "source": [
    "x = symbols('x')\n",
    "y = Function('y')\n",
    "eq = x*diff(y(x),x,2)+diff(y(x),x)-sqrt(x)\n",
    "des = dsolve(eq,y(x))\n",
    "des"
   ]
  },
  {
   "cell_type": "markdown",
   "id": "29e42340",
   "metadata": {},
   "source": [
    "###  Пример 35"
   ]
  },
  {
   "cell_type": "code",
   "execution_count": 41,
   "id": "334eb416",
   "metadata": {},
   "outputs": [
    {
     "data": {
      "text/latex": [
       "$\\displaystyle y{\\left(x \\right)} = C_{1} + C_{2} e^{2 x} + C_{3} \\sin{\\left(x \\right)} + C_{4} \\cos{\\left(x \\right)}$"
      ],
      "text/plain": [
       "Eq(y(x), C1 + C2*exp(2*x) + C3*sin(x) + C4*cos(x))"
      ]
     },
     "execution_count": 41,
     "metadata": {},
     "output_type": "execute_result"
    }
   ],
   "source": [
    "x = symbols('x')\n",
    "y = Function('y')\n",
    "eq = diff(y(x),x,4)-2*diff(y(x),x,3)+diff(y(x),x,2)-2*diff(y(x),x)\n",
    "des = dsolve(eq,y(x))\n",
    "des"
   ]
  },
  {
   "cell_type": "markdown",
   "id": "d466213e",
   "metadata": {},
   "source": [
    "###  Пример 36"
   ]
  },
  {
   "cell_type": "code",
   "execution_count": 42,
   "id": "46723af6",
   "metadata": {},
   "outputs": [
    {
     "data": {
      "text/latex": [
       "$\\displaystyle x{\\left(t \\right)} = C_{1} e^{- t} + C_{2} e^{t} + C_{3} \\sin{\\left(t \\right)} + C_{4} \\cos{\\left(t \\right)}$"
      ],
      "text/plain": [
       "Eq(x(t), C1*exp(-t) + C2*exp(t) + C3*sin(t) + C4*cos(t))"
      ]
     },
     "execution_count": 42,
     "metadata": {},
     "output_type": "execute_result"
    }
   ],
   "source": [
    "t = symbols('t')\n",
    "x = Function('x')\n",
    "eq = diff(x(t),t,4) - x(t)\n",
    "des = dsolve(eq,x(t))\n",
    "des"
   ]
  },
  {
   "cell_type": "code",
   "execution_count": 43,
   "id": "bbb95a2d",
   "metadata": {},
   "outputs": [
    {
     "data": {
      "text/latex": [
       "$\\displaystyle C_{1} e^{- t} + C_{2} e^{t} - C_{3} \\sin{\\left(t \\right)} - C_{4} \\cos{\\left(t \\right)}$"
      ],
      "text/plain": [
       "C1*exp(-t) + C2*exp(t) - C3*sin(t) - C4*cos(t)"
      ]
     },
     "execution_count": 43,
     "metadata": {},
     "output_type": "execute_result"
    }
   ],
   "source": [
    "diff(des.rhs,t,2)"
   ]
  },
  {
   "cell_type": "markdown",
   "id": "3d61ec00",
   "metadata": {},
   "source": [
    "###  Пример 37"
   ]
  },
  {
   "cell_type": "code",
   "execution_count": 44,
   "id": "d858025b",
   "metadata": {},
   "outputs": [
    {
     "data": {
      "text/latex": [
       "$\\displaystyle x{\\left(t \\right)} = C_{2} \\sqrt{C_{1} + 2 t}$"
      ],
      "text/plain": [
       "Eq(x(t), C2*sqrt(C1 + 2*t))"
      ]
     },
     "execution_count": 44,
     "metadata": {},
     "output_type": "execute_result"
    }
   ],
   "source": [
    "C1 = symbols('C1')\n",
    "eq = diff(x(t),t) - x(t)/(2*t+C1)\n",
    "des = dsolve(eq,x(t))\n",
    "des"
   ]
  },
  {
   "cell_type": "markdown",
   "id": "f7882daf",
   "metadata": {},
   "source": [
    "###  Пример 38"
   ]
  },
  {
   "cell_type": "code",
   "execution_count": 45,
   "id": "bde2628d",
   "metadata": {},
   "outputs": [
    {
     "data": {
      "text/latex": [
       "$\\displaystyle y_{1}{\\left(x \\right)} = \\left(C_{1} \\sin{\\left(2 x \\right)} + C_{2} \\cos{\\left(2 x \\right)}\\right) e^{x}$"
      ],
      "text/plain": [
       "Eq(y1(x), (C1*sin(2*x) + C2*cos(2*x))*exp(x))"
      ]
     },
     "execution_count": 45,
     "metadata": {},
     "output_type": "execute_result"
    }
   ],
   "source": [
    "x = symbols('x')\n",
    "y1 = Function('y1')\n",
    "eq = diff(y1(x),x,2)-2*diff(y1(x),x)+5*y1(x)\n",
    "des = dsolve(eq,y1(x))\n",
    "des"
   ]
  },
  {
   "cell_type": "code",
   "execution_count": 46,
   "id": "8ee96e57",
   "metadata": {},
   "outputs": [
    {
     "data": {
      "text/latex": [
       "$\\displaystyle y_{3}{\\left(x \\right)} = \\left(- \\frac{3 C_{1} \\cos{\\left(2 x \\right)}}{2} + \\frac{3 C_{2} \\sin{\\left(2 x \\right)}}{2} + C_{3}\\right) e^{x}$"
      ],
      "text/plain": [
       "Eq(y3(x), (-3*C1*cos(2*x)/2 + 3*C2*sin(2*x)/2 + C3)*exp(x))"
      ]
     },
     "execution_count": 46,
     "metadata": {},
     "output_type": "execute_result"
    }
   ],
   "source": [
    "C1,C2 = symbols('C1,C2')\n",
    "y3 = Function('y3')\n",
    "eq = diff(y3(x), x)-y3(x)-3*exp(x)*(C1*sin(2*x)+C2*cos(2*x))\n",
    "des = dsolve(eq,y3(x))\n",
    "des"
   ]
  },
  {
   "cell_type": "markdown",
   "id": "fee2154f",
   "metadata": {},
   "source": [
    "###  Пример 39"
   ]
  },
  {
   "cell_type": "code",
   "execution_count": 47,
   "id": "3c73892b",
   "metadata": {},
   "outputs": [
    {
     "data": {
      "text/plain": [
       "[(-1,\n",
       "  1,\n",
       "  [Matrix([\n",
       "   [-1],\n",
       "   [ 1]])]),\n",
       " (5,\n",
       "  1,\n",
       "  [Matrix([\n",
       "   [1/2],\n",
       "   [  1]])])]"
      ]
     },
     "execution_count": 47,
     "metadata": {},
     "output_type": "execute_result"
    }
   ],
   "source": [
    "A = Matrix([[1,2], [4,3]])\n",
    "A.eigenvects()"
   ]
  },
  {
   "cell_type": "code",
   "execution_count": 48,
   "id": "e4689326",
   "metadata": {},
   "outputs": [
    {
     "name": "stdout",
     "output_type": "stream",
     "text": [
      "0 0\n"
     ]
    }
   ],
   "source": [
    "x,C1,C2 = symbols('t Cl C2')\n",
    "y1 = C1*exp(-x)+(C2/2)*exp(5*x)\n",
    "y2 = -C1*exp(-x)+C2*exp(5*x)\n",
    "print(diff(y1,x)-y1-2*y2, diff(y2,x)-4*y1-3*y2)"
   ]
  },
  {
   "cell_type": "markdown",
   "id": "2c1958ad",
   "metadata": {},
   "source": [
    "###  Пример 40"
   ]
  },
  {
   "cell_type": "code",
   "execution_count": 49,
   "id": "d5046d66",
   "metadata": {},
   "outputs": [
    {
     "data": {
      "text/plain": [
       "[(3 - I,\n",
       "  1,\n",
       "  [Matrix([\n",
       "   [1/2 + I/2],\n",
       "   [        1]])]),\n",
       " (3 + I,\n",
       "  1,\n",
       "  [Matrix([\n",
       "   [1/2 - I/2],\n",
       "   [        1]])])]"
      ]
     },
     "execution_count": 49,
     "metadata": {},
     "output_type": "execute_result"
    }
   ],
   "source": [
    "A = Matrix([[2,1], [-2,4]])\n",
    "A.eigenvects()"
   ]
  },
  {
   "cell_type": "code",
   "execution_count": 50,
   "id": "d7baa5b6",
   "metadata": {},
   "outputs": [
    {
     "data": {
      "text/latex": [
       "$\\displaystyle 0$"
      ],
      "text/plain": [
       "0"
      ]
     },
     "execution_count": 50,
     "metadata": {},
     "output_type": "execute_result"
    }
   ],
   "source": [
    "x,C1,C2 = symbols('x C1 C2')\n",
    "y1 = exp(3*x)*((C1+C2)*cos(x)+(C1-C2)*sin(x))\n",
    "y2 = exp(3*x)*(2*C1*cos(x)-2*C2*sin(x))\n",
    "(diff(y1,x)-2*y1-y2).simplify()"
   ]
  },
  {
   "cell_type": "markdown",
   "id": "53692c8e",
   "metadata": {},
   "source": [
    "###  Пример 41"
   ]
  },
  {
   "cell_type": "code",
   "execution_count": 51,
   "id": "c158b6ed",
   "metadata": {},
   "outputs": [
    {
     "data": {
      "text/plain": [
       "[(-I,\n",
       "  1,\n",
       "  [Matrix([\n",
       "   [I],\n",
       "   [1]])]),\n",
       " (I,\n",
       "  1,\n",
       "  [Matrix([\n",
       "   [-I],\n",
       "   [ 1]])])]"
      ]
     },
     "execution_count": 51,
     "metadata": {},
     "output_type": "execute_result"
    }
   ],
   "source": [
    "A = Matrix([[0,1], [-1,0]])\n",
    "A.eigenvects()"
   ]
  },
  {
   "cell_type": "code",
   "execution_count": 52,
   "id": "f579b15c",
   "metadata": {},
   "outputs": [
    {
     "data": {
      "text/plain": [
       "{C1d: x*sin(x)/(sin(x)**2 + cos(x)**2) + 3*cos(x)/(sin(x)**2 + cos(x)**2),\n",
       " C2d: -x*cos(x)/(sin(x)**2 + cos(x)**2) + 3*sin(x)/(sin(x)**2 + cos(x)**2)}"
      ]
     },
     "execution_count": 52,
     "metadata": {},
     "output_type": "execute_result"
    }
   ],
   "source": [
    "C1d,C2d,x = symbols('C1d,C2d x')\n",
    "eq1 = C1d*sin(x)-C2d*cos(x)-x\n",
    "eq2 = C1d*cos(x)+C2d*sin(x)-3\n",
    "des = solve([eq1,eq2], [C1d,C2d])\n",
    "des"
   ]
  },
  {
   "cell_type": "markdown",
   "id": "2707192d",
   "metadata": {},
   "source": [
    "###  Пример 42"
   ]
  },
  {
   "cell_type": "code",
   "execution_count": 53,
   "id": "b3f9c038",
   "metadata": {},
   "outputs": [
    {
     "data": {
      "text/plain": [
       "[Eq(x(t), -C2*t*exp(2*t) - (C1 - C2)*exp(2*t)),\n",
       " Eq(y(t), C1*exp(2*t) + C2*t*exp(2*t))]"
      ]
     },
     "execution_count": 53,
     "metadata": {},
     "output_type": "execute_result"
    }
   ],
   "source": [
    "t = symbols('t')\n",
    "x = Function('x')\n",
    "y = Function('y')\n",
    "eq1 = diff(x(t),t) - x(t) + y(t)\n",
    "eq2 = diff(y(t),t) - x(t) - 3*y(t)\n",
    "\n",
    "dsolve((eq1,eq2))"
   ]
  },
  {
   "cell_type": "markdown",
   "id": "97e498fd",
   "metadata": {},
   "source": [
    "###  Пример 43"
   ]
  },
  {
   "cell_type": "code",
   "execution_count": 54,
   "id": "28191ebd",
   "metadata": {},
   "outputs": [
    {
     "data": {
      "text/plain": [
       "[Eq(x(t), C1*exp(t) + C2*t*exp(t)), Eq(y(t), C2*exp(t))]"
      ]
     },
     "execution_count": 54,
     "metadata": {},
     "output_type": "execute_result"
    }
   ],
   "source": [
    "t = symbols('t')\n",
    "x = Function('x')\n",
    "y = Function('y')\n",
    "eq1 = diff(x(t),t)-x(t)-y(t)\n",
    "eq2 = diff(y(t),t)-y(t)\n",
    "dsolve((eq1,eq2))"
   ]
  },
  {
   "cell_type": "markdown",
   "id": "e6bde2fe",
   "metadata": {},
   "source": [
    "###  Пример 44"
   ]
  },
  {
   "cell_type": "code",
   "execution_count": 55,
   "id": "35bc34a5",
   "metadata": {},
   "outputs": [
    {
     "data": {
      "text/plain": [
       "[Eq(x(t), -C1*exp(t) + C2*exp(3*t)/2),\n",
       " Eq(y(t), C1*exp(t) + C2*exp(3*t)/2),\n",
       " Eq(z(t), C2*exp(3*t) + C3*exp(2*t))]"
      ]
     },
     "execution_count": 55,
     "metadata": {},
     "output_type": "execute_result"
    }
   ],
   "source": [
    "t = symbols('t')\n",
    "x = Function('x')\n",
    "y = Function('y')\n",
    "z = Function('z')\n",
    "eq1 = diff(x(t),t)-2*x(t)-y(t)\n",
    "eq2 = diff(y(t),t)-x(t)-2*y(t)\n",
    "eq3 = diff(z(t),t)-x(t)-y(t)-2*z(t)\n",
    "des = dsolve((eq1,eq2,eq3))\n",
    "des"
   ]
  },
  {
   "cell_type": "markdown",
   "id": "f9f20957",
   "metadata": {},
   "source": [
    "###  Пример 45"
   ]
  },
  {
   "cell_type": "code",
   "execution_count": 56,
   "id": "cb7605c0",
   "metadata": {},
   "outputs": [
    {
     "data": {
      "image/png": "[encoded data removed]",
      "text/plain": [
       "<Figure size 640x480 with 1 Axes>"
      ]
     },
     "metadata": {},
     "output_type": "display_data"
    }
   ],
   "source": [
    "def f(y,x):\n",
    "    return -y*x\n",
    "\n",
    "x = np.linspace(-3, 3, 100)\n",
    "y0 = 1\n",
    "y = odeint(f, y0, x) \n",
    "\n",
    "plt.plot(x,y,c='r',linewidth=2)\n",
    "plt.xlabel('$х$')\n",
    "plt.ylabel('$у$')\n",
    "plt.show()"
   ]
  },
  {
   "cell_type": "markdown",
   "id": "2b1f12e8",
   "metadata": {},
   "source": [
    "###  Пример 46"
   ]
  },
  {
   "cell_type": "code",
   "execution_count": 57,
   "id": "a88f22ee",
   "metadata": {},
   "outputs": [],
   "source": [
    "def f(y, x):\n",
    "    y1, y2 = y\n",
    "    return [y2, -y1-y2]\n",
    "\n",
    "x = np.linspace(0,10,100)\n",
    "y0 = [0, 1] \n",
    "w = odeint(f, y0, x) \n",
    "\n",
    "y1 = w[:,0]\n",
    "y2 = w[:,1]"
   ]
  },
  {
   "cell_type": "code",
   "execution_count": 58,
   "id": "d646d33a",
   "metadata": {},
   "outputs": [
    {
     "data": {
      "image/png": "[encoded data removed]",
      "text/plain": [
       "<Figure size 640x480 with 1 Axes>"
      ]
     },
     "metadata": {},
     "output_type": "display_data"
    }
   ],
   "source": [
    "fig = plt.figure(facecolor='white')\n",
    "plt.plot(x,y1,x,y2,linewidth=3)\n",
    "plt.ylabel(\"$y$\")\n",
    "plt.xlabel(\"$x$\")\n",
    "plt.grid(True)\n",
    "plt.show()"
   ]
  },
  {
   "cell_type": "markdown",
   "id": "22aa2d1b",
   "metadata": {},
   "source": [
    "###  Пример 47"
   ]
  },
  {
   "cell_type": "code",
   "execution_count": 59,
   "id": "8e1eef00",
   "metadata": {},
   "outputs": [
    {
     "data": {
      "image/png": "[encoded data removed]",
      "text/plain": [
       "<Figure size 640x480 with 1 Axes>"
      ]
     },
     "metadata": {},
     "output_type": "display_data"
    }
   ],
   "source": [
    "def f(y, x):\n",
    "    y1, y2 = y\n",
    "    return [y2, 2*x*y2/(x**2+1)]\n",
    "\n",
    "x = np.linspace(-4, 4, 100)\n",
    "у0 = [-75, 51]\n",
    "w = odeint(f, y0, x)\n",
    "\n",
    "y1 = w[:,0]\n",
    "\n",
    "fig = plt.figure(facecolor='white')\n",
    "plt.plot(x,y1,c='r',linewidth=3)\n",
    "plt.ylabel(\"$y$\")\n",
    "plt.xlabel(\"$x$\")\n",
    "plt.grid(True)\n",
    "plt.show()"
   ]
  },
  {
   "cell_type": "markdown",
   "id": "41b7e458",
   "metadata": {},
   "source": [
    "###  Пример 48"
   ]
  },
  {
   "cell_type": "code",
   "execution_count": 60,
   "id": "3c76d034",
   "metadata": {},
   "outputs": [
    {
     "data": {
      "text/latex": [
       "$\\displaystyle p{\\left(t \\right)} = C_{1} e^{- t} + 10$"
      ],
      "text/plain": [
       "Eq(p(t), C1*exp(-t) + 10)"
      ]
     },
     "execution_count": 60,
     "metadata": {},
     "output_type": "execute_result"
    }
   ],
   "source": [
    "t = symbols('t')\n",
    "p = Function('p')\n",
    "eq = diff(p(t),t)+p(t)-10\n",
    "des = dsolve(eq,p(t))\n",
    "des"
   ]
  },
  {
   "cell_type": "code",
   "execution_count": 61,
   "id": "3de6a159",
   "metadata": {},
   "outputs": [
    {
     "data": {
      "image/png": "[encoded data removed]",
      "text/plain": [
       "<Figure size 640x480 with 1 Axes>"
      ]
     },
     "metadata": {},
     "output_type": "display_data"
    }
   ],
   "source": [
    "t = np.linspace(0,5,100)\n",
    "p = 10-np.exp(-t)\n",
    "plt.plot(t,p,c='r',linewidth=3)\n",
    "plt.ylabel('$p$')\n",
    "plt.xlabel(\"$t$\")\n",
    "plt.show()"
   ]
  },
  {
   "cell_type": "markdown",
   "id": "b4a4ddcf",
   "metadata": {},
   "source": [
    "###  Пример 49"
   ]
  },
  {
   "cell_type": "code",
   "execution_count": 62,
   "id": "7df6c63b",
   "metadata": {},
   "outputs": [
    {
     "data": {
      "text/latex": [
       "$\\displaystyle \\frac{\\log{\\left(u \\left(N + 1\\right) - 1 \\right)}}{N + 1}$"
      ],
      "text/plain": [
       "log(u*(N + 1) - 1)/(N + 1)"
      ]
     },
     "execution_count": 62,
     "metadata": {},
     "output_type": "execute_result"
    }
   ],
   "source": [
    "u = symbols('u')\n",
    "N = symbols('N')\n",
    "integrate(1/((N+1)*u-1),u)"
   ]
  },
  {
   "cell_type": "code",
   "execution_count": 63,
   "id": "9e9ea428",
   "metadata": {},
   "outputs": [
    {
     "data": {
      "image/png": "[encoded data removed]",
      "text/plain": [
       "<Figure size 640x480 with 1 Axes>"
      ]
     },
     "metadata": {},
     "output_type": "display_data"
    }
   ],
   "source": [
    "t = np.linspace(0,0.8,100)\n",
    "for param in [[10, 0.5],[10,1],[20,0.5],[20,1],[30,0.5],[30,1]]:\n",
    "    N = param[0]\n",
    "    a = param[1]\n",
    "    X = (N+1)/(N*np.exp(-(N+1)*a*t)+1)\n",
    "    plt.plot(t, X, lw=2, label=\"$N=%s, a=%s$\" % (N, a))\n",
    "plt.legend()\n",
    "plt.ylabel('$p$')\n",
    "plt.xlabel(\"$t$\")\n",
    "plt.title(\"Число заболевших\");"
   ]
  },
  {
   "cell_type": "code",
   "execution_count": 64,
   "id": "4e21f25a",
   "metadata": {},
   "outputs": [
    {
     "data": {
      "text/latex": [
       "$\\displaystyle \\frac{N a^{2} \\left(N + 1\\right)^{3} \\left(N - e^{a t \\left(N + 1\\right)}\\right) e^{a t \\left(N + 1\\right)}}{\\left(N + e^{a t \\left(N + 1\\right)}\\right)^{3}}$"
      ],
      "text/plain": [
       "N*a**2*(N + 1)**3*(N - exp(a*t*(N + 1)))*exp(a*t*(N + 1))/(N + exp(a*t*(N + 1)))**3"
      ]
     },
     "execution_count": 64,
     "metadata": {},
     "output_type": "execute_result"
    }
   ],
   "source": [
    "t,N,a = symbols('t N a')\n",
    "X = (N+1)/(N*exp(-(N+1)*a*t)+1)\n",
    "Xprim = diff(X,t,2)\n",
    "Xprim.simplify()"
   ]
  },
  {
   "cell_type": "code",
   "execution_count": 65,
   "id": "d39cfd63",
   "metadata": {},
   "outputs": [
    {
     "data": {
      "image/png": "[encoded data removed]",
      "text/plain": [
       "<Figure size 640x480 with 1 Axes>"
      ]
     },
     "metadata": {},
     "output_type": "display_data"
    }
   ],
   "source": [
    "t = np.linspace(0,0.5,100)\n",
    "for param in [[10, 0.5],[10,1],[20,0.5],[20,1],[30,0.5],[30,1]]:\n",
    "    N = param[0]\n",
    "    a = param[1]\n",
    "    Xprim = a**2*N*(N+1)**3*(N-np.exp((N+1)*a*t))*np.exp((N+1)*a*t) / (N+np.exp((N+1)*a*t))**3\n",
    "    plt.plot(t, Xprim, lw=2, label = \"$N=%s, a=%s$\" % (N, a))\n",
    "plt.legend()\n",
    "plt.ylabel('$p$')\n",
    "plt.xlabel(\"$t$\")\n",
    "plt.title(\"Скорость увеличения числа больных\");"
   ]
  },
  {
   "cell_type": "markdown",
   "id": "a31f8c6f",
   "metadata": {},
   "source": [
    "## Примеры решения задач"
   ]
  },
  {
   "cell_type": "markdown",
   "id": "aeb7489d",
   "metadata": {},
   "source": [
    "Решить задачу Коши $y^{\\prime}=\\frac{x y^{2}-y x^{2}}{x^{3}}, y(-1)=1$"
   ]
  },
  {
   "cell_type": "code",
   "execution_count": 66,
   "id": "7acc024c",
   "metadata": {},
   "outputs": [
    {
     "data": {
      "text/latex": [
       "$\\displaystyle y{\\left(x \\right)} = \\frac{2 x}{C_{1} x^{2} + 1}$"
      ],
      "text/plain": [
       "Eq(y(x), 2*x/(C1*x**2 + 1))"
      ]
     },
     "execution_count": 66,
     "metadata": {},
     "output_type": "execute_result"
    }
   ],
   "source": [
    "x = symbols('x')\n",
    "y = Function('y')\n",
    "eq = diff(y(x),x) - (x*y(x)**2-y(x)*x**2)/x**3\n",
    "des = dsolve(eq, y(x))\n",
    "des"
   ]
  },
  {
   "cell_type": "markdown",
   "id": "d6cf22c1",
   "metadata": {},
   "source": [
    "Решить уравнение $(x+y-4) y^{\\prime}=2 x+y+3$"
   ]
  },
  {
   "cell_type": "code",
   "execution_count": 67,
   "id": "5eadd321",
   "metadata": {},
   "outputs": [
    {
     "data": {
      "text/latex": [
       "$\\displaystyle C_{1} = \\log{\\left(u \\right)} + \\frac{\\left(\\sqrt{2} + 2\\right) \\log{\\left(z{\\left(u \\right)} - \\sqrt{2} \\right)}}{4} + \\frac{\\left(2 - \\sqrt{2}\\right) \\log{\\left(z{\\left(u \\right)} + \\sqrt{2} \\right)}}{4}$"
      ],
      "text/plain": [
       "Eq(C1, log(u) + (sqrt(2) + 2)*log(z(u) - sqrt(2))/4 + (2 - sqrt(2))*log(z(u) + sqrt(2))/4)"
      ]
     },
     "execution_count": 67,
     "metadata": {},
     "output_type": "execute_result"
    }
   ],
   "source": [
    "u = symbols('u')\n",
    "z = Function('z')\n",
    "eq = u*(1+z(u))*diff(z(u),u)-2+z(u)**2\n",
    "des = dsolve(eq, z(u))\n",
    "des.simplify()"
   ]
  },
  {
   "cell_type": "markdown",
   "id": "44c4595e",
   "metadata": {},
   "source": [
    "Решить уравнение $x y^{\\prime}+y=y^{2}$."
   ]
  },
  {
   "cell_type": "code",
   "execution_count": 68,
   "id": "eabfb903",
   "metadata": {},
   "outputs": [
    {
     "data": {
      "text/latex": [
       "$\\displaystyle y{\\left(x \\right)} = - \\frac{1}{C_{1} x - 1}$"
      ],
      "text/plain": [
       "Eq(y(x), -1/(C1*x - 1))"
      ]
     },
     "execution_count": 68,
     "metadata": {},
     "output_type": "execute_result"
    }
   ],
   "source": [
    "eq = x*diff(y(x),x) + y(x) - y(x)**2\n",
    "dsolve(eq, y(x))"
   ]
  },
  {
   "cell_type": "markdown",
   "id": "726708f5",
   "metadata": {},
   "source": [
    "Найти общее решение уравнения $y^{\\prime \\prime}-2\\left(1+\\operatorname{tg}^{2} x\\right) y=0$, если известно одно его частное решение $y_{1}=\\operatorname{tg} x$."
   ]
  },
  {
   "cell_type": "code",
   "execution_count": 69,
   "id": "fc41c04f",
   "metadata": {},
   "outputs": [
    {
     "data": {
      "text/latex": [
       "$\\displaystyle \\left(C_{1} \\int \\frac{e^{- x}}{\\tan^{2}{\\left(x \\right)}}\\, dx + C_{2}\\right) \\tan{\\left(x \\right)}$"
      ],
      "text/plain": [
       "(C1*Integral(exp(-x)/tan(x)**2, x) + C2)*tan(x)"
      ]
     },
     "execution_count": 69,
     "metadata": {},
     "output_type": "execute_result"
    }
   ],
   "source": [
    "а = 0\n",
    "y1 = tan(x)\n",
    "Lin_homogen_2(a,y1)"
   ]
  },
  {
   "cell_type": "markdown",
   "id": "f7e4d0f5",
   "metadata": {},
   "source": [
    "Решить уравнение $\\left(1+x^{2}\\right) y^{\\prime \\prime}+2 x y^{\\prime}=x^{3}$."
   ]
  },
  {
   "cell_type": "code",
   "execution_count": 70,
   "id": "397923cf",
   "metadata": {},
   "outputs": [
    {
     "data": {
      "text/latex": [
       "$\\displaystyle z{\\left(x \\right)} = \\frac{C_{1} + \\frac{x^{4}}{4}}{x^{2} + 1}$"
      ],
      "text/plain": [
       "Eq(z(x), (C1 + x**4/4)/(x**2 + 1))"
      ]
     },
     "execution_count": 70,
     "metadata": {},
     "output_type": "execute_result"
    }
   ],
   "source": [
    "x = symbols('x')\n",
    "z = Function('z')\n",
    "eq = (1+x**2)*diff(z(x),x)+2*x*z(x)-x**3\n",
    "dsolve(eq,z(x))"
   ]
  },
  {
   "cell_type": "code",
   "execution_count": 71,
   "id": "227d12a7",
   "metadata": {},
   "outputs": [
    {
     "data": {
      "text/latex": [
       "$\\displaystyle \\frac{x^{3}}{12} - \\frac{x}{4} + \\frac{\\operatorname{atan}{\\left(x \\right)}}{4}$"
      ],
      "text/plain": [
       "x**3/12 - x/4 + atan(x)/4"
      ]
     },
     "execution_count": 71,
     "metadata": {},
     "output_type": "execute_result"
    }
   ],
   "source": [
    "z2 = x**4/(4*(x**2+1))\n",
    "integrate(z2,x)"
   ]
  },
  {
   "cell_type": "markdown",
   "id": "5d0ebb5e",
   "metadata": {},
   "source": [
    "Решить уравнение $y^{\\prime \\prime}-3 y^{\\prime}+2 y=e^{2 x} \\sin x$"
   ]
  },
  {
   "cell_type": "code",
   "execution_count": 72,
   "id": "659d8770",
   "metadata": {},
   "outputs": [
    {
     "data": {
      "text/latex": [
       "$\\displaystyle y{\\left(x \\right)} = \\left(C_{1} + \\left(C_{2} - \\frac{\\sin{\\left(x \\right)}}{2} - \\frac{\\cos{\\left(x \\right)}}{2}\\right) e^{x}\\right) e^{x}$"
      ],
      "text/plain": [
       "Eq(y(x), (C1 + (C2 - sin(x)/2 - cos(x)/2)*exp(x))*exp(x))"
      ]
     },
     "execution_count": 72,
     "metadata": {},
     "output_type": "execute_result"
    }
   ],
   "source": [
    "eq = diff (y(x),x,2)-3*diff(y(x),x)+2*y(x)-exp(2*x)*sin(x)\n",
    "dsolve(eq,y(x))"
   ]
  },
  {
   "cell_type": "markdown",
   "id": "f9823e0c",
   "metadata": {},
   "source": [
    "Решить систему уравнений $\\left\\{\\begin{array}{l}\\frac{d y_{1}}{d x}=2 y_{1}-y_{2} \\\\\\frac{d y_{2}}{d x}=2 y_{2}-y_{1}-5 e^{x} \\sin x\\end{array}\\right.$"
   ]
  },
  {
   "cell_type": "code",
   "execution_count": 73,
   "id": "bf05e743",
   "metadata": {},
   "outputs": [
    {
     "data": {
      "text/plain": [
       "[Eq(y1(x), C1*exp(x) - C2*exp(3*x)), Eq(y2(x), C1*exp(x) + C2*exp(3*x))]"
      ]
     },
     "execution_count": 73,
     "metadata": {},
     "output_type": "execute_result"
    }
   ],
   "source": [
    "x = symbols('x')\n",
    "y1 = Function('y1')\n",
    "y2 = Function('y2')\n",
    "eq1 = diff(y1(x),x)-2*y1(x)+y2(x)\n",
    "eq2 = diff(y2(x),x)-2*y2(x)+y1(x)\n",
    "des = dsolve((eq1,eq2))\n",
    "des"
   ]
  },
  {
   "cell_type": "markdown",
   "id": "cce8c653",
   "metadata": {},
   "source": [
    "Функции спроса $D$ и предложения $S$, выражающие зависимость от цены $p$ и ее производных, имеют вид: $D(t)=3 p^{\\prime \\prime}-p^{\\prime}-200 p+600, \\quad S(t)=4 p^{\\prime \\prime}+p^{\\prime}+201 p-603$. Найти зависимость равновесной цены от времени."
   ]
  },
  {
   "cell_type": "code",
   "execution_count": 74,
   "id": "9b19aabe",
   "metadata": {},
   "outputs": [
    {
     "data": {
      "text/latex": [
       "$\\displaystyle p{\\left(t \\right)} = \\left(C_{1} \\sin{\\left(20 t \\right)} + C_{2} \\cos{\\left(20 t \\right)}\\right) e^{- t} + 3$"
      ],
      "text/plain": [
       "Eq(p(t), (C1*sin(20*t) + C2*cos(20*t))*exp(-t) + 3)"
      ]
     },
     "execution_count": 74,
     "metadata": {},
     "output_type": "execute_result"
    }
   ],
   "source": [
    "t = symbols('t')\n",
    "p = Function('p')\n",
    "eq = diff(p(t),t,2)+2*diff(p(t),t)+401*p(t)-1203\n",
    "des = dsolve(eq,p(t))\n",
    "des"
   ]
  },
  {
   "cell_type": "code",
   "execution_count": 75,
   "id": "824c5b36",
   "metadata": {},
   "outputs": [
    {
     "data": {
      "image/png": "[encoded data removed]",
      "text/plain": [
       "<Figure size 640x480 with 1 Axes>"
      ]
     },
     "metadata": {},
     "output_type": "display_data"
    }
   ],
   "source": [
    "t = np.linspace(2,8,200)\n",
    "y = 3 + np.exp(-t)*(10*np.sin(20*t)+20*np.cos(20*t))\n",
    "plt.plot(t, y, c = 'r', lw=2)\n",
    "plt.xlabel(\"$t$\")\n",
    "plt.title(\"$p(t)$\")\n",
    "plt.show()"
   ]
  },
  {
   "cell_type": "markdown",
   "id": "96b50e1c",
   "metadata": {},
   "source": [
    "Решить задачу Коши $\\left(x^{2} y-y\\right)^{2} y^{\\prime}=x^{2} y-y+x^{2}-1, \\quad y(\\infty)=0$"
   ]
  },
  {
   "cell_type": "code",
   "execution_count": 76,
   "id": "f0313f58",
   "metadata": {
    "scrolled": true
   },
   "outputs": [
    {
     "data": {
      "text/latex": [
       "$\\displaystyle \\frac{y^{2}{\\left(x \\right)}}{2} - y{\\left(x \\right)} - \\frac{\\log{\\left(x - 1 \\right)}}{2} + \\frac{\\log{\\left(x + 1 \\right)}}{2} + \\log{\\left(y{\\left(x \\right)} + 1 \\right)} = C_{1}$"
      ],
      "text/plain": [
       "Eq(y(x)**2/2 - y(x) - log(x - 1)/2 + log(x + 1)/2 + log(y(x) + 1), C1)"
      ]
     },
     "execution_count": 76,
     "metadata": {},
     "output_type": "execute_result"
    }
   ],
   "source": [
    "x = symbols('x')\n",
    "y = Function('y')\n",
    "eq = (x**2*y(x)-y(x))**2*diff(y(x),x)-x**2*y(x)+y(x)-x**2+1\n",
    "des = dsolve(eq, y(x))\n",
    "des"
   ]
  },
  {
   "cell_type": "markdown",
   "id": "d997197a",
   "metadata": {},
   "source": [
    "## Задачи для самостоятельного решения"
   ]
  },
  {
   "cell_type": "markdown",
   "id": "001cee4c",
   "metadata": {},
   "source": [
    "## Задача 16:\n",
    "Решить задачу Коши $ \\frac{y^{\\prime}}{\\cos x}+y=\\sin x, \\quad y\\left(\\frac{\\pi}{2}\\right)=1 $."
   ]
  },
  {
   "cell_type": "code",
   "execution_count": 77,
   "id": "eea38dfd",
   "metadata": {
    "scrolled": true
   },
   "outputs": [
    {
     "data": {
      "text/latex": [
       "$\\displaystyle y{\\left(x \\right)} = C_{1} e^{- \\sin{\\left(x \\right)}} + \\sin{\\left(x \\right)} - 1$"
      ],
      "text/plain": [
       "Eq(y(x), C1*exp(-sin(x)) + sin(x) - 1)"
      ]
     },
     "execution_count": 77,
     "metadata": {},
     "output_type": "execute_result"
    }
   ],
   "source": [
    "x = symbols('x')\n",
    "y = Function('y')\n",
    "eq = diff(y(x),x)/cos(x) + y(x) - sin(x)\n",
    "des = dsolve(eq, y(x))\n",
    "des"
   ]
  },
  {
   "cell_type": "markdown",
   "id": "f15a15e3",
   "metadata": {},
   "source": [
    "### Индивидуальное задание"
   ]
  },
  {
   "cell_type": "markdown",
   "id": "81675010",
   "metadata": {},
   "source": [
    "Система подвески автомобиля может быть смоделирована как пружинно-демпферная система, где вертикальное смещение колеса относительно кузова описывается дифференциальным уравнением: $ my''(t) + cy'(t) + ky(t) = mg - kh(t) $. Рассмотрим автомобиль массой $1000 кг$, движущийся со скоростью $60 км/ч$ по неровной дороге с синусоидальным профилем. Профиль дороги может быть смоделирован функцией $h(t) = 0,1\\sin(\\frac{2\\pi t}{3})$, где $t$ - время в секундах, а $h(t)$ - высота поверхности дороги над точкой отсчета. Система подвески состоит из пружины с жесткостью $k = 5000 Н/м$ и амортизатора с коэффициентом демпфирования $c = 1000 Н/м$."
   ]
  },
  {
   "cell_type": "markdown",
   "id": "d97584de",
   "metadata": {},
   "source": [
    "Решение:\n",
    "Вертикальное смещение колеса относительно тела может быть описано следующим дифференциальным уравнением:\n",
    "\n",
    "$my''(t) + cy'(t) + ky(t) = mg - kh(t)$\n",
    "\n",
    "где $m$ - масса автомобиля, $y(t)$ - смещение колеса относительно кузова в момент времени $t$, $g$ - ускорение силы тяжести, а $h(t)$ - высота поверхности дороги в момент времени $t$.\n",
    "\n",
    "Подставляя данные значения и профиль дороги $h(t) = 0,1\\sin(\\frac{2\\pi t}{3})$, получаем:\n",
    "\n",
    "$1000y''(t) + 1000y'(t) + 5000y(t) = 9800 - 50000.1*\\sin(\\frac{2\\pi t}{3})$"
   ]
  },
  {
   "cell_type": "code",
   "execution_count": 78,
   "id": "7b1d7230",
   "metadata": {},
   "outputs": [],
   "source": [
    "t = symbols('t')\n",
    "y = Function('y')(t)"
   ]
  },
  {
   "cell_type": "markdown",
   "id": "d65604bf",
   "metadata": {},
   "source": [
    "Определим дифференциальное уравнение"
   ]
  },
  {
   "cell_type": "code",
   "execution_count": 79,
   "id": "c85a5a84",
   "metadata": {},
   "outputs": [
    {
     "data": {
      "text/latex": [
       "$\\displaystyle 5000 y{\\left(t \\right)} - 50000.1 \\sin{\\left(\\frac{2 \\pi t}{3} \\right)} + 1000 \\frac{d}{d t} y{\\left(t \\right)} + 1000 \\frac{d^{2}}{d t^{2}} y{\\left(t \\right)} - 9800$"
      ],
      "text/plain": [
       "5000*y(t) - 50000.1*sin(2*pi*t/3) + 1000*Derivative(y(t), t) + 1000*Derivative(y(t), (t, 2)) - 9800"
      ]
     },
     "execution_count": 79,
     "metadata": {},
     "output_type": "execute_result"
    }
   ],
   "source": [
    "deq = 1000*y.diff(t, t) + 1000*y.diff(t) + 5000*y - 9800 - 50000.1 * sin((2 * pi * t) / 3)\n",
    "deq"
   ]
  },
  {
   "cell_type": "code",
   "execution_count": 80,
   "id": "94364113",
   "metadata": {},
   "outputs": [],
   "source": [
    "y0 = 1\n",
    "y1 = 0"
   ]
  },
  {
   "cell_type": "markdown",
   "id": "36fd6dc6",
   "metadata": {},
   "source": [
    "Решение дифференциальное уравнение"
   ]
  },
  {
   "cell_type": "code",
   "execution_count": 81,
   "id": "9a23a32d",
   "metadata": {},
   "outputs": [
    {
     "data": {
      "text/latex": [
       "$\\displaystyle y{\\left(t \\right)} = \\left(- 1.36533943060111 \\sin{\\left(2.17944947177034 t \\right)} + 21.0266697029102 \\cos{\\left(2.17944947177034 t \\right)}\\right) e^{- 0.5 t} + 6.44053413649241 \\sin{\\left(2.0943951023932 t \\right)} - 21.9866697029103 \\cos{\\left(2.0943951023932 t \\right)} + 1.96$"
      ],
      "text/plain": [
       "Eq(y(t), (-1.36533943060111*sin(2.17944947177034*t) + 21.0266697029102*cos(2.17944947177034*t))*exp(-0.5*t) + 6.44053413649241*sin(2.0943951023932*t) - 21.9866697029103*cos(2.0943951023932*t) + 1.96)"
      ]
     },
     "execution_count": 81,
     "metadata": {},
     "output_type": "execute_result"
    }
   ],
   "source": [
    "soln = dsolve(deq, ics={y.subs(t, 0): y0, y.diff(t).subs(t, 0): y1})\n",
    "soln"
   ]
  },
  {
   "cell_type": "markdown",
   "id": "c8d27843",
   "metadata": {},
   "source": [
    "Преобразовать решение в функцию, которая может быть описана численно"
   ]
  },
  {
   "cell_type": "code",
   "execution_count": 82,
   "id": "7a9a835c",
   "metadata": {},
   "outputs": [
    {
     "data": {
      "text/plain": [
       "<function _lambdifygenerated(t)>"
      ]
     },
     "execution_count": 82,
     "metadata": {},
     "output_type": "execute_result"
    }
   ],
   "source": [
    "y_func = lambdify(t, soln.rhs, 'numpy')\n",
    "y_func"
   ]
  },
  {
   "cell_type": "markdown",
   "id": "0751abb0",
   "metadata": {},
   "source": [
    "Генерация данных для построения графика"
   ]
  },
  {
   "cell_type": "code",
   "execution_count": 83,
   "id": "3d087f8d",
   "metadata": {},
   "outputs": [],
   "source": [
    "t_vals = np.linspace(0, 10, 100)\n",
    "y_vals = y_func(t_vals)"
   ]
  },
  {
   "cell_type": "markdown",
   "id": "f048b41d",
   "metadata": {},
   "source": [
    "Построение графика решения"
   ]
  },
  {
   "cell_type": "code",
   "execution_count": 84,
   "id": "abe87a5f",
   "metadata": {},
   "outputs": [
    {
     "data": {
      "image/png": "[encoded data removed]",
      "text/plain": [
       "<Figure size 640x480 with 1 Axes>"
      ]
     },
     "metadata": {},
     "output_type": "display_data"
    }
   ],
   "source": [
    "plt.plot(t_vals, y_vals)\n",
    "plt.xlabel('Время (с)')\n",
    "plt.ylabel('Перемещение (м)')\n",
    "plt.show()"
   ]
  },
  {
   "cell_type": "code",
   "execution_count": null,
   "id": "8eb54d8e",
   "metadata": {},
   "outputs": [],
   "source": []
  }
 ],
 "metadata": {
  "kernelspec": {
   "display_name": "Python 3 (ipykernel)",
   "language": "python",
   "name": "python3"
  },
  "language_info": {
   "codemirror_mode": {
    "name": "ipython",
    "version": 3
   },
   "file_extension": ".py",
   "mimetype": "text/x-python",
   "name": "python",
   "nbconvert_exporter": "python",
   "pygments_lexer": "ipython3",
   "version": "3.11.2"
  }
 },
 "nbformat": 4,
 "nbformat_minor": 5
}
